{
 "cells": [
  {
   "cell_type": "markdown",
   "id": "cc395fb5",
   "metadata": {
    "pycharm": {
     "name": "#%% md\n"
    }
   },
   "source": [
    "## 决策树\n",
    "1. 决策树处理分类任务——垃圾邮件分类\n",
    "2. 决策树处理回归任务——Advertising广告预测\n",
    "3. 实现决策树"
   ]
  },
  {
   "cell_type": "markdown",
   "id": "98f9e1cd",
   "metadata": {
    "pycharm": {
     "name": "#%% md\n"
    }
   },
   "source": [
    "### 决策树处理分类任务——垃圾邮件分类"
   ]
  },
  {
   "cell_type": "markdown",
   "id": "6e22ecaf",
   "metadata": {
    "pycharm": {
     "name": "#%% md\n"
    }
   },
   "source": [
    "1.\t使用sklearn.tree.DecisionTreeClassifier完成spam比赛结果预测问题\n",
    "2.\t计算最大深度为10时，十折交叉验证的精度(accuracy)，查准率(precision)，查全率(recall)，F1值\n",
    "3.\t绘制最大深度从1到10的决策树十折交叉验证精度的变化图"
   ]
  },
  {
   "cell_type": "markdown",
   "id": "f0e344cb",
   "metadata": {
    "pycharm": {
     "name": "#%% md\n"
    }
   },
   "source": [
    "#### 读取数据"
   ]
  },
  {
   "cell_type": "code",
   "execution_count": 1,
   "id": "c34d9559",
   "metadata": {
    "pycharm": {
     "name": "#%%\n"
    }
   },
   "outputs": [
    {
     "name": "stdout",
     "output_type": "stream",
     "text": [
      "(4601, 58)\n"
     ]
    }
   ],
   "source": [
    "import numpy as np\n",
    "spambase = np.loadtxt('../data/spambase/spambase.data', delimiter = \",\")\n",
    "print(spambase.shape)"
   ]
  },
  {
   "cell_type": "code",
   "execution_count": 5,
   "id": "4d63b855",
   "metadata": {
    "pycharm": {
     "name": "#%%\n"
    }
   },
   "outputs": [
    {
     "name": "stdout",
     "output_type": "stream",
     "text": [
      "(4601,)\n",
      "(4601, 57)\n"
     ]
    }
   ],
   "source": [
    "spamx = spambase[:, :57]\n",
    "spamy = spambase[:, 57]\n",
    "print(spamy.shape)\n",
    "print(spamx.shape)"
   ]
  },
  {
   "cell_type": "markdown",
   "id": "8dc3fb8a",
   "metadata": {
    "pycharm": {
     "name": "#%% md\n"
    }
   },
   "source": [
    "#### 导入模型"
   ]
  },
  {
   "cell_type": "code",
   "execution_count": 6,
   "id": "1d93920d",
   "metadata": {
    "pycharm": {
     "name": "#%%\n"
    }
   },
   "outputs": [],
   "source": [
    "from sklearn.model_selection import cross_val_predict\n",
    "from sklearn.metrics import accuracy_score\n",
    "from sklearn.metrics import precision_score\n",
    "from sklearn.metrics import recall_score\n",
    "from sklearn.metrics import f1_score\n",
    "from sklearn.tree import DecisionTreeClassifier"
   ]
  },
  {
   "cell_type": "markdown",
   "id": "53e157ca",
   "metadata": {
    "pycharm": {
     "name": "#%% md\n"
    }
   },
   "source": [
    "####  训练与预测\n",
    "计算最大深度为10的决策树，在使用数据spamx，标记spamy下，十折交叉验证的精度，查准率，查全率和F1值"
   ]
  },
  {
   "cell_type": "code",
   "execution_count": 7,
   "id": "9e7dd887",
   "metadata": {
    "pycharm": {
     "name": "#%%\n"
    }
   },
   "outputs": [
    {
     "name": "stdout",
     "output_type": "stream",
     "text": [
      "acc 0.911323625298848\n",
      "recall_score 0.8676227247655819\n",
      "f1_score 0.8851997749015194\n",
      "precision_score 0.903503733486502\n"
     ]
    }
   ],
   "source": [
    "model = DecisionTreeClassifier(max_depth = 10) # 参数max_depth决定了决策树的最大深度\n",
    "\n",
    "predicted = cross_val_predict(model, spamx, spamy, cv=10)\n",
    "print(\"acc\",accuracy_score(spamy, predicted))\n",
    "print(\"recall_score\", recall_score(spamy, predicted))\n",
    "print(\"f1_score\", f1_score(spamy, predicted))\n",
    "print(\"precision_score\", precision_score(spamy, predicted))\n"
   ]
  },
  {
   "cell_type": "markdown",
   "id": "830fca2d",
   "metadata": {
    "pycharm": {
     "name": "#%% md\n"
    }
   },
   "source": [
    "###### 双击此处填写下面的表格\n",
    "\n",
    "最大深度为10：  \n",
    "\n",
    "精度 | 查准率 | 查全率 | F1\n",
    "0.911323625298848 | 0.903503733486502 | 0.8676227247655819 | 0.8851997749015194"
   ]
  },
  {
   "cell_type": "markdown",
   "id": "14e4ea7c",
   "metadata": {
    "pycharm": {
     "name": "#%% md\n"
    }
   },
   "source": [
    "#### 改变最大深度，绘制决策树的精度变换图\n",
    "绘制最大深度从1到10，决策树十折交叉验证精度的变化图"
   ]
  },
  {
   "cell_type": "code",
   "execution_count": 14,
   "id": "37a6fc42",
   "metadata": {
    "pycharm": {
     "name": "#%%\n"
    }
   },
   "outputs": [],
   "source": [
    "import matplotlib.pyplot as plt\n",
    "%matplotlib inline\n",
    "# YOUR CODE HERE\n",
    "def train_depth_decision_tree(x, y):\n",
    "    acc_ls = []\n",
    "    for i in range(1, 11):\n",
    "        model = DecisionTreeClassifier(max_depth=i)\n",
    "        y_hat = cross_val_predict(model, x, y, cv=10)\n",
    "        acc_ls.append(accuracy_score(y, y_hat))\n",
    "    plt.title(\"max_depth from 1 to 10\")\n",
    "    x_lim = [i for i in range(1, 11)]\n",
    "    plt.plot(x_lim, acc_ls)\n",
    "    plt.ylabel(\"acc\")\n",
    "    plt.xlabel(\"max_depth\")\n",
    "    plt.xticks(x_lim)\n",
    "    plt.show()\n"
   ]
  },
  {
   "cell_type": "code",
   "execution_count": 15,
   "outputs": [
    {
     "data": {
      "text/plain": "<Figure size 432x288 with 1 Axes>",
      "image/png": "[encoded data removed]"
     },
     "metadata": {
      "needs_background": "light"
     },
     "output_type": "display_data"
    }
   ],
   "source": [
    "train_depth_decision_tree(spamx, spamy)"
   ],
   "metadata": {
    "collapsed": false,
    "pycharm": {
     "name": "#%%\n"
    }
   }
  },
  {
   "cell_type": "markdown",
   "id": "58fc718b",
   "metadata": {
    "pycharm": {
     "name": "#%% md\n"
    }
   },
   "source": [
    "#### （选做）通过调整参数，得到一个泛化能力最好的模型\n",
    "查看决策树文档，通过调整决策树的参数，得到一个最好的模型\n",
    "\n",
    "http://scikit-learn.org/stable/modules/generated/sklearn.tree.DecisionTreeClassifier.html#sklearn.tree.DecisionTreeClassifier\n",
    "\n",
    "并在下方给出参数的设定与其泛化性能指标"
   ]
  },
  {
   "cell_type": "markdown",
   "id": "92af5393",
   "metadata": {
    "pycharm": {
     "name": "#%% md\n"
    }
   },
   "source": [
    "使用的GridSearchCV，自动调参"
   ]
  },
  {
   "cell_type": "code",
   "execution_count": 19,
   "id": "015a4d57",
   "metadata": {
    "pycharm": {
     "name": "#%%\n"
    }
   },
   "outputs": [
    {
     "data": {
      "text/plain": "GridSearchCV(cv=10, estimator=DecisionTreeClassifier(),\n             param_grid={'criterion': ['gini'],\n                         'max_depth': [5, 6, 7, 8, 9, 10, 11, 12, 13, 14, 15,\n                                       16, 17, 18, 19],\n                         'min_impurity_decrease': [0.1, 0.2,\n                                                   0.30000000000000004, 0.4,\n                                                   0.5, 0.6, 0.7000000000000001,\n                                                   0.8, 0.9],\n                         'min_samples_leaf': [1, 2, 3, 5, 10]})"
     },
     "execution_count": 19,
     "metadata": {},
     "output_type": "execute_result"
    }
   ],
   "source": [
    "from sklearn.model_selection import GridSearchCV # 网格搜索\n",
    "from sklearn.model_selection import StratifiedKFold #交叉验证时保证训练集测试集中每一类样本均衡\n",
    "# YOUR CODE HERE\n",
    "param = {'criterion':['gini'],'max_depth':[i for i in range(5, 20, 1)],'min_samples_leaf':[1,2,3,5,10],'min_impurity_decrease':[i for i in np.arange(0.1, 1, 0.1)]}\n",
    "grid = GridSearchCV(DecisionTreeClassifier(), param_grid=param, cv=10)\n",
    "grid.fit(spamx, spamy)"
   ]
  },
  {
   "cell_type": "code",
   "execution_count": 27,
   "outputs": [
    {
     "name": "stdout",
     "output_type": "stream",
     "text": [
      "best classifier {'criterion': 'gini', 'max_depth': 5, 'min_impurity_decrease': 0.1, 'min_samples_leaf': 1}\n",
      "best score 0.7720140526266152\n"
     ]
    }
   ],
   "source": [
    "print('best classifier', grid.best_params_)\n",
    "print('best score', grid.best_score_)"
   ],
   "metadata": {
    "collapsed": false,
    "pycharm": {
     "name": "#%%\n"
    }
   }
  },
  {
   "cell_type": "markdown",
   "id": "be292215",
   "metadata": {
    "pycharm": {
     "name": "#%% md\n"
    }
   },
   "source": [
    "###### 双击此处填写参数设置与性能指标的结果\n",
    "\n",
    "参数设置：  min_samples_leaf':  , 'max_depth':   , 'criterion':   , 'min_samples_split':   , 'max_features':  \n",
    "\n",
    "\n",
    "性能指标得分：\n",
    "\n",
    "精度:  \n",
    "查准率:  \n",
    "查全率:  \n",
    "f1值:  "
   ]
  },
  {
   "cell_type": "markdown",
   "id": "b033f8f0",
   "metadata": {
    "pycharm": {
     "name": "#%% md\n"
    }
   },
   "source": [
    "### 决策树处理回归任务——Advertising广告预测"
   ]
  },
  {
   "cell_type": "markdown",
   "id": "b22cc9c1",
   "metadata": {
    "pycharm": {
     "name": "#%% md\n"
    }
   },
   "source": [
    "实验内容\n",
    "1.\t使用sklearn.tree.DecisionTreeRegressor完成Advertising广告预测\n",
    "2.\t计算最大深度为10的决策树，训练集上十折交叉验证的MAE和RMSE\n",
    "3.\t绘制最大深度从1到30，决策树在训练集和测试集上MAE的变化曲线\n",
    "4.  选择一个合理的树的最大深度，并给出理由"
   ]
  },
  {
   "cell_type": "markdown",
   "id": "ba6b7b71",
   "metadata": {
    "pycharm": {
     "name": "#%% md\n"
    }
   },
   "source": [
    "#### 读取数据"
   ]
  },
  {
   "cell_type": "code",
   "execution_count": 28,
   "id": "7dfee521",
   "metadata": {
    "pycharm": {
     "name": "#%%\n"
    }
   },
   "outputs": [
    {
     "data": {
      "text/plain": "      TV  Radio  Newspaper  Sales\n0  230.1   37.8       69.2   22.1\n1   44.5   39.3       45.1   10.4\n2   17.2   45.9       69.3   12.0\n3  151.5   41.3       58.5   16.5\n4  180.8   10.8       58.4   17.9",
      "text/html": "<div>\n<style scoped>\n    .dataframe tbody tr th:only-of-type {\n        vertical-align: middle;\n    }\n\n    .dataframe tbody tr th {\n        vertical-align: top;\n    }\n\n    .dataframe thead th {\n        text-align: right;\n    }\n</style>\n<table border=\"1\" class=\"dataframe\">\n  <thead>\n    <tr style=\"text-align: right;\">\n      <th></th>\n      <th>TV</th>\n      <th>Radio</th>\n      <th>Newspaper</th>\n      <th>Sales</th>\n    </tr>\n  </thead>\n  <tbody>\n    <tr>\n      <th>0</th>\n      <td>230.1</td>\n      <td>37.8</td>\n      <td>69.2</td>\n      <td>22.1</td>\n    </tr>\n    <tr>\n      <th>1</th>\n      <td>44.5</td>\n      <td>39.3</td>\n      <td>45.1</td>\n      <td>10.4</td>\n    </tr>\n    <tr>\n      <th>2</th>\n      <td>17.2</td>\n      <td>45.9</td>\n      <td>69.3</td>\n      <td>12.0</td>\n    </tr>\n    <tr>\n      <th>3</th>\n      <td>151.5</td>\n      <td>41.3</td>\n      <td>58.5</td>\n      <td>16.5</td>\n    </tr>\n    <tr>\n      <th>4</th>\n      <td>180.8</td>\n      <td>10.8</td>\n      <td>58.4</td>\n      <td>17.9</td>\n    </tr>\n  </tbody>\n</table>\n</div>"
     },
     "execution_count": 28,
     "metadata": {},
     "output_type": "execute_result"
    }
   ],
   "source": [
    "import pandas as pd\n",
    "data = pd.read_csv('../data/advertising/advertising.csv')\n",
    "# 丢弃有缺失值的特征（列）\n",
    "data.dropna(axis = 1, inplace = True)\n",
    "data.head()"
   ]
  },
  {
   "cell_type": "code",
   "execution_count": 30,
   "id": "9281c1e8",
   "metadata": {
    "pycharm": {
     "name": "#%%\n"
    }
   },
   "outputs": [],
   "source": [
    "from sklearn.model_selection import cross_val_predict\n",
    "from sklearn.metrics import mean_absolute_error\n",
    "from sklearn.metrics import mean_squared_error\n",
    "from sklearn.tree import DecisionTreeRegressor\n",
    "import numpy as np"
   ]
  },
  {
   "cell_type": "code",
   "execution_count": 31,
   "id": "11cb6621",
   "metadata": {
    "pycharm": {
     "name": "#%%\n"
    }
   },
   "outputs": [],
   "source": [
    "features = data.columns.tolist()\n",
    "target = 'Sales'\n",
    "features.remove(target)"
   ]
  },
  {
   "cell_type": "code",
   "execution_count": 36,
   "id": "725d5422",
   "metadata": {
    "pycharm": {
     "name": "#%%\n"
    }
   },
   "outputs": [],
   "source": [
    "# YOUR CODE HERE\n",
    "\n",
    "x_adviser = data[features]\n",
    "y_adviser = data['Sales']"
   ]
  },
  {
   "cell_type": "code",
   "execution_count": 38,
   "outputs": [
    {
     "name": "stdout",
     "output_type": "stream",
     "text": [
      "(200, 3)\n",
      "(200,)\n"
     ]
    }
   ],
   "source": [
    "print(x_adviser.shape)\n",
    "print(y_adviser.shape)"
   ],
   "metadata": {
    "collapsed": false,
    "pycharm": {
     "name": "#%%\n"
    }
   }
  },
  {
   "cell_type": "code",
   "execution_count": 39,
   "outputs": [
    {
     "name": "stdout",
     "output_type": "stream",
     "text": [
      "mae 1.20525\n",
      "rmse 1.6523233032948215\n"
     ]
    }
   ],
   "source": [
    "model_adviser = DecisionTreeRegressor(max_depth=10)\n",
    "y_hat = cross_val_predict(model_adviser, x_adviser, y_adviser, cv=10)\n",
    "print('mae', mean_absolute_error(y_adviser, y_hat))\n",
    "print('rmse', np.sqrt(mean_squared_error(y_adviser, y_hat)))"
   ],
   "metadata": {
    "collapsed": false,
    "pycharm": {
     "name": "#%%\n"
    }
   }
  },
  {
   "cell_type": "markdown",
   "id": "1b81c7db",
   "metadata": {
    "pycharm": {
     "name": "#%% md\n"
    }
   },
   "source": [
    "###### 双击此处编辑\n",
    "最大深度为10，全量特征的决策树，十折交叉验证指标\n",
    "\n",
    "MAE|RMSE\n",
    "1.20525 |  1.6523233032948215"
   ]
  },
  {
   "cell_type": "markdown",
   "id": "408a0480",
   "metadata": {
    "pycharm": {
     "name": "#%% md\n"
    }
   },
   "source": [
    "#### 改变最大深度，绘制决策树的精度变换图\n",
    "绘制最大深度从1到30，决策树训练集和测试集MAE的变化图"
   ]
  },
  {
   "cell_type": "code",
   "execution_count": 46,
   "id": "4e871b2c",
   "metadata": {
    "pycharm": {
     "name": "#%%\n"
    }
   },
   "outputs": [],
   "source": [
    "import matplotlib.pyplot as plt\n",
    "%matplotlib inline\n",
    "from sklearn.model_selection import train_test_split\n",
    "plt.style.use(\"fivethirtyeight\")"
   ]
  },
  {
   "cell_type": "code",
   "execution_count": 52,
   "id": "ef8c9f16",
   "metadata": {
    "pycharm": {
     "name": "#%%\n"
    }
   },
   "outputs": [],
   "source": [
    "# YOUR CODE HERE\n",
    "def train_depth_decision_tree_adviser(x, y):\n",
    "    x_train, x_test, y_train, y_test = train_test_split(x, y, train_size=0.6)\n",
    "    mae_train_ls = []\n",
    "    mae_test_ls = []\n",
    "    for i in range(1, 31):\n",
    "        model = DecisionTreeRegressor(max_depth=i)\n",
    "        # y_hat = cross_val_predict(model, x, y, cv=10)\n",
    "        y_hat = model.fit(x_train, y_train).predict(x_train)\n",
    "        mae_train_ls.append(mean_absolute_error(y_train, y_hat))\n",
    "        y_hat = model.predict(x_test)\n",
    "        mae_test_ls.append(mean_absolute_error(y_test, y_hat))\n",
    "    plt.figure(figsize= (10,10))\n",
    "    plt.title(\"max_depth from 1 to 30\")\n",
    "    x_lim = [i for i in range(1, 31)]\n",
    "    plt.plot(x_lim, mae_train_ls, label='mae_train')\n",
    "    plt.plot(x_lim, mae_test_ls, label='mae_test')\n",
    "    plt.ylabel(\"mae\")\n",
    "    plt.xlabel(\"max_depth\")\n",
    "    plt.legend()\n",
    "    plt.xticks(x_lim)\n",
    "    plt.show()"
   ]
  },
  {
   "cell_type": "code",
   "execution_count": 53,
   "outputs": [
    {
     "data": {
      "text/plain": "<Figure size 720x720 with 1 Axes>",
      "image/png": "[encoded data removed]"
     },
     "metadata": {},
     "output_type": "display_data"
    }
   ],
   "source": [
    "train_depth_decision_tree_adviser(x_adviser, y_adviser)"
   ],
   "metadata": {
    "collapsed": false,
    "pycharm": {
     "name": "#%%\n"
    }
   }
  },
  {
   "cell_type": "markdown",
   "id": "03e40e28",
   "metadata": {
    "pycharm": {
     "name": "#%% md\n"
    }
   },
   "source": [
    "#### 请你选择一个合理的树的最大深度，并给出理由\n",
    " max_depth = 5\n",
    " 因为这时泛化误差最小"
   ]
  },
  {
   "cell_type": "markdown",
   "id": "e02472d4",
   "metadata": {
    "pycharm": {
     "name": "#%% md\n"
    }
   },
   "source": [
    "### 实现决策树—贷款安全预测\n",
    "实验内容：  \n",
    "使用LendingClub Safe Loans数据集：\n",
    "1. 实现信息增益、信息增益率、基尼指数三种划分标准\n",
    "2. 使用给定的训练集完成三种决策树的训练过程\n",
    "3. 计算三种决策树在最大深度为10时在训练集和测试集上的精度，查准率，查全率，F1值"
   ]
  },
  {
   "cell_type": "markdown",
   "id": "c83226f7",
   "metadata": {
    "pycharm": {
     "name": "#%% md\n"
    }
   },
   "source": [
    "#### 读取数据"
   ]
  },
  {
   "cell_type": "code",
   "execution_count": 77,
   "id": "f71caa80",
   "metadata": {
    "pycharm": {
     "name": "#%%\n"
    }
   },
   "outputs": [],
   "source": [
    "# 导入类库\n",
    "import pandas as pd\n",
    "import numpy as np\n",
    "import json\n",
    "# 导入数据\n",
    "loans = pd.read_csv('../data/lendingclub/lending-club-data.csv', low_memory=False)"
   ]
  },
  {
   "cell_type": "raw",
   "id": "39b29313",
   "metadata": {
    "pycharm": {
     "name": "#%% raw\n"
    }
   },
   "source": [
    "数据中有两列是我们想预测的指标，一项是safe_loans，一项是bad_loans，分别表示正例和负例，我们对其进行处理，将正例的safe_loans设为1，负例设为-1，删除bad_loans这列"
   ]
  },
  {
   "cell_type": "code",
   "execution_count": 78,
   "id": "04600118",
   "metadata": {
    "pycharm": {
     "name": "#%%\n"
    }
   },
   "outputs": [
    {
     "data": {
      "text/plain": "0         0\n1         1\n2         0\n3         0\n4         0\n         ..\n122602    1\n122603    0\n122604    1\n122605    1\n122606    0\nName: bad_loans, Length: 122607, dtype: int64"
     },
     "execution_count": 78,
     "metadata": {},
     "output_type": "execute_result"
    }
   ],
   "source": [
    "loans['bad_loans']"
   ]
  },
  {
   "cell_type": "code",
   "execution_count": 79,
   "id": "2b37c5ee",
   "metadata": {
    "pycharm": {
     "name": "#%%\n"
    }
   },
   "outputs": [],
   "source": [
    "# 对数据进行预处理，将safe_loans作为标记\n",
    "loans['safe_loans'] = loans['bad_loans'].apply(lambda x : +1 if x==0 else -1)\n",
    "del loans['bad_loans']"
   ]
  },
  {
   "cell_type": "markdown",
   "id": "eee4c69f",
   "metadata": {
    "pycharm": {
     "name": "#%% md\n"
    }
   },
   "source": [
    "我们只使用grade, term, home_ownership, emp_length这四列作为特征，safe_loans作为标记，只保留loans中的这五列"
   ]
  },
  {
   "cell_type": "code",
   "execution_count": 80,
   "id": "48e9a27c",
   "metadata": {
    "pycharm": {
     "name": "#%%\n"
    }
   },
   "outputs": [],
   "source": [
    "features = ['grade',              # grade of the loan\n",
    "            'term',               # the term of the loan\n",
    "            'home_ownership',     # home_ownership status: own, mortgage or rent\n",
    "            'emp_length',         # number of years of employment\n",
    "           ]\n",
    "target = 'safe_loans'\n",
    "loans = loans[features + [target]]"
   ]
  },
  {
   "cell_type": "code",
   "execution_count": 81,
   "id": "f322d5d9",
   "metadata": {
    "pycharm": {
     "name": "#%%\n"
    }
   },
   "outputs": [
    {
     "data": {
      "text/plain": "  grade        term home_ownership emp_length  safe_loans\n0     B   36 months           RENT  10+ years           1\n1     C   60 months           RENT   < 1 year          -1\n2     C   36 months           RENT  10+ years           1\n3     C   36 months           RENT  10+ years           1\n4     A   36 months           RENT    3 years           1",
      "text/html": "<div>\n<style scoped>\n    .dataframe tbody tr th:only-of-type {\n        vertical-align: middle;\n    }\n\n    .dataframe tbody tr th {\n        vertical-align: top;\n    }\n\n    .dataframe thead th {\n        text-align: right;\n    }\n</style>\n<table border=\"1\" class=\"dataframe\">\n  <thead>\n    <tr style=\"text-align: right;\">\n      <th></th>\n      <th>grade</th>\n      <th>term</th>\n      <th>home_ownership</th>\n      <th>emp_length</th>\n      <th>safe_loans</th>\n    </tr>\n  </thead>\n  <tbody>\n    <tr>\n      <th>0</th>\n      <td>B</td>\n      <td>36 months</td>\n      <td>RENT</td>\n      <td>10+ years</td>\n      <td>1</td>\n    </tr>\n    <tr>\n      <th>1</th>\n      <td>C</td>\n      <td>60 months</td>\n      <td>RENT</td>\n      <td>&lt; 1 year</td>\n      <td>-1</td>\n    </tr>\n    <tr>\n      <th>2</th>\n      <td>C</td>\n      <td>36 months</td>\n      <td>RENT</td>\n      <td>10+ years</td>\n      <td>1</td>\n    </tr>\n    <tr>\n      <th>3</th>\n      <td>C</td>\n      <td>36 months</td>\n      <td>RENT</td>\n      <td>10+ years</td>\n      <td>1</td>\n    </tr>\n    <tr>\n      <th>4</th>\n      <td>A</td>\n      <td>36 months</td>\n      <td>RENT</td>\n      <td>3 years</td>\n      <td>1</td>\n    </tr>\n  </tbody>\n</table>\n</div>"
     },
     "execution_count": 81,
     "metadata": {},
     "output_type": "execute_result"
    }
   ],
   "source": [
    "loans.head()"
   ]
  },
  {
   "cell_type": "code",
   "execution_count": 82,
   "id": "ff9efdaf",
   "metadata": {
    "pycharm": {
     "name": "#%%\n"
    }
   },
   "outputs": [],
   "source": [
    "# 划分数据集\n",
    "from sklearn.utils import shuffle\n",
    "loans = shuffle(loans, random_state = 34)\n",
    "\n",
    "split_line = int(len(loans) * 0.6)\n",
    "train_data = loans.iloc[: split_line]\n",
    "test_data = loans.iloc[split_line:]"
   ]
  },
  {
   "cell_type": "markdown",
   "id": "740bc79c",
   "metadata": {
    "pycharm": {
     "name": "#%% md\n"
    }
   },
   "source": [
    "#### 特征预处理"
   ]
  },
  {
   "cell_type": "markdown",
   "id": "2129fbdc",
   "metadata": {
    "pycharm": {
     "name": "#%% md\n"
    }
   },
   "source": [
    "可以看到所有的特征都是离散类型的特征，需要对数据进行预处理，使用one-hot编码对其进行处理。\n",
    "\n",
    "one-hot编码的思想就是将离散特征变成向量，假设特征$A$有三种取值$\\{a, b, c\\}$，这三种取值等价，如果我们使用1,2,3三个数字表示这三种取值，那么在计算时就会产生偏差，有一些涉及距离度量的算法会认为，2和1离得近，3和1离得远，但这三个值应该是等价的，这种表示方法会造成模型在判断上出现偏差。解决方案就是使用一个三维向量表示他们，用$[1, 0, 0]$表示a，$[0, 1, 0]$表示b，$[0, 0, 1]$表示c，这样三个向量之间的距离就都是相等的了，任意两个向量在欧式空间的距离都是$\\sqrt{2}$。这就是one-hot编码是思想。"
   ]
  },
  {
   "cell_type": "code",
   "execution_count": 83,
   "id": "42668e5d",
   "metadata": {
    "pycharm": {
     "name": "#%%\n"
    }
   },
   "outputs": [],
   "source": [
    "def one_hot_encoding(data, features_categorical):\n",
    "    '''\n",
    "    Parameter\n",
    "    ----------\n",
    "    data: pd.DataFrame\n",
    "    \n",
    "    features_categorical: list(str)\n",
    "    '''\n",
    "    \n",
    "    # 对所有的离散特征遍历\n",
    "    for cat in features_categorical:\n",
    "        \n",
    "        # 对这列进行one-hot编码，前缀为这个变量名\n",
    "        one_encoding = pd.get_dummies(data[cat], prefix = cat)\n",
    "        \n",
    "        # 将生成的one-hot编码与之前的dataframe拼接起来\n",
    "        data = pd.concat([data, one_encoding],axis=1)\n",
    "        \n",
    "        # 删除掉原始的这列离散特征\n",
    "        del data[cat]\n",
    "    \n",
    "    return data"
   ]
  },
  {
   "cell_type": "markdown",
   "id": "e57180fa",
   "metadata": {
    "pycharm": {
     "name": "#%% md\n"
    }
   },
   "source": [
    "首先对训练集生成one-hot向量，然后对测试集生成one-hot向量，这里需要注意的是，如果训练集中，特征 𝐴 的取值为 {𝑎,𝑏,𝑐} ，这样我们生成的特征就有三列，分别为 𝐴_𝑎 ,  𝐴_𝑏 ,  𝐴_𝑐 ，然后我们使用这个训练集训练模型，模型就就会考虑这三个特征，在测试集中如果有一个样本的特征 𝐴 的值为 𝑑 ，那它的 𝐴_𝑎 ， 𝐴_𝑏 ， 𝐴_𝑐 就都为0，我们不去考虑 𝐴_𝑑 ，因为这个特征在训练模型的时候是不存在的。"
   ]
  },
  {
   "cell_type": "code",
   "execution_count": 84,
   "id": "9d99208e",
   "metadata": {
    "pycharm": {
     "name": "#%%\n"
    }
   },
   "outputs": [
    {
     "data": {
      "text/plain": "        safe_loans  grade_A  grade_B  grade_C  grade_D  grade_E  grade_F  \\\n84320            1        0        1        0        0        0        0   \n121308          -1        1        0        0        0        0        0   \n58376           -1        0        0        0        1        0        0   \n66430            1        1        0        0        0        0        0   \n65344            1        0        0        1        0        0        0   \n\n        grade_G  term_ 36 months  term_ 60 months  ...  emp_length_10+ years  \\\n84320         0                1                0  ...                     0   \n121308        0                1                0  ...                     0   \n58376         0                1                0  ...                     0   \n66430         0                0                1  ...                     0   \n65344         0                1                0  ...                     0   \n\n        emp_length_2 years  emp_length_3 years  emp_length_4 years  \\\n84320                    0                   0                   0   \n121308                   0                   0                   1   \n58376                    0                   0                   0   \n66430                    1                   0                   0   \n65344                    0                   0                   0   \n\n        emp_length_5 years  emp_length_6 years  emp_length_7 years  \\\n84320                    0                   0                   1   \n121308                   0                   0                   0   \n58376                    0                   0                   0   \n66430                    0                   0                   0   \n65344                    0                   0                   0   \n\n        emp_length_8 years  emp_length_9 years  emp_length_< 1 year  \n84320                    0                   0                    0  \n121308                   0                   0                    0  \n58376                    0                   0                    1  \n66430                    0                   0                    0  \n65344                    0                   0                    0  \n\n[5 rows x 25 columns]",
      "text/html": "<div>\n<style scoped>\n    .dataframe tbody tr th:only-of-type {\n        vertical-align: middle;\n    }\n\n    .dataframe tbody tr th {\n        vertical-align: top;\n    }\n\n    .dataframe thead th {\n        text-align: right;\n    }\n</style>\n<table border=\"1\" class=\"dataframe\">\n  <thead>\n    <tr style=\"text-align: right;\">\n      <th></th>\n      <th>safe_loans</th>\n      <th>grade_A</th>\n      <th>grade_B</th>\n      <th>grade_C</th>\n      <th>grade_D</th>\n      <th>grade_E</th>\n      <th>grade_F</th>\n      <th>grade_G</th>\n      <th>term_ 36 months</th>\n      <th>term_ 60 months</th>\n      <th>...</th>\n      <th>emp_length_10+ years</th>\n      <th>emp_length_2 years</th>\n      <th>emp_length_3 years</th>\n      <th>emp_length_4 years</th>\n      <th>emp_length_5 years</th>\n      <th>emp_length_6 years</th>\n      <th>emp_length_7 years</th>\n      <th>emp_length_8 years</th>\n      <th>emp_length_9 years</th>\n      <th>emp_length_&lt; 1 year</th>\n    </tr>\n  </thead>\n  <tbody>\n    <tr>\n      <th>84320</th>\n      <td>1</td>\n      <td>0</td>\n      <td>1</td>\n      <td>0</td>\n      <td>0</td>\n      <td>0</td>\n      <td>0</td>\n      <td>0</td>\n      <td>1</td>\n      <td>0</td>\n      <td>...</td>\n      <td>0</td>\n      <td>0</td>\n      <td>0</td>\n      <td>0</td>\n      <td>0</td>\n      <td>0</td>\n      <td>1</td>\n      <td>0</td>\n      <td>0</td>\n      <td>0</td>\n    </tr>\n    <tr>\n      <th>121308</th>\n      <td>-1</td>\n      <td>1</td>\n      <td>0</td>\n      <td>0</td>\n      <td>0</td>\n      <td>0</td>\n      <td>0</td>\n      <td>0</td>\n      <td>1</td>\n      <td>0</td>\n      <td>...</td>\n      <td>0</td>\n      <td>0</td>\n      <td>0</td>\n      <td>1</td>\n      <td>0</td>\n      <td>0</td>\n      <td>0</td>\n      <td>0</td>\n      <td>0</td>\n      <td>0</td>\n    </tr>\n    <tr>\n      <th>58376</th>\n      <td>-1</td>\n      <td>0</td>\n      <td>0</td>\n      <td>0</td>\n      <td>1</td>\n      <td>0</td>\n      <td>0</td>\n      <td>0</td>\n      <td>1</td>\n      <td>0</td>\n      <td>...</td>\n      <td>0</td>\n      <td>0</td>\n      <td>0</td>\n      <td>0</td>\n      <td>0</td>\n      <td>0</td>\n      <td>0</td>\n      <td>0</td>\n      <td>0</td>\n      <td>1</td>\n    </tr>\n    <tr>\n      <th>66430</th>\n      <td>1</td>\n      <td>1</td>\n      <td>0</td>\n      <td>0</td>\n      <td>0</td>\n      <td>0</td>\n      <td>0</td>\n      <td>0</td>\n      <td>0</td>\n      <td>1</td>\n      <td>...</td>\n      <td>0</td>\n      <td>1</td>\n      <td>0</td>\n      <td>0</td>\n      <td>0</td>\n      <td>0</td>\n      <td>0</td>\n      <td>0</td>\n      <td>0</td>\n      <td>0</td>\n    </tr>\n    <tr>\n      <th>65344</th>\n      <td>1</td>\n      <td>0</td>\n      <td>0</td>\n      <td>1</td>\n      <td>0</td>\n      <td>0</td>\n      <td>0</td>\n      <td>0</td>\n      <td>1</td>\n      <td>0</td>\n      <td>...</td>\n      <td>0</td>\n      <td>0</td>\n      <td>0</td>\n      <td>0</td>\n      <td>0</td>\n      <td>0</td>\n      <td>0</td>\n      <td>0</td>\n      <td>0</td>\n      <td>0</td>\n    </tr>\n  </tbody>\n</table>\n<p>5 rows × 25 columns</p>\n</div>"
     },
     "execution_count": 84,
     "metadata": {},
     "output_type": "execute_result"
    }
   ],
   "source": [
    "train_data = one_hot_encoding(train_data, features)\n",
    "train_data.head()"
   ]
  },
  {
   "cell_type": "code",
   "execution_count": 85,
   "id": "07e1636b",
   "metadata": {
    "pycharm": {
     "name": "#%%\n"
    }
   },
   "outputs": [
    {
     "data": {
      "text/plain": "['grade_A',\n 'grade_B',\n 'grade_C',\n 'grade_D',\n 'grade_E',\n 'grade_F',\n 'grade_G',\n 'term_ 36 months',\n 'term_ 60 months',\n 'home_ownership_MORTGAGE',\n 'home_ownership_OTHER',\n 'home_ownership_OWN',\n 'home_ownership_RENT',\n 'emp_length_1 year',\n 'emp_length_10+ years',\n 'emp_length_2 years',\n 'emp_length_3 years',\n 'emp_length_4 years',\n 'emp_length_5 years',\n 'emp_length_6 years',\n 'emp_length_7 years',\n 'emp_length_8 years',\n 'emp_length_9 years',\n 'emp_length_< 1 year']"
     },
     "execution_count": 85,
     "metadata": {},
     "output_type": "execute_result"
    }
   ],
   "source": [
    "one_hot_features = train_data.columns.tolist()\n",
    "one_hot_features.remove(target)\n",
    "one_hot_features"
   ]
  },
  {
   "cell_type": "markdown",
   "id": "1b716b8d",
   "metadata": {
    "pycharm": {
     "name": "#%% md\n"
    }
   },
   "source": [
    "接下来是对测试集进行one_hot编码，但只要保留出现在one_hot_features中的特征即可·"
   ]
  },
  {
   "cell_type": "code",
   "execution_count": 86,
   "id": "4b002445",
   "metadata": {
    "pycharm": {
     "name": "#%%\n"
    }
   },
   "outputs": [],
   "source": [
    "test_data_tmp = one_hot_encoding(test_data, features)"
   ]
  },
  {
   "cell_type": "code",
   "execution_count": 87,
   "id": "6d90f12e",
   "metadata": {
    "pycharm": {
     "name": "#%%\n"
    }
   },
   "outputs": [],
   "source": [
    "# 创建一个空的DataFrame\n",
    "test_data = pd.DataFrame(columns = train_data.columns)\n",
    "for feature in train_data.columns:\n",
    "    # 如果训练集中当前特征在test_data_tmp中出现了，将其复制到test_data中\n",
    "    if feature in test_data_tmp.columns:\n",
    "        test_data[feature] = test_data_tmp[feature].copy()\n",
    "    else:\n",
    "        # 否则就用全为0的列去替代\n",
    "        test_data[feature] = np.zeros(test_data_tmp.shape[0], dtype = 'uint8')"
   ]
  },
  {
   "cell_type": "markdown",
   "source": [
    "所以为什么不划分数据集前就转one_hot 为什么不用pandas自带的one_hot"
   ],
   "metadata": {
    "collapsed": false,
    "pycharm": {
     "name": "#%% md\n"
    }
   }
  },
  {
   "cell_type": "code",
   "execution_count": 88,
   "id": "e5cf8520",
   "metadata": {
    "pycharm": {
     "name": "#%%\n"
    }
   },
   "outputs": [
    {
     "data": {
      "text/plain": "        safe_loans  grade_A  grade_B  grade_C  grade_D  grade_E  grade_F  \\\n37225            1        0        0        0        0        1        0   \n101585          -1        0        1        0        0        0        0   \n31865            1        1        0        0        0        0        0   \n97692            1        0        0        1        0        0        0   \n88181            1        1        0        0        0        0        0   \n\n        grade_G  term_ 36 months  term_ 60 months  ...  emp_length_10+ years  \\\n37225         0                1                0  ...                     0   \n101585        0                1                0  ...                     0   \n31865         0                1                0  ...                     0   \n97692         0                1                0  ...                     1   \n88181         0                1                0  ...                     0   \n\n        emp_length_2 years  emp_length_3 years  emp_length_4 years  \\\n37225                    1                   0                   0   \n101585                   0                   0                   1   \n31865                    0                   0                   0   \n97692                    0                   0                   0   \n88181                    0                   0                   0   \n\n        emp_length_5 years  emp_length_6 years  emp_length_7 years  \\\n37225                    0                   0                   0   \n101585                   0                   0                   0   \n31865                    0                   0                   0   \n97692                    0                   0                   0   \n88181                    0                   1                   0   \n\n        emp_length_8 years  emp_length_9 years  emp_length_< 1 year  \n37225                    0                   0                    0  \n101585                   0                   0                    0  \n31865                    0                   0                    0  \n97692                    0                   0                    0  \n88181                    0                   0                    0  \n\n[5 rows x 25 columns]",
      "text/html": "<div>\n<style scoped>\n    .dataframe tbody tr th:only-of-type {\n        vertical-align: middle;\n    }\n\n    .dataframe tbody tr th {\n        vertical-align: top;\n    }\n\n    .dataframe thead th {\n        text-align: right;\n    }\n</style>\n<table border=\"1\" class=\"dataframe\">\n  <thead>\n    <tr style=\"text-align: right;\">\n      <th></th>\n      <th>safe_loans</th>\n      <th>grade_A</th>\n      <th>grade_B</th>\n      <th>grade_C</th>\n      <th>grade_D</th>\n      <th>grade_E</th>\n      <th>grade_F</th>\n      <th>grade_G</th>\n      <th>term_ 36 months</th>\n      <th>term_ 60 months</th>\n      <th>...</th>\n      <th>emp_length_10+ years</th>\n      <th>emp_length_2 years</th>\n      <th>emp_length_3 years</th>\n      <th>emp_length_4 years</th>\n      <th>emp_length_5 years</th>\n      <th>emp_length_6 years</th>\n      <th>emp_length_7 years</th>\n      <th>emp_length_8 years</th>\n      <th>emp_length_9 years</th>\n      <th>emp_length_&lt; 1 year</th>\n    </tr>\n  </thead>\n  <tbody>\n    <tr>\n      <th>37225</th>\n      <td>1</td>\n      <td>0</td>\n      <td>0</td>\n      <td>0</td>\n      <td>0</td>\n      <td>1</td>\n      <td>0</td>\n      <td>0</td>\n      <td>1</td>\n      <td>0</td>\n      <td>...</td>\n      <td>0</td>\n      <td>1</td>\n      <td>0</td>\n      <td>0</td>\n      <td>0</td>\n      <td>0</td>\n      <td>0</td>\n      <td>0</td>\n      <td>0</td>\n      <td>0</td>\n    </tr>\n    <tr>\n      <th>101585</th>\n      <td>-1</td>\n      <td>0</td>\n      <td>1</td>\n      <td>0</td>\n      <td>0</td>\n      <td>0</td>\n      <td>0</td>\n      <td>0</td>\n      <td>1</td>\n      <td>0</td>\n      <td>...</td>\n      <td>0</td>\n      <td>0</td>\n      <td>0</td>\n      <td>1</td>\n      <td>0</td>\n      <td>0</td>\n      <td>0</td>\n      <td>0</td>\n      <td>0</td>\n      <td>0</td>\n    </tr>\n    <tr>\n      <th>31865</th>\n      <td>1</td>\n      <td>1</td>\n      <td>0</td>\n      <td>0</td>\n      <td>0</td>\n      <td>0</td>\n      <td>0</td>\n      <td>0</td>\n      <td>1</td>\n      <td>0</td>\n      <td>...</td>\n      <td>0</td>\n      <td>0</td>\n      <td>0</td>\n      <td>0</td>\n      <td>0</td>\n      <td>0</td>\n      <td>0</td>\n      <td>0</td>\n      <td>0</td>\n      <td>0</td>\n    </tr>\n    <tr>\n      <th>97692</th>\n      <td>1</td>\n      <td>0</td>\n      <td>0</td>\n      <td>1</td>\n      <td>0</td>\n      <td>0</td>\n      <td>0</td>\n      <td>0</td>\n      <td>1</td>\n      <td>0</td>\n      <td>...</td>\n      <td>1</td>\n      <td>0</td>\n      <td>0</td>\n      <td>0</td>\n      <td>0</td>\n      <td>0</td>\n      <td>0</td>\n      <td>0</td>\n      <td>0</td>\n      <td>0</td>\n    </tr>\n    <tr>\n      <th>88181</th>\n      <td>1</td>\n      <td>1</td>\n      <td>0</td>\n      <td>0</td>\n      <td>0</td>\n      <td>0</td>\n      <td>0</td>\n      <td>0</td>\n      <td>1</td>\n      <td>0</td>\n      <td>...</td>\n      <td>0</td>\n      <td>0</td>\n      <td>0</td>\n      <td>0</td>\n      <td>0</td>\n      <td>1</td>\n      <td>0</td>\n      <td>0</td>\n      <td>0</td>\n      <td>0</td>\n    </tr>\n  </tbody>\n</table>\n<p>5 rows × 25 columns</p>\n</div>"
     },
     "execution_count": 88,
     "metadata": {},
     "output_type": "execute_result"
    }
   ],
   "source": [
    "test_data.head()"
   ]
  },
  {
   "cell_type": "code",
   "execution_count": 89,
   "id": "39f629fe",
   "metadata": {
    "pycharm": {
     "name": "#%%\n"
    }
   },
   "outputs": [
    {
     "data": {
      "text/plain": "(73564, 25)"
     },
     "execution_count": 89,
     "metadata": {},
     "output_type": "execute_result"
    }
   ],
   "source": [
    "train_data.shape"
   ]
  },
  {
   "cell_type": "code",
   "execution_count": 90,
   "id": "2fa4c43a",
   "metadata": {
    "pycharm": {
     "name": "#%%\n"
    }
   },
   "outputs": [
    {
     "data": {
      "text/plain": "(49043, 25)"
     },
     "execution_count": 90,
     "metadata": {},
     "output_type": "execute_result"
    }
   ],
   "source": [
    "test_data.shape"
   ]
  },
  {
   "cell_type": "markdown",
   "id": "4032a891",
   "metadata": {
    "pycharm": {
     "name": "#%% md\n"
    }
   },
   "source": [
    "**处理完后，所有的特征都是0和1，标记是1和-1**，以上就是数据预处理流程"
   ]
  },
  {
   "cell_type": "markdown",
   "id": "d37ab6c9",
   "metadata": {
    "pycharm": {
     "name": "#%% md\n"
    }
   },
   "source": [
    "#### 实现3种特征划分准则"
   ]
  },
  {
   "cell_type": "markdown",
   "id": "e84503cd",
   "metadata": {
    "pycharm": {
     "name": "#%% md\n"
    }
   },
   "source": [
    " - 决策树中有很多常用的特征划分方法，比如信息增益、信息增益率、基尼指数\n",
    " - 我们需要实现一个函数，它的作用是，给定决策树的某个结点内的所有样本的标记，让它计算出对应划分指标的值是多少\n",
    " - 接下来我们会实现上述三种划分指标\n",
    " - **这里我们约定，将所有特征取值为0的样本，划分到左子树，特征取值为1的样本，划分到右子树**"
   ]
  },
  {
   "cell_type": "markdown",
   "id": "9907306c",
   "metadata": {
    "pycharm": {
     "name": "#%% md\n"
    }
   },
   "source": [
    "##### 信息增益\n",
    "信息熵：\n",
    "$$\n",
    "\\mathrm{Ent}(D) = - \\sum^{\\vert \\mathcal{Y} \\vert}_{k = 1} p_k \\mathrm{log}_2 p_k\n",
    "$$\n",
    "\n",
    "信息增益：\n",
    "$$\n",
    "\\mathrm{Gain}(D, a) = \\mathrm{Ent}(D) - \\sum^{V}_{v=1} \\frac{\\vert D^v \\vert}{\\vert D \\vert} \\mathrm{Ent}(D^v)\n",
    "$$\n",
    "\n",
    "计算信息熵时约定：若$p = 0$，则$p \\log_2p = 0$"
   ]
  },
  {
   "cell_type": "markdown",
   "id": "a3dcc91c",
   "metadata": {
    "pycharm": {
     "name": "#%% md\n"
    }
   },
   "source": [
    "**下面的函数需要填写两个部分**"
   ]
  },
  {
   "cell_type": "code",
   "execution_count": 93,
   "id": "fee09b13",
   "metadata": {
    "pycharm": {
     "name": "#%%\n"
    }
   },
   "outputs": [],
   "source": [
    "def information_entropy(labels_in_node):\n",
    "    '''\n",
    "    求当前结点的信息熵\n",
    "    \n",
    "    Parameter\n",
    "    ----------\n",
    "    labels_in_node: np.ndarray, 如[-1, 1, -1, 1, 1]\n",
    "    \n",
    "    Returns\n",
    "    ----------\n",
    "    float: information entropy\n",
    "    '''\n",
    "    # 统计样本总个数\n",
    "    num_of_samples = labels_in_node.shape[0]\n",
    "    \n",
    "    if num_of_samples == 0:\n",
    "        return 0\n",
    "    \n",
    "    # 统计出标记为1的个数\n",
    "    num_of_positive = len(labels_in_node[labels_in_node == 1])\n",
    "    \n",
    "    # 统计出标记为-1的个数\n",
    "    # YOUR CODE HERE\n",
    "    \n",
    "    # 统计正例的概率\n",
    "    prob_positive = num_of_positive / num_of_samples\n",
    "    \n",
    "    # 统计负例的概率\n",
    "    # YOUR CODE HERE\n",
    "    num_of_negative = len(labels_in_node[labels_in_node == -1])\n",
    "    prob_negative = num_of_negative / num_of_samples\n",
    "\n",
    "    if prob_positive == 0:\n",
    "        positive_part = 0\n",
    "    else:\n",
    "        positive_part = prob_positive * np.log2(prob_positive)\n",
    "    \n",
    "    if prob_negative == 0:\n",
    "        negative_part = 0\n",
    "    else:\n",
    "        negative_part = prob_negative * np.log2(prob_negative)\n",
    "    \n",
    "    return - ( positive_part + negative_part )"
   ]
  },
  {
   "cell_type": "code",
   "execution_count": 94,
   "id": "e98832c6",
   "metadata": {
    "pycharm": {
     "name": "#%%\n"
    }
   },
   "outputs": [
    {
     "name": "stdout",
     "output_type": "stream",
     "text": [
      "0.9709505944546686\n"
     ]
    }
   ],
   "source": [
    "# 信息熵测试样例1\n",
    "example_labels = np.array([-1, -1, 1, 1, 1])\n",
    "print(information_entropy(example_labels)) # 0.97095"
   ]
  },
  {
   "cell_type": "markdown",
   "id": "81304c69",
   "metadata": {
    "pycharm": {
     "name": "#%% md\n"
    }
   },
   "source": [
    "接下来完成计算所有特征的信息增益的函数  \n",
    "**需要填写三个部分**"
   ]
  },
  {
   "cell_type": "code",
   "execution_count": 95,
   "id": "e84a20c7",
   "metadata": {
    "pycharm": {
     "name": "#%%\n"
    }
   },
   "outputs": [],
   "source": [
    "def compute_information_gains(data, features, target, annotate = False):\n",
    "    '''\n",
    "    计算所有特征的信息增益\n",
    "    \n",
    "    Parameter\n",
    "    ----------\n",
    "        data: pd.DataFrame，传入的样本，带有特征和标记的dataframe\n",
    "        \n",
    "        features: list(str)，特征名组成的list\n",
    "        \n",
    "        target: str, 标记(label)的名字\n",
    "        \n",
    "        annotate, boolean，是否打印所有特征的信息增益值，默认为False\n",
    "        \n",
    "    Returns\n",
    "    ----------\n",
    "        information_gains: dict, key: str, 特征名\n",
    "                                 value: float，信息增益\n",
    "    '''\n",
    "    \n",
    "    # 我们将每个特征划分的信息增益值存储在一个dict中\n",
    "    # 键是特征名，值是信息增益值\n",
    "    information_gains = dict()\n",
    "    \n",
    "    # 对所有的特征进行遍历，使用信息增益对每个特征进行计算\n",
    "    for feature in features:\n",
    "        \n",
    "        # 左子树保证所有的样本的这个特征取值为0\n",
    "        left_split_target = data[data[feature] == 0][target]\n",
    "        \n",
    "        # 右子树保证所有的样本的这个特征取值为1\n",
    "        # YOUR CODE HERE\n",
    "        right_split_target = data[data[feature] == 1][target]\n",
    "            \n",
    "        # 计算左子树的信息熵\n",
    "        left_entropy = information_entropy(left_split_target)\n",
    "        \n",
    "        # 计算左子树的权重\n",
    "        left_weight = len(left_split_target) / (len(left_split_target) + len(right_split_target))\n",
    "\n",
    "        # 计算右子树的信息熵\n",
    "        # YOUR CODE HERE\n",
    "        # YOUR CODE HERE\n",
    "        right_entropy = information_entropy(right_split_target)\n",
    "        # 计算右子树的权重\n",
    "        # YOUR CODE HERE\n",
    "        right_weight = len(right_split_target) / (len(right_split_target) + len(left_split_target))\n",
    "        \n",
    "        # 计算当前结点的信息熵\n",
    "        current_entropy = information_entropy(data[target])\n",
    "            \n",
    "        # 计算使用当前特征划分的信息增益\n",
    "        gain = current_entropy - ( right_weight * right_entropy + left_weight * left_entropy)\n",
    "        # YOUR CODE HERE\n",
    "        \n",
    "        # 将特征名与增益值以键值对的形式存储在information_gains中\n",
    "        information_gains[feature] = gain\n",
    "        \n",
    "        if annotate:\n",
    "            print(\" \", feature, gain)\n",
    "            \n",
    "    return information_gains"
   ]
  },
  {
   "cell_type": "code",
   "execution_count": 96,
   "id": "c67d7169",
   "metadata": {
    "pycharm": {
     "name": "#%%\n"
    }
   },
   "outputs": [
    {
     "name": "stdout",
     "output_type": "stream",
     "text": [
      "0.017591980178887745\n"
     ]
    }
   ],
   "source": [
    "# 信息增益测试样例1\n",
    "print(compute_information_gains(train_data, one_hot_features, target)['grade_A']) # 0.01759"
   ]
  },
  {
   "cell_type": "markdown",
   "id": "caf7ade3",
   "metadata": {
    "pycharm": {
     "name": "#%% md\n"
    }
   },
   "source": [
    "#####  信息增益率\n",
    "信息增益率：\n",
    "\n",
    "$$\n",
    "\\mathrm{Gain\\_ratio}(D, a) = \\frac{\\mathrm{Gain}(D, a)}{\\mathrm{IV}(a)}\n",
    "$$\n",
    "\n",
    "其中\n",
    "\n",
    "$$\n",
    "\\mathrm{IV}(a) = - \\sum^V_{v=1} \\frac{\\vert D^v \\vert}{\\vert D \\vert} \\log_2 \\frac{\\vert D^v \\vert}{\\vert D \\vert}\n",
    "$$"
   ]
  },
  {
   "cell_type": "code",
   "execution_count": 97,
   "id": "ec7b0069",
   "metadata": {
    "pycharm": {
     "name": "#%%\n"
    }
   },
   "outputs": [],
   "source": [
    "def compute_information_gain_ratios(data, features, target, annotate = False):\n",
    "    '''\n",
    "    计算所有特征的信息增益率并保存起来\n",
    "    \n",
    "    Parameter\n",
    "    ----------\n",
    "    data: pd.DataFrame, 带有特征和标记的数据\n",
    "    \n",
    "    features: list(str)，特征名组成的list\n",
    "    \n",
    "    target: str， 特征的名字\n",
    "    \n",
    "    annotate: boolean, default False，是否打印注释\n",
    "    \n",
    "    Returns\n",
    "    ----------\n",
    "    gain_ratios: dict, key: str, 特征名\n",
    "                       value: float，信息增益率\n",
    "    '''\n",
    "    \n",
    "    gain_ratios = dict()\n",
    "    \n",
    "    # 对所有的特征进行遍历，使用当前的划分方法对每个特征进行计算\n",
    "    for feature in features:\n",
    "        \n",
    "        # 左子树保证所有的样本的这个特征取值为0\n",
    "        left_split_target = data[data[feature] == 0][target]\n",
    "        \n",
    "        # 右子树保证所有的样本的这个特征取值为1\n",
    "        # YOUR CODE HERE\n",
    "        right_split_target = data[data[feature] == 1][target]\n",
    "            \n",
    "        # 计算左子树的信息熵\n",
    "        left_entropy = information_entropy(left_split_target)\n",
    "        \n",
    "        # 计算左子树的权重\n",
    "        left_weight = len(left_split_target) / (len(left_split_target) + len(right_split_target))\n",
    "\n",
    "        # 计算右子树的信息熵\n",
    "        # YOUR CODE HERE                                       # YOUR CODE HERE\n",
    "        right_entropy = information_entropy(right_split_target)\n",
    "        \n",
    "        # 计算右子树的权重\n",
    "        # YOUR CODE HERE                 # YOUR CODE HERE\n",
    "        right_weight = len(right_split_target) / (len(right_split_target)+len(left_split_target))\n",
    "        # 计算当前结点的信息熵\n",
    "        current_entropy = information_entropy(data[target])\n",
    "        \n",
    "        # 计算当前结点的信息增益\n",
    "        \n",
    "        # gain =  current_entropy - ( right_weight * right_entropy + left_weight * left_entropy)\n",
    "        gain = compute_information_gains(data, [feature], target)[feature]\n",
    "        # param of feature is a list, return' is dict .\n",
    "        # YOUR CODE HERE             # YOUR CODE HERE\n",
    "        \n",
    "        # 计算IV公式中，当前特征为0的值\n",
    "        if left_weight == 0:\n",
    "            left_IV = 0\n",
    "        else:\n",
    "            # YOUR CODE HERE                                    # YOUR CODE HERE\n",
    "            left_IV = left_weight* np.log2(left_weight)\n",
    "        # 计算IV公式中，当前特征为1的值\n",
    "        if right_weight == 0:\n",
    "            right_IV = 0\n",
    "        else:\n",
    "            # YOUR CODE HERE                              # YOUR CODE HERE\n",
    "            right_IV = right_weight * np.log2(right_weight)\n",
    "        # IV 等于所有子树IV之和的相反数\n",
    "        IV = - (left_IV + right_IV)\n",
    "            \n",
    "        # 计算使用当前特征划分的信息增益率\n",
    "        # 这里为了防止IV是0，导致除法得到np.inf（无穷），在分母加了一个很小的小数\n",
    "        gain_ratio = gain / (IV + np.finfo(np.longdouble).eps)\n",
    "        \n",
    "        # 信息增益率的存储\n",
    "        gain_ratios[feature] = gain_ratio\n",
    "        \n",
    "        if annotate:\n",
    "            print(\" \", feature, gain_ratio)\n",
    "            \n",
    "    return gain_ratios"
   ]
  },
  {
   "cell_type": "code",
   "execution_count": 89,
   "id": "d975521d",
   "metadata": {
    "pycharm": {
     "name": "#%%\n"
    }
   },
   "outputs": [
    {
     "name": "stdout",
     "output_type": "stream",
     "text": [
      "0.025734780668006156\n"
     ]
    }
   ],
   "source": [
    "# 信息增益率测试样例1\n",
    "print(compute_information_gain_ratios(train_data, one_hot_features, target)['grade_A']) # 0.02573"
   ]
  },
  {
   "cell_type": "markdown",
   "id": "6595692a",
   "metadata": {
    "pycharm": {
     "name": "#%% md\n"
    }
   },
   "source": [
    "##### 基尼指数\n",
    "数据集$D$的基尼值：\n",
    "\n",
    "$$\n",
    "\\begin{aligned}\n",
    "\\mathrm{Gini}(D) & = \\sum^{\\vert \\mathcal{Y} \\vert}_{k=1} \\sum_{k' \\neq k} p_k p_{k'}\\\\\n",
    "& = 1 - \\sum^{\\vert \\mathcal{Y} \\vert}_{k=1} p^2_k.\n",
    "\\end{aligned}\n",
    "$$\n",
    "\n",
    "属性$a$的基尼指数：\n",
    "\n",
    "$$\n",
    "\\mathrm{Gini\\_index}(D, a) = \\sum^V_{v = 1} \\frac{\\vert D^v \\vert}{\\vert D \\vert} \\mathrm{Gini}(D^v)\n",
    "$$"
   ]
  },
  {
   "cell_type": "code",
   "execution_count": 98,
   "id": "9ee64126",
   "metadata": {
    "pycharm": {
     "name": "#%%\n"
    }
   },
   "outputs": [],
   "source": [
    "def gini(labels_in_node):\n",
    "    '''\n",
    "    计算一个结点内样本的基尼指数\n",
    "    \n",
    "    Paramters\n",
    "    ----------\n",
    "    label_in_data: np.ndarray, 样本的标记，如[-1, -1, 1, 1, 1]\n",
    "    \n",
    "    Returns\n",
    "    ---------\n",
    "    gini: float，基尼指数\n",
    "    '''\n",
    "    \n",
    "    # 统计样本总个数\n",
    "    num_of_samples = labels_in_node.shape[0]\n",
    "    \n",
    "    if num_of_samples == 0:\n",
    "        return 0\n",
    "    \n",
    "    # 统计出1的个数\n",
    "    num_of_positive = len(labels_in_node[labels_in_node == 1])\n",
    "    \n",
    "    # 统计出-1的个数\n",
    "    # YOUR CODE HERE           # YOUR CODE HERE\n",
    "    num_of_negative = len(labels_in_node[labels_in_node == -1])\n",
    "    # 统计正例的概率\n",
    "    prob_positive = num_of_positive / num_of_samples\n",
    "    \n",
    "    # 统计负例的概率\n",
    "    # YOUR CODE HERE                  # YOUR CODE HERE\n",
    "    prob_negative = num_of_negative / num_of_samples\n",
    "    # 计算基尼值\n",
    "    gini = 1 - prob_negative **2 - prob_positive**2\n",
    "    # YOUR CODE HERE                  # YOUR CODE HERE\n",
    "    \n",
    "    return gini"
   ]
  },
  {
   "cell_type": "code",
   "execution_count": 91,
   "id": "930d25e8",
   "metadata": {
    "pycharm": {
     "name": "#%%\n"
    }
   },
   "outputs": [
    {
     "name": "stdout",
     "output_type": "stream",
     "text": [
      "0.48\n"
     ]
    }
   ],
   "source": [
    "# 基尼值测试样例1\n",
    "example_labels = np.array([-1, -1, 1, 1, 1])\n",
    "print(gini(example_labels)) # 0.48"
   ]
  },
  {
   "cell_type": "markdown",
   "id": "bd239c96",
   "metadata": {
    "pycharm": {
     "name": "#%% md\n"
    }
   },
   "source": [
    "然后计算所有特征的基尼指数"
   ]
  },
  {
   "cell_type": "code",
   "execution_count": 99,
   "id": "287f6b92",
   "metadata": {
    "pycharm": {
     "name": "#%%\n"
    }
   },
   "outputs": [],
   "source": [
    "def compute_gini_indices(data, features, target, annotate = False):\n",
    "    '''\n",
    "    计算使用各个特征进行划分时，各特征的基尼指数\n",
    "    \n",
    "    Parameter\n",
    "    ----------\n",
    "    data: pd.DataFrame, 带有特征和标记的数据\n",
    "    \n",
    "    features: list(str)，特征名组成的list\n",
    "    \n",
    "    target: str， 特征的名字\n",
    "    \n",
    "    annotate: boolean, default False，是否打印注释\n",
    "    \n",
    "    Returns\n",
    "    ----------\n",
    "    gini_indices: dict, key: str, 特征名\n",
    "                       value: float，基尼指数\n",
    "    '''\n",
    "    \n",
    "    gini_indices = dict()\n",
    "    # 对所有的特征进行遍历，使用当前的划分方法对每个特征进行计算\n",
    "    for feature in features:\n",
    "        # 左子树保证所有的样本的这个特征取值为0\n",
    "        left_split_target = data[data[feature] == 0][target]\n",
    "        \n",
    "        # 右子树保证所有的样本的这个特征取值为1\n",
    "        right_split_target =  data[data[feature] == 1][target]\n",
    "            \n",
    "        # 计算左子树的基尼值\n",
    "        left_gini = gini(left_split_target)\n",
    "        \n",
    "        # 计算左子树的权重\n",
    "        left_weight = len(left_split_target) / (len(left_split_target) + len(right_split_target))\n",
    "\n",
    "        # 计算右子树的基尼值\n",
    "        right_gini = gini(right_split_target)\n",
    "       # YOUR CODE HERE                                  # YOUR CODE HERE\n",
    "        \n",
    "        # 计算右子树的权重\n",
    "        # YOUR CODE HERE             # YOUR CODE HERE\n",
    "        right_weight = len(right_split_target) / (len(left_split_target) + len(right_split_target))\n",
    "        # 计算当前结点的基尼指数\n",
    "        gini_index = right_weight * right_gini + left_weight* left_gini\n",
    "        # YOUR CODE HERE               # YOUR CODE HERE\n",
    "        \n",
    "        # 存储\n",
    "        gini_indices[feature] = gini_index\n",
    "        \n",
    "        if annotate:\n",
    "            print(\" \", feature, gini_index)\n",
    "            \n",
    "    return gini_indices"
   ]
  },
  {
   "cell_type": "code",
   "execution_count": 95,
   "id": "71ba3739",
   "metadata": {
    "pycharm": {
     "name": "#%%\n"
    }
   },
   "outputs": [
    {
     "name": "stdout",
     "output_type": "stream",
     "text": [
      "0.3009520964964362\n"
     ]
    }
   ],
   "source": [
    "# 基尼指数测试样例1\n",
    "print(compute_gini_indices(train_data, one_hot_features, target)['grade_A']) # 0.30095"
   ]
  },
  {
   "cell_type": "markdown",
   "id": "0314c807",
   "metadata": {
    "pycharm": {
     "name": "#%% md\n"
    }
   },
   "source": [
    "#### 完成最优特征的选择"
   ]
  },
  {
   "cell_type": "markdown",
   "id": "f39e64fa",
   "metadata": {
    "pycharm": {
     "name": "#%% md\n"
    }
   },
   "source": [
    "到此，我们完成了三种划分策略的实现，接下来就是完成获取最优特征的函数  \n",
    "**这里需要填写三个部分**"
   ]
  },
  {
   "cell_type": "code",
   "execution_count": 100,
   "id": "6c07e1f7",
   "metadata": {
    "pycharm": {
     "name": "#%%\n"
    }
   },
   "outputs": [],
   "source": [
    "def best_splitting_feature(data, features, target, criterion = 'gini', annotate = False):\n",
    "    '''\n",
    "    给定划分方法和数据，找到最优的划分特征\n",
    "    \n",
    "    Parameters\n",
    "    ----------\n",
    "    data: pd.DataFrame, 带有特征和标记的数据\n",
    "    \n",
    "    features: list(str)，特征名组成的list\n",
    "    \n",
    "    target: str， 特征的名字\n",
    "    \n",
    "    criterion: str, 使用哪种指标，三种选项: 'information_gain', 'gain_ratio', 'gini'\n",
    "    \n",
    "    annotate: boolean, default False，是否打印注释\n",
    "    \n",
    "    Returns\n",
    "    ----------\n",
    "    best_feature: str, 最佳的划分特征的名字\n",
    "    \n",
    "    '''\n",
    "    if criterion == 'information_gain':\n",
    "        if annotate:\n",
    "            print('using information gain')\n",
    "        \n",
    "        # 得到当前所有特征的信息增益\n",
    "        information_gains:dict = compute_information_gains(data, features, target, annotate)\n",
    "    \n",
    "        # information_gains是一个dict类型的对象\n",
    "        # 根据这些特征和他们的信息增益，找到最佳的划分特征\n",
    "        best_feature = max(information_gains, key=information_gains.get)\n",
    "        # YOUR CODE HERE\n",
    "        \n",
    "        return best_feature\n",
    "\n",
    "    elif criterion == 'gain_ratio':\n",
    "        if annotate:\n",
    "            print('using information gain ratio')\n",
    "        \n",
    "        # 得到当前所有特征的信息增益率\n",
    "        gain_ratios:dict = compute_information_gain_ratios(data, features, target, annotate)\n",
    "    \n",
    "        # 根据这些特征和他们的信息增益率，找到最佳的划分特征\n",
    "        best_feature = max(gain_ratios, key=gain_ratios.get)\n",
    "        # YOUR CODE HERE\n",
    "\n",
    "        return best_feature\n",
    "    \n",
    "    elif criterion == 'gini':\n",
    "        if annotate:\n",
    "            print('using gini')\n",
    "        \n",
    "        # 得到当前所有特征的基尼指数\n",
    "        gini_indices = compute_gini_indices(data, features, target, annotate)\n",
    "        \n",
    "        # 根据这些特征和他们的基尼指数，找到最佳的划分特征\n",
    "        best_feature = min(gini_indices, key=gini_indices.get)\n",
    "         # YOUR CODE HERE\n",
    "\n",
    "        return best_feature\n",
    "    else:\n",
    "        raise Exception(\"传入的criterion不合规!\", criterion)"
   ]
  },
  {
   "cell_type": "markdown",
   "id": "a1ec3fe8",
   "metadata": {
    "pycharm": {
     "name": "#%% md\n"
    }
   },
   "source": [
    "#### 判断结点内样本的类别是否为同一类"
   ]
  },
  {
   "cell_type": "code",
   "execution_count": 101,
   "id": "d4f456e5",
   "metadata": {
    "pycharm": {
     "name": "#%%\n"
    }
   },
   "outputs": [],
   "source": [
    "def intermediate_node_num_mistakes(labels_in_node):\n",
    "    '''\n",
    "    求树的结点中，样本数少的那个类的样本有多少，比如输入是[1, 1, -1, -1, 1]，返回2\n",
    "    \n",
    "    Parameter\n",
    "    ----------\n",
    "    labels_in_node: np.ndarray, pd.Series\n",
    "    \n",
    "    Returns\n",
    "    ----------\n",
    "    int：个数\n",
    "    \n",
    "    '''\n",
    "    # 如果传入的array为空，返回0\n",
    "    if len(labels_in_node) == 0:\n",
    "        return 0\n",
    "    \n",
    "    # 统计1的个数\n",
    "    num_of_one = len(labels_in_node[labels_in_node==1])\n",
    "    # YOUR CODE HERE\n",
    "    \n",
    "    # 统计-1的个数\n",
    "    num_of_minus_one = len(labels_in_node[labels_in_node==-1])\n",
    "    # YOUR CODE HERE\n",
    "    \n",
    "    return num_of_one if num_of_minus_one > num_of_one else num_of_minus_one"
   ]
  },
  {
   "cell_type": "code",
   "execution_count": 103,
   "id": "2dda34c0",
   "metadata": {
    "pycharm": {
     "name": "#%%\n"
    }
   },
   "outputs": [
    {
     "name": "stdout",
     "output_type": "stream",
     "text": [
      "2\n"
     ]
    }
   ],
   "source": [
    "# 测试样例1\n",
    "print(intermediate_node_num_mistakes(np.array([1, 1, -1, -1, -1]))) # 2"
   ]
  },
  {
   "cell_type": "markdown",
   "id": "e8785b3f",
   "metadata": {
    "pycharm": {
     "name": "#%% md\n"
    }
   },
   "source": [
    "#### 创建叶子结点"
   ]
  },
  {
   "cell_type": "code",
   "execution_count": 102,
   "id": "174d43de",
   "metadata": {
    "pycharm": {
     "name": "#%%\n"
    }
   },
   "outputs": [],
   "source": [
    "def create_leaf(target_values):\n",
    "    '''\n",
    "    计算出当前叶子结点的标记是什么，并且将叶子结点信息保存在一个dict中\n",
    "    \n",
    "    Parameter:\n",
    "    ----------\n",
    "    target_values: pd.Series, 当前叶子结点内样本的标记\n",
    "\n",
    "    Returns:\n",
    "    ----------\n",
    "    leaf: dict，表示一个叶结点，\n",
    "            leaf['splitting_features'], None，叶结点不需要划分特征\n",
    "            leaf['left'], None，叶结点没有左子树\n",
    "            leaf['right'], None，叶结点没有右子树\n",
    "            leaf['is_leaf'], True, 是否是叶子结点\n",
    "            leaf['prediction'], int, 表示该叶子结点的预测值\n",
    "    '''\n",
    "    # 创建叶子结点\n",
    "    leaf = {'splitting_feature' : None,\n",
    "            'left' : None,\n",
    "            'right' : None,\n",
    "            'is_leaf': True}\n",
    "   \n",
    "    # 数结点内-1和+1的个数\n",
    "    num_ones = len(target_values[target_values == +1])\n",
    "    num_minus_ones = len(target_values[target_values == -1])    \n",
    "\n",
    "    # 叶子结点的标记使用少数服从多数的原则，为样本数多的那类的标记，保存在 leaf['prediction']\n",
    "    if num_ones > num_minus_ones:\n",
    "        leaf['prediction'] = 1\n",
    "    else:\n",
    "        leaf['prediction'] = -1\n",
    "\n",
    "    # 返回叶子结点\n",
    "    return leaf"
   ]
  },
  {
   "cell_type": "markdown",
   "id": "485d9b4f",
   "metadata": {
    "pycharm": {
     "name": "#%% md\n"
    }
   },
   "source": [
    "#### 递归地创建决策树\n",
    "递归的创建决策树  \n",
    "递归算法终止的三个条件：\n",
    "1. 如果结点内所有的样本的标记都相同，该结点就不需要再继续划分，直接做叶子结点即可\n",
    "2. 如果结点所有的特征都已经在之前使用过了，在当前结点无剩余特征可供划分样本，该结点直接做叶子结点\n",
    "3. 如果当前结点的深度已经达到了我们限制的树的最大深度，直接做叶子结点"
   ]
  },
  {
   "cell_type": "code",
   "execution_count": 103,
   "id": "601a16c1",
   "metadata": {
    "pycharm": {
     "name": "#%%\n"
    }
   },
   "outputs": [],
   "source": [
    "def decision_tree_create(data, features, target, criterion = 'gini', current_depth = 0, max_depth = 10, annotate = False):\n",
    "    '''\n",
    "    Parameter:\n",
    "    ----------\n",
    "    data: pd.DataFrame, 数据\n",
    "\n",
    "    features: iterable, 特征组成的可迭代对象，比如一个list\n",
    "\n",
    "    target: str, 标记的名字\n",
    "\n",
    "    criterion: 'str', 特征划分方法，只支持三种：'information_gain', 'gain_ratio', 'gini'\n",
    "\n",
    "    current_depth: int, 当前深度，递归的时候需要记录\n",
    "\n",
    "    max_depth: int, 树的最大深度，我们设定的树的最大深度，达到最大深度需要终止递归\n",
    "\n",
    "    Returns:\n",
    "    ----------\n",
    "    dict, dict['is_leaf']          : False, 当前顶点不是叶子结点\n",
    "          dict['prediction']       : None, 不是叶子结点就没有预测值\n",
    "          dict['splitting_feature']: splitting_feature, 当前结点是使用哪个特征进行划分的\n",
    "          dict['left']             : dict\n",
    "          dict['right']            : dict\n",
    "    '''\n",
    "    \n",
    "    if criterion not in ['information_gain', 'gain_ratio', 'gini']:\n",
    "        raise Exception(\"传入的criterion不合规!\", criterion)\n",
    "    \n",
    "    # 复制一份特征，存储起来，每使用一个特征进行划分，我们就删除一个\n",
    "    remaining_features = features[:]\n",
    "    \n",
    "    # 取出标记值\n",
    "    target_values = data[target]\n",
    "    if annotate:\n",
    "        print(\"-\" * 50)\n",
    "        print(\"Subtree, depth = %s (%s data points).\" % (current_depth, len(target_values)))\n",
    "\n",
    "        # 终止条件1\n",
    "        # 如果当前结点内所有样本同属一类，即这个结点中，各类别样本数最小的那个等于0\n",
    "        # 使用前面写的intermediate_node_num_mistakes来完成这个判断\n",
    "    if intermediate_node_num_mistakes(target_values) == 0:\n",
    "        if annotate:\n",
    "            print(\"Stopping condition 1 reached.\")\n",
    "        return create_leaf(target_values)   # 创建叶子结点\n",
    "\n",
    "    # 终止条件2\n",
    "    # 如果已经没有剩余的特征可供分割，即remaining_features为空\n",
    "\n",
    "    if remaining_features.__len__()==0:  # YOUR CODE HERE :                                            # YOUR CODE HERE\n",
    "        if annotate:\n",
    "            print(\"Stopping condition 2 reached.\")\n",
    "        return create_leaf(target_values)   # 创建叶子结点\n",
    "\n",
    "    # 终止条件3\n",
    "    # 如果已经到达了我们要求的最大深度，即当前深度达到了最大深度\n",
    "\n",
    "    if max_depth==current_depth: # YOUR CODE HERE:                                      # YOUR CODE HERE\n",
    "        if annotate:\n",
    "            print(\"Reached maximum depth. Stopping for now.\")\n",
    "        return create_leaf(target_values)   # 创建叶子结点\n",
    "\n",
    "        # 找到最优划分特征\n",
    "        # 使用best_splitting_feature这个函数\n",
    "    \n",
    "    splitting_feature = best_splitting_feature(data, remaining_features, target, criterion) # YOUR CODE HERE\n",
    "    \n",
    "    # 使用我们找到的最优特征将数据划分成两份\n",
    "    # 左子树的数据\n",
    "    left_split = data[data[splitting_feature] == 0]\n",
    "    \n",
    "    # 右子树的数据\n",
    "    # YOUR CODE HERE\n",
    "    right_split = data[data[splitting_feature] == 1]\n",
    "    # 现在已经完成划分，我们要从剩余特征中删除掉当前这个特征\n",
    "    remaining_features.remove(splitting_feature)\n",
    "    \n",
    "    # 打印当前划分使用的特征，打印左子树样本个数，右子树样本个数\n",
    "    if annotate:\n",
    "        print(\"Split on feature %s. (%s, %s)\" % (\\\n",
    "                      splitting_feature, len(left_split), len(right_split)))\n",
    "    \n",
    "    # 如果使用当前的特征，将所有的样本都划分到一棵子树中，那么就直接将这棵子树变成叶子结点\n",
    "    # 判断左子树是不是“完美”的\n",
    "    if len(left_split) == len(data):\n",
    "        if(annotate):\n",
    "            print(\"Creating leaf node.\")\n",
    "        return create_leaf(left_split[target])\n",
    "\n",
    "    # 判断右子树是不是“完美”的\n",
    "    # YOUR CODE HERE\n",
    "    if len(right_split) == len(data):\n",
    "        if(annotate):\n",
    "            print(\"Creating right node.\")\n",
    "        return create_leaf(right_split[target])\n",
    "\n",
    "    # 递归地创建左子树\n",
    "    left_tree = decision_tree_create(left_split, remaining_features, target, criterion, current_depth + 1, max_depth, annotate)\n",
    "    \n",
    "    # 递归地创建右子树\n",
    "    \n",
    "    right_tree = decision_tree_create(right_split, remaining_features, target, criterion, current_depth + 1, max_depth, annotate)                         # YOUR CODE HERE\n",
    "\n",
    "    # 返回树的非叶子结点\n",
    "    return {'is_leaf'          : False, \n",
    "            'prediction'       : None,\n",
    "            'splitting_feature': splitting_feature,\n",
    "            'left'             : left_tree, \n",
    "            'right'            : right_tree}"
   ]
  },
  {
   "cell_type": "code",
   "execution_count": 137,
   "outputs": [
    {
     "name": "stdout",
     "output_type": "stream",
     "text": [
      "--------------------------------------------------\n",
      "Subtree, depth = 0 (73564 data points).\n",
      "Split on feature term_ 36 months. (14831, 58733)\n",
      "--------------------------------------------------\n",
      "Subtree, depth = 1 (14831 data points).\n",
      "Split on feature grade_F. (13003, 1828)\n",
      "--------------------------------------------------\n",
      "Subtree, depth = 2 (13003 data points).\n",
      "Split on feature grade_E. (9818, 3185)\n",
      "--------------------------------------------------\n",
      "Subtree, depth = 3 (9818 data points).\n",
      "Split on feature home_ownership_RENT. (6796, 3022)\n",
      "--------------------------------------------------\n",
      "Subtree, depth = 4 (6796 data points).\n",
      "Split on feature grade_G. (6507, 289)\n",
      "--------------------------------------------------\n",
      "Subtree, depth = 5 (6507 data points).\n",
      "Split on feature grade_D. (4368, 2139)\n",
      "--------------------------------------------------\n",
      "Subtree, depth = 6 (4368 data points).\n",
      "Reached maximum depth. Stopping for now.\n",
      "--------------------------------------------------\n",
      "Subtree, depth = 6 (2139 data points).\n",
      "Reached maximum depth. Stopping for now.\n",
      "--------------------------------------------------\n",
      "Subtree, depth = 5 (289 data points).\n",
      "Split on feature home_ownership_OWN. (249, 40)\n",
      "--------------------------------------------------\n",
      "Subtree, depth = 6 (249 data points).\n",
      "Reached maximum depth. Stopping for now.\n",
      "--------------------------------------------------\n",
      "Subtree, depth = 6 (40 data points).\n",
      "Reached maximum depth. Stopping for now.\n",
      "--------------------------------------------------\n",
      "Subtree, depth = 4 (3022 data points).\n",
      "Split on feature grade_G. (2827, 195)\n",
      "--------------------------------------------------\n",
      "Subtree, depth = 5 (2827 data points).\n",
      "Split on feature grade_D. (1651, 1176)\n",
      "--------------------------------------------------\n",
      "Subtree, depth = 6 (1651 data points).\n",
      "Reached maximum depth. Stopping for now.\n",
      "--------------------------------------------------\n",
      "Subtree, depth = 6 (1176 data points).\n",
      "Reached maximum depth. Stopping for now.\n",
      "--------------------------------------------------\n",
      "Subtree, depth = 5 (195 data points).\n",
      "Split on feature emp_length_2 years. (176, 19)\n",
      "--------------------------------------------------\n",
      "Subtree, depth = 6 (176 data points).\n",
      "Reached maximum depth. Stopping for now.\n",
      "--------------------------------------------------\n",
      "Subtree, depth = 6 (19 data points).\n",
      "Reached maximum depth. Stopping for now.\n",
      "--------------------------------------------------\n",
      "Subtree, depth = 3 (3185 data points).\n",
      "Split on feature home_ownership_RENT. (1980, 1205)\n",
      "--------------------------------------------------\n",
      "Subtree, depth = 4 (1980 data points).\n",
      "Split on feature emp_length_3 years. (1828, 152)\n",
      "--------------------------------------------------\n",
      "Subtree, depth = 5 (1828 data points).\n",
      "Split on feature emp_length_10+ years. (1057, 771)\n",
      "--------------------------------------------------\n",
      "Subtree, depth = 6 (1057 data points).\n",
      "Reached maximum depth. Stopping for now.\n",
      "--------------------------------------------------\n",
      "Subtree, depth = 6 (771 data points).\n",
      "Reached maximum depth. Stopping for now.\n",
      "--------------------------------------------------\n",
      "Subtree, depth = 5 (152 data points).\n",
      "Split on feature home_ownership_OTHER. (151, 1)\n",
      "--------------------------------------------------\n",
      "Subtree, depth = 6 (151 data points).\n",
      "Reached maximum depth. Stopping for now.\n",
      "--------------------------------------------------\n",
      "Subtree, depth = 6 (1 data points).\n",
      "Stopping condition 1 reached.\n",
      "--------------------------------------------------\n",
      "Subtree, depth = 4 (1205 data points).\n",
      "Split on feature emp_length_1 year. (1124, 81)\n",
      "--------------------------------------------------\n",
      "Subtree, depth = 5 (1124 data points).\n",
      "Split on feature emp_length_8 years. (1073, 51)\n",
      "--------------------------------------------------\n",
      "Subtree, depth = 6 (1073 data points).\n",
      "Reached maximum depth. Stopping for now.\n",
      "--------------------------------------------------\n",
      "Subtree, depth = 6 (51 data points).\n",
      "Reached maximum depth. Stopping for now.\n",
      "--------------------------------------------------\n",
      "Subtree, depth = 5 (81 data points).\n",
      "Split on feature grade_A. (81, 0)\n",
      "Creating leaf node.\n",
      "--------------------------------------------------\n",
      "Subtree, depth = 2 (1828 data points).\n",
      "Split on feature home_ownership_RENT. (1030, 798)\n",
      "--------------------------------------------------\n",
      "Subtree, depth = 3 (1030 data points).\n",
      "Split on feature emp_length_3 years. (957, 73)\n",
      "--------------------------------------------------\n",
      "Subtree, depth = 4 (957 data points).\n",
      "Split on feature emp_length_2 years. (886, 71)\n",
      "--------------------------------------------------\n",
      "Subtree, depth = 5 (886 data points).\n",
      "Split on feature home_ownership_OTHER. (884, 2)\n",
      "--------------------------------------------------\n",
      "Subtree, depth = 6 (884 data points).\n",
      "Reached maximum depth. Stopping for now.\n",
      "--------------------------------------------------\n",
      "Subtree, depth = 6 (2 data points).\n",
      "Stopping condition 1 reached.\n",
      "--------------------------------------------------\n",
      "Subtree, depth = 5 (71 data points).\n",
      "Split on feature home_ownership_MORTGAGE. (12, 59)\n",
      "--------------------------------------------------\n",
      "Subtree, depth = 6 (12 data points).\n",
      "Reached maximum depth. Stopping for now.\n",
      "--------------------------------------------------\n",
      "Subtree, depth = 6 (59 data points).\n",
      "Reached maximum depth. Stopping for now.\n",
      "--------------------------------------------------\n",
      "Subtree, depth = 4 (73 data points).\n",
      "Split on feature home_ownership_MORTGAGE. (13, 60)\n",
      "--------------------------------------------------\n",
      "Subtree, depth = 5 (13 data points).\n",
      "Split on feature grade_A. (13, 0)\n",
      "Creating leaf node.\n",
      "--------------------------------------------------\n",
      "Subtree, depth = 5 (60 data points).\n",
      "Split on feature grade_A. (60, 0)\n",
      "Creating leaf node.\n",
      "--------------------------------------------------\n",
      "Subtree, depth = 3 (798 data points).\n",
      "Split on feature emp_length_7 years. (740, 58)\n",
      "--------------------------------------------------\n",
      "Subtree, depth = 4 (740 data points).\n",
      "Split on feature emp_length_3 years. (673, 67)\n",
      "--------------------------------------------------\n",
      "Subtree, depth = 5 (673 data points).\n",
      "Split on feature emp_length_9 years. (646, 27)\n",
      "--------------------------------------------------\n",
      "Subtree, depth = 6 (646 data points).\n",
      "Reached maximum depth. Stopping for now.\n",
      "--------------------------------------------------\n",
      "Subtree, depth = 6 (27 data points).\n",
      "Reached maximum depth. Stopping for now.\n",
      "--------------------------------------------------\n",
      "Subtree, depth = 5 (67 data points).\n",
      "Split on feature grade_A. (67, 0)\n",
      "Creating leaf node.\n",
      "--------------------------------------------------\n",
      "Subtree, depth = 4 (58 data points).\n",
      "Split on feature grade_A. (58, 0)\n",
      "Creating leaf node.\n",
      "--------------------------------------------------\n",
      "Subtree, depth = 1 (58733 data points).\n",
      "Split on feature grade_A. (45632, 13101)\n",
      "--------------------------------------------------\n",
      "Subtree, depth = 2 (45632 data points).\n",
      "Split on feature grade_B. (25130, 20502)\n",
      "--------------------------------------------------\n",
      "Subtree, depth = 3 (25130 data points).\n",
      "Split on feature grade_C. (11066, 14064)\n",
      "--------------------------------------------------\n",
      "Subtree, depth = 4 (11066 data points).\n",
      "Split on feature home_ownership_MORTGAGE. (6987, 4079)\n",
      "--------------------------------------------------\n",
      "Subtree, depth = 5 (6987 data points).\n",
      "Split on feature grade_F. (6650, 337)\n",
      "--------------------------------------------------\n",
      "Subtree, depth = 6 (6650 data points).\n",
      "Reached maximum depth. Stopping for now.\n",
      "--------------------------------------------------\n",
      "Subtree, depth = 6 (337 data points).\n",
      "Reached maximum depth. Stopping for now.\n",
      "--------------------------------------------------\n",
      "Subtree, depth = 5 (4079 data points).\n",
      "Split on feature grade_G. (4003, 76)\n",
      "--------------------------------------------------\n",
      "Subtree, depth = 6 (4003 data points).\n",
      "Reached maximum depth. Stopping for now.\n",
      "--------------------------------------------------\n",
      "Subtree, depth = 6 (76 data points).\n",
      "Reached maximum depth. Stopping for now.\n",
      "--------------------------------------------------\n",
      "Subtree, depth = 4 (14064 data points).\n",
      "Split on feature home_ownership_MORTGAGE. (8209, 5855)\n",
      "--------------------------------------------------\n",
      "Subtree, depth = 5 (8209 data points).\n",
      "Split on feature emp_length_2 years. (7209, 1000)\n",
      "--------------------------------------------------\n",
      "Subtree, depth = 6 (7209 data points).\n",
      "Reached maximum depth. Stopping for now.\n",
      "--------------------------------------------------\n",
      "Subtree, depth = 6 (1000 data points).\n",
      "Reached maximum depth. Stopping for now.\n",
      "--------------------------------------------------\n",
      "Subtree, depth = 5 (5855 data points).\n",
      "Split on feature emp_length_10+ years. (3802, 2053)\n",
      "--------------------------------------------------\n",
      "Subtree, depth = 6 (3802 data points).\n",
      "Reached maximum depth. Stopping for now.\n",
      "--------------------------------------------------\n",
      "Subtree, depth = 6 (2053 data points).\n",
      "Reached maximum depth. Stopping for now.\n",
      "--------------------------------------------------\n",
      "Subtree, depth = 3 (20502 data points).\n",
      "Split on feature home_ownership_MORTGAGE. (10775, 9727)\n",
      "--------------------------------------------------\n",
      "Subtree, depth = 4 (10775 data points).\n",
      "Split on feature home_ownership_OTHER. (10741, 34)\n",
      "--------------------------------------------------\n",
      "Subtree, depth = 5 (10741 data points).\n",
      "Split on feature emp_length_1 year. (9754, 987)\n",
      "--------------------------------------------------\n",
      "Subtree, depth = 6 (9754 data points).\n",
      "Reached maximum depth. Stopping for now.\n",
      "--------------------------------------------------\n",
      "Subtree, depth = 6 (987 data points).\n",
      "Reached maximum depth. Stopping for now.\n",
      "--------------------------------------------------\n",
      "Subtree, depth = 5 (34 data points).\n",
      "Split on feature emp_length_10+ years. (27, 7)\n",
      "--------------------------------------------------\n",
      "Subtree, depth = 6 (27 data points).\n",
      "Reached maximum depth. Stopping for now.\n",
      "--------------------------------------------------\n",
      "Subtree, depth = 6 (7 data points).\n",
      "Reached maximum depth. Stopping for now.\n",
      "--------------------------------------------------\n",
      "Subtree, depth = 4 (9727 data points).\n",
      "Split on feature emp_length_< 1 year. (9186, 541)\n",
      "--------------------------------------------------\n",
      "Subtree, depth = 5 (9186 data points).\n",
      "Split on feature emp_length_9 years. (8807, 379)\n",
      "--------------------------------------------------\n",
      "Subtree, depth = 6 (8807 data points).\n",
      "Reached maximum depth. Stopping for now.\n",
      "--------------------------------------------------\n",
      "Subtree, depth = 6 (379 data points).\n",
      "Reached maximum depth. Stopping for now.\n",
      "--------------------------------------------------\n",
      "Subtree, depth = 5 (541 data points).\n",
      "Split on feature grade_C. (541, 0)\n",
      "Creating leaf node.\n",
      "--------------------------------------------------\n",
      "Subtree, depth = 2 (13101 data points).\n",
      "Split on feature home_ownership_MORTGAGE. (5830, 7271)\n",
      "--------------------------------------------------\n",
      "Subtree, depth = 3 (5830 data points).\n",
      "Split on feature emp_length_3 years. (5283, 547)\n",
      "--------------------------------------------------\n",
      "Subtree, depth = 4 (5283 data points).\n",
      "Split on feature emp_length_1 year. (4705, 578)\n",
      "--------------------------------------------------\n",
      "Subtree, depth = 5 (4705 data points).\n",
      "Split on feature emp_length_7 years. (4467, 238)\n",
      "--------------------------------------------------\n",
      "Subtree, depth = 6 (4467 data points).\n",
      "Reached maximum depth. Stopping for now.\n",
      "--------------------------------------------------\n",
      "Subtree, depth = 6 (238 data points).\n",
      "Reached maximum depth. Stopping for now.\n",
      "--------------------------------------------------\n",
      "Subtree, depth = 5 (578 data points).\n",
      "Split on feature home_ownership_OTHER. (576, 2)\n",
      "--------------------------------------------------\n",
      "Subtree, depth = 6 (576 data points).\n",
      "Reached maximum depth. Stopping for now.\n",
      "--------------------------------------------------\n",
      "Subtree, depth = 6 (2 data points).\n",
      "Stopping condition 1 reached.\n",
      "--------------------------------------------------\n",
      "Subtree, depth = 4 (547 data points).\n",
      "Split on feature home_ownership_OTHER. (545, 2)\n",
      "--------------------------------------------------\n",
      "Subtree, depth = 5 (545 data points).\n",
      "Split on feature home_ownership_OWN. (468, 77)\n",
      "--------------------------------------------------\n",
      "Subtree, depth = 6 (468 data points).\n",
      "Reached maximum depth. Stopping for now.\n",
      "--------------------------------------------------\n",
      "Subtree, depth = 6 (77 data points).\n",
      "Reached maximum depth. Stopping for now.\n",
      "--------------------------------------------------\n",
      "Subtree, depth = 5 (2 data points).\n",
      "Split on feature grade_B. (2, 0)\n",
      "Creating leaf node.\n",
      "--------------------------------------------------\n",
      "Subtree, depth = 3 (7271 data points).\n",
      "Split on feature emp_length_2 years. (6702, 569)\n",
      "--------------------------------------------------\n",
      "Subtree, depth = 4 (6702 data points).\n",
      "Split on feature emp_length_4 years. (6234, 468)\n",
      "--------------------------------------------------\n",
      "Subtree, depth = 5 (6234 data points).\n",
      "Split on feature emp_length_3 years. (5689, 545)\n",
      "--------------------------------------------------\n",
      "Subtree, depth = 6 (5689 data points).\n",
      "Reached maximum depth. Stopping for now.\n",
      "--------------------------------------------------\n",
      "Subtree, depth = 6 (545 data points).\n",
      "Reached maximum depth. Stopping for now.\n",
      "--------------------------------------------------\n",
      "Subtree, depth = 5 (468 data points).\n",
      "Split on feature grade_B. (468, 0)\n",
      "Creating leaf node.\n",
      "--------------------------------------------------\n",
      "Subtree, depth = 4 (569 data points).\n",
      "Split on feature grade_B. (569, 0)\n",
      "Creating leaf node.\n"
     ]
    }
   ],
   "source": [
    "my_decision_tree = decision_tree_create(train_data, one_hot_features, target, 'gini', max_depth = 6, annotate = False)"
   ],
   "metadata": {
    "collapsed": false,
    "pycharm": {
     "name": "#%%\n"
    }
   }
  },
  {
   "cell_type": "code",
   "execution_count": 104,
   "id": "fde57155",
   "metadata": {
    "pycharm": {
     "name": "#%%\n"
    }
   },
   "outputs": [],
   "source": [
    "my_decision_tree = decision_tree_create(train_data, one_hot_features, target, 'gini', max_depth = 6, annotate = False)"
   ]
  },
  {
   "cell_type": "markdown",
   "id": "60a19640",
   "metadata": {
    "pycharm": {
     "name": "#%% md\n"
    }
   },
   "source": [
    "#### 预测\n",
    "接下来我们需要完成预测函数"
   ]
  },
  {
   "cell_type": "code",
   "execution_count": 105,
   "id": "3ef43e26",
   "metadata": {
    "pycharm": {
     "name": "#%%\n"
    }
   },
   "outputs": [],
   "source": [
    "def classify(tree, x, annotate = False):\n",
    "    '''\n",
    "    递归的进行预测，一次只能预测一个样本\n",
    "    \n",
    "    Parameters\n",
    "    ----------\n",
    "    tree: dict\n",
    "    \n",
    "    x: pd.Series，待预测的样本\n",
    "    \n",
    "    annotate： boolean, 是否显示注释\n",
    "    \n",
    "    Returns\n",
    "    ----------\n",
    "    返回预测的标记\n",
    "    '''\n",
    "    if tree['is_leaf']:\n",
    "        if annotate:\n",
    "            print (\"At leaf, predicting %s\" % tree['prediction'])\n",
    "        return tree['prediction']\n",
    "    else:\n",
    "        split_feature_value = x[tree['splitting_feature']]\n",
    "        if annotate:\n",
    "             print (\"Split on %s = %s\" % (tree['splitting_feature'], split_feature_value))\n",
    "        if split_feature_value == 0:\n",
    "            return classify(tree['left'], x, annotate)\n",
    "        else:\n",
    "            return classify(tree['right'], x, annotate)"
   ]
  },
  {
   "cell_type": "code",
   "execution_count": 106,
   "id": "65fd734b",
   "metadata": {
    "pycharm": {
     "name": "#%%\n"
    }
   },
   "outputs": [
    {
     "name": "stdout",
     "output_type": "stream",
     "text": [
      "safe_loans                 1\n",
      "grade_A                    0\n",
      "grade_B                    0\n",
      "grade_C                    0\n",
      "grade_D                    0\n",
      "grade_E                    1\n",
      "grade_F                    0\n",
      "grade_G                    0\n",
      "term_ 36 months            1\n",
      "term_ 60 months            0\n",
      "home_ownership_MORTGAGE    1\n",
      "home_ownership_OTHER       0\n",
      "home_ownership_OWN         0\n",
      "home_ownership_RENT        0\n",
      "emp_length_1 year          0\n",
      "emp_length_10+ years       0\n",
      "emp_length_2 years         1\n",
      "emp_length_3 years         0\n",
      "emp_length_4 years         0\n",
      "emp_length_5 years         0\n",
      "emp_length_6 years         0\n",
      "emp_length_7 years         0\n",
      "emp_length_8 years         0\n",
      "emp_length_9 years         0\n",
      "emp_length_< 1 year        0\n",
      "Name: 37225, dtype: int64\n"
     ]
    }
   ],
   "source": [
    "test_sample = test_data.iloc[0]\n",
    "print(test_sample)"
   ]
  },
  {
   "cell_type": "code",
   "execution_count": 140,
   "id": "cf0315f4",
   "metadata": {
    "pycharm": {
     "name": "#%%\n"
    }
   },
   "outputs": [
    {
     "name": "stdout",
     "output_type": "stream",
     "text": [
      "Predicted class: 1 \n"
     ]
    }
   ],
   "source": [
    "print('Predicted class: %s ' % classify(my_decision_tree, test_sample))"
   ]
  },
  {
   "cell_type": "code",
   "execution_count": 141,
   "id": "5d8438cb",
   "metadata": {
    "pycharm": {
     "name": "#%%\n"
    }
   },
   "outputs": [
    {
     "name": "stdout",
     "output_type": "stream",
     "text": [
      "True class: 1 \n"
     ]
    }
   ],
   "source": [
    "print('True class: %s ' % (test_sample['safe_loans']))"
   ]
  },
  {
   "cell_type": "markdown",
   "id": "fb62981e",
   "metadata": {
    "pycharm": {
     "name": "#%% md\n"
    }
   },
   "source": [
    "#### 在测试集上对我们的模型进行评估"
   ]
  },
  {
   "cell_type": "code",
   "execution_count": 144,
   "id": "1b1847a5",
   "metadata": {
    "pycharm": {
     "name": "#%%\n"
    }
   },
   "outputs": [],
   "source": [
    "from sklearn.metrics import accuracy_score\n",
    "from sklearn.metrics import precision_score\n",
    "from sklearn.metrics import recall_score\n",
    "from sklearn.metrics import f1_score"
   ]
  },
  {
   "cell_type": "markdown",
   "id": "ded2b16e",
   "metadata": {
    "pycharm": {
     "name": "#%% md\n"
    }
   },
   "source": [
    "先来编写一个批量预测的函数，传入的是整个测试集那样的pd.DataFrame，这个函数返回一个np.ndarray，存储模型的预测结果  "
   ]
  },
  {
   "cell_type": "code",
   "execution_count": 107,
   "id": "5a64482d",
   "metadata": {
    "pycharm": {
     "name": "#%%\n"
    }
   },
   "outputs": [],
   "source": [
    "def predict(tree, data):\n",
    "    '''\n",
    "    按行遍历data，对每个样本进行预测，将值存在prediction中，最后返回np.ndarray\n",
    "    \n",
    "    Parameter\n",
    "    ----------\n",
    "    tree: dict, 模型\n",
    "    \n",
    "    data: pd.DataFrame, 数据\n",
    "    \n",
    "    Returns\n",
    "    ----------\n",
    "    predictions：np.ndarray, 模型对这些样本的预测结果\n",
    "    '''\n",
    "    predictions = np.zeros(len(data)) # 长度和data一样\n",
    "    \n",
    "    # YOUR CODE HERE\n",
    "    for i in range(len(data)):\n",
    "        test_sample = data.iloc[i]\n",
    "        result  = classify(tree, test_sample)\n",
    "        predictions[i] = result\n",
    "    return predictions"
   ]
  },
  {
   "cell_type": "markdown",
   "id": "36c4aa42",
   "metadata": {
    "pycharm": {
     "name": "#%% md\n"
    }
   },
   "source": [
    "#### 请你计算使用三种不同评价指标得到模型的四项指标的值，填写在下方表格内\n",
    "\n",
    "**树的最大深度为6**"
   ]
  },
  {
   "cell_type": "code",
   "execution_count": 167,
   "outputs": [],
   "source": [
    "def train_test_tree(annotate_=False):\n",
    "    criterions = ['gini', 'information_gain','gain_ratio']\n",
    "    for criterion in criterions:\n",
    "        model = decision_tree_create(train_data, one_hot_features, target, criterion, max_depth = 6, annotate = annotate_)\n",
    "        y_hat = predict(model, test_data)\n",
    "        print(criterion)\n",
    "        print('acc', accuracy_score(test_data[target], y_hat))\n",
    "        print('precision_score', precision_score(test_data[target],y_hat))\n",
    "        print('recall_score', recall_score(test_data[target], y_hat))\n",
    "        print('f1_score', f1_score(test_data[target], y_hat))\n",
    "        print()"
   ],
   "metadata": {
    "collapsed": false,
    "pycharm": {
     "name": "#%%\n"
    }
   }
  },
  {
   "cell_type": "code",
   "execution_count": 168,
   "outputs": [
    {
     "name": "stdout",
     "output_type": "stream",
     "text": [
      "gini\n",
      "acc 0.8117366392757376\n",
      "precision_score 0.8128399100388468\n",
      "recall_score 0.9980168193799422\n",
      "f1_score 0.8959603357935657\n",
      "\n",
      "information_gain\n",
      "acc 0.8122056154802928\n",
      "precision_score 0.8122387390142941\n",
      "recall_score 0.9999497928956947\n",
      "f1_score 0.8963724740087312\n",
      "\n",
      "gain_ratio\n",
      "acc 0.8117774198152642\n",
      "precision_score 0.8124897892501225\n",
      "recall_score 0.9987699259445212\n",
      "f1_score 0.8960508090942874\n",
      "\n"
     ]
    }
   ],
   "source": [
    "train_test_tree()\n",
    "#方便显示 把 生成决策树的过程打印关闭"
   ],
   "metadata": {
    "collapsed": false,
    "pycharm": {
     "name": "#%%\n"
    }
   }
  },
  {
   "cell_type": "markdown",
   "id": "b36de2f4",
   "metadata": {
    "pycharm": {
     "name": "#%% md\n"
    }
   },
   "source": [
    "树的最大深度为6  \n",
    "\n",
    "###### 双击此处编写\n",
    "\n",
    "| 划分标准 | 精度 | 查准率 | 查全率 | F1 |\n",
    "|:----: |\n",
    "| gini | 0.811736 | 0.812839 | 0.998016 | 0.895960 |\n",
    "| information_gain | 0.812205 | 0.812238 | 0.999949 | 0.896372 |\n",
    "| gain_ratio | 0.811777 | 0.812489 | 0.998769 | 0.896050 |\n",
    "\n",
    "\n",
    "\n",
    "\n"
   ]
  },
  {
   "cell_type": "markdown",
   "id": "b763f1ff",
   "metadata": {
    "pycharm": {
     "name": "#%% md\n"
    }
   },
   "source": [
    "#### 使用Echarts绘制决策树\n",
    "我们可以使用echarts绘制出我们训练的决策树，这时候可以利用pyecharts这个库 pyecharts\n",
    "pyecharts可以与jupyter notebook无缝衔接，直接在notebook中绘制图表。 提醒：pyecharts还未支持jupyter lab\n",
    "\n",
    "pyecharts使用：https://pyecharts.org/#/zh-cn/intro\n",
    "\n",
    "如何安装？\n",
    "\n",
    "pip 安装：$ pip(3) install pyecharts\n",
    "\n",
    "（anaconda可在anaconda prompt中进行安装）\n",
    "\n",
    "源码安装：\n",
    "\n",
    "$ git clone https://github.com/pyecharts/pyecharts.git\n",
    "\n",
    "$ cd pyecharts\n",
    "\n",
    "$ pip install -r requirements.txt\n",
    "\n",
    "$ python setup.py install\n",
    "\n",
    "（或者执行 python install.py）"
   ]
  },
  {
   "cell_type": "code",
   "execution_count": 170,
   "outputs": [
    {
     "name": "stdout",
     "output_type": "stream",
     "text": [
      "Looking in indexes: https://mirrors.aliyun.com/pypi/simple/\n",
      "Requirement already satisfied: pyecharts in d:\\anaconda3_2022.05\\envs\\pytorch\\lib\\site-packages (1.9.1)\n",
      "Requirement already satisfied: simplejson in d:\\anaconda3_2022.05\\envs\\pytorch\\lib\\site-packages (from pyecharts) (3.17.6)\n",
      "Requirement already satisfied: prettytable in d:\\anaconda3_2022.05\\envs\\pytorch\\lib\\site-packages (from pyecharts) (3.5.0)\n",
      "Requirement already satisfied: jinja2 in d:\\anaconda3_2022.05\\envs\\pytorch\\lib\\site-packages (from pyecharts) (3.1.2)\n",
      "Requirement already satisfied: MarkupSafe>=2.0 in d:\\anaconda3_2022.05\\envs\\pytorch\\lib\\site-packages (from jinja2->pyecharts) (2.1.1)\n",
      "Requirement already satisfied: importlib-metadata in d:\\anaconda3_2022.05\\envs\\pytorch\\lib\\site-packages (from prettytable->pyecharts) (4.12.0)\n",
      "Requirement already satisfied: wcwidth in d:\\anaconda3_2022.05\\envs\\pytorch\\lib\\site-packages (from prettytable->pyecharts) (0.2.5)\n",
      "Requirement already satisfied: typing-extensions>=3.6.4 in d:\\anaconda3_2022.05\\envs\\pytorch\\lib\\site-packages (from importlib-metadata->prettytable->pyecharts) (4.3.0)\n",
      "Requirement already satisfied: zipp>=0.5 in d:\\anaconda3_2022.05\\envs\\pytorch\\lib\\site-packages (from importlib-metadata->prettytable->pyecharts) (3.8.0)\n"
     ]
    },
    {
     "name": "stderr",
     "output_type": "stream",
     "text": [
      "WARNING: Ignoring invalid distribution -yqt6 (d:\\anaconda3_2022.05\\envs\\pytorch\\lib\\site-packages)\n",
      "WARNING: Ignoring invalid distribution -yqt6 (d:\\anaconda3_2022.05\\envs\\pytorch\\lib\\site-packages)\n",
      "WARNING: Ignoring invalid distribution -yqt6 (d:\\anaconda3_2022.05\\envs\\pytorch\\lib\\site-packages)\n",
      "WARNING: Ignoring invalid distribution -yqt6 (d:\\anaconda3_2022.05\\envs\\pytorch\\lib\\site-packages)\n",
      "WARNING: Ignoring invalid distribution -yqt6 (d:\\anaconda3_2022.05\\envs\\pytorch\\lib\\site-packages)\n",
      "WARNING: Ignoring invalid distribution -yqt6 (d:\\anaconda3_2022.05\\envs\\pytorch\\lib\\site-packages)\n"
     ]
    }
   ],
   "source": [
    "!pip install pyecharts"
   ],
   "metadata": {
    "collapsed": false,
    "pycharm": {
     "name": "#%%\n"
    }
   }
  },
  {
   "cell_type": "code",
   "execution_count": 91,
   "outputs": [],
   "source": [
    "from pyecharts.charts import Tree\n",
    "# Tree.add(decision_tree_create(train_data, one_hot_features, target, 'gini', max_depth = 6, ))"
   ],
   "metadata": {
    "collapsed": false,
    "pycharm": {
     "name": "#%%\n"
    }
   }
  },
  {
   "cell_type": "code",
   "execution_count": 113,
   "outputs": [
    {
     "data": {
      "text/plain": "'D:\\\\BJTU\\\\subject\\\\Junior First\\\\Machine Learning\\\\experience\\\\test3_1027\\\\render.html'"
     },
     "execution_count": 113,
     "metadata": {},
     "output_type": "execute_result"
    }
   ],
   "source": [
    "def generate_echarts_data(tree):\n",
    "\n",
    "    # 当前顶点的dict\n",
    "    value = dict()\n",
    "\n",
    "    # 如果传入的tree已经是叶子结点了\n",
    "    if tree['is_leaf'] == True:\n",
    "\n",
    "        # 它的value就设置为预测的标记\n",
    "        value['value'] = tree['prediction']\n",
    "\n",
    "        # 它的名字就叫\"label: 标记\"\n",
    "        value['name'] = 'label: %s'%(tree['prediction'])\n",
    "\n",
    "        # 直接返回这个dict即可\n",
    "        return value\n",
    "\n",
    "    # 如果传入的tree不是叶子结点，名字就叫当前这个顶点的划分特征，子树是一个list\n",
    "    # 分别增加左子树和右子树到children中\n",
    "    value['name'] = tree['splitting_feature']\n",
    "    value['children'] = [generate_echarts_data(tree['left']), generate_echarts_data(tree['right'])]\n",
    "    return value\n",
    "\n",
    "\n",
    "data1 = generate_echarts_data(my_decision_tree)\n",
    "\n",
    "tree = Tree()\n",
    "tree.add(\"\",\n",
    "         [data1],\n",
    "         # tree_collapse_interval=5,\n",
    "         pos_top=\"15%\",\n",
    "         pos_right=\"20%\",\n",
    "         symbol = 'rect',\n",
    "         symbol_size = 20,\n",
    "         )\n",
    "tree.render()\n"
   ],
   "metadata": {
    "collapsed": false,
    "pycharm": {
     "name": "#%%\n"
    }
   }
  },
  {
   "cell_type": "markdown",
   "source": [],
   "metadata": {
    "collapsed": false,
    "pycharm": {
     "name": "#%% md\n"
    }
   }
  },
  {
   "cell_type": "markdown",
   "source": [
    "决策树照片（生成的是html文件）故直接显示图片\n",
    "![图片alt](./决策树可视化.png \"图片title\")"
   ],
   "metadata": {
    "collapsed": false,
    "pycharm": {
     "name": "#%% md\n"
    }
   }
  },
  {
   "cell_type": "markdown",
   "id": "795ffd8f",
   "metadata": {
    "pycharm": {
     "name": "#%% md\n"
    }
   },
   "source": [
    "## 集成学习"
   ]
  },
  {
   "cell_type": "markdown",
   "id": "7161cd45",
   "metadata": {
    "pycharm": {
     "name": "#%% md\n"
    }
   },
   "source": [
    "### 随机森林的应用——Advertising广告预测\n",
    "1. 使用随机森林进行广告预测\n",
    "2. 尝试不同的超参数设置下进行实验，记录结果\n",
    "3. 对不同参数对结果的影响进行简要分析"
   ]
  },
  {
   "cell_type": "code",
   "execution_count": 2,
   "id": "ff68df1e",
   "metadata": {
    "pycharm": {
     "name": "#%%\n"
    }
   },
   "outputs": [
    {
     "name": "stdout",
     "output_type": "stream",
     "text": [
      "<class 'pandas.core.frame.DataFrame'>\n",
      "RangeIndex: 200 entries, 0 to 199\n",
      "Data columns (total 4 columns):\n",
      " #   Column     Non-Null Count  Dtype  \n",
      "---  ------     --------------  -----  \n",
      " 0   TV         200 non-null    float64\n",
      " 1   Radio      200 non-null    float64\n",
      " 2   Newspaper  200 non-null    float64\n",
      " 3   Sales      200 non-null    float64\n",
      "dtypes: float64(4)\n",
      "memory usage: 6.4 KB\n"
     ]
    }
   ],
   "source": [
    "import numpy as np\n",
    "import pandas as pd\n",
    "\n",
    "# 使用pandas读取csv数据\n",
    "data = pd.read_csv('../data/advertising/advertising.csv')\n",
    "# 打印前5行\n",
    "data.info()"
   ]
  },
  {
   "cell_type": "code",
   "execution_count": 3,
   "id": "d111db20",
   "metadata": {
    "pycharm": {
     "name": "#%%\n"
    }
   },
   "outputs": [
    {
     "data": {
      "text/plain": "(200, 4)"
     },
     "execution_count": 3,
     "metadata": {},
     "output_type": "execute_result"
    }
   ],
   "source": [
    "features = ['TV', 'Radio', 'Newspaper']\n",
    "target = 'Sales'\n",
    "data = data[features + [target]]\n",
    "data.shape"
   ]
  },
  {
   "cell_type": "code",
   "execution_count": 4,
   "id": "7f02d516",
   "metadata": {
    "pycharm": {
     "name": "#%%\n"
    }
   },
   "outputs": [],
   "source": [
    "from sklearn.model_selection import train_test_split\n",
    "# 随机划分70%作为训练集，30%作为测试集\n",
    "trainX, testX, trainY, testY = train_test_split(data.values[:,:-1], data.values[:,-1], test_size = 0.3, random_state = 32)"
   ]
  },
  {
   "cell_type": "code",
   "execution_count": 5,
   "id": "bf94af8b",
   "metadata": {
    "pycharm": {
     "name": "#%%\n"
    }
   },
   "outputs": [],
   "source": [
    "from sklearn.ensemble import RandomForestRegressor"
   ]
  },
  {
   "cell_type": "code",
   "execution_count": 6,
   "id": "ce5157a4",
   "metadata": {
    "pycharm": {
     "name": "#%%\n"
    }
   },
   "outputs": [
    {
     "data": {
      "text/plain": "RandomForestRegressor()"
     },
     "execution_count": 6,
     "metadata": {},
     "output_type": "execute_result"
    }
   ],
   "source": [
    "# 模型训练\n",
    "# YOUR CODE HERE\n",
    "model_random_forest = RandomForestRegressor()\n",
    "model_random_forest.fit(trainX, trainY)"
   ]
  },
  {
   "cell_type": "code",
   "execution_count": 7,
   "id": "1e7232b5",
   "metadata": {
    "pycharm": {
     "name": "#%%\n"
    }
   },
   "outputs": [
    {
     "name": "stdout",
     "output_type": "stream",
     "text": [
      "mae 1.1803333333333323\n",
      "mse 2.366406699999997\n"
     ]
    }
   ],
   "source": [
    "# 评价指标的计算\n",
    "from sklearn.metrics import mean_absolute_error\n",
    "from sklearn.metrics import mean_squared_error\n",
    "# YOUR CODE HERE\n",
    "y_hat = model_random_forest.predict(testX)\n",
    "print(\"mae\", mean_absolute_error(testY, y_hat))\n",
    "print('mse', mean_squared_error(testY, y_hat))"
   ]
  },
  {
   "cell_type": "code",
   "execution_count": 14,
   "outputs": [],
   "source": [
    "import matplotlib.pyplot as plt"
   ],
   "metadata": {
    "collapsed": false,
    "pycharm": {
     "name": "#%%\n"
    }
   }
  },
  {
   "cell_type": "markdown",
   "source": [
    "用图可以嘛 求求"
   ],
   "metadata": {
    "collapsed": false,
    "pycharm": {
     "name": "#%% md\n"
    }
   }
  },
  {
   "cell_type": "code",
   "execution_count": 21,
   "id": "96f62d70",
   "metadata": {
    "pycharm": {
     "name": "#%%\n"
    }
   },
   "outputs": [
    {
     "name": "stdout",
     "output_type": "stream",
     "text": [
      "n_estimators 1\n",
      "mae 1.5333333333333328\n",
      "mse 3.9249999999999976\n",
      "n_estimators 2\n",
      "mae 1.5049999999999997\n",
      "mse 4.133916666666665\n",
      "n_estimators 3\n",
      "mae 1.336111111111111\n",
      "mse 2.916574074074074\n",
      "n_estimators 4\n",
      "mae 1.2924999999999998\n",
      "mse 2.823416666666666\n",
      "n_estimators 5\n",
      "mae 1.274333333333334\n",
      "mse 2.7436866666666666\n",
      "n_estimators 6\n",
      "mae 1.2452777777777775\n",
      "mse 2.682375\n",
      "n_estimators 7\n",
      "mae 1.333809523809524\n",
      "mse 2.858557823129252\n",
      "n_estimators 8\n",
      "mae 1.162291666666667\n",
      "mse 2.3693984374999997\n",
      "n_estimators 9\n",
      "mae 1.2885185185185188\n",
      "mse 2.9730864197530873\n",
      "n_estimators 10\n",
      "mae 1.2676666666666667\n",
      "mse 2.70865\n",
      "n_estimators 11\n",
      "mae 1.1983333333333333\n",
      "mse 2.413954545454545\n",
      "n_estimators 12\n",
      "mae 1.1176388888888886\n",
      "mse 2.2652465277777765\n",
      "n_estimators 13\n",
      "mae 1.2353846153846157\n",
      "mse 2.6436390532544367\n",
      "n_estimators 14\n",
      "mae 1.256547619047619\n",
      "mse 2.65278656462585\n",
      "n_estimators 15\n",
      "mae 1.1871111111111115\n",
      "mse 2.475583703703703\n",
      "n_estimators 16\n",
      "mae 1.1956250000000002\n",
      "mse 2.4502838541666674\n",
      "n_estimators 17\n",
      "mae 1.234509803921568\n",
      "mse 2.6223806228373685\n",
      "n_estimators 18\n",
      "mae 1.235833333333334\n",
      "mse 2.4288729423868323\n",
      "n_estimators 19\n",
      "mae 1.2341228070175438\n",
      "mse 2.5215350877192977\n"
     ]
    },
    {
     "data": {
      "text/plain": "Text(0.5, 1.0, 'n_estimator')"
     },
     "execution_count": 21,
     "metadata": {},
     "output_type": "execute_result"
    },
    {
     "data": {
      "text/plain": "<Figure size 432x288 with 1 Axes>",
      "image/png": "[encoded data removed]"
     },
     "metadata": {
      "needs_background": "light"
     },
     "output_type": "display_data"
    }
   ],
   "source": [
    "#尝试不同的超参数设置下的实验\n",
    "# 大家自行查阅随机森林的参数，选取至少四种超参数的组会，绘制表格\n",
    "mae_ls = []\n",
    "mse_ls = []\n",
    "\n",
    "for i in range(1, 20):\n",
    "    model_random_forest1 = RandomForestRegressor(n_estimators=i)\n",
    "    model_random_forest1.fit(trainX, trainY)\n",
    "    y_hat = model_random_forest1.predict(testX)\n",
    "    print(\"n_estimators\", i)\n",
    "    mae = mean_absolute_error(testY, y_hat)\n",
    "    mse = mean_squared_error(testY, y_hat)\n",
    "    print(\"mae\", mae)\n",
    "    print('mse', mse)\n",
    "    mae_ls.append(mae)\n",
    "    mse_ls.append(mse)\n",
    "x_lim = np.array([i for i in range(1, 20, 1)])\n",
    "plt.plot(x_lim, mae_ls, label='mae')\n",
    "plt.plot(x_lim, mse_ls, label='mse')\n",
    "plt.legend()\n",
    "plt.title('n_estimator')"
   ]
  },
  {
   "cell_type": "code",
   "execution_count": 23,
   "outputs": [
    {
     "name": "stdout",
     "output_type": "stream",
     "text": [
      "max_depth 1\n",
      "mae 2.102663036671492\n",
      "mse 7.42755267069207\n",
      "max_depth 2\n",
      "mae 1.8845074685873462\n",
      "mse 5.016148355919985\n",
      "max_depth 3\n",
      "mae 1.5311900273709045\n",
      "mse 3.5276092632537037\n",
      "max_depth 4\n",
      "mae 1.293517696031215\n",
      "mse 2.760867275864113\n",
      "max_depth 5\n",
      "mae 1.277568283617597\n",
      "mse 2.6528367962161905\n",
      "max_depth 6\n",
      "mae 1.2342490756062139\n",
      "mse 2.5447696698030744\n",
      "max_depth 7\n",
      "mae 1.2173585333824657\n",
      "mse 2.457630321090326\n",
      "max_depth 8\n",
      "mae 1.214036991411367\n",
      "mse 2.519900990684449\n",
      "max_depth 9\n",
      "mae 1.1872618181818184\n",
      "mse 2.4085449197212143\n",
      "max_depth 10\n",
      "mae 1.2098330291005284\n",
      "mse 2.506070175443258\n",
      "max_depth 11\n",
      "mae 1.2148752777777763\n",
      "mse 2.4558524427685153\n",
      "max_depth 12\n",
      "mae 1.175373333333333\n",
      "mse 2.343203763592588\n",
      "max_depth 13\n",
      "mae 1.2373374999999998\n",
      "mse 2.596449301041665\n",
      "max_depth 14\n",
      "mae 1.2042833333333334\n",
      "mse 2.4306074166666667\n",
      "max_depth 15\n",
      "mae 1.2115999999999993\n",
      "mse 2.4773050333333324\n",
      "max_depth 16\n",
      "mae 1.2091166666666675\n",
      "mse 2.413547316666668\n",
      "max_depth 17\n",
      "mae 1.2342666666666673\n",
      "mse 2.5226214666666658\n",
      "max_depth 18\n",
      "mae 1.2024499999999998\n",
      "mse 2.4301761166666664\n",
      "max_depth 19\n",
      "mae 1.2093666666666665\n",
      "mse 2.415026433333333\n"
     ]
    },
    {
     "data": {
      "text/plain": "Text(0.5, 1.0, 'max_depth')"
     },
     "execution_count": 23,
     "metadata": {},
     "output_type": "execute_result"
    },
    {
     "data": {
      "text/plain": "<Figure size 432x288 with 1 Axes>",
      "image/png": "[encoded data removed]"
     },
     "metadata": {
      "needs_background": "light"
     },
     "output_type": "display_data"
    }
   ],
   "source": [
    "mae_ls = []\n",
    "mse_ls = []\n",
    "\n",
    "for i in range(1, 20):\n",
    "    model_random_forest2 = RandomForestRegressor(max_depth=i)\n",
    "    model_random_forest2.fit(trainX, trainY)\n",
    "    y_hat = model_random_forest2.predict(testX)\n",
    "    print(\"max_depth\", i)\n",
    "    mae = mean_absolute_error(testY, y_hat)\n",
    "    mse = mean_squared_error(testY, y_hat)\n",
    "    print(\"mae\", mae)\n",
    "    print('mse', mse)\n",
    "    mae_ls.append(mae)\n",
    "    mse_ls.append(mse)\n",
    "x_lim = [i for i in range(1, 20)]\n",
    "plt.plot(x_lim, mae_ls, label='mae')\n",
    "plt.plot(x_lim, mse_ls, label='mse')\n",
    "plt.legend()\n",
    "plt.title('max_depth')"
   ],
   "metadata": {
    "collapsed": false,
    "pycharm": {
     "name": "#%%\n"
    }
   }
  },
  {
   "cell_type": "code",
   "execution_count": 29,
   "outputs": [
    {
     "name": "stdout",
     "output_type": "stream",
     "text": [
      "criterion squared_error\n",
      "mae 1.1851500000000004\n",
      "mse 2.4192117500000014\n",
      "criterion absolute_error\n",
      "mae 1.1900666666666668\n",
      "mse 2.4454144999999983\n",
      "criterion poisson\n",
      "mae 1.4636166666666672\n",
      "mse 3.590386350000001\n"
     ]
    },
    {
     "data": {
      "text/plain": "Text(0.5, 1.0, 'criterions')"
     },
     "execution_count": 29,
     "metadata": {},
     "output_type": "execute_result"
    },
    {
     "data": {
      "text/plain": "<Figure size 432x288 with 1 Axes>",
      "image/png": "[encoded data removed]"
     },
     "metadata": {
      "needs_background": "light"
     },
     "output_type": "display_data"
    }
   ],
   "source": [
    "mae_ls = []\n",
    "mse_ls = []\n",
    "\n",
    "criterions = ['squared_error','absolute_error', 'poisson']\n",
    "for i in criterions:\n",
    "    model_random_forest3 = RandomForestRegressor(criterion=i)\n",
    "    model_random_forest3.fit(trainX, trainY)\n",
    "    y_hat = model_random_forest3.predict(testX)\n",
    "    print(\"criterion\", i)\n",
    "    mae = mean_absolute_error(testY, y_hat)\n",
    "    mse = mean_squared_error(testY, y_hat)\n",
    "    print(\"mae\", mae)\n",
    "    print('mse', mse)\n",
    "    mae_ls.append(mae)\n",
    "    mse_ls.append(mse)\n",
    "# x_lim = [i for i in range(1, 4)]\n",
    "\n",
    "plt.plot(criterions, mae_ls, label='mae')\n",
    "plt.plot(criterions, mse_ls, label='mse')\n",
    "plt.legend()\n",
    "plt.title('criterions')"
   ],
   "metadata": {
    "collapsed": false,
    "pycharm": {
     "name": "#%%\n"
    }
   }
  },
  {
   "cell_type": "code",
   "execution_count": null,
   "outputs": [],
   "source": [
    "mae_ls = []\n",
    "mse_ls = []\n",
    "\n",
    "criterions = ['squared_error','absolute_error', 'poisson']\n",
    "for i in criterions:\n",
    "    model_random_forest3 = RandomForestRegressor(criterion=i)\n",
    "    model_random_forest3.fit(trainX, trainY)\n",
    "    y_hat = model_random_forest3.predict(testX)\n",
    "    print(\"criterion\", i)\n",
    "    mae = mean_absolute_error(testY, y_hat)\n",
    "    mse = mean_squared_error(testY, y_hat)\n",
    "    print(\"mae\", mae)\n",
    "    print('mse', mse)\n",
    "    mae_ls.append(mae)\n",
    "    mse_ls.append(mse)\n",
    "# x_lim = [i for i in range(1, 4)]\n",
    "\n",
    "plt.plot(criterions, mae_ls, label='mae')\n",
    "plt.plot(criterions, mse_ls, label='mse')\n",
    "plt.legend()\n",
    "plt.title('criterions')"
   ],
   "metadata": {
    "collapsed": false,
    "pycharm": {
     "name": "#%%\n"
    }
   }
  },
  {
   "cell_type": "code",
   "execution_count": 34,
   "outputs": [
    {
     "name": "stdout",
     "output_type": "stream",
     "text": [
      "max_feature sqrt\n",
      "mae 1.521850000000001\n",
      "mse 3.8897493833333314\n",
      "max_feature log2\n",
      "mae 1.4287000000000003\n",
      "mse 3.678530566666664\n"
     ]
    },
    {
     "data": {
      "text/plain": "Text(0.5, 1.0, 'max_features')"
     },
     "execution_count": 34,
     "metadata": {},
     "output_type": "execute_result"
    },
    {
     "data": {
      "text/plain": "<Figure size 432x288 with 1 Axes>",
      "image/png": "[encoded data removed]"
     },
     "metadata": {
      "needs_background": "light"
     },
     "output_type": "display_data"
    }
   ],
   "source": [
    "mae_ls = []\n",
    "mse_ls = []\n",
    "\n",
    "max_features =['sqrt', 'log2']\n",
    "for i in max_features:\n",
    "    model_random_forest4 = RandomForestRegressor(max_features=i)\n",
    "    model_random_forest4.fit(trainX, trainY)\n",
    "    y_hat = model_random_forest4.predict(testX)\n",
    "    print(\"max_feature\", i)\n",
    "    mae = mean_absolute_error(testY, y_hat)\n",
    "    mse = mean_squared_error(testY, y_hat)\n",
    "    print(\"mae\", mae)\n",
    "    print('mse', mse)\n",
    "    mae_ls.append(mae)\n",
    "    mse_ls.append(mse)\n",
    "# x_lim = [i for i in range(1, 4)]\n",
    "\n",
    "plt.plot(max_features, mae_ls, label='mae')\n",
    "plt.plot(max_features, mse_ls, label='mse')\n",
    "plt.legend()\n",
    "plt.title('max_features')"
   ],
   "metadata": {
    "collapsed": false,
    "pycharm": {
     "name": "#%%\n"
    }
   }
  },
  {
   "cell_type": "markdown",
   "id": "2cae485c",
   "metadata": {
    "pycharm": {
     "name": "#%% md\n"
    }
   },
   "source": [
    "### 自行实现AdaBoost并完成肿瘤分类\n",
    "实验内容\n",
    "1. 加载sklearn中的肿瘤归类数据集\n",
    "2. 自行选择基学习器（可以使用Scikit-learn现成的分类器）自己实现，使用不同的基学习器实现2种以上的AdaBoost\n",
    "3. 运用Accuracy, Precision, Recall, F1四个指标进行对比评测，随机选择70%作为训练集，30%作为测试集，把结果绘制成表格\n",
    "4. 与Scikit-learn 的AdaBoostClassifier得到的结果进行对比"
   ]
  },
  {
   "cell_type": "code",
   "execution_count": 35,
   "id": "9ea0d039",
   "metadata": {
    "pycharm": {
     "name": "#%%\n"
    }
   },
   "outputs": [
    {
     "data": {
      "text/plain": "(569, 30)"
     },
     "execution_count": 35,
     "metadata": {},
     "output_type": "execute_result"
    }
   ],
   "source": [
    "import sklearn\n",
    "import numpy as np\n",
    "from sklearn.model_selection import train_test_split\n",
    "import matplotlib.pyplot as plt\n",
    "from sklearn.metrics import f1_score\n",
    "from sklearn.metrics import precision_score\n",
    "from sklearn.metrics import recall_score\n",
    "from sklearn.metrics import accuracy_score\n",
    "from sklearn.datasets import load_breast_cancer\n",
    "#导入数据\n",
    "feat,label = load_breast_cancer(return_X_y=True)\n",
    "feat.shape"
   ]
  },
  {
   "cell_type": "code",
   "execution_count": 38,
   "id": "a178e16b",
   "metadata": {
    "pycharm": {
     "name": "#%%\n"
    }
   },
   "outputs": [],
   "source": [
    "# 划分数据集：70%训练集，30%测试集 （随机种子固定为32）\n",
    "# YOUR CODE HERE\n",
    "x_train, x_test, y_train, y_test = train_test_split(feat, label, train_size=0.7)"
   ]
  },
  {
   "cell_type": "markdown",
   "id": "d23500ed",
   "metadata": {
    "pycharm": {
     "name": "#%% md\n"
    }
   },
   "source": [
    "#### 自行实现AdaBoost"
   ]
  },
  {
   "cell_type": "code",
   "execution_count": 76,
   "id": "9a08fd19",
   "metadata": {
    "pycharm": {
     "name": "#%%\n"
    }
   },
   "outputs": [],
   "source": [
    "import copy\n",
    "class MyAdaBoostClassifier:\n",
    "    def __init__(self, base_estimator, n_estimators=50, learning_rate=1.0, n_classes=2):\n",
    "        '''\n",
    "        base_estimator: 基分类器\n",
    "        n_estimators： \n",
    "        learning_rate： 学习率\n",
    "        n_classes：分类类数\n",
    "        '''\n",
    "        self.base_estimator = base_estimator\n",
    "        self.n_estimators = n_estimators \n",
    "        self.lr = learning_rate\n",
    "        self.R = n_classes\n",
    "        self.estimators = []\n",
    "        self.alphas = []  # model_weight\n",
    "        for m in range(n_estimators):\n",
    "            self.estimators.append(copy.deepcopy(base_estimator))\n",
    "\n",
    "    def fit(self, X, y):\n",
    "        sample_weight = np.array([1/len(X) for i in range(len(X))])\n",
    "        # print(sample_weight)\n",
    "        #\n",
    "        # YOUR CODE HERE  # 初始化样本权重为 1/N\n",
    "        for i in range(self.n_estimators):\n",
    "            model = self.estimators[i]\n",
    "            # YOUR CODE HERE  # 训练弱学习器\n",
    "            model.fit(X, y)\n",
    "            y_pred = model.predict(X)\n",
    "\n",
    "            error = np.sum(sample_weight* (y_pred != y))  \n",
    "            alpha = self.lr * (np.log((1-error)/error) + np.log(self.R-1))  # 权重系数\n",
    "            sample_weight *= np.exp(alpha*(y_pred!=y))  # 更新迭代样本权重\n",
    "            sample_weight /= np.sum(sample_weight)  # 样本权重归一化\n",
    "            self.alphas.append(alpha)\n",
    "        return self\n",
    "   \n",
    "    def predict(self, X):  # 假定类别映射成 0,1,...\n",
    "        y_pred = [] \n",
    "        for i in range(self.n_estimators):\n",
    "            y_pred.append(self.estimators[i].predict_proba(X) )\n",
    "        # 将预测类别概率与训练权重乘积作为集成预测类别概率    \n",
    "        y_pred = np.average(np.asarray(y_pred), weights=np.array(self.alphas), axis=0 ) \n",
    "        y_pred = y_pred/np.array(self.alphas).sum()\n",
    "        y_pred = np.argmax(y_pred, axis=1)\n",
    "        return y_pred\n"
   ]
  },
  {
   "cell_type": "code",
   "execution_count": 47,
   "outputs": [],
   "source": [
    "from sklearn.metrics import accuracy_score\n",
    "from sklearn.metrics import precision_score\n",
    "from sklearn.metrics import recall_score\n",
    "from sklearn.metrics import f1_score"
   ],
   "metadata": {
    "collapsed": false,
    "pycharm": {
     "name": "#%%\n"
    }
   }
  },
  {
   "cell_type": "code",
   "execution_count": 50,
   "id": "dedd8c58",
   "metadata": {
    "pycharm": {
     "name": "#%%\n"
    }
   },
   "outputs": [
    {
     "name": "stdout",
     "output_type": "stream",
     "text": [
      "acc 0.9415204678362573\n",
      "precision_score 0.9642857142857143\n",
      "f1 0.9557522123893805\n",
      "recall 0.9473684210526315\n"
     ]
    }
   ],
   "source": [
    "# 选取基分类器1\n",
    "# YOUR CODE HERE\n",
    "from sklearn.neighbors import KNeighborsClassifier\n",
    "model_adaboost = MyAdaBoostClassifier(base_estimator=KNeighborsClassifier(n_neighbors=5))\n",
    "model_adaboost.fit(x_train, y_train)\n",
    "y_hat = model_adaboost.predict(x_test)\n",
    "print('acc', accuracy_score(y_test, y_hat))\n",
    "print('precision_score', precision_score(y_test, y_hat))\n",
    "print('f1', f1_score(y_test, y_hat))\n",
    "print('recall', recall_score(y_test, y_hat))"
   ]
  },
  {
   "cell_type": "code",
   "execution_count": 51,
   "id": "ebb2fef9",
   "metadata": {
    "pycharm": {
     "name": "#%%\n"
    }
   },
   "outputs": [
    {
     "name": "stdout",
     "output_type": "stream",
     "text": [
      "acc 0.9766081871345029\n",
      "precision_score 0.9910714285714286\n",
      "f1 0.9823008849557523\n",
      "recall 0.9736842105263158\n"
     ]
    }
   ],
   "source": [
    "# 选取基分类器2\n",
    "# YOUR CODE HERE\n",
    "from sklearn.neural_network import MLPClassifier\n",
    "model_adaboost1 = MyAdaBoostClassifier(base_estimator=MLPClassifier(max_iter=500))\n",
    "model_adaboost1.fit(x_train, y_train)\n",
    "y_hat = model_adaboost1.predict(x_test)\n",
    "print('acc', accuracy_score(y_test, y_hat))\n",
    "print('precision_score', precision_score(y_test, y_hat))\n",
    "print('f1', f1_score(y_test, y_hat))\n",
    "print('recall', recall_score(y_test, y_hat))"
   ]
  },
  {
   "cell_type": "markdown",
   "source": [
    "mlp yyds\n"
   ],
   "metadata": {
    "collapsed": false,
    "pycharm": {
     "name": "#%% md\n"
    }
   }
  },
  {
   "cell_type": "code",
   "execution_count": 75,
   "outputs": [
    {
     "name": "stderr",
     "output_type": "stream",
     "text": [
      "D:\\Anaconda3_2022.05\\envs\\pytorch\\lib\\site-packages\\ipykernel_launcher.py:31: RuntimeWarning: divide by zero encountered in double_scalars\n",
      "D:\\Anaconda3_2022.05\\envs\\pytorch\\lib\\site-packages\\ipykernel_launcher.py:32: RuntimeWarning: invalid value encountered in multiply\n"
     ]
    },
    {
     "name": "stdout",
     "output_type": "stream",
     "text": [
      "acc 0.3333333333333333\n",
      "precision_score 0.0\n",
      "f1 0.0\n",
      "recall 0.0\n"
     ]
    },
    {
     "name": "stderr",
     "output_type": "stream",
     "text": [
      "D:\\Anaconda3_2022.05\\envs\\pytorch\\lib\\site-packages\\numpy\\lib\\function_base.py:412: RuntimeWarning: invalid value encountered in multiply\n",
      "  avg = np.multiply(a, wgt, dtype=result_dtype).sum(axis)/scl\n",
      "D:\\Anaconda3_2022.05\\envs\\pytorch\\lib\\site-packages\\sklearn\\metrics\\_classification.py:1318: UndefinedMetricWarning: Precision is ill-defined and being set to 0.0 due to no predicted samples. Use `zero_division` parameter to control this behavior.\n",
      "  _warn_prf(average, modifier, msg_start, len(result))\n"
     ]
    }
   ],
   "source": [
    "# from sklearn.neighbors import KNeighborsClassifier\n",
    "model_adaboost = MyAdaBoostClassifier(DecisionTreeClassifier())\n",
    "model_adaboost.fit(x_train, y_train)\n",
    "y_hat = model_adaboost.predict(x_test)\n",
    "print('acc', accuracy_score(y_test, y_hat))\n",
    "print('precision_score', precision_score(y_test, y_hat))\n",
    "print('f1', f1_score(y_test, y_hat))\n",
    "print('recall', recall_score(y_test, y_hat))"
   ],
   "metadata": {
    "collapsed": false,
    "pycharm": {
     "name": "#%%\n"
    }
   }
  },
  {
   "cell_type": "code",
   "execution_count": 72,
   "outputs": [
    {
     "data": {
      "text/plain": "array([0, 0, 0, 0, 0, 0, 0, 0, 0, 0, 0, 0, 0, 0, 0, 0, 0, 0, 0, 0, 0, 0,\n       0, 0, 0, 0, 0, 0, 0, 0, 0, 0, 0, 0, 0, 0, 0, 0, 0, 0, 0, 0, 0, 0,\n       0, 0, 0, 0, 0, 0, 0, 0, 0, 0, 0, 0, 0, 0, 0, 0, 0, 0, 0, 0, 0, 0,\n       0, 0, 0, 0, 0, 0, 0, 0, 0, 0, 0, 0, 0, 0, 0, 0, 0, 0, 0, 0, 0, 0,\n       0, 0, 0, 0, 0, 0, 0, 0, 0, 0, 0, 0, 0, 0, 0, 0, 0, 0, 0, 0, 0, 0,\n       0, 0, 0, 0, 0, 0, 0, 0, 0, 0, 0, 0, 0, 0, 0, 0, 0, 0, 0, 0, 0, 0,\n       0, 0, 0, 0, 0, 0, 0, 0, 0, 0, 0, 0, 0, 0, 0, 0, 0, 0, 0, 0, 0, 0,\n       0, 0, 0, 0, 0, 0, 0, 0, 0, 0, 0, 0, 0, 0, 0, 0, 0], dtype=int64)"
     },
     "execution_count": 72,
     "metadata": {},
     "output_type": "execute_result"
    }
   ],
   "source": [
    "y_hat"
   ],
   "metadata": {
    "collapsed": false,
    "pycharm": {
     "name": "#%%\n"
    }
   }
  },
  {
   "cell_type": "code",
   "execution_count": 73,
   "outputs": [
    {
     "data": {
      "text/plain": "array([1, 1, 1, 1, 1, 0, 1, 0, 1, 1, 0, 0, 1, 0, 1, 1, 1, 1, 1, 1, 0, 0,\n       1, 1, 1, 1, 0, 1, 1, 1, 0, 1, 0, 1, 0, 1, 1, 1, 1, 0, 1, 1, 1, 0,\n       1, 1, 0, 1, 1, 1, 1, 1, 1, 1, 1, 1, 1, 0, 1, 1, 1, 1, 1, 0, 1, 1,\n       1, 0, 1, 1, 1, 1, 1, 1, 1, 0, 0, 0, 0, 1, 1, 1, 1, 1, 1, 1, 1, 1,\n       1, 1, 0, 0, 1, 1, 0, 0, 0, 1, 0, 0, 1, 0, 0, 1, 1, 1, 0, 1, 0, 0,\n       0, 1, 1, 1, 1, 0, 1, 0, 1, 1, 0, 0, 0, 0, 0, 1, 1, 1, 0, 1, 1, 0,\n       1, 1, 0, 1, 1, 1, 1, 1, 0, 1, 1, 1, 1, 0, 0, 0, 1, 1, 0, 0, 1, 0,\n       1, 1, 1, 0, 0, 1, 1, 1, 0, 1, 1, 1, 1, 0, 0, 1, 0])"
     },
     "execution_count": 73,
     "metadata": {},
     "output_type": "execute_result"
    }
   ],
   "source": [
    "y_test"
   ],
   "metadata": {
    "collapsed": false,
    "pycharm": {
     "name": "#%%\n"
    }
   }
  },
  {
   "cell_type": "markdown",
   "id": "bef29073",
   "metadata": {
    "pycharm": {
     "name": "#%% md\n"
    }
   },
   "source": [
    "#### 评价指标的计算"
   ]
  },
  {
   "cell_type": "code",
   "execution_count": 18,
   "id": "fa2294da",
   "metadata": {
    "pycharm": {
     "name": "#%%\n"
    }
   },
   "outputs": [],
   "source": [
    "from sklearn.metrics import accuracy_score\n",
    "from sklearn.metrics import precision_score\n",
    "from sklearn.metrics import recall_score\n",
    "from sklearn.metrics import f1_score"
   ]
  },
  {
   "cell_type": "markdown",
   "source": [
    "见上"
   ],
   "metadata": {
    "collapsed": false,
    "pycharm": {
     "name": "#%% md\n"
    }
   }
  },
  {
   "cell_type": "markdown",
   "id": "d97993b2",
   "metadata": {
    "pycharm": {
     "name": "#%% md\n"
    }
   },
   "source": [
    "###### 双击此处填写\n",
    "\n",
    "| 基分类器|精度|查准率|查全率|F1 |\n",
    "|:----:|:----:|:----:|:----:|\n",
    "| knn n=5 | 0.94152 | 0.96428 | 0.94736 | 0.95575 |\n",
    "| MLP | 0.97660 | 0.99107 | 0.97368 | 0.98230 |\n"
   ]
  },
  {
   "cell_type": "markdown",
   "id": "1e3a569c",
   "metadata": {
    "pycharm": {
     "name": "#%% md\n"
    }
   },
   "source": [
    "#### 调用sklearn的模型实现AdaBoost"
   ]
  },
  {
   "cell_type": "code",
   "execution_count": 60,
   "id": "d1f1e2bc",
   "metadata": {
    "pycharm": {
     "name": "#%%\n"
    }
   },
   "outputs": [
    {
     "name": "stdout",
     "output_type": "stream",
     "text": [
      "acc 0.9064327485380117\n",
      "precision_score 0.9454545454545454\n",
      "f1 0.9285714285714285\n",
      "recall 0.9122807017543859\n"
     ]
    }
   ],
   "source": [
    "from sklearn.ensemble import AdaBoostClassifier\n",
    "# YOUR CODE HERE\n",
    "model_adaboost3 = AdaBoostClassifier(DecisionTreeClassifier())\n",
    "model_adaboost3.fit(x_train, y_train)\n",
    "y_hat = model_adaboost3.predict(x_test)\n",
    "print('acc', accuracy_score(y_test, y_hat))\n",
    "print('precision_score', precision_score(y_test, y_hat))\n",
    "print('f1', f1_score(y_test, y_hat))\n",
    "print('recall', recall_score(y_test, y_hat))"
   ]
  },
  {
   "cell_type": "code",
   "execution_count": 62,
   "outputs": [
    {
     "ename": "ValueError",
     "evalue": "KNeighborsClassifier doesn't support sample_weight.",
     "output_type": "error",
     "traceback": [
      "\u001B[1;31m---------------------------------------------------------------------------\u001B[0m",
      "\u001B[1;31mValueError\u001B[0m                                Traceback (most recent call last)",
      "\u001B[1;32m~\\AppData\\Local\\Temp\\ipykernel_3404\\1982186691.py\u001B[0m in \u001B[0;36m<module>\u001B[1;34m\u001B[0m\n\u001B[0;32m      2\u001B[0m \u001B[1;31m# YOUR CODE HERE\u001B[0m\u001B[1;33m\u001B[0m\u001B[1;33m\u001B[0m\u001B[1;33m\u001B[0m\u001B[0m\n\u001B[0;32m      3\u001B[0m \u001B[0mmodel_adaboost3\u001B[0m \u001B[1;33m=\u001B[0m \u001B[0mAdaBoostClassifier\u001B[0m\u001B[1;33m(\u001B[0m\u001B[0mKNeighborsClassifier\u001B[0m\u001B[1;33m(\u001B[0m\u001B[1;33m)\u001B[0m\u001B[1;33m)\u001B[0m\u001B[1;33m\u001B[0m\u001B[1;33m\u001B[0m\u001B[0m\n\u001B[1;32m----> 4\u001B[1;33m \u001B[0mmodel_adaboost3\u001B[0m\u001B[1;33m.\u001B[0m\u001B[0mfit\u001B[0m\u001B[1;33m(\u001B[0m\u001B[0mx_train\u001B[0m\u001B[1;33m,\u001B[0m \u001B[0my_train\u001B[0m\u001B[1;33m)\u001B[0m\u001B[1;33m\u001B[0m\u001B[1;33m\u001B[0m\u001B[0m\n\u001B[0m\u001B[0;32m      5\u001B[0m \u001B[0my_hat\u001B[0m \u001B[1;33m=\u001B[0m \u001B[0mmodel_adaboost3\u001B[0m\u001B[1;33m.\u001B[0m\u001B[0mpredict\u001B[0m\u001B[1;33m(\u001B[0m\u001B[0mx_test\u001B[0m\u001B[1;33m)\u001B[0m\u001B[1;33m\u001B[0m\u001B[1;33m\u001B[0m\u001B[0m\n\u001B[0;32m      6\u001B[0m \u001B[0mprint\u001B[0m\u001B[1;33m(\u001B[0m\u001B[1;34m'acc'\u001B[0m\u001B[1;33m,\u001B[0m \u001B[0maccuracy_score\u001B[0m\u001B[1;33m(\u001B[0m\u001B[0my_test\u001B[0m\u001B[1;33m,\u001B[0m \u001B[0my_hat\u001B[0m\u001B[1;33m)\u001B[0m\u001B[1;33m)\u001B[0m\u001B[1;33m\u001B[0m\u001B[1;33m\u001B[0m\u001B[0m\n",
      "\u001B[1;32mD:\\Anaconda3_2022.05\\envs\\pytorch\\lib\\site-packages\\sklearn\\ensemble\\_weight_boosting.py\u001B[0m in \u001B[0;36mfit\u001B[1;34m(self, X, y, sample_weight)\u001B[0m\n\u001B[0;32m    484\u001B[0m \u001B[1;33m\u001B[0m\u001B[0m\n\u001B[0;32m    485\u001B[0m         \u001B[1;31m# Fit\u001B[0m\u001B[1;33m\u001B[0m\u001B[1;33m\u001B[0m\u001B[1;33m\u001B[0m\u001B[0m\n\u001B[1;32m--> 486\u001B[1;33m         \u001B[1;32mreturn\u001B[0m \u001B[0msuper\u001B[0m\u001B[1;33m(\u001B[0m\u001B[1;33m)\u001B[0m\u001B[1;33m.\u001B[0m\u001B[0mfit\u001B[0m\u001B[1;33m(\u001B[0m\u001B[0mX\u001B[0m\u001B[1;33m,\u001B[0m \u001B[0my\u001B[0m\u001B[1;33m,\u001B[0m \u001B[0msample_weight\u001B[0m\u001B[1;33m)\u001B[0m\u001B[1;33m\u001B[0m\u001B[1;33m\u001B[0m\u001B[0m\n\u001B[0m\u001B[0;32m    487\u001B[0m \u001B[1;33m\u001B[0m\u001B[0m\n\u001B[0;32m    488\u001B[0m     \u001B[1;32mdef\u001B[0m \u001B[0m_validate_estimator\u001B[0m\u001B[1;33m(\u001B[0m\u001B[0mself\u001B[0m\u001B[1;33m)\u001B[0m\u001B[1;33m:\u001B[0m\u001B[1;33m\u001B[0m\u001B[1;33m\u001B[0m\u001B[0m\n",
      "\u001B[1;32mD:\\Anaconda3_2022.05\\envs\\pytorch\\lib\\site-packages\\sklearn\\ensemble\\_weight_boosting.py\u001B[0m in \u001B[0;36mfit\u001B[1;34m(self, X, y, sample_weight)\u001B[0m\n\u001B[0;32m    130\u001B[0m \u001B[1;33m\u001B[0m\u001B[0m\n\u001B[0;32m    131\u001B[0m         \u001B[1;31m# Check parameters\u001B[0m\u001B[1;33m\u001B[0m\u001B[1;33m\u001B[0m\u001B[1;33m\u001B[0m\u001B[0m\n\u001B[1;32m--> 132\u001B[1;33m         \u001B[0mself\u001B[0m\u001B[1;33m.\u001B[0m\u001B[0m_validate_estimator\u001B[0m\u001B[1;33m(\u001B[0m\u001B[1;33m)\u001B[0m\u001B[1;33m\u001B[0m\u001B[1;33m\u001B[0m\u001B[0m\n\u001B[0m\u001B[0;32m    133\u001B[0m \u001B[1;33m\u001B[0m\u001B[0m\n\u001B[0;32m    134\u001B[0m         \u001B[1;31m# Clear any previous fit results\u001B[0m\u001B[1;33m\u001B[0m\u001B[1;33m\u001B[0m\u001B[1;33m\u001B[0m\u001B[0m\n",
      "\u001B[1;32mD:\\Anaconda3_2022.05\\envs\\pytorch\\lib\\site-packages\\sklearn\\ensemble\\_weight_boosting.py\u001B[0m in \u001B[0;36m_validate_estimator\u001B[1;34m(self)\u001B[0m\n\u001B[0;32m    503\u001B[0m             raise ValueError(\n\u001B[0;32m    504\u001B[0m                 \u001B[1;34m\"%s doesn't support sample_weight.\"\u001B[0m\u001B[1;33m\u001B[0m\u001B[1;33m\u001B[0m\u001B[0m\n\u001B[1;32m--> 505\u001B[1;33m                 \u001B[1;33m%\u001B[0m \u001B[0mself\u001B[0m\u001B[1;33m.\u001B[0m\u001B[0mbase_estimator_\u001B[0m\u001B[1;33m.\u001B[0m\u001B[0m__class__\u001B[0m\u001B[1;33m.\u001B[0m\u001B[0m__name__\u001B[0m\u001B[1;33m\u001B[0m\u001B[1;33m\u001B[0m\u001B[0m\n\u001B[0m\u001B[0;32m    506\u001B[0m             )\n\u001B[0;32m    507\u001B[0m \u001B[1;33m\u001B[0m\u001B[0m\n",
      "\u001B[1;31mValueError\u001B[0m: KNeighborsClassifier doesn't support sample_weight."
     ]
    }
   ],
   "source": [
    "from sklearn.ensemble import AdaBoostClassifier\n",
    "# YOUR CODE HERE\n",
    "model_adaboost3 = AdaBoostClassifier(KNeighborsClassifier())\n",
    "model_adaboost3.fit(x_train, y_train)\n",
    "y_hat = model_adaboost3.predict(x_test)\n",
    "print('acc', accuracy_score(y_test, y_hat))\n",
    "print('precision_score', precision_score(y_test, y_hat))\n",
    "print('f1', f1_score(y_test, y_hat))\n",
    "print('recall', recall_score(y_test, y_hat))"
   ],
   "metadata": {
    "collapsed": false,
    "pycharm": {
     "name": "#%%\n"
    }
   }
  },
  {
   "cell_type": "code",
   "execution_count": 63,
   "outputs": [
    {
     "ename": "ValueError",
     "evalue": "MLPClassifier doesn't support sample_weight.",
     "output_type": "error",
     "traceback": [
      "\u001B[1;31m---------------------------------------------------------------------------\u001B[0m",
      "\u001B[1;31mValueError\u001B[0m                                Traceback (most recent call last)",
      "\u001B[1;32m~\\AppData\\Local\\Temp\\ipykernel_3404\\3146506508.py\u001B[0m in \u001B[0;36m<module>\u001B[1;34m\u001B[0m\n\u001B[0;32m      2\u001B[0m \u001B[1;31m# YOUR CODE HERE\u001B[0m\u001B[1;33m\u001B[0m\u001B[1;33m\u001B[0m\u001B[1;33m\u001B[0m\u001B[0m\n\u001B[0;32m      3\u001B[0m \u001B[0mmodel_adaboost3\u001B[0m \u001B[1;33m=\u001B[0m \u001B[0mAdaBoostClassifier\u001B[0m\u001B[1;33m(\u001B[0m\u001B[0mMLPClassifier\u001B[0m\u001B[1;33m(\u001B[0m\u001B[1;33m)\u001B[0m\u001B[1;33m)\u001B[0m\u001B[1;33m\u001B[0m\u001B[1;33m\u001B[0m\u001B[0m\n\u001B[1;32m----> 4\u001B[1;33m \u001B[0mmodel_adaboost3\u001B[0m\u001B[1;33m.\u001B[0m\u001B[0mfit\u001B[0m\u001B[1;33m(\u001B[0m\u001B[0mx_train\u001B[0m\u001B[1;33m,\u001B[0m \u001B[0my_train\u001B[0m\u001B[1;33m)\u001B[0m\u001B[1;33m\u001B[0m\u001B[1;33m\u001B[0m\u001B[0m\n\u001B[0m\u001B[0;32m      5\u001B[0m \u001B[0my_hat\u001B[0m \u001B[1;33m=\u001B[0m \u001B[0mmodel_adaboost3\u001B[0m\u001B[1;33m.\u001B[0m\u001B[0mpredict\u001B[0m\u001B[1;33m(\u001B[0m\u001B[0mx_test\u001B[0m\u001B[1;33m)\u001B[0m\u001B[1;33m\u001B[0m\u001B[1;33m\u001B[0m\u001B[0m\n\u001B[0;32m      6\u001B[0m \u001B[0mprint\u001B[0m\u001B[1;33m(\u001B[0m\u001B[1;34m'acc'\u001B[0m\u001B[1;33m,\u001B[0m \u001B[0maccuracy_score\u001B[0m\u001B[1;33m(\u001B[0m\u001B[0my_test\u001B[0m\u001B[1;33m,\u001B[0m \u001B[0my_hat\u001B[0m\u001B[1;33m)\u001B[0m\u001B[1;33m)\u001B[0m\u001B[1;33m\u001B[0m\u001B[1;33m\u001B[0m\u001B[0m\n",
      "\u001B[1;32mD:\\Anaconda3_2022.05\\envs\\pytorch\\lib\\site-packages\\sklearn\\ensemble\\_weight_boosting.py\u001B[0m in \u001B[0;36mfit\u001B[1;34m(self, X, y, sample_weight)\u001B[0m\n\u001B[0;32m    484\u001B[0m \u001B[1;33m\u001B[0m\u001B[0m\n\u001B[0;32m    485\u001B[0m         \u001B[1;31m# Fit\u001B[0m\u001B[1;33m\u001B[0m\u001B[1;33m\u001B[0m\u001B[1;33m\u001B[0m\u001B[0m\n\u001B[1;32m--> 486\u001B[1;33m         \u001B[1;32mreturn\u001B[0m \u001B[0msuper\u001B[0m\u001B[1;33m(\u001B[0m\u001B[1;33m)\u001B[0m\u001B[1;33m.\u001B[0m\u001B[0mfit\u001B[0m\u001B[1;33m(\u001B[0m\u001B[0mX\u001B[0m\u001B[1;33m,\u001B[0m \u001B[0my\u001B[0m\u001B[1;33m,\u001B[0m \u001B[0msample_weight\u001B[0m\u001B[1;33m)\u001B[0m\u001B[1;33m\u001B[0m\u001B[1;33m\u001B[0m\u001B[0m\n\u001B[0m\u001B[0;32m    487\u001B[0m \u001B[1;33m\u001B[0m\u001B[0m\n\u001B[0;32m    488\u001B[0m     \u001B[1;32mdef\u001B[0m \u001B[0m_validate_estimator\u001B[0m\u001B[1;33m(\u001B[0m\u001B[0mself\u001B[0m\u001B[1;33m)\u001B[0m\u001B[1;33m:\u001B[0m\u001B[1;33m\u001B[0m\u001B[1;33m\u001B[0m\u001B[0m\n",
      "\u001B[1;32mD:\\Anaconda3_2022.05\\envs\\pytorch\\lib\\site-packages\\sklearn\\ensemble\\_weight_boosting.py\u001B[0m in \u001B[0;36mfit\u001B[1;34m(self, X, y, sample_weight)\u001B[0m\n\u001B[0;32m    130\u001B[0m \u001B[1;33m\u001B[0m\u001B[0m\n\u001B[0;32m    131\u001B[0m         \u001B[1;31m# Check parameters\u001B[0m\u001B[1;33m\u001B[0m\u001B[1;33m\u001B[0m\u001B[1;33m\u001B[0m\u001B[0m\n\u001B[1;32m--> 132\u001B[1;33m         \u001B[0mself\u001B[0m\u001B[1;33m.\u001B[0m\u001B[0m_validate_estimator\u001B[0m\u001B[1;33m(\u001B[0m\u001B[1;33m)\u001B[0m\u001B[1;33m\u001B[0m\u001B[1;33m\u001B[0m\u001B[0m\n\u001B[0m\u001B[0;32m    133\u001B[0m \u001B[1;33m\u001B[0m\u001B[0m\n\u001B[0;32m    134\u001B[0m         \u001B[1;31m# Clear any previous fit results\u001B[0m\u001B[1;33m\u001B[0m\u001B[1;33m\u001B[0m\u001B[1;33m\u001B[0m\u001B[0m\n",
      "\u001B[1;32mD:\\Anaconda3_2022.05\\envs\\pytorch\\lib\\site-packages\\sklearn\\ensemble\\_weight_boosting.py\u001B[0m in \u001B[0;36m_validate_estimator\u001B[1;34m(self)\u001B[0m\n\u001B[0;32m    503\u001B[0m             raise ValueError(\n\u001B[0;32m    504\u001B[0m                 \u001B[1;34m\"%s doesn't support sample_weight.\"\u001B[0m\u001B[1;33m\u001B[0m\u001B[1;33m\u001B[0m\u001B[0m\n\u001B[1;32m--> 505\u001B[1;33m                 \u001B[1;33m%\u001B[0m \u001B[0mself\u001B[0m\u001B[1;33m.\u001B[0m\u001B[0mbase_estimator_\u001B[0m\u001B[1;33m.\u001B[0m\u001B[0m__class__\u001B[0m\u001B[1;33m.\u001B[0m\u001B[0m__name__\u001B[0m\u001B[1;33m\u001B[0m\u001B[1;33m\u001B[0m\u001B[0m\n\u001B[0m\u001B[0;32m    506\u001B[0m             )\n\u001B[0;32m    507\u001B[0m \u001B[1;33m\u001B[0m\u001B[0m\n",
      "\u001B[1;31mValueError\u001B[0m: MLPClassifier doesn't support sample_weight."
     ]
    }
   ],
   "source": [
    "from sklearn.ensemble import AdaBoostClassifier\n",
    "# YOUR CODE HERE\n",
    "model_adaboost3 = AdaBoostClassifier(MLPClassifier())\n",
    "model_adaboost3.fit(x_train, y_train)\n",
    "y_hat = model_adaboost3.predict(x_test)\n",
    "print('acc', accuracy_score(y_test, y_hat))\n",
    "print('precision_score', precision_score(y_test, y_hat))\n",
    "print('f1', f1_score(y_test, y_hat))\n",
    "print('recall', recall_score(y_test, y_hat))"
   ],
   "metadata": {
    "collapsed": false,
    "pycharm": {
     "name": "#%%\n"
    }
   }
  },
  {
   "cell_type": "markdown",
   "id": "45f77fc5",
   "metadata": {
    "pycharm": {
     "name": "#%% md\n"
    }
   },
   "source": [
    "#### 自行实现与sklearn结果对比\n",
    "1. 分析不同的基学习器的AdaBoost的表现差异和原因:\n",
    "2. 分析自行实现与sklearn计算结果的差异"
   ]
  },
  {
   "cell_type": "markdown",
   "source": [
    "总体来说，不同基学习器模型的Adaboost表现是有差异的。其中MLP和kNN表现比决策树要好，这可能是和模型复杂度有关。MLP的参数比较多，效果会好一些。\n",
    "\n",
    "sklearn的AdaBoost base estimator需要支持 sample_weight。这样，一开始选择的KNN和MLP就不能比较了，只能选择默认的决策树模\n",
    "型进行比较。\n",
    "其中，自行实现的初始化权重是1/N,这可能对模型造成一定的影响。同时，我们选取了KNN和MLP两个基分类器，他们的表现就很好，这说明我们自行实现的Adaboost代码是没有问题的。但是，KNN和MLP在sklearn实现的adaboost中没有办法使用，是因为他们没有实现sample weight 这样也说明了自己实现adaboost的灵活性。\n",
    "\n"
   ],
   "metadata": {
    "collapsed": false,
    "pycharm": {
     "name": "#%% md\n"
    }
   }
  }
 ],
 "metadata": {
  "kernelspec": {
   "display_name": "Python 3 (ipykernel)",
   "language": "python",
   "name": "python3"
  },
  "language_info": {
   "codemirror_mode": {
    "name": "ipython",
    "version": 3
   },
   "file_extension": ".py",
   "mimetype": "text/x-python",
   "name": "python",
   "nbconvert_exporter": "python",
   "pygments_lexer": "ipython3",
   "version": "3.8.10"
  },
  "toc": {
   "base_numbering": 1,
   "nav_menu": {},
   "number_sections": true,
   "sideBar": true,
   "skip_h1_title": false,
   "title_cell": "Table of Contents",
   "title_sidebar": "Contents",
   "toc_cell": false,
   "toc_position": {
    "height": "calc(100% - 180px)",
    "left": "10px",
    "top": "150px",
    "width": "243.188px"
   },
   "toc_section_display": true,
   "toc_window_display": true
  }
 },
 "nbformat": 4,
 "nbformat_minor": 5
}