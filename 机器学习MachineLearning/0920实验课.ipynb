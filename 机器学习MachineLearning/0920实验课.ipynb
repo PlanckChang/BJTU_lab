{
 "cells": [
  {
   "cell_type": "markdown",
   "id": "14caba53",
   "metadata": {
    "pycharm": {
     "name": "#%% md\n"
    }
   },
   "source": [
    "## 第三章 线性模型"
   ]
  },
  {
   "cell_type": "markdown",
   "id": "37314011",
   "metadata": {
    "pycharm": {
     "name": "#%% md\n"
    }
   },
   "source": [
    " - 3.1 一元线性回归\n",
    " - 3.2 多元线性回归\n",
    " - 3.3 对数几率回归\n",
    " - 3.4 线性判别分析"
   ]
  },
  {
   "cell_type": "markdown",
   "id": "d65bdfd3",
   "metadata": {
    "pycharm": {
     "name": "#%% md\n"
    }
   },
   "source": [
    "### 一元线性回归——Advertising广告预测"
   ]
  },
  {
   "cell_type": "markdown",
   "id": "11b74b2e",
   "metadata": {
    "pycharm": {
     "name": "#%% md\n"
    }
   },
   "source": [
    "使用advertising-dataset广告预测数据集：\n",
    "1.\t打乱数据顺序，取前70%的数据作为训练集，后30%的数据作为测试集\n",
    "2.\t分别以TV, Radio, Newspaper三种特征作为模型的输入，Sales作为模型的输出\n",
    "3.\t在训练集上，使用最小二乘法求解模型参数（需自己实现，不允许第三方库完成）\n",
    "4.\t计算三个模型在测试集上的MAE和RMSE这两种指标的大小（需自己实现，不允许第三方库完成）\n",
    "5.\t分别绘制模型的在训练集和测试集上的曲线\n",
    "6.\t选做：尝试去除训练集中的异常值或离群值后再次训练模型，绘制模型的预测曲线，观察模型在测试集上预测能力的变化\n"
   ]
  },
  {
   "cell_type": "code",
   "execution_count": 2,
   "id": "0e764808",
   "metadata": {
    "pycharm": {
     "name": "#%%\n"
    }
   },
   "outputs": [],
   "source": [
    "#加载包\n",
    "import numpy as np \n",
    "import pandas as pd\n",
    "import matplotlib.pyplot as plt\n",
    "# 使用pandas读取csv数据\n",
    "data = pd.read_csv('data/advertising/advertising.csv')\n",
    "# 打印前5行\n",
    "\n",
    "\n"
   ]
  },
  {
   "cell_type": "markdown",
   "id": "71adacc5",
   "metadata": {
    "pycharm": {
     "name": "#%% md\n"
    }
   },
   "source": [
    "#### 针对第三步，自行实现最小二乘法"
   ]
  },
  {
   "cell_type": "markdown",
   "id": "85be939f",
   "metadata": {
    "pycharm": {
     "name": "#%% md\n"
    }
   },
   "source": [
    "本实验要求使用最小二乘法求解一元线性回归模型  \n",
    "求解$w$和$b$使均方误差$E_{(w,b)} = \\sum^m_{i=1}(y_i - wx_i - b)^2$最小化的过程，称为线性回归模型的最小二乘“参数估计”(parameter estimation)。我们可将$E_{(w,b)}$分别对$w$和$b$求导，得到\n",
    "$$\\tag{4}\n",
    "\\frac{\\partial E_{(w,b)}}{\\partial w} = 2(w \\sum^m_{i=1} x^2_i - \\sum^m_{i=1} (y_i - b) x_i),\n",
    "$$\n",
    "\n",
    "$$\\tag{5}\n",
    "\\frac{\\partial E_{(w,b)}}{\\partial b} = 2(mb - \\sum^m_{i=1}(y_i - w x_i))\n",
    "$$\n",
    "\n",
    "然后令式(4)和式(5)为0，可得到$w$和$b$的闭式解(closed-form solution)\n",
    "$$\\tag{6}\n",
    "w = \\frac{\\sum^m_{i=1} y_i(x_i - \\bar{x})}{\\sum^m_{i=1}x^2_i - \\frac{1}{m}(\\sum^m_{i=1}x_i)^2}\n",
    "$$\n",
    "\n",
    "$$\\tag{7}\n",
    "b = \\frac{1}{m}\\sum^m_{i=1}(y_i - w x_i)\n",
    "$$\n",
    "其中，$\\bar{x} = \\frac{1}{m}\\sum^m_{i=1}x_i$为$x$的均值"
   ]
  },
  {
   "cell_type": "code",
   "execution_count": 2,
   "outputs": [],
   "source": [],
   "metadata": {
    "collapsed": false,
    "pycharm": {
     "name": "#%%\n"
    }
   }
  },
  {
   "cell_type": "code",
   "execution_count": 3,
   "id": "64c10a34",
   "metadata": {
    "pycharm": {
     "name": "#%%\n"
    }
   },
   "outputs": [],
   "source": [
    "def get_w(x:pd.Series, y:pd.Series):\n",
    "    '''\n",
    "    这个函数是计算模型w的值的函数，\n",
    "    传入的参数分别是x和y，表示数据与标记\n",
    "    Parameter\n",
    "    ----------\n",
    "        x: np.ndarray，pd.Series，传入的特征数据\n",
    "\n",
    "        y: np.ndarray, pd.Series，对应的标记\n",
    "    \n",
    "    Returns\n",
    "    ----------\n",
    "        w: float, 模型w的值\n",
    "    '''\n",
    "\n",
    "    \"\"\"\n",
    "\n",
    "    :param x:\n",
    "    :param y:\n",
    "    :return:\n",
    "    w: float, just for x, a scalar\n",
    "    \"\"\"\n",
    "    w =  (y * (x - x.mean())).sum() / ((x*x).sum()- (x.sum()**2)/len(x))\n",
    "    return pd.Series(w)\n"
   ]
  },
  {
   "cell_type": "code",
   "execution_count": 4,
   "id": "cafd262f",
   "metadata": {
    "pycharm": {
     "name": "#%%\n"
    }
   },
   "outputs": [],
   "source": [
    "def get_b(x: pd.Series, y:pd.Series, w:pd.Series):\n",
    "    '''\n",
    "    这个函数是计算模型b的值的函数，\n",
    "    传入的参数分别是x, y, w，表示数据，标记以及模型的w值\n",
    "    \n",
    "    Parameter\n",
    "    ----------\n",
    "        x: np.ndarray，pd.Series，传入的特征数据\n",
    "\n",
    "        y: np.ndarray, pd.Series，对应的标记\n",
    "        \n",
    "        w: np.ndarray, pd.Series，模型w的值\n",
    "    \n",
    "    Returns\n",
    "    ----------\n",
    "        b: float, 模型b的值\n",
    "    '''\n",
    "\n",
    "    \"\"\"\n",
    "\n",
    "    :param x:\n",
    "    :param y:\n",
    "    :param w: when x is a scalar, w's dim = 1\n",
    "    :return:\n",
    "    \"\"\"\n",
    "    b = (y - x*w).mean()\n",
    "    return b"
   ]
  },
  {
   "cell_type": "code",
   "execution_count": 5,
   "id": "0b5f4a2a",
   "metadata": {
    "pycharm": {
     "name": "#%%\n"
    }
   },
   "outputs": [],
   "source": [
    "class MyLinearRegression:\n",
    "    def __init__(self):\n",
    "        '''\n",
    "        类的初始化方法，不需要初始化的参数\n",
    "        这里设置了两个成员变量，用来存储模型w和b的值\n",
    "        '''\n",
    "        self.w:pd.Series = np.nan\n",
    "        self.b = np.nan\n",
    "    \n",
    "    def fit(self, x, y):\n",
    "        '''\n",
    "        这里需要编写训练的函数，也就是调用模型的fit方法，传入特征x的数据和标记y的数据\n",
    "        这个方法就可以求解出w和b\n",
    "        '''\n",
    "        # 请你补充求解w和b过程\n",
    "        # YOUR CODE HERE\n",
    "        self.w = get_w(x, y)\n",
    "        self.b = get_b(x, y, self.w)\n",
    "\n",
    "        \n",
    "    def predict(self, x:pd.Series):\n",
    "        '''\n",
    "        这是预测的函数，传入特征的数据，返回模型预测的结果\n",
    "        '''\n",
    "        if self.w.dtype == np.nan or self.b.dtype == np.nan:\n",
    "            print(\"module has not been trained, please call fit func\")\n",
    "            return\n",
    "        else:\n",
    "            return x*self.w.values + self.b\n"
   ]
  },
  {
   "cell_type": "markdown",
   "id": "139ddbb1",
   "metadata": {
    "pycharm": {
     "name": "#%% md\n"
    }
   },
   "source": [
    "#### 针对第四步，自行实现MAE和RMSE"
   ]
  },
  {
   "cell_type": "markdown",
   "id": "240c0d6a",
   "metadata": {
    "pycharm": {
     "name": "#%% md\n"
    }
   },
   "source": [
    "模型训练完成后，还需要在测试集上验证其预测能力，这就需要计算模型的一些性能指标，如MAE和RMSE等。\n",
    "\n",
    "$$\\tag{8}\n",
    "MAE(\\hat{y}, y) = \\frac{1}{m} \\sum^m_{i=1} \\vert \\hat{y} - y \\vert\n",
    "$$\n",
    "\n",
    "$$\\tag{9}\n",
    "RMSE(\\hat{y}, y) = \\sqrt{\\frac{1}{m} \\sum^m_{i=1} (\\hat{y} - y)^2}\n",
    "$$\n",
    "其中，$\\hat{y}$是模型的预测值，$y$是真值，$m$是样本数"
   ]
  },
  {
   "cell_type": "code",
   "execution_count": 6,
   "id": "4902168b",
   "metadata": {
    "pycharm": {
     "name": "#%%\n"
    }
   },
   "outputs": [],
   "source": [
    "def MAE(net:MyLinearRegression,x:pd.Series, y:pd.Series):\n",
    "    \"\"\"\n",
    "    this mae loss is for test set. btw, when be called, the net has been trained\n",
    "    the net is trained by the optimization method of normal equation.\n",
    "    :param x:\n",
    "    :param y:\n",
    "    :return:\n",
    "    \"\"\"\n",
    "\n",
    "    y_hat = net.predict(x)\n",
    "    mae = np.abs(y - y_hat).mean()\n",
    "    return mae\n"
   ]
  },
  {
   "cell_type": "code",
   "execution_count": 7,
   "id": "6fe34c3d",
   "metadata": {
    "pycharm": {
     "name": "#%%\n"
    }
   },
   "outputs": [],
   "source": [
    "def RMSE(net:MyLinearRegression, x:pd.Series, y:pd.Series):\n",
    "    y_hat = net.predict(x)\n",
    "    rmse = np.sqrt(((y-y_hat)**2).mean())\n",
    "    return rmse"
   ]
  },
  {
   "cell_type": "code",
   "execution_count": 44,
   "outputs": [],
   "source": [
    "from sklearn.linear_model import LinearRegression\n",
    "from sklearn.model_selection import cross_val_predict\n",
    "\n",
    "\n",
    "def train(net:MyLinearRegression, data:pd.Series, result:list):\n",
    "    x_train_set = data.iloc[0:int(data.shape[0]*0.7),0:-1]\n",
    "    y_train_set = data.iloc[0:int(data.shape[0]*0.7),-1]\n",
    "    x_test_set = data.iloc[int(data.shape[0]*0.7):,0:-1]\n",
    "    y_test_set = data.iloc[int(data.shape[0] * 0.7):, -1]\n",
    "    # print(x_train_set)\n",
    "    # print()\n",
    "    # print(x_test_set)\n",
    "    # print()\n",
    "    # print(y_train_set)\n",
    "    # print(y_test_set)\n",
    "\n",
    "    for i in range(x_train_set.shape[1]):\n",
    "        x = x_train_set.iloc[:, i]\n",
    "        y = y_train_set\n",
    "        x_test = x_test_set.iloc[:, i]\n",
    "        y_test = y_test_set\n",
    "        net.fit(x, y)\n",
    "        result.append([net.w, net.b])\n",
    "\n",
    "        mae = MAE(net, x_test, y_test)\n",
    "        rmse = RMSE(net, x_test, y_test)\n",
    "        print(\"mae loss is \", mae)\n",
    "        print(\"rmse loss is\", rmse)\n",
    "\n",
    "\n"
   ],
   "metadata": {
    "collapsed": false,
    "pycharm": {
     "name": "#%%\n"
    }
   }
  },
  {
   "cell_type": "code",
   "execution_count": 45,
   "outputs": [
    {
     "name": "stdout",
     "output_type": "stream",
     "text": [
      "mae loss is  3.0870271915841143\n",
      "rmse loss is 3.713166141342782\n",
      "mae loss is  5.331751926620541\n",
      "rmse loss is 6.798892392001297\n",
      "mae loss is  6.345040681537671\n",
      "rmse loss is 7.648155964787649\n"
     ]
    }
   ],
   "source": [
    "data = pd.read_csv(f\"./data/advertising/advertising.csv\", index_col=False)\n",
    "# print(data)\n",
    "net = MyLinearRegression()\n",
    "result = []\n",
    "train(net, data, result)\n",
    "\n",
    "# for i in range(3):\n",
    "#     print(result[i][0].values)\n",
    "#     print(type(result[i][1]))"
   ],
   "metadata": {
    "collapsed": false,
    "pycharm": {
     "name": "#%%\n"
    }
   }
  },
  {
   "cell_type": "markdown",
   "id": "d8c96d71",
   "metadata": {
    "pycharm": {
     "name": "#%% md\n"
    }
   },
   "source": [
    "#### 针对第五步，可视化模型预测效果"
   ]
  },
  {
   "cell_type": "code",
   "execution_count": 37,
   "outputs": [],
   "source": [],
   "metadata": {
    "collapsed": false,
    "pycharm": {
     "name": "#%%\n"
    }
   }
  },
  {
   "cell_type": "code",
   "execution_count": 10,
   "id": "14ded8ef",
   "metadata": {
    "pycharm": {
     "name": "#%%\n"
    }
   },
   "outputs": [],
   "source": [
    "#借助绘图工具\n",
    "import matplotlib.pyplot as plt"
   ]
  },
  {
   "cell_type": "code",
   "execution_count": 11,
   "id": "0469a8d1",
   "metadata": {
    "pycharm": {
     "name": "#%%\n"
    }
   },
   "outputs": [],
   "source": [
    "# 可参考的函数\n",
    "# plt.figure(figsize = ())\n",
    "# plt.plot()\n",
    "# plt.xlabel()\n",
    "# plt.ylabel()\n",
    "# plt.title()\n",
    "# plt.legend()"
   ]
  },
  {
   "cell_type": "code",
   "execution_count": 46,
   "outputs": [
    {
     "data": {
      "text/plain": "[<matplotlib.lines.Line2D at 0x1c368460448>]"
     },
     "execution_count": 46,
     "metadata": {},
     "output_type": "execute_result"
    },
    {
     "data": {
      "text/plain": "<Figure size 432x288 with 1 Axes>",
      "image/png": "[encoded data removed]"
     },
     "metadata": {
      "needs_background": "light"
     },
     "output_type": "display_data"
    },
    {
     "data": {
      "text/plain": "<Figure size 432x288 with 1 Axes>",
      "image/png": "[encoded data removed]"
     },
     "metadata": {
      "needs_background": "light"
     },
     "output_type": "display_data"
    },
    {
     "data": {
      "text/plain": "<Figure size 432x288 with 1 Axes>",
      "image/png": "[encoded data removed]"
     },
     "metadata": {
      "needs_background": "light"
     },
     "output_type": "display_data"
    }
   ],
   "source": [
    "x = np.arange(0, 300, 0.1)\n",
    "plt.figure()\n",
    "plt.plot(data['TV'],data['Sales'],'.')\n",
    "plt.xlabel('TV')\n",
    "plt.ylabel('Sales')\n",
    "y = x * result[0][0].values + result[0][1]\n",
    "plt.plot(x, y)\n",
    "\n",
    "plt.figure()\n",
    "plt.plot(data['Radio'], data['Sales'], '.')\n",
    "plt.xlabel('Radio')\n",
    "plt.ylabel('Sales')\n",
    "x = np.arange(0, 50, 0.1)\n",
    "y = x * result[1][0].values + result[1][1]\n",
    "plt.plot(x, y)\n",
    "\n",
    "\n",
    "plt.figure()\n",
    "plt.plot(data['Newspaper'],data['Sales'],'.')\n",
    "plt.xlabel('Newspaper')\n",
    "plt.ylabel('Sales')\n",
    "x = np.arange(0, 100, 0.1)\n",
    "y = x * result[2][0].values + result[2][1]\n",
    "plt.plot(x, y)"
   ],
   "metadata": {
    "collapsed": false,
    "pycharm": {
     "name": "#%%\n"
    }
   }
  },
  {
   "cell_type": "markdown",
   "id": "5a139dd8",
   "metadata": {
    "pycharm": {
     "name": "#%% md\n"
    }
   },
   "source": [
    "#### 针对第六步，去除训练集中的异常值或离群值后再次训练模型"
   ]
  },
  {
   "cell_type": "code",
   "execution_count": 99,
   "id": "8792bb6a",
   "metadata": {
    "pycharm": {
     "name": "#%%\n"
    }
   },
   "outputs": [],
   "source": [
    "def train_without_bad_data(net:MyLinearRegression, data:pd.Series, result:list):\n",
    "    #  3 sigmoid principle\n",
    "    x_train_set = data.iloc[0:int(data.shape[0]*0.7),0:-1]\n",
    "    y_train_set = data.iloc[0:int(data.shape[0]*0.7),-1]\n",
    "    x_test_set = data.iloc[int(data.shape[0]*0.7):,0:-1]\n",
    "    y_test_set = data.iloc[int(data.shape[0] * 0.7):, -1]\n",
    "    # print(x_train_set)\n",
    "    # print()\n",
    "    # print(x_test_set)\n",
    "    # print()\n",
    "    # print(y_train_set)\n",
    "    # print(y_test_set)\n",
    "\n",
    "    for i in range(x_train_set.shape[1]):\n",
    "        x = x_train_set.iloc[:, i]\n",
    "        y = y_train_set\n",
    "        x_test = x_test_set.iloc[:, i]\n",
    "        y_test = y_test_set\n",
    "        net.fit(x, y)\n",
    "        # result.append([net.w, net.b])\n",
    "        y_hat = net.predict(x)\n",
    "        tem = pd.concat([x, y], axis=1)\n",
    "        residual = np.abs(y_hat - y)\n",
    "        tem['residual'] = residual\n",
    "        tem = tem[abs(tem['residual'] - tem['residual'].mean()) < 3* tem['residual'].std()]\n",
    "        # print(type(tem['residual']))\n",
    "        # print(tem)\n",
    "        x = tem.iloc[:,0]\n",
    "        y = tem.iloc[:,1]\n",
    "        # print(x)\n",
    "        # print(y)\n",
    "        net.fit(x, y)\n",
    "        result.append([net.w, net.b])\n",
    "\n",
    "\n",
    "        mae = MAE(net, x_test, y_test)\n",
    "        rmse = RMSE(net, x_test, y_test)\n",
    "        print(\"mae loss is \", mae)\n",
    "        print(\"rmse loss is\", rmse)\n"
   ]
  },
  {
   "cell_type": "code",
   "execution_count": 100,
   "outputs": [
    {
     "name": "stdout",
     "output_type": "stream",
     "text": [
      "mae loss is  3.0870271915841143\n",
      "rmse loss is 3.713166141342782\n",
      "mae loss is  5.331751926620541\n",
      "rmse loss is 6.798892392001297\n",
      "mae loss is  6.345040681537671\n",
      "rmse loss is 7.648155964787649\n",
      "\n",
      "mae loss is  3.0856925406322326\n",
      "rmse loss is 3.7121438868596592\n",
      "mae loss is  5.208735743322586\n",
      "rmse loss is 6.695636151916634\n",
      "mae loss is  6.345040681537671\n",
      "rmse loss is 7.648155964787649\n"
     ]
    }
   ],
   "source": [
    "data = pd.read_csv(f\"./data/advertising/advertising.csv\", index_col=False)\n",
    "# print(data)\n",
    "net = MyLinearRegression()\n",
    "result = []\n",
    "\n",
    "train(net, data, result)\n",
    "print()\n",
    "result_without_bad_data = []\n",
    "train_without_bad_data(net, data, result_without_bad_data)"
   ],
   "metadata": {
    "collapsed": false,
    "pycharm": {
     "name": "#%%\n"
    }
   }
  },
  {
   "cell_type": "markdown",
   "source": [
    "说实话，数据去噪声后，就mae和rmse而言几乎没什么区别。仅在千分位表现出一点差异。。。"
   ],
   "metadata": {
    "collapsed": false,
    "pycharm": {
     "name": "#%% md\n"
    }
   }
  },
  {
   "cell_type": "markdown",
   "id": "2b6f5562",
   "metadata": {
    "pycharm": {
     "name": "#%% md\n"
    }
   },
   "source": [
    "### 多元线性回归——Advertising广告预测"
   ]
  },
  {
   "cell_type": "markdown",
   "id": "54b83a2a",
   "metadata": {
    "pycharm": {
     "name": "#%% md\n"
    }
   },
   "source": [
    "1.使用多个特征作为输入完成广告预测问题\\\n",
    "2.计算模型在十折交叉验证上MAE和RMSE的值，比较不同的特征组合在模型预测能力上的影响。\\\n",
    "模型可使用sklearn.linear_model.LinearRegression \\\n",
    "3.选做：多项式回归（一元线性回归的扩展），尝试对部分特征进行变换，如将其二次幂，三次幂作为特征输入模型，观察模型在预测能力上的变化。\n"
   ]
  },
  {
   "cell_type": "code",
   "execution_count": 101,
   "id": "bc5bc4b4",
   "metadata": {
    "pycharm": {
     "name": "#%%\n"
    }
   },
   "outputs": [],
   "source": [
    "from sklearn.linear_model import LinearRegression\n",
    "from sklearn.model_selection import cross_val_predict\n",
    "\n"
   ]
  },
  {
   "cell_type": "code",
   "execution_count": 178,
   "outputs": [
    {
     "name": "stdout",
     "output_type": "stream",
     "text": [
      "[0.05444578 0.10700123 0.00033566]\n",
      "4.625124078808652\n"
     ]
    }
   ],
   "source": [
    "net = LinearRegression()\n",
    "data = pd.read_csv(f\"./data/advertising/advertising.csv\", index_col=False)\n",
    "data = data.to_numpy()\n",
    "\n",
    "x_train = data[:, 0:3]\n",
    "y_train = data[:, 3]\n",
    "net.fit(x_train, y_train)\n",
    "print(net.coef_)\n",
    "print(net.intercept_)"
   ],
   "metadata": {
    "collapsed": false,
    "pycharm": {
     "name": "#%%\n"
    }
   }
  },
  {
   "cell_type": "markdown",
   "id": "aba227fd",
   "metadata": {
    "pycharm": {
     "name": "#%% md\n"
    }
   },
   "source": [
    "####  使用sklearn完成一元线性回归的十折交叉验证验证"
   ]
  },
  {
   "cell_type": "code",
   "execution_count": 179,
   "id": "bf293c71",
   "metadata": {
    "pycharm": {
     "name": "#%%\n"
    }
   },
   "outputs": [
    {
     "data": {
      "text/plain": "array([19.66947213,  9.31653863,  7.79372028, 15.28509404, 16.91947417,\n        7.3195827 , 10.04169022, 13.53915213,  7.31400461, 17.97931111,\n       10.52140589, 18.81044639,  8.16187417, 12.27292589, 18.21916894,\n       17.73387518, 10.6162334 , 22.53103187, 10.69432665, 15.05081429,\n       19.27470008, 20.35581132,  7.5986987 , 19.83801593, 10.39251774,\n       21.8067764 , 14.97870542, 20.50944291, 21.00447806, 10.86479265,\n       23.51379414, 13.27168767, 12.37834839, 21.960408  , 12.2929975 ,\n       23.38861284, 22.03437876, 11.09808508,  9.30002639, 19.82094575,\n       18.12595519, 16.73184235, 23.10649163, 18.36650799,  8.42730355,\n       16.62796728, 11.95905606, 20.17065401, 19.47633115, 10.71255517,\n       17.97834324, 12.54403674, 18.88588336, 17.03800047, 21.4171549 ,\n       17.92913926,  7.45415812, 14.50126182, 18.57972525, 18.57425814,\n        9.99766882, 21.42391857, 20.21420974, 12.70301765, 14.26464178,\n       10.84996368,  8.78795999, 14.71553325, 20.10973489, 18.97700753,\n       18.00374179, 13.09342369,  8.5295222 , 14.17116428, 18.79005253,\n        7.98515322,  8.56801293, 13.68178207,  7.35280543, 13.43434163,\n       11.10440282, 20.14895542, 11.04351538, 10.66158507, 18.69319206,\n       17.56954201, 11.0988676 , 13.00298394, 11.76309423, 12.95316694,\n       14.30929631,  8.45856675, 18.92567138, 20.76336506, 12.82032161,\n       15.91451066, 17.81309178, 17.1101186 , 22.91103116, 14.35911331,\n       19.31854174, 23.41650755, 22.5193853 , 17.40800362, 20.19351282,\n       14.6391078 ,  8.38694104, 12.00865678,  7.72794384, 21.14601298,\n       19.50682665, 20.38733552, 16.73239304, 18.60970441, 11.3330462 ,\n       11.16137466, 14.7110991 , 11.23336595, 13.96349722,  8.07682471,\n       14.82604181,  8.0796642 , 19.3805351 , 13.82372285, 19.68343368,\n       11.84662117,  7.47386703, 11.46111387, 19.17676696, 10.32662099,\n        7.08285249, 21.64952087,  7.50691051, 19.14923072,  9.07647591,\n        9.70430207,  8.454157  , 22.11763687,  9.41241798, 17.22720151,\n       11.12544117, 17.79693557, 19.28318702, 12.85570405, 12.38986405,\n       14.83552409, 20.37014704, 20.54206418,  9.16225828,  9.53382114,\n       22.62170708, 13.76520121, 18.01321843, 16.55469555, 17.46973842,\n        7.2822611 , 12.26231262, 15.36236695,  7.7037354 , 14.35859265,\n       16.60122099, 11.72750639, 17.49398669, 16.09588192, 13.49619314,\n       20.08244571,  7.92061873, 18.52712434, 19.0100039 , 22.87865523,\n        9.72299475, 16.15203071,  8.01607166, 16.37101097, 19.4030454 ,\n       22.46315422, 20.86291383, 16.47207879, 22.45192446, 16.21379437,\n       15.66626623, 19.07015001, 10.14526572, 22.86996211, 21.01129859,\n       18.3277844 , 14.72593646, 17.56342278, 22.78197804,  8.08313903,\n        9.22693197, 11.20657358,  8.00065397, 16.22716468, 15.28683492,\n        9.15544491, 12.23488742, 16.78806314, 22.65000193, 19.81801462])"
     },
     "execution_count": 179,
     "metadata": {},
     "output_type": "execute_result"
    }
   ],
   "source": [
    "model = LinearRegression()\n",
    "data = pd.read_csv(f\"./data/advertising/advertising.csv\", index_col=False)\n",
    "\n",
    "prediction = cross_val_predict(model, data[['TV']],data['Sales'], cv = 10)\n",
    "prediction\n"
   ]
  },
  {
   "cell_type": "markdown",
   "id": "fb582409",
   "metadata": {
    "pycharm": {
     "name": "#%% md\n"
    }
   },
   "source": [
    "####  使用sklearn完成MAE和RMSE"
   ]
  },
  {
   "cell_type": "code",
   "execution_count": 187,
   "id": "fba3b0ee",
   "metadata": {
    "pycharm": {
     "name": "#%%\n"
    }
   },
   "outputs": [
    {
     "name": "stdout",
     "output_type": "stream",
     "text": [
      "mae is 1.8484560436845014\n",
      "mse is 5.344842994121723\n"
     ]
    }
   ],
   "source": [
    "from sklearn.metrics import mean_absolute_error\n",
    "from sklearn.metrics import mean_squared_error\n",
    "\n",
    "print('mae is',mean_absolute_error(prediction, y_train))\n",
    "print('mse is',mean_squared_error(prediction, y_train))"
   ]
  },
  {
   "cell_type": "markdown",
   "id": "64d03330",
   "metadata": {
    "pycharm": {
     "name": "#%% md\n"
    }
   },
   "source": [
    "#### 选择多种特征进行组合，完成多元线性回归，并对比不同的特征组合，它们训练出的模型在十折交叉验证上MAE与RMSE的差别，至少完成3组"
   ]
  },
  {
   "cell_type": "code",
   "execution_count": 188,
   "id": "60e0f438",
   "metadata": {
    "pycharm": {
     "name": "#%%\n"
    }
   },
   "outputs": [],
   "source": [
    "def trainAndPredict(features, label, model:LinearRegression, cv = 10):\n",
    "    # YOUR CODE HERE\n",
    "    prediction = cross_val_predict(model, features, label)\n",
    "    mae = mean_absolute_error(label, prediction)\n",
    "    rmse = mean_squared_error(label, prediction)\n",
    "    return mae,rmse"
   ]
  },
  {
   "cell_type": "code",
   "execution_count": 214,
   "outputs": [
    {
     "name": "stdout",
     "output_type": "stream",
     "text": [
      "(1.265904823732983, 2.8452315934180534)\n",
      "(4.325502564765548, 25.721458679966148)\n",
      "(1.7690623058342674, 5.041174410802338)\n"
     ]
    }
   ],
   "source": [
    "data = pd.read_csv(f\"./data/advertising/advertising.csv\", index_col=False)\n",
    "data = data.to_numpy()\n",
    "\n",
    "features = data[:, 0:2]\n",
    "label = data[:, 3]\n",
    "print(trainAndPredict(features, label, LinearRegression()))\n",
    "features = data[:, 1:3]\n",
    "print(trainAndPredict(features, label, LinearRegression()))\n",
    "features = data[:, [0, 2]]\n",
    "print(trainAndPredict(features, label, LinearRegression()))\n",
    "\n"
   ],
   "metadata": {
    "collapsed": false,
    "pycharm": {
     "name": "#%%\n"
    }
   }
  },
  {
   "cell_type": "markdown",
   "id": "7c287222",
   "metadata": {
    "pycharm": {
     "name": "#%% md\n"
    }
   },
   "source": [
    "###### 双击此处填写\n",
    "1. 模型1使用的特征：TV\tRadio\n",
    "2. 模型2使用的特征：Radio newspaper\n",
    "3. 模型3使用的特征: TV Newspaper\n",
    "\n",
    "模型  |MAE|RMSE\n",
    "-|-|-\n",
    "model1 (1.265904823732983, 2.8452315934180534)\n",
    "model2 (4.325502564765548, 25.721458679966148)\n",
    "model3 (1.7690623058342674, 5.041174410802338)"
   ]
  },
  {
   "cell_type": "markdown",
   "id": "812c7ee8",
   "metadata": {
    "pycharm": {
     "name": "#%% md\n"
    }
   },
   "source": [
    "### 对数几率回归——手机市场价分类"
   ]
  },
  {
   "cell_type": "markdown",
   "id": "e02d96c0",
   "metadata": {
    "pycharm": {
     "name": "#%% md\n"
    }
   },
   "source": [
    "使用mobile_price数据集对手机市场价进行分类\n",
    "1.\t此数据集不存在缺失值但存在不合逻辑的值，例如部分样本的手机屏幕宽度sc_w特征为0，要求使用数据集时首先进行清洗以剔除这些错误样本\n",
    "2.\t原数据中手机价格总共有4类，为让其适用于对数几率回归二分类，要求对价格类别进行合并（0：低，1：较低，2：较高，3：高）0和1归为一类，2和3归为一类，使用对数几率回归实现对手机价格的二分类\n",
    "3.\t计算十折交叉验证下的精度，查准率，查全率，F1分数\n",
    "4.\t模型使用sklearn.linear_model.LogisticRegression 同时要求理解其求解方法，分别尝试最大迭代次数100，1000，5000设置，分析不同结果的可能原因\n"
   ]
  },
  {
   "cell_type": "code",
   "execution_count": 4,
   "id": "bdd01b86",
   "metadata": {
    "pycharm": {
     "name": "#%%\n"
    }
   },
   "outputs": [
    {
     "name": "stdout",
     "output_type": "stream",
     "text": [
      "<class 'pandas.core.frame.DataFrame'>\n",
      "RangeIndex: 2000 entries, 0 to 1999\n",
      "Data columns (total 21 columns):\n",
      " #   Column         Non-Null Count  Dtype  \n",
      "---  ------         --------------  -----  \n",
      " 0   battery_power  2000 non-null   int64  \n",
      " 1   blue           2000 non-null   int64  \n",
      " 2   clock_speed    2000 non-null   float64\n",
      " 3   dual_sim       2000 non-null   int64  \n",
      " 4   fc             2000 non-null   int64  \n",
      " 5   four_g         2000 non-null   int64  \n",
      " 6   int_memory     2000 non-null   int64  \n",
      " 7   m_dep          2000 non-null   float64\n",
      " 8   mobile_wt      2000 non-null   int64  \n",
      " 9   n_cores        2000 non-null   int64  \n",
      " 10  pc             2000 non-null   int64  \n",
      " 11  px_height      2000 non-null   int64  \n",
      " 12  px_width       2000 non-null   int64  \n",
      " 13  ram            2000 non-null   int64  \n",
      " 14  sc_h           2000 non-null   int64  \n",
      " 15  sc_w           2000 non-null   int64  \n",
      " 16  talk_time      2000 non-null   int64  \n",
      " 17  three_g        2000 non-null   int64  \n",
      " 18  touch_screen   2000 non-null   int64  \n",
      " 19  wifi           2000 non-null   int64  \n",
      " 20  price_range    2000 non-null   int64  \n",
      "dtypes: float64(2), int64(19)\n",
      "memory usage: 328.2 KB\n"
     ]
    }
   ],
   "source": [
    "# 读取数据\n",
    "data = pd.read_csv('data/mobile_phone/train.csv', delimiter=',')\n",
    "# 查看数据集的特征信息\n",
    "data.info()\n"
   ]
  },
  {
   "cell_type": "code",
   "execution_count": 3,
   "outputs": [],
   "source": [
    "import numpy as np\n",
    "import pandas as pd"
   ],
   "metadata": {
    "collapsed": false,
    "pycharm": {
     "name": "#%%\n"
    }
   }
  },
  {
   "cell_type": "markdown",
   "id": "0cba33ae",
   "metadata": {
    "pycharm": {
     "name": "#%% md\n"
    }
   },
   "source": [
    "#### 针对1）去除异常值"
   ]
  },
  {
   "cell_type": "code",
   "execution_count": 277,
   "id": "9deec753",
   "metadata": {
    "pycharm": {
     "name": "#%%\n"
    }
   },
   "outputs": [
    {
     "name": "stdout",
     "output_type": "stream",
     "text": [
      "180\n"
     ]
    }
   ],
   "source": [
    "# 查看sc_w列中值为0的样本数量\n",
    "print(len(data[(data.sc_w == 0)].index.tolist()))"
   ]
  },
  {
   "cell_type": "code",
   "execution_count": 5,
   "id": "5e3ed3bf",
   "metadata": {
    "pycharm": {
     "name": "#%%\n"
    }
   },
   "outputs": [
    {
     "name": "stdout",
     "output_type": "stream",
     "text": [
      "<class 'pandas.core.frame.DataFrame'>\n",
      "Int64Index: 1820 entries, 0 to 1999\n",
      "Data columns (total 21 columns):\n",
      " #   Column         Non-Null Count  Dtype  \n",
      "---  ------         --------------  -----  \n",
      " 0   battery_power  1820 non-null   int64  \n",
      " 1   blue           1820 non-null   int64  \n",
      " 2   clock_speed    1820 non-null   float64\n",
      " 3   dual_sim       1820 non-null   int64  \n",
      " 4   fc             1820 non-null   int64  \n",
      " 5   four_g         1820 non-null   int64  \n",
      " 6   int_memory     1820 non-null   int64  \n",
      " 7   m_dep          1820 non-null   float64\n",
      " 8   mobile_wt      1820 non-null   int64  \n",
      " 9   n_cores        1820 non-null   int64  \n",
      " 10  pc             1820 non-null   int64  \n",
      " 11  px_height      1820 non-null   int64  \n",
      " 12  px_width       1820 non-null   int64  \n",
      " 13  ram            1820 non-null   int64  \n",
      " 14  sc_h           1820 non-null   int64  \n",
      " 15  sc_w           1820 non-null   int64  \n",
      " 16  talk_time      1820 non-null   int64  \n",
      " 17  three_g        1820 non-null   int64  \n",
      " 18  touch_screen   1820 non-null   int64  \n",
      " 19  wifi           1820 non-null   int64  \n",
      " 20  price_range    1820 non-null   int64  \n",
      "dtypes: float64(2), int64(19)\n",
      "memory usage: 312.8 KB\n"
     ]
    }
   ],
   "source": [
    "# 删除sc_w值为0所在的所有行\n",
    "data =  data.drop(data[data['sc_w']==0].index)\n",
    "# # 查看删除后的数据的信息\n",
    "data.info()"
   ]
  },
  {
   "cell_type": "markdown",
   "id": "71712ec1",
   "metadata": {
    "pycharm": {
     "name": "#%% md\n"
    }
   },
   "source": [
    "#### 针对2）转化为2分类"
   ]
  },
  {
   "cell_type": "code",
   "execution_count": 6,
   "outputs": [
    {
     "name": "stdout",
     "output_type": "stream",
     "text": [
      "[[8.420e+02 0.000e+00 2.200e+00 ... 1.000e+00 1.000e+00 0.000e+00]\n",
      " [1.021e+03 1.000e+00 5.000e-01 ... 0.000e+00 2.000e+00 1.000e+00]\n",
      " [5.630e+02 1.000e+00 5.000e-01 ... 0.000e+00 2.000e+00 1.000e+00]\n",
      " ...\n",
      " [1.911e+03 0.000e+00 9.000e-01 ... 0.000e+00 3.000e+00 1.000e+00]\n",
      " [1.512e+03 0.000e+00 9.000e-01 ... 1.000e+00 0.000e+00 0.000e+00]\n",
      " [5.100e+02 1.000e+00 2.000e+00 ... 1.000e+00 3.000e+00 1.000e+00]]\n"
     ]
    }
   ],
   "source": [
    "def classification(price):\n",
    "    if price == 0 or price ==1:\n",
    "        return 0\n",
    "    else:\n",
    "        return 1\n",
    "data['price_new'] = data['price_range'].apply(classification)\n",
    "data = data.to_numpy()\n",
    "print(data)"
   ],
   "metadata": {
    "collapsed": false,
    "pycharm": {
     "name": "#%%\n"
    }
   }
  },
  {
   "cell_type": "markdown",
   "source": [
    "#### 针对3）计算十折交叉验证下的精度，查准率，查全率，F1分数"
   ],
   "metadata": {
    "collapsed": false,
    "pycharm": {
     "name": "#%% md\n"
    }
   }
  },
  {
   "cell_type": "markdown",
   "id": "df4a5aa4",
   "metadata": {
    "pycharm": {
     "name": "#%% md\n"
    }
   },
   "source": [
    "使用mobile_price数据集对手机市场价进行分类\n",
    "1.\t此数据集不存在缺失值但存在不合逻辑的值，例如部分样本的手机屏幕宽度sc_w特征为0，要求使用数据集时首先进行清洗以剔除这些错误样本\n",
    "2.\t原数据中手机价格总共有4类，要求对价格类别进行合并（0：低，1：较低，2：较高，3：高）0和1归为一类，2和3归为一类，使用线性判别分析实现对手机价格的二分类\n",
    "3.\t计算十折交叉验证下的精度，查准率，查全率，F1分数\n",
    "4.\t模型使用sklearn.discriminant_analysis.LinearDiscriminantAnalysis 同时要求理解其求解方法\n",
    "5. 选做：利用 sklearn.processing里的标准化、归一化等方法对特征进行变换，分析变换对预测结果的影响。【同样采用十折交叉验证和相同的指标】"
   ]
  },
  {
   "cell_type": "markdown",
   "source": [
    "###### 双击此处填写\n",
    "\n",
    "liblinear\n",
    "迭代次数|精度|查准率|查全率|F1\n",
    "-|-|-|-|-\n",
    "100 |  0.9401098901098901    0.9334763948497854     0.9487459105779716      0.9410492157923203\n",
    "1000 | 0.9401098901098901    0.9334763948497854     0.9487459105779716      0.9410492157923203\n",
    "5000 | 0.9401098901098901    0.9334763948497854     0.9487459105779716      0.9410492157923203\n",
    "\n",
    "sag\n",
    "迭代次数|精度|查准率|查全率|F1\n",
    "-|-|-|-|-\n",
    "100 |   0.865934065934066       0.8430173292558614      0.9018538713195202      0.8714436248682825\n",
    "1000 |  0.8763736263736264      0.8581780538302277      0.9040348964013086      0.8805098247477429\n",
    "5000 |  0.8884615384615384      0.872651356993737       0.9116684841875682      0.8917333333333335\n",
    "\n",
    "\n",
    "关于数值不同的分析：\n",
    "    其实警告中也提供了一些信息，明显是由于优化方法不同导致不同epoch时，函数收敛程度不同造成的，或者说欠拟合的程度不同。我们选择了两个不同的优化方法sag和liblinear来验证这样的想法。明显liblinear收敛速度更快点，在100轮之前就已经收敛。\n",
    "    同时，正则化系数也会影响效果数值，也取了C=0.5和1.0两个数进行比较了。但是碍于填表真的太复杂copy太痛苦了，直接保留了1.0的结果。"
   ],
   "metadata": {
    "collapsed": false,
    "pycharm": {
     "name": "#%% md\n"
    }
   }
  },
  {
   "cell_type": "markdown",
   "source": [
    "### 线性判别分析——手机价格分类"
   ],
   "metadata": {
    "collapsed": false,
    "pycharm": {
     "name": "#%% md\n"
    }
   }
  },
  {
   "cell_type": "code",
   "execution_count": 23,
   "id": "6a797710",
   "metadata": {
    "pycharm": {
     "name": "#%%\n"
    }
   },
   "outputs": [],
   "source": [
    "# 数据加载及处理同上"
   ]
  },
  {
   "cell_type": "code",
   "execution_count": 11,
   "outputs": [
    {
     "name": "stdout",
     "output_type": "stream",
     "text": [
      "solver method is sag\n",
      "\n",
      "\n",
      "\n",
      "when max iter is  100\n",
      "coef is\n",
      "[[ 0.00016426 -0.00045877 -0.00121571 -0.00054385 -0.00273144 -0.00046719\n",
      "  -0.01854549 -0.00041873 -0.0309914  -0.00308789 -0.00728879  0.00096959\n",
      "  -0.00094638  0.00279643 -0.01065951 -0.00484754 -0.00966747 -0.00058642\n",
      "  -0.00061101]]\n",
      "intercept is\n",
      "[-0.00086314]\n"
     ]
    },
    {
     "name": "stderr",
     "output_type": "stream",
     "text": [
      "D:\\Anaconda3_2022.05\\envs\\pytorch\\lib\\site-packages\\sklearn\\linear_model\\_sag.py:354: ConvergenceWarning: The max_iter was reached which means the coef_ did not converge\n",
      "  ConvergenceWarning,\n",
      "D:\\Anaconda3_2022.05\\envs\\pytorch\\lib\\site-packages\\sklearn\\linear_model\\_sag.py:354: ConvergenceWarning: The max_iter was reached which means the coef_ did not converge\n",
      "  ConvergenceWarning,\n",
      "D:\\Anaconda3_2022.05\\envs\\pytorch\\lib\\site-packages\\sklearn\\linear_model\\_sag.py:354: ConvergenceWarning: The max_iter was reached which means the coef_ did not converge\n",
      "  ConvergenceWarning,\n",
      "D:\\Anaconda3_2022.05\\envs\\pytorch\\lib\\site-packages\\sklearn\\linear_model\\_sag.py:354: ConvergenceWarning: The max_iter was reached which means the coef_ did not converge\n",
      "  ConvergenceWarning,\n",
      "D:\\Anaconda3_2022.05\\envs\\pytorch\\lib\\site-packages\\sklearn\\linear_model\\_sag.py:354: ConvergenceWarning: The max_iter was reached which means the coef_ did not converge\n",
      "  ConvergenceWarning,\n",
      "D:\\Anaconda3_2022.05\\envs\\pytorch\\lib\\site-packages\\sklearn\\linear_model\\_sag.py:354: ConvergenceWarning: The max_iter was reached which means the coef_ did not converge\n",
      "  ConvergenceWarning,\n"
     ]
    },
    {
     "name": "stdout",
     "output_type": "stream",
     "text": [
      "acc is 0.865934065934066\n",
      "precision score is 0.8430173292558614\n",
      "recall score is 0.9018538713195202\n",
      "f1 score is 0.8714436248682825\n",
      "\n",
      "\n",
      "when max iter is  1000\n"
     ]
    },
    {
     "name": "stderr",
     "output_type": "stream",
     "text": [
      "D:\\Anaconda3_2022.05\\envs\\pytorch\\lib\\site-packages\\sklearn\\linear_model\\_sag.py:354: ConvergenceWarning: The max_iter was reached which means the coef_ did not converge\n",
      "  ConvergenceWarning,\n"
     ]
    },
    {
     "name": "stdout",
     "output_type": "stream",
     "text": [
      "coef is\n",
      "[[ 0.00058057 -0.00344438 -0.00958596 -0.0046435  -0.01025193 -0.0035905\n",
      "  -0.0270153  -0.00332423 -0.02878342 -0.0212502  -0.03658994  0.00109759\n",
      "  -0.0006287   0.00312653 -0.06588692 -0.02417755 -0.05703268 -0.00439464\n",
      "  -0.00504387]]\n",
      "intercept is\n",
      "[-0.00671432]\n"
     ]
    },
    {
     "name": "stderr",
     "output_type": "stream",
     "text": [
      "D:\\Anaconda3_2022.05\\envs\\pytorch\\lib\\site-packages\\sklearn\\linear_model\\_sag.py:354: ConvergenceWarning: The max_iter was reached which means the coef_ did not converge\n",
      "  ConvergenceWarning,\n",
      "D:\\Anaconda3_2022.05\\envs\\pytorch\\lib\\site-packages\\sklearn\\linear_model\\_sag.py:354: ConvergenceWarning: The max_iter was reached which means the coef_ did not converge\n",
      "  ConvergenceWarning,\n",
      "D:\\Anaconda3_2022.05\\envs\\pytorch\\lib\\site-packages\\sklearn\\linear_model\\_sag.py:354: ConvergenceWarning: The max_iter was reached which means the coef_ did not converge\n",
      "  ConvergenceWarning,\n",
      "D:\\Anaconda3_2022.05\\envs\\pytorch\\lib\\site-packages\\sklearn\\linear_model\\_sag.py:354: ConvergenceWarning: The max_iter was reached which means the coef_ did not converge\n",
      "  ConvergenceWarning,\n",
      "D:\\Anaconda3_2022.05\\envs\\pytorch\\lib\\site-packages\\sklearn\\linear_model\\_sag.py:354: ConvergenceWarning: The max_iter was reached which means the coef_ did not converge\n",
      "  ConvergenceWarning,\n"
     ]
    },
    {
     "name": "stdout",
     "output_type": "stream",
     "text": [
      "acc is 0.8763736263736264\n",
      "precision score is 0.8581780538302277\n",
      "recall score is 0.9040348964013086\n",
      "f1 score is 0.8805098247477429\n",
      "\n",
      "\n",
      "when max iter is  5000\n",
      "coef is\n",
      "[[ 0.00087681 -0.01059743 -0.03047314 -0.01540597 -0.00464832 -0.01076295\n",
      "  -0.02622672 -0.01059587 -0.02798695 -0.05280888 -0.05219357  0.0012239\n",
      "  -0.00043224  0.00344551 -0.1286247  -0.02409102 -0.0925569  -0.01329126\n",
      "  -0.01601198]]\n",
      "intercept is\n",
      "[-0.02106565]\n",
      "acc is 0.8884615384615384\n",
      "precision score is 0.872651356993737\n",
      "recall score is 0.9116684841875682\n",
      "f1 score is 0.8917333333333335\n",
      "solver method is liblinear\n",
      "\n",
      "\n",
      "\n",
      "when max iter is  100\n",
      "coef is\n",
      "[[ 0.0023608  -0.17115816 -0.32904546 -0.42170803 -0.00490987 -0.16108158\n",
      "  -0.01319638 -0.83510895 -0.01693509 -0.04626684 -0.02751163  0.00167977\n",
      "   0.00087221  0.00476207 -0.10003874  0.02215184 -0.04818549 -0.16083828\n",
      "  -0.53605176]]\n",
      "intercept is\n",
      "[-8.45359969]\n",
      "acc is 0.9401098901098901\n",
      "precision score is 0.9334763948497854\n",
      "recall score is 0.9487459105779716\n",
      "f1 score is 0.9410492157923203\n",
      "\n",
      "\n",
      "when max iter is  1000\n",
      "coef is\n",
      "[[ 0.0023608  -0.17115816 -0.32904546 -0.42170803 -0.00490987 -0.16108158\n",
      "  -0.01319638 -0.83510895 -0.01693509 -0.04626684 -0.02751163  0.00167977\n",
      "   0.00087221  0.00476207 -0.10003874  0.02215184 -0.04818549 -0.16083828\n",
      "  -0.53605176]]\n",
      "intercept is\n",
      "[-8.45359969]\n",
      "acc is 0.9401098901098901\n",
      "precision score is 0.9334763948497854\n",
      "recall score is 0.9487459105779716\n",
      "f1 score is 0.9410492157923203\n",
      "\n",
      "\n",
      "when max iter is  5000\n",
      "coef is\n",
      "[[ 0.0023608  -0.17115816 -0.32904546 -0.42170803 -0.00490987 -0.16108158\n",
      "  -0.01319638 -0.83510895 -0.01693509 -0.04626684 -0.02751163  0.00167977\n",
      "   0.00087221  0.00476207 -0.10003874  0.02215184 -0.04818549 -0.16083828\n",
      "  -0.53605176]]\n",
      "intercept is\n",
      "[-8.45359969]\n",
      "acc is 0.9401098901098901\n",
      "precision score is 0.9334763948497854\n",
      "recall score is 0.9487459105779716\n",
      "f1 score is 0.9410492157923203\n"
     ]
    }
   ],
   "source": [
    "from sklearn.linear_model import LogisticRegression #关注函数中的max_iter参数\n",
    "#评价指标函数\n",
    "from sklearn.metrics import accuracy_score\n",
    "from sklearn.metrics import precision_score\n",
    "from sklearn.metrics import recall_score\n",
    "from sklearn.metrics import f1_score\n",
    "from sklearn.model_selection import cross_val_predict\n",
    "#模型训练\n",
    "# YOUR CODE HERE\n",
    "epoch_list = [100, 1000, 5000]\n",
    "def train_logisticregression(epoch_list, data, solver_method):\n",
    "    for i in epoch_list:\n",
    "        print(\"\\n\")\n",
    "        print(\"when max iter is \", i)\n",
    "        net = LogisticRegression(penalty='l2', C=1.0, solver=solver_method, max_iter=i)\n",
    "        x_train = data[:, 0:19]\n",
    "        y_train = data[:,-1]\n",
    "        # print(y_train)\n",
    "        net.fit(x_train, y_train)\n",
    "        print(\"coef is\")\n",
    "\n",
    "        print(net.coef_)\n",
    "        print('intercept is')\n",
    "        print(net.intercept_)\n",
    "        #模型评估\n",
    "        # YOUR CODE HERE\n",
    "        prediction_phone = cross_val_predict(net, x_train, y_train)\n",
    "\n",
    "        print(\"acc is\",accuracy_score(y_train, prediction_phone))\n",
    "        print(\"precision score is\",precision_score(y_train, prediction_phone))\n",
    "        print(\"recall score is\", recall_score(y_train, prediction_phone))\n",
    "        print(\"f1 score is\", f1_score(y_train, prediction_phone))\n",
    "\n",
    "print(\"solver method is sag\\n\")\n",
    "train_logisticregression(epoch_list, data, 'sag')\n",
    "print(\"solver method is liblinear\\n\")\n",
    "train_logisticregression(epoch_list, data, 'liblinear')\n"
   ],
   "metadata": {
    "collapsed": false,
    "pycharm": {
     "name": "#%%\n"
    }
   }
  },
  {
   "cell_type": "code",
   "execution_count": 15,
   "id": "3c57180d",
   "metadata": {
    "pycharm": {
     "name": "#%%\n"
    }
   },
   "outputs": [
    {
     "name": "stdout",
     "output_type": "stream",
     "text": [
      "solver method is svd\n",
      "\n",
      "\n",
      "\n",
      "when max iter is  100\n",
      "coef is\n",
      "[[ 0.00247661 -0.07522827  0.04159584 -0.27898454  0.00977888 -0.28477765\n",
      "  -0.00059856 -0.37855817 -0.00049352  0.10195338 -0.00169042  0.0011974\n",
      "   0.00121004  0.00537541 -0.00980035  0.00816344 -0.01980988  0.3409289\n",
      "  -0.22010554]]\n",
      "intercept is\n",
      "[-16.5731444]\n",
      "acc is 0.9648351648351648\n",
      "precision score is 0.9712707182320443\n",
      "recall score is 0.9585605234460196\n",
      "f1 score is 0.9648737650933041\n",
      "\n",
      "\n",
      "when max iter is  1000\n",
      "coef is\n",
      "[[ 0.00247661 -0.07522827  0.04159584 -0.27898454  0.00977888 -0.28477765\n",
      "  -0.00059856 -0.37855817 -0.00049352  0.10195338 -0.00169042  0.0011974\n",
      "   0.00121004  0.00537541 -0.00980035  0.00816344 -0.01980988  0.3409289\n",
      "  -0.22010554]]\n",
      "intercept is\n",
      "[-16.5731444]\n",
      "acc is 0.9648351648351648\n",
      "precision score is 0.9712707182320443\n",
      "recall score is 0.9585605234460196\n",
      "f1 score is 0.9648737650933041\n",
      "\n",
      "\n",
      "when max iter is  5000\n",
      "coef is\n",
      "[[ 0.00247661 -0.07522827  0.04159584 -0.27898454  0.00977888 -0.28477765\n",
      "  -0.00059856 -0.37855817 -0.00049352  0.10195338 -0.00169042  0.0011974\n",
      "   0.00121004  0.00537541 -0.00980035  0.00816344 -0.01980988  0.3409289\n",
      "  -0.22010554]]\n",
      "intercept is\n",
      "[-16.5731444]\n",
      "acc is 0.9648351648351648\n",
      "precision score is 0.9712707182320443\n",
      "recall score is 0.9585605234460196\n",
      "f1 score is 0.9648737650933041\n"
     ]
    }
   ],
   "source": [
    "#模型训练\n",
    "# YOUR CODE HERE\n",
    "#模型评估\n",
    "# YOUR CODE HERE\n",
    "# train and test combined\n",
    "epoch_list = [100, 1000, 5000]\n",
    "def train_discriminant(epoch_list, data, solver_method):\n",
    "    for i in epoch_list:\n",
    "        print(\"\\n\")\n",
    "        print(\"when max iter is \", i)\n",
    "        net = LinearDiscriminantAnalysis(solver=solver_method)\n",
    "        # net = LogisticRegression(penalty='l2', C=1.0, solver=solver_method, max_iter=i)\n",
    "        x_train = data[:, 0:19]\n",
    "        y_train = data[:,-1]\n",
    "        # print(y_train)\n",
    "        net.fit(x_train, y_train)\n",
    "        print(\"coef is\")\n",
    "\n",
    "        print(net.coef_)\n",
    "        print('intercept is')\n",
    "        print(net.intercept_)\n",
    "        #模型评估\n",
    "        # YOUR CODE HERE\n",
    "        prediction_phone = cross_val_predict(net, x_train, y_train)\n",
    "\n",
    "        print(\"acc is\",accuracy_score(y_train, prediction_phone))\n",
    "        print(\"precision score is\",precision_score(y_train, prediction_phone))\n",
    "        print(\"recall score is\", recall_score(y_train, prediction_phone))\n",
    "        print(\"f1 score is\", f1_score(y_train, prediction_phone))\n",
    "\n",
    "print(\"solver method is svd\\n\")\n",
    "train_discriminant(epoch_list, data, 'svd')\n",
    "# print(\"solver method is liblinear\\n\")\n",
    "# train_logisticregression(epoch_list, data, 'liblinear')\n",
    "\n"
   ]
  },
  {
   "cell_type": "markdown",
   "id": "8f3177b5",
   "metadata": {
    "pycharm": {
     "name": "#%% md\n"
    }
   },
   "source": [
    "#### 针对选做，填写以下表格"
   ]
  },
  {
   "cell_type": "code",
   "execution_count": 17,
   "outputs": [],
   "source": [
    "# 不选会扣分吗 doge\n",
    "from sklearn import datasets\n",
    "from sklearn.model_selection import train_test_split\n",
    "from sklearn.multiclass import OneVsRestClassifier\n",
    "from sklearn.multiclass import OneVsOneClassifier\n",
    "from sklearn.multiclass import OutputCodeClassifier\n",
    "from sklearn.linear_model import LogisticRegression\n",
    "from sklearn.metrics import accuracy_score\n"
   ],
   "metadata": {
    "collapsed": false,
    "pycharm": {
     "name": "#%%\n"
    }
   }
  },
  {
   "cell_type": "markdown",
   "source": [
    "###### 双击此处填写\n",
    "1. 模型1的处理流程：\n",
    "2. 模型2的处理流程：\n",
    "3. 模型3的处理流程:\n",
    "\n",
    "模型|数据集|精度|查准率|查全率|F1\n",
    "-|-|-|-|-|-\n",
    "模型1 | 数据集 | 0.0 | 0.0 | 0.0 | 0.0\n",
    "模型2 | 数据集 | 0.0 | 0.0 | 0.0 | 0.0\n",
    "模型3 | 数据集 | 0.0 | 0.0 | 0.0 | 0.0"
   ],
   "metadata": {
    "collapsed": false,
    "pycharm": {
     "name": "#%% md\n"
    }
   }
  },
  {
   "cell_type": "markdown",
   "source": [
    "### 多分类学习"
   ],
   "metadata": {
    "collapsed": false,
    "pycharm": {
     "name": "#%% md\n"
    }
   }
  },
  {
   "cell_type": "markdown",
   "source": [
    "- 1.分别实现一对一，一对其余，多对多的拆分策略，分类器要求任选上述所学中的一种。\n",
    "- 2.数据集选择鸢尾花数据集，随机划分20%作为测试集，根据测试集的精度(accuracy)，查准率(precision)，查全率(recall)，F1值分析拆分策略的优劣。（让学生掌握多分类学习任务的策略）\n",
    "- 3.观察三种方法在实验结果上的差异，分析其原因\n",
    "- 4.选做：选取前两列特征进行训练，并对训练结果进行可视化"
   ],
   "metadata": {
    "collapsed": false,
    "pycharm": {
     "name": "#%% md\n"
    }
   }
  },
  {
   "cell_type": "markdown",
   "source": [
    "将多分类任务拆为多个二分类任务求解，一般有 3 种拆分策略：\n",
    "- （1）OvO（一对一，One vs One）：假如数据 D 中有 N 个类别，将 N 个类别进行两两配对，产生 N（N-1）/2 个二分类器，在预测中，将测试样本输入这 N（N-1）/2 个二分类器中得到相应个数的预测结果，然后再将被预测结果数最多的（Voting）作为最终分类结果。\n",
    "- （2）OvR（一对其余，One vs Rest）: 将一个类别作为正例，其余所有类别作为反例，这样 N 个类别可以产生 N 个二分类器，将测试样本输入这些二分类器中中得到 N 个预测结果，如果仅有一个分类器预测为正类，则将对应的预测结果作为最终预测结果。如果有多个分类器预测为正类，则选择置信度最大的类别作为最终分类结果。\n",
    "- （3）MvM（多对多，Many vs Many）：将数据集中的若干个类作为正例，若干个其他类作为反例。MvM 的正、反类构造必须有特殊的设计，而不是随意选取，通常采用“纠错输出码（ECOC）”，产生编码矩阵后划分类别。"
   ],
   "metadata": {
    "collapsed": false,
    "pycharm": {
     "name": "#%% md\n"
    }
   }
  },
  {
   "cell_type": "markdown",
   "source": [],
   "metadata": {
    "collapsed": false,
    "pycharm": {
     "name": "#%% md\n"
    }
   }
  },
  {
   "cell_type": "markdown",
   "source": [
    "参考文献：\n",
    "https://scikit-learn.org/stable/modules/generated/sklearn.multiclass.OutputCodeClassifier.html\n",
    "https://scikit-learn.org/stable/modules/generated/sklearn.multiclass.OneVsOneClassifier.html\n",
    "https://scikit-learn.org/stable/modules/generated/sklearn.multiclass.OneVsRestClassifier.html"
   ],
   "metadata": {
    "collapsed": false,
    "pycharm": {
     "name": "#%% md\n"
    }
   }
  },
  {
   "cell_type": "code",
   "execution_count": 17,
   "id": "60c24e18",
   "metadata": {
    "pycharm": {
     "name": "#%%\n"
    }
   },
   "outputs": [],
   "source": [
    "#加载鸢尾花数据集\n",
    "from sklearn import datasets\n",
    "from sklearn.model_selection import train_test_split\n",
    "from sklearn.multiclass import OneVsRestClassifier\n",
    "from sklearn.multiclass import OneVsOneClassifier\n",
    "from sklearn.multiclass import OutputCodeClassifier\n",
    "from sklearn.linear_model import LogisticRegression\n",
    "from sklearn.metrics import accuracy_score\n",
    "from sklearn.metrics import precision_score\n",
    "from sklearn.metrics import recall_score\n",
    "from sklearn.metrics import precision_score\n",
    "from sklearn.metrics import f1_score\n",
    "\n",
    "data_iris = datasets.load_iris()\n",
    "x, y = data_iris.data, data_iris.target\n",
    "x_train, x_test, y_train, y_test = train_test_split(x, y, test_size = 0.2,random_state = 0, shuffle=True)\n",
    "# source code may have something wrong. test size = 0.2  follows the question stem, and the source one is 0.3\n",
    "# print(x)\n",
    "# print(y)\n"
   ]
  },
  {
   "cell_type": "code",
   "execution_count": 20,
   "id": "3aaf018f",
   "metadata": {
    "pycharm": {
     "name": "#%%\n"
    }
   },
   "outputs": [
    {
     "name": "stdout",
     "output_type": "stream",
     "text": [
      "the result of OvO\n",
      "acc is 1.0\n",
      "precision is 1.0\n",
      "recall is 1.0\n",
      "f1 is 1.0\n",
      "the result of OvR\n",
      "acc is 0.9666666666666667\n",
      "precision is 0.9714285714285714\n",
      "recall is 0.9666666666666667\n",
      "f1 is 0.9672820512820512\n",
      "the result of OvR\n",
      "acc is 0.5666666666666667\n",
      "precision is 0.3680555555555555\n",
      "recall is 0.5666666666666667\n",
      "f1 is 0.4304761904761905\n"
     ]
    },
    {
     "name": "stderr",
     "output_type": "stream",
     "text": [
      "D:\\Anaconda3_2022.05\\envs\\pytorch\\lib\\site-packages\\sklearn\\metrics\\_classification.py:1318: UndefinedMetricWarning: Precision is ill-defined and being set to 0.0 in labels with no predicted samples. Use `zero_division` parameter to control this behavior.\n",
      "  _warn_prf(average, modifier, msg_start, len(result))\n"
     ]
    }
   ],
   "source": [
    "# 使用multiclass的OvO多分类策略\n",
    "# YOUR CODE HERE\n",
    "clf1 = OneVsOneClassifier(LogisticRegression()).fit(x_train, y_train)\n",
    "result1 = clf1.predict(x_test)\n",
    "print('the result of OvO')\n",
    "print('acc is',accuracy_score(y_test, result1))\n",
    "print('precision is', precision_score(y_test, result1, average='weighted'))\n",
    "print('recall is', recall_score(y_test, result1, average='weighted'))\n",
    "print('f1 is', f1_score(y_test, result1, average='weighted'))\n",
    "# 使用multiclass的OvR多分类策略\n",
    "# YOUR CODE HERE\n",
    "clf2 = OneVsRestClassifier(LogisticRegression()).fit(x_train, y_train)\n",
    "result2 = clf2.predict(x_test)\n",
    "print('the result of OvR')\n",
    "print('acc is',accuracy_score(y_test, result2))\n",
    "print('precision is', precision_score(y_test, result2, average='weighted'))\n",
    "print('recall is', recall_score(y_test, result2, average='weighted'))\n",
    "print('f1 is', f1_score(y_test, result2, average='weighted'))\n",
    "#借助OutputCodeClassifier 实现多对多\n",
    "# YOUR CODE HERE\n",
    "clf3 = OutputCodeClassifier(LogisticRegression()).fit(x_train, y_train)\n",
    "result3 = clf3.predict(x_test)\n",
    "print('the result of OvR')\n",
    "print('acc is',accuracy_score(y_test, result3))\n",
    "print('precision is', precision_score(y_test, result3, average='weighted'))\n",
    "print('recall is', recall_score(y_test, result3, average='weighted'))\n",
    "print('f1 is', f1_score(y_test, result3, average='weighted'))"
   ]
  },
  {
   "cell_type": "markdown",
   "id": "976f9d68",
   "metadata": {
    "pycharm": {
     "name": "#%% md\n"
    }
   },
   "source": [
    "#### 汇总三种方法结果，比较并尝试分析原因"
   ]
  },
  {
   "cell_type": "markdown",
   "id": "6f0bc284",
   "metadata": {
    "pycharm": {
     "name": "#%% md\n"
    }
   },
   "source": [
    "###### 双击此处填写\n",
    "\n",
    "模型|分类器|精度|查准率|查全率|F1\n",
    "model: Logistic Regression\n",
    "-|-|-|-|-|-\n",
    "OvO |  |  1.0 | 1.0 | 1.0  | 1.0\n",
    "OvR |  |0.9666666666666667 | 0.9714285714285714 | 0.9666666666666667 | 0.9672820512820512\n",
    "MvM |  | 0.5666666666666667 | 0.3680555555555555 | 0.5666666666666667 | 0.4304761904761905\n",
    "\n",
    "结果分析：\n",
    "对于 OvO效果非常好， 以至于我一开始还以为是什么地方做错了。OVR的效果也非常好。个人对OvR和OvO的理解是，他们的区别可能主要体现在计算性能差异上，效果许多时候差异并不大，只是这个数据集由于OvO直接100%了，所以显得OVR稍差一点。这个数据集也不是很大，本人的电脑配置并不是很好，跑的也很快，性能不是考虑的关键。\n",
    "至于MvM主要比较依赖ECOC，这个变数很多，现在看来效果不是这么好。\n"
   ]
  },
  {
   "cell_type": "markdown",
   "id": "5f71a026",
   "metadata": {
    "pycharm": {
     "name": "#%% md\n"
    }
   },
   "source": [
    "#### 选做：选取前两列特征，任选上述三种方法之一进行重新训练，可视化实验结果"
   ]
  },
  {
   "cell_type": "code",
   "execution_count": 127,
   "id": "a41fca4a",
   "metadata": {
    "pycharm": {
     "name": "#%%\n"
    }
   },
   "outputs": [
    {
     "name": "stdout",
     "output_type": "stream",
     "text": [
      "the result of OvR\n",
      "acc is 0.7333333333333333\n",
      "precision is 0.7568181818181817\n",
      "recall is 0.7333333333333333\n",
      "f1 is 0.7412698412698414\n"
     ]
    },
    {
     "data": {
      "text/plain": "<matplotlib.collections.PathCollection at 0x20f147f86c8>"
     },
     "execution_count": 127,
     "metadata": {},
     "output_type": "execute_result"
    },
    {
     "data": {
      "text/plain": "<Figure size 432x288 with 1 Axes>",
      "image/png": "[encoded data removed]"
     },
     "metadata": {
      "needs_background": "light"
     },
     "output_type": "display_data"
    }
   ],
   "source": [
    "# 可以不选吗 doge\n",
    "# 尝试画了一下 pcolormesh文档太少了 官方文档连个例子都没有 就用scatter浅画了一下 感觉没有实验课上的例子好看 doge\n",
    "import matplotlib.pyplot as plt\n",
    "from matplotlib import colors\n",
    "import matplotlib as mpl\n",
    "import numpy as np\n",
    "#参考：借助plt.pcolormesh，plt.scatter，工具\n",
    "\n",
    "cm_light = mpl.colors.ListedColormap(['#A0FFA0', '#FFA0A0', '#A0A0FF'])\n",
    "data_iris = datasets.load_iris()\n",
    "x, y = data_iris.data, data_iris.target\n",
    "x_train, x_test, y_train, y_test = train_test_split(x, y, test_size = 0.2,random_state = 0, shuffle=True)\n",
    "x_train = x_train[:, 0:2]\n",
    "x_test = x_test[:, 0:2]\n",
    "\n",
    "# i chose ovo\n",
    "result4 = OneVsOneClassifier(LogisticRegression()).fit(x_train, y_train).predict(x_test)\n",
    "print('the result of OvR')\n",
    "print('acc is',accuracy_score(y_test, result4))\n",
    "print('precision is', precision_score(y_test, result4, average='weighted'))\n",
    "print('recall is', recall_score(y_test, result4, average='weighted'))\n",
    "print('f1 is', f1_score(y_test, result4, average='weighted'))\n",
    "plt.scatter(x_test[:,0],x_test[:,1], c=result4)\n",
    "# print(result4.shape)\n",
    "# Z = np.concatenate((x_test, result4.reshape(30,-1)), axis=1)\n",
    "# print(Z)\n",
    "# plt.pcolormesh( Z, cmap=cm_light)\n",
    "# plt.pcolormesh(x_train[:,0], x_train[:,1],y_train, cmap=cm_light)\n",
    "\n"
   ]
  }
 ],
 "metadata": {
  "kernelspec": {
   "display_name": "Python 3 (ipykernel)",
   "language": "python",
   "name": "python3"
  },
  "language_info": {
   "codemirror_mode": {
    "name": "ipython",
    "version": 3
   },
   "file_extension": ".py",
   "mimetype": "text/x-python",
   "name": "python",
   "nbconvert_exporter": "python",
   "pygments_lexer": "ipython3",
   "version": "3.8.10"
  },
  "toc": {
   "base_numbering": 1,
   "nav_menu": {},
   "number_sections": true,
   "sideBar": true,
   "skip_h1_title": false,
   "title_cell": "Table of Contents",
   "title_sidebar": "Contents",
   "toc_cell": false,
   "toc_position": {
    "height": "calc(100% - 180px)",
    "left": "10px",
    "top": "150px",
    "width": "236.009px"
   },
   "toc_section_display": true,
   "toc_window_display": true
  }
 },
 "nbformat": 4,
 "nbformat_minor": 5
}