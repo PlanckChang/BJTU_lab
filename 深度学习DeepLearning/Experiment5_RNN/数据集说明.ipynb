{
 "cells": [
  {
   "cell_type": "markdown",
   "metadata": {
    "slideshow": {
     "slide_type": "slide"
    },
    "tags": [],
    "pycharm": {
     "name": "#%% md\n"
    }
   },
   "source": [
    "# 任务说明\n",
    "\n"
   ]
  },
  {
   "cell_type": "code",
   "execution_count": 2,
   "metadata": {
    "pycharm": {
     "name": "#%%\n"
    }
   },
   "outputs": [],
   "source": [
    "import os\n",
    "\n",
    "import numpy as np\n",
    "import pandas as pd\n",
    "\n",
    "import torch\n",
    "from torch import nn"
   ]
  },
  {
   "cell_type": "markdown",
   "metadata": {
    "slideshow": {
     "slide_type": "slide"
    },
    "tags": [],
    "pycharm": {
     "name": "#%% md\n"
    }
   },
   "source": [
    "## 数据集介绍\n",
    "\n",
    "### 车流量数据\n",
    "\n",
    "数据由铺设在道路上的检测线圈采集。\n",
    "\n",
    "原始数据使用numpy二进制文件存储，可以使用numpy.load函数读取。下面简单讲解数据的读取方式，以及数据的含义。"
   ]
  },
  {
   "cell_type": "code",
   "execution_count": 1,
   "outputs": [],
   "source": [
    "import numpy as np\n",
    "import pandas as pd\n",
    "import torch\n",
    "import torch.utils.data as data\n",
    "import warnings\n",
    "warnings.filterwarnings(\"ignore\")"
   ],
   "metadata": {
    "collapsed": false,
    "pycharm": {
     "name": "#%%\n"
    }
   }
  },
  {
   "cell_type": "code",
   "execution_count": 3,
   "metadata": {
    "tags": [],
    "pycharm": {
     "name": "#%%\n"
    }
   },
   "outputs": [
    {
     "name": "stdout",
     "output_type": "stream",
     "text": [
      "(17856, 170, 3)\n",
      "[[[1.330e+02 6.030e-02 6.580e+01]\n",
      "  [2.100e+02 5.890e-02 6.960e+01]\n",
      "  [1.240e+02 3.580e-02 6.580e+01]\n",
      "  ...\n",
      "  [7.400e+01 2.131e-01 6.530e+01]\n",
      "  [9.400e+01 2.260e-02 6.800e+01]\n",
      "  [6.000e+00 3.100e-03 6.500e+01]]\n",
      "\n",
      " [[1.140e+02 5.320e-02 6.690e+01]\n",
      "  [1.850e+02 5.500e-02 6.850e+01]\n",
      "  [1.190e+02 3.390e-02 6.500e+01]\n",
      "  ...\n",
      "  [7.300e+01 1.469e-01 3.720e+01]\n",
      "  [8.400e+01 1.890e-02 6.870e+01]\n",
      "  [4.000e+00 1.800e-03 6.500e+01]]\n",
      "\n",
      " [[1.400e+02 6.220e-02 6.680e+01]\n",
      "  [1.710e+02 4.660e-02 6.990e+01]\n",
      "  [1.070e+02 3.360e-02 6.380e+01]\n",
      "  ...\n",
      "  [7.000e+01 5.860e-02 3.400e+01]\n",
      "  [8.200e+01 2.200e-02 6.700e+01]\n",
      "  [4.000e+00 2.100e-03 6.490e+01]]\n",
      "\n",
      " ...\n",
      "\n",
      " [[1.200e+02 5.810e-02 6.330e+01]\n",
      "  [1.760e+02 5.290e-02 6.680e+01]\n",
      "  [1.190e+02 5.180e-02 5.610e+01]\n",
      "  ...\n",
      "  [4.700e+01 1.551e-01 3.220e+01]\n",
      "  [9.100e+01 2.290e-02 6.640e+01]\n",
      "  [3.000e+00 1.400e-03 6.530e+01]]\n",
      "\n",
      " [[1.020e+02 5.790e-02 6.140e+01]\n",
      "  [1.650e+02 4.920e-02 6.720e+01]\n",
      "  [1.330e+02 5.070e-02 5.890e+01]\n",
      "  ...\n",
      "  [9.700e+01 1.265e-01 3.080e+01]\n",
      "  [8.500e+01 2.080e-02 6.750e+01]\n",
      "  [2.000e+00 1.000e-03 6.520e+01]]\n",
      "\n",
      " [[1.020e+02 5.650e-02 6.170e+01]\n",
      "  [1.660e+02 5.020e-02 6.760e+01]\n",
      "  [1.330e+02 4.640e-02 5.630e+01]\n",
      "  ...\n",
      "  [8.300e+01 2.730e-02 5.910e+01]\n",
      "  [7.000e+01 1.880e-02 6.660e+01]\n",
      "  [6.000e+00 2.600e-03 6.520e+01]]]\n"
     ]
    }
   ],
   "source": [
    "raw_data = np.load('../Datasets/traffic-flow/traffic.npz')['data']\n",
    "print(raw_data.shape)\n",
    "print(raw_data)"
   ]
  },
  {
   "cell_type": "code",
   "execution_count": 4,
   "metadata": {
    "slideshow": {
     "slide_type": "subslide"
    },
    "tags": [],
    "pycharm": {
     "name": "#%%\n"
    }
   },
   "outputs": [
    {
     "name": "stdout",
     "output_type": "stream",
     "text": [
      "(17856, 170, 3)\n"
     ]
    }
   ],
   "source": [
    "print(raw_data.shape)"
   ]
  },
  {
   "cell_type": "markdown",
   "metadata": {
    "tags": [],
    "pycharm": {
     "name": "#%% md\n"
    }
   },
   "source": [
    "可以看到数据包含3个维度。\n",
    "\n",
    "- 第一个维度代表数据的总条数。也就是说，原始长序列总长为16992.\n",
    "- 第二个维度代表传感器的数量。\n",
    "- 第三个维度代表每个传感器收集到的不同种类数据，分别为车流量、拥挤程度和车速。在实际实验中，可以任意选取一个特征进行预测。\n",
    "\n",
    "综上所述，本数据集包含170个传感器，每个传感器都包含长度为17856的连续采样值序列。在构造训练集时，可首先将每个传感器的长序列划分为训练/验证/测试序列，再使用滑动窗口。本数据的时间轴**已经被规整化且无任何缺失值，因此仅需使用固定长度的滑动窗口**。"
   ]
  },
  {
   "cell_type": "markdown",
   "metadata": {
    "slideshow": {
     "slide_type": "subslide"
    },
    "tags": [],
    "pycharm": {
     "name": "#%% md\n"
    }
   },
   "source": [
    "    **在这个实验中，可以只选一个传感器，通过window_size步数据预测下一时间段的值，下面是构造训练集的示例代码：**"
   ]
  },
  {
   "cell_type": "code",
   "execution_count": 1,
   "metadata": {
    "tags": [],
    "pycharm": {
     "name": "#%%\n"
    }
   },
   "outputs": [
    {
     "ename": "NameError",
     "evalue": "name 'raw_data' is not defined",
     "output_type": "error",
     "traceback": [
      "\u001B[1;31m---------------------------------------------------------------------------\u001B[0m",
      "\u001B[1;31mNameError\u001B[0m                                 Traceback (most recent call last)",
      "\u001B[1;32m~\\AppData\\Local\\Temp\\ipykernel_18688\\2004489132.py\u001B[0m in \u001B[0;36m<module>\u001B[1;34m\u001B[0m\n\u001B[0;32m      5\u001B[0m \u001B[0mtrain_x\u001B[0m \u001B[1;33m=\u001B[0m \u001B[1;33m[\u001B[0m\u001B[1;33m]\u001B[0m\u001B[1;33m\u001B[0m\u001B[1;33m\u001B[0m\u001B[0m\n\u001B[0;32m      6\u001B[0m \u001B[0mtrain_y\u001B[0m \u001B[1;33m=\u001B[0m \u001B[1;33m[\u001B[0m\u001B[1;33m]\u001B[0m\u001B[1;33m\u001B[0m\u001B[1;33m\u001B[0m\u001B[0m\n\u001B[1;32m----> 7\u001B[1;33m \u001B[0mlen_train\u001B[0m \u001B[1;33m=\u001B[0m \u001B[0mint\u001B[0m\u001B[1;33m(\u001B[0m\u001B[0mraw_data\u001B[0m\u001B[1;33m.\u001B[0m\u001B[0mshape\u001B[0m\u001B[1;33m[\u001B[0m\u001B[1;36m0\u001B[0m\u001B[1;33m]\u001B[0m \u001B[1;33m*\u001B[0m \u001B[1;36m0.6\u001B[0m\u001B[1;33m)\u001B[0m\u001B[1;33m\u001B[0m\u001B[1;33m\u001B[0m\u001B[0m\n\u001B[0m\u001B[0;32m      8\u001B[0m \u001B[0mtrain_seqs\u001B[0m \u001B[1;33m=\u001B[0m \u001B[0mraw_data\u001B[0m\u001B[1;33m[\u001B[0m\u001B[1;33m:\u001B[0m\u001B[0mlen_train\u001B[0m\u001B[1;33m]\u001B[0m\u001B[1;33m\u001B[0m\u001B[1;33m\u001B[0m\u001B[0m\n\u001B[0;32m      9\u001B[0m \u001B[1;32mfor\u001B[0m \u001B[0mi\u001B[0m \u001B[1;32min\u001B[0m \u001B[0mrange\u001B[0m\u001B[1;33m(\u001B[0m\u001B[0mtrain_seqs\u001B[0m\u001B[1;33m.\u001B[0m\u001B[0mshape\u001B[0m\u001B[1;33m[\u001B[0m\u001B[1;36m0\u001B[0m\u001B[1;33m]\u001B[0m \u001B[1;33m-\u001B[0m \u001B[0mwindow_size\u001B[0m\u001B[1;33m)\u001B[0m\u001B[1;33m:\u001B[0m\u001B[1;33m\u001B[0m\u001B[1;33m\u001B[0m\u001B[0m\n",
      "\u001B[1;31mNameError\u001B[0m: name 'raw_data' is not defined"
     ]
    }
   ],
   "source": [
    "target = 0       # 选择第一维数据进行预测\n",
    "window_size = 12\n",
    "sensor_num = 5      # 选择5号感器\n",
    "\n",
    "train_x = []\n",
    "train_y = []\n",
    "len_train = int(raw_data.shape[0] * 0.6)\n",
    "train_seqs = raw_data[:len_train]\n",
    "for i in range(train_seqs.shape[0] - window_size):\n",
    "    train_x.append(train_seqs[i:i+window_size, sensor_num, :].squeeze())\n",
    "    train_y.append(train_seqs[i+window_size, sensor_num, target].squeeze())\n",
    "\n",
    "train_x = torch.Tensor(train_x)\n",
    "train_y = torch.Tensor(train_y)\n",
    "train_x.shape"
   ]
  },
  {
   "cell_type": "markdown",
   "metadata": {
    "slideshow": {
     "slide_type": "slide"
    },
    "tags": [],
    "pycharm": {
     "name": "#%% md\n"
    }
   },
   "source": [
    "### FourSquare checkin数据集\n",
    "\n",
    "FourSquare是一个地点推荐网站，类似于国内的大众点评。当用户到达某个地点时，可以通过手机App进行“签到”(check-in)，如此一来，将一个用户所有的签到记录按照时间顺序排序，就能得到此用户的行动轨迹。本实验中使用的数据包含纽约的用户签到数据，存储在FS_NYC.csv文件中。原始数据直接通过逗号分隔值(csv)格式存储，可以通过pandas进行读取和简单的处理。"
   ]
  },
  {
   "cell_type": "code",
   "execution_count": 6,
   "metadata": {
    "scrolled": true,
    "slideshow": {
     "slide_type": "subslide"
    },
    "tags": [],
    "pycharm": {
     "name": "#%%\n"
    }
   },
   "outputs": [
    {
     "data": {
      "text/html": [
       "<div>\n",
       "<style scoped>\n",
       "    .dataframe tbody tr th:only-of-type {\n",
       "        vertical-align: middle;\n",
       "    }\n",
       "\n",
       "    .dataframe tbody tr th {\n",
       "        vertical-align: top;\n",
       "    }\n",
       "\n",
       "    .dataframe thead th {\n",
       "        text-align: right;\n",
       "    }\n",
       "</style>\n",
       "<table border=\"1\" class=\"dataframe\">\n",
       "  <thead>\n",
       "    <tr style=\"text-align: right;\">\n",
       "      <th></th>\n",
       "      <th>userId</th>\n",
       "      <th>venueId</th>\n",
       "      <th>venueCategoryId</th>\n",
       "      <th>venueCategory</th>\n",
       "      <th>latitude</th>\n",
       "      <th>longitude</th>\n",
       "      <th>timezoneOffset</th>\n",
       "      <th>utcTimestamp</th>\n",
       "    </tr>\n",
       "  </thead>\n",
       "  <tbody>\n",
       "    <tr>\n",
       "      <th>0</th>\n",
       "      <td>470</td>\n",
       "      <td>49bbd6c0f964a520f4531fe3</td>\n",
       "      <td>4bf58dd8d48988d127951735</td>\n",
       "      <td>Arts &amp; Crafts Store</td>\n",
       "      <td>40.719810</td>\n",
       "      <td>-74.002581</td>\n",
       "      <td>-240</td>\n",
       "      <td>2012-04-03 18:00:09+00:00</td>\n",
       "    </tr>\n",
       "    <tr>\n",
       "      <th>1</th>\n",
       "      <td>979</td>\n",
       "      <td>4a43c0aef964a520c6a61fe3</td>\n",
       "      <td>4bf58dd8d48988d1df941735</td>\n",
       "      <td>Bridge</td>\n",
       "      <td>40.606800</td>\n",
       "      <td>-74.044170</td>\n",
       "      <td>-240</td>\n",
       "      <td>2012-04-03 18:00:25+00:00</td>\n",
       "    </tr>\n",
       "    <tr>\n",
       "      <th>2</th>\n",
       "      <td>69</td>\n",
       "      <td>4c5cc7b485a1e21e00d35711</td>\n",
       "      <td>4bf58dd8d48988d103941735</td>\n",
       "      <td>Home (private)</td>\n",
       "      <td>40.716162</td>\n",
       "      <td>-73.883070</td>\n",
       "      <td>-240</td>\n",
       "      <td>2012-04-03 18:02:24+00:00</td>\n",
       "    </tr>\n",
       "    <tr>\n",
       "      <th>3</th>\n",
       "      <td>395</td>\n",
       "      <td>4bc7086715a7ef3bef9878da</td>\n",
       "      <td>4bf58dd8d48988d104941735</td>\n",
       "      <td>Medical Center</td>\n",
       "      <td>40.745164</td>\n",
       "      <td>-73.982519</td>\n",
       "      <td>-240</td>\n",
       "      <td>2012-04-03 18:02:41+00:00</td>\n",
       "    </tr>\n",
       "    <tr>\n",
       "      <th>4</th>\n",
       "      <td>87</td>\n",
       "      <td>4cf2c5321d18a143951b5cec</td>\n",
       "      <td>4bf58dd8d48988d1cb941735</td>\n",
       "      <td>Food Truck</td>\n",
       "      <td>40.740104</td>\n",
       "      <td>-73.989658</td>\n",
       "      <td>-240</td>\n",
       "      <td>2012-04-03 18:03:00+00:00</td>\n",
       "    </tr>\n",
       "  </tbody>\n",
       "</table>\n",
       "</div>"
      ],
      "text/plain": [
       "   userId                   venueId           venueCategoryId  \\\n",
       "0     470  49bbd6c0f964a520f4531fe3  4bf58dd8d48988d127951735   \n",
       "1     979  4a43c0aef964a520c6a61fe3  4bf58dd8d48988d1df941735   \n",
       "2      69  4c5cc7b485a1e21e00d35711  4bf58dd8d48988d103941735   \n",
       "3     395  4bc7086715a7ef3bef9878da  4bf58dd8d48988d104941735   \n",
       "4      87  4cf2c5321d18a143951b5cec  4bf58dd8d48988d1cb941735   \n",
       "\n",
       "         venueCategory   latitude  longitude  timezoneOffset  \\\n",
       "0  Arts & Crafts Store  40.719810 -74.002581            -240   \n",
       "1               Bridge  40.606800 -74.044170            -240   \n",
       "2       Home (private)  40.716162 -73.883070            -240   \n",
       "3       Medical Center  40.745164 -73.982519            -240   \n",
       "4           Food Truck  40.740104 -73.989658            -240   \n",
       "\n",
       "               utcTimestamp  \n",
       "0 2012-04-03 18:00:09+00:00  \n",
       "1 2012-04-03 18:00:25+00:00  \n",
       "2 2012-04-03 18:02:24+00:00  \n",
       "3 2012-04-03 18:02:41+00:00  \n",
       "4 2012-04-03 18:03:00+00:00  "
      ]
     },
     "execution_count": 6,
     "metadata": {},
     "output_type": "execute_result"
    }
   ],
   "source": [
    "nyc_data = pd.read_csv(os.path.join('../dataset', 'foursquare-checkin', 'FS_NYC.csv'), parse_dates=[-1])\n",
    "nyc_data.head()"
   ]
  },
  {
   "cell_type": "markdown",
   "metadata": {
    "slideshow": {
     "slide_type": "subslide"
    },
    "tags": [],
    "pycharm": {
     "name": "#%% md\n"
    }
   },
   "source": [
    "数据包含的列，以及它们的含义：\n",
    "\n",
    "| 列名             | 含义 |\n",
    "|-----------------|------|\n",
    "| userId          |用户ID，不同用户的唯一标识符|\n",
    "| venueId         |地点ID，不同地点的唯一标识符|\n",
    "| venueCategoryId |地点类别ID|\n",
    "| venueCategory   |地点类别的名称|\n",
    "|latitude|地点的纬度|\n",
    "|longitude|地点的经度|\n",
    "|timezoneOffset|所在时区相对于格林威治时间的时差(分钟)|\n",
    "|utcTimestamp|格林威治标准时间|\n",
    "\n",
    "在本次实验中，我们暂时只需要使用userId, venueId和utcTimestamp这三列。每位用户的所有check-in记录可以看作是一条序列。借助pandas中的groupby函数，我们可以遍历每位用户的所有记录。"
   ]
  },
  {
   "cell_type": "markdown",
   "metadata": {
    "slideshow": {
     "slide_type": "subslide"
    },
    "tags": [],
    "pycharm": {
     "name": "#%% md\n"
    }
   },
   "source": [
    "| 列名             | 含义 |\n",
    "|-----------------|------|\n",
    "| userId          |用户ID，不同用户的唯一标识符|\n",
    "| venueId         |地点ID，不同地点的唯一标识符|\n",
    "| venueCategoryId |地点类别ID|\n",
    "| venueCategory   |地点类别的名称|\n",
    "|latitude|地点的纬度|\n",
    "|longitude|地点的经度|\n",
    "|timezoneOffset|所在时区相对于格林威治时间的时差(分钟)|\n",
    "|utcTimestamp|格林威治标准时间|\n",
    "\n",
    "注意到原始的地点标识符venueId是hash码，这种格式是难以输入到神经网络模型中的。为了后续输入模型的方便，我们最好在预处理时将venueId映射到为从0开始的类标签。\n",
    "\n",
    "> 通过pandas.DataFrame.drop_duplicates()函数，我们可以得到包含数据集中所有venueId且无重复的集合。构造一个`{venue_id: venue_index}`的映射(dict)，然后调用pandas.Series.map()即可快速将原始的hash码变为类别标签。"
   ]
  },
  {
   "cell_type": "code",
   "execution_count": 8,
   "metadata": {
    "slideshow": {
     "slide_type": "subslide"
    },
    "tags": [],
    "pycharm": {
     "name": "#%%\n"
    }
   },
   "outputs": [
    {
     "data": {
      "text/html": [
       "<div>\n",
       "<style scoped>\n",
       "    .dataframe tbody tr th:only-of-type {\n",
       "        vertical-align: middle;\n",
       "    }\n",
       "\n",
       "    .dataframe tbody tr th {\n",
       "        vertical-align: top;\n",
       "    }\n",
       "\n",
       "    .dataframe thead th {\n",
       "        text-align: right;\n",
       "    }\n",
       "</style>\n",
       "<table border=\"1\" class=\"dataframe\">\n",
       "  <thead>\n",
       "    <tr style=\"text-align: right;\">\n",
       "      <th></th>\n",
       "      <th>userId</th>\n",
       "      <th>venueId</th>\n",
       "      <th>venueCategoryId</th>\n",
       "      <th>venueCategory</th>\n",
       "      <th>latitude</th>\n",
       "      <th>longitude</th>\n",
       "      <th>timezoneOffset</th>\n",
       "      <th>utcTimestamp</th>\n",
       "      <th>venueIndex</th>\n",
       "    </tr>\n",
       "  </thead>\n",
       "  <tbody>\n",
       "    <tr>\n",
       "      <th>0</th>\n",
       "      <td>470</td>\n",
       "      <td>49bbd6c0f964a520f4531fe3</td>\n",
       "      <td>4bf58dd8d48988d127951735</td>\n",
       "      <td>Arts &amp; Crafts Store</td>\n",
       "      <td>40.719810</td>\n",
       "      <td>-74.002581</td>\n",
       "      <td>-240</td>\n",
       "      <td>2012-04-03 18:00:09+00:00</td>\n",
       "      <td>0</td>\n",
       "    </tr>\n",
       "    <tr>\n",
       "      <th>1</th>\n",
       "      <td>979</td>\n",
       "      <td>4a43c0aef964a520c6a61fe3</td>\n",
       "      <td>4bf58dd8d48988d1df941735</td>\n",
       "      <td>Bridge</td>\n",
       "      <td>40.606800</td>\n",
       "      <td>-74.044170</td>\n",
       "      <td>-240</td>\n",
       "      <td>2012-04-03 18:00:25+00:00</td>\n",
       "      <td>1</td>\n",
       "    </tr>\n",
       "    <tr>\n",
       "      <th>2</th>\n",
       "      <td>69</td>\n",
       "      <td>4c5cc7b485a1e21e00d35711</td>\n",
       "      <td>4bf58dd8d48988d103941735</td>\n",
       "      <td>Home (private)</td>\n",
       "      <td>40.716162</td>\n",
       "      <td>-73.883070</td>\n",
       "      <td>-240</td>\n",
       "      <td>2012-04-03 18:02:24+00:00</td>\n",
       "      <td>2</td>\n",
       "    </tr>\n",
       "    <tr>\n",
       "      <th>3</th>\n",
       "      <td>395</td>\n",
       "      <td>4bc7086715a7ef3bef9878da</td>\n",
       "      <td>4bf58dd8d48988d104941735</td>\n",
       "      <td>Medical Center</td>\n",
       "      <td>40.745164</td>\n",
       "      <td>-73.982519</td>\n",
       "      <td>-240</td>\n",
       "      <td>2012-04-03 18:02:41+00:00</td>\n",
       "      <td>3</td>\n",
       "    </tr>\n",
       "    <tr>\n",
       "      <th>4</th>\n",
       "      <td>87</td>\n",
       "      <td>4cf2c5321d18a143951b5cec</td>\n",
       "      <td>4bf58dd8d48988d1cb941735</td>\n",
       "      <td>Food Truck</td>\n",
       "      <td>40.740104</td>\n",
       "      <td>-73.989658</td>\n",
       "      <td>-240</td>\n",
       "      <td>2012-04-03 18:03:00+00:00</td>\n",
       "      <td>4</td>\n",
       "    </tr>\n",
       "  </tbody>\n",
       "</table>\n",
       "</div>"
      ],
      "text/plain": [
       "   userId                   venueId           venueCategoryId  \\\n",
       "0     470  49bbd6c0f964a520f4531fe3  4bf58dd8d48988d127951735   \n",
       "1     979  4a43c0aef964a520c6a61fe3  4bf58dd8d48988d1df941735   \n",
       "2      69  4c5cc7b485a1e21e00d35711  4bf58dd8d48988d103941735   \n",
       "3     395  4bc7086715a7ef3bef9878da  4bf58dd8d48988d104941735   \n",
       "4      87  4cf2c5321d18a143951b5cec  4bf58dd8d48988d1cb941735   \n",
       "\n",
       "         venueCategory   latitude  longitude  timezoneOffset  \\\n",
       "0  Arts & Crafts Store  40.719810 -74.002581            -240   \n",
       "1               Bridge  40.606800 -74.044170            -240   \n",
       "2       Home (private)  40.716162 -73.883070            -240   \n",
       "3       Medical Center  40.745164 -73.982519            -240   \n",
       "4           Food Truck  40.740104 -73.989658            -240   \n",
       "\n",
       "               utcTimestamp  venueIndex  \n",
       "0 2012-04-03 18:00:09+00:00           0  \n",
       "1 2012-04-03 18:00:25+00:00           1  \n",
       "2 2012-04-03 18:02:24+00:00           2  \n",
       "3 2012-04-03 18:02:41+00:00           3  \n",
       "4 2012-04-03 18:03:00+00:00           4  "
      ]
     },
     "execution_count": 8,
     "metadata": {},
     "output_type": "execute_result"
    }
   ],
   "source": [
    "venue_id2index = {id:index for index, id in enumerate(nyc_data['venueId'].drop_duplicates())}\n",
    "nyc_data['venueIndex'] = nyc_data['venueId'].map(venue_id2index)\n",
    "nyc_data.head()"
   ]
  },
  {
   "cell_type": "markdown",
   "metadata": {
    "pycharm": {
     "name": "#%% md\n"
    }
   },
   "source": [
    "可以看到新增的列`venueIndex`即为我们需要的类别标签。"
   ]
  },
  {
   "cell_type": "markdown",
   "metadata": {
    "slideshow": {
     "slide_type": "subslide"
    },
    "tags": [],
    "pycharm": {
     "name": "#%% md\n"
    }
   },
   "source": [
    "下面是构造训练集的示例代码。需要注意的是，由于check-in数据集时间轴的不规整性，实际上使用**固定时间跨度**的滑动窗口更加合理。本任务的目的是通过前window_size个轨迹点来预测下一个轨迹点。"
   ]
  },
  {
   "cell_type": "code",
   "execution_count": 9,
   "metadata": {
    "scrolled": true,
    "pycharm": {
     "name": "#%%\n"
    }
   },
   "outputs": [
    {
     "name": "stdout",
     "output_type": "stream",
     "text": [
      "(123027, 12)\n"
     ]
    }
   ],
   "source": [
    "window_size = 12\n",
    "\n",
    "train_x = []\n",
    "train_y = []\n",
    "for user_id, group in nyc_data.groupby('userId'):\n",
    "    # pandas会对userId进行遍历。\n",
    "    # 每次遍历中，group包含了对应userId所有的check-in记录。\n",
    "    user_trajectory = group.sort_values(['utcTimestamp'])['venueIndex'].tolist()\n",
    "    train_trajectory = user_trajectory[:int(len(user_trajectory) * 0.6)]\n",
    "    for i in range(len(train_trajectory) - window_size):\n",
    "        train_x.append(train_trajectory[i:i+window_size])\n",
    "        train_y.append(train_trajectory[i+window_size])\n",
    "\n",
    "train_x = np.array(train_x)\n",
    "print(train_x.shape)"
   ]
  },
  {
   "cell_type": "markdown",
   "metadata": {
    "slideshow": {
     "slide_type": "slide"
    },
    "tags": [],
    "pycharm": {
     "name": "#%% md\n"
    }
   },
   "source": [
    "#### 额外说明：使用RNN处理离散数据"
   ]
  },
  {
   "cell_type": "markdown",
   "metadata": {
    "pycharm": {
     "name": "#%% md\n"
    }
   },
   "source": [
    "另外需要说明的是，由于类标签是离散数据，直接输入RNN模型是不合理的。一般的做法是使用一组可学习参数，将每个地点映射到一个一定长度的**嵌入向量**（Embedding vector）中。PyTorch中可以简单地实现："
   ]
  },
  {
   "cell_type": "code",
   "execution_count": 10,
   "metadata": {
    "pycharm": {
     "name": "#%%\n"
    }
   },
   "outputs": [
    {
     "name": "stdout",
     "output_type": "stream",
     "text": [
      "原始序列： torch.Size([64, 12])\n",
      "嵌入后序列： torch.Size([64, 12, 128])\n"
     ]
    }
   ],
   "source": [
    "# 取一个batch的原始轨迹序列\n",
    "batch = torch.from_numpy(train_x[:64]).long()\n",
    "print('原始序列：', batch.shape)\n",
    "\n",
    "# 初始化嵌入层。嵌入向量的长度需要指定，且input_size与其相等。\n",
    "embed_size = 128\n",
    "embed_layer = nn.Embedding(len(venue_id2index), embed_size)\n",
    "embedded_batch = embed_layer(batch)\n",
    "print('嵌入后序列：', embedded_batch.shape)"
   ]
  },
  {
   "cell_type": "markdown",
   "metadata": {
    "slideshow": {
     "slide_type": "subslide"
    },
    "tags": [],
    "pycharm": {
     "name": "#%% md\n"
    }
   },
   "source": [
    "可以看到嵌入后的序列符合RNN的输入格式，只不过每条数据的特征维度不再是1，而是嵌入向量的长度。需要注意的是嵌入层的参数是随机初始化的，应当与RNN共同训练。\n",
    "\n",
    "轨迹预测任务实际上就是**分类任务**，预测模型的原始输出应当为(batch_size, number_of_locations)，即每条输出均包含对数据集中可能出现的地点的概率的预测，可以用一个线性模型作为“预测头”。Loss函数一般使用CrossEntropyLoss，评估函数可选择Accuracy，Recall或F1_score。"
   ]
  },
  {
   "cell_type": "code",
   "execution_count": 11,
   "metadata": {
    "pycharm": {
     "name": "#%%\n"
    }
   },
   "outputs": [
    {
     "name": "stdout",
     "output_type": "stream",
     "text": [
      "tensor(10.5921, grad_fn=<NllLossBackward0>)\n"
     ]
    }
   ],
   "source": [
    "# 训练过程示例代码\n",
    "rnn_model = nn.RNN(input_size=embed_size, hidden_size=128, num_layers=2, batch_first=True)\n",
    "output_model = nn.Linear(128, len(venue_id2index))\n",
    "\n",
    "loss_func = nn.CrossEntropyLoss()\n",
    "\n",
    "rnn_out, _ = rnn_model(embedded_batch[:, :-1, :])\n",
    "prediction = output_model(rnn_out[:, -1, :])\n",
    "label = batch[:, -1]\n",
    "print(loss_func(prediction, label))"
   ]
  },
  {
   "cell_type": "code",
   "execution_count": 12,
   "metadata": {
    "slideshow": {
     "slide_type": "subslide"
    },
    "tags": [],
    "pycharm": {
     "name": "#%%\n"
    }
   },
   "outputs": [
    {
     "name": "stderr",
     "output_type": "stream",
     "text": [
      "D:\\applications\\miniconda\\lib\\site-packages\\sklearn\\metrics\\_classification.py:1327: UndefinedMetricWarning: Recall is ill-defined and being set to 0.0 in labels with no true samples. Use `zero_division` parameter to control this behavior.\n",
      "  _warn_prf(average, modifier, msg_start, len(result))\n"
     ]
    }
   ],
   "source": [
    "# 评估过程示例代码\n",
    "from sklearn.metrics import accuracy_score, recall_score, f1_score\n",
    "\n",
    "pre_d = prediction.argmax(-1).detach().cpu().numpy()\n",
    "label_d = label.detach().cpu().numpy()\n",
    "acc, rec, f1_micro, f1_macro = accuracy_score(label_d, pre_d), \\\n",
    "                               recall_score(label_d, pre_d, average='macro'), \\\n",
    "                               f1_score(label_d, pre_d, average='micro'), \\\n",
    "                               f1_score(label_d, pre_d, average='macro')"
   ]
  },
  {
   "cell_type": "code",
   "execution_count": null,
   "metadata": {
    "pycharm": {
     "name": "#%%\n"
    }
   },
   "outputs": [],
   "source": []
  }
 ],
 "metadata": {
  "kernelspec": {
   "display_name": "Python 3 (ipykernel)",
   "language": "python",
   "name": "python3"
  },
  "language_info": {
   "codemirror_mode": {
    "name": "ipython",
    "version": 3
   },
   "file_extension": ".py",
   "mimetype": "text/x-python",
   "name": "python",
   "nbconvert_exporter": "python",
   "pygments_lexer": "ipython3",
   "version": "3.9.12"
  },
  "toc": {
   "base_numbering": 1,
   "nav_menu": {},
   "number_sections": true,
   "sideBar": true,
   "skip_h1_title": false,
   "title_cell": "Table of Contents",
   "title_sidebar": "Contents",
   "toc_cell": false,
   "toc_position": {
    "height": "calc(100% - 180px)",
    "left": "10px",
    "top": "150px",
    "width": "384px"
   },
   "toc_section_display": true,
   "toc_window_display": true
  },
  "varInspector": {
   "cols": {
    "lenName": 16,
    "lenType": 16,
    "lenVar": 40
   },
   "kernels_config": {
    "python": {
     "delete_cmd_postfix": "",
     "delete_cmd_prefix": "del ",
     "library": "var_list.py",
     "varRefreshCmd": "print(var_dic_list())"
    },
    "r": {
     "delete_cmd_postfix": ") ",
     "delete_cmd_prefix": "rm(",
     "library": "var_list.r",
     "varRefreshCmd": "cat(var_dic_list()) "
    }
   },
   "types_to_exclude": [
    "module",
    "function",
    "builtin_function_or_method",
    "instance",
    "_Feature"
   ],
   "window_display": false
  },
  "vscode": {
   "interpreter": {
    "hash": "7a0f52ddb2aad01e77b7bc55be4b9e4646d2a7087b21bfe5e8a02eb52329234b"
   }
  }
 },
 "nbformat": 4,
 "nbformat_minor": 4
}