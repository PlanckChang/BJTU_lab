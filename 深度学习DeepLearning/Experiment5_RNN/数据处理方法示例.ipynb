{
 "cells": [
  {
   "cell_type": "markdown",
   "metadata": {
    "pycharm": {
     "name": "#%% md\n"
    }
   },
   "source": [
    "# 数据处理示例代码\n",
    "\n",
    "## 一、简单处理\n",
    "\n",
    "- 固定长度的滑动窗口\n",
    "- 划分数据集"
   ]
  },
  {
   "cell_type": "code",
   "execution_count": 2,
   "metadata": {
    "pycharm": {
     "name": "#%%\n"
    }
   },
   "outputs": [],
   "source": [
    "import numpy as np\n",
    "import pandas as pd"
   ]
  },
  {
   "cell_type": "markdown",
   "metadata": {
    "pycharm": {
     "name": "#%% md\n"
    }
   },
   "source": [
    "### 读取原数据"
   ]
  },
  {
   "cell_type": "code",
   "execution_count": 3,
   "metadata": {
    "pycharm": {
     "name": "#%%\n"
    }
   },
   "outputs": [
    {
     "data": {
      "text/html": [
       "<div>\n",
       "<style scoped>\n",
       "    .dataframe tbody tr th:only-of-type {\n",
       "        vertical-align: middle;\n",
       "    }\n",
       "\n",
       "    .dataframe tbody tr th {\n",
       "        vertical-align: top;\n",
       "    }\n",
       "\n",
       "    .dataframe thead th {\n",
       "        text-align: right;\n",
       "    }\n",
       "</style>\n",
       "<table border=\"1\" class=\"dataframe\">\n",
       "  <thead>\n",
       "    <tr style=\"text-align: right;\">\n",
       "      <th></th>\n",
       "      <th>UTC time</th>\n",
       "      <th>3_temperature</th>\n",
       "      <th>3_humidity</th>\n",
       "      <th>3_pressure</th>\n",
       "      <th>3_pm1</th>\n",
       "      <th>3_pm25</th>\n",
       "      <th>3_pm10</th>\n",
       "      <th>140_temperature</th>\n",
       "      <th>140_humidity</th>\n",
       "      <th>140_pressure</th>\n",
       "      <th>...</th>\n",
       "      <th>857_pressure</th>\n",
       "      <th>857_pm1</th>\n",
       "      <th>857_pm25</th>\n",
       "      <th>857_pm10</th>\n",
       "      <th>895_temperature</th>\n",
       "      <th>895_humidity</th>\n",
       "      <th>895_pressure</th>\n",
       "      <th>895_pm1</th>\n",
       "      <th>895_pm25</th>\n",
       "      <th>895_pm10</th>\n",
       "    </tr>\n",
       "  </thead>\n",
       "  <tbody>\n",
       "    <tr>\n",
       "      <th>0</th>\n",
       "      <td>2017-04-01T00:00:00</td>\n",
       "      <td>NaN</td>\n",
       "      <td>NaN</td>\n",
       "      <td>NaN</td>\n",
       "      <td>NaN</td>\n",
       "      <td>NaN</td>\n",
       "      <td>NaN</td>\n",
       "      <td>6</td>\n",
       "      <td>92</td>\n",
       "      <td>101906</td>\n",
       "      <td>...</td>\n",
       "      <td>NaN</td>\n",
       "      <td>NaN</td>\n",
       "      <td>NaN</td>\n",
       "      <td>NaN</td>\n",
       "      <td>NaN</td>\n",
       "      <td>NaN</td>\n",
       "      <td>NaN</td>\n",
       "      <td>NaN</td>\n",
       "      <td>NaN</td>\n",
       "      <td>NaN</td>\n",
       "    </tr>\n",
       "    <tr>\n",
       "      <th>1</th>\n",
       "      <td>2017-04-01T01:00:00</td>\n",
       "      <td>NaN</td>\n",
       "      <td>NaN</td>\n",
       "      <td>NaN</td>\n",
       "      <td>NaN</td>\n",
       "      <td>NaN</td>\n",
       "      <td>NaN</td>\n",
       "      <td>6</td>\n",
       "      <td>92</td>\n",
       "      <td>101869</td>\n",
       "      <td>...</td>\n",
       "      <td>NaN</td>\n",
       "      <td>NaN</td>\n",
       "      <td>NaN</td>\n",
       "      <td>NaN</td>\n",
       "      <td>NaN</td>\n",
       "      <td>NaN</td>\n",
       "      <td>NaN</td>\n",
       "      <td>NaN</td>\n",
       "      <td>NaN</td>\n",
       "      <td>NaN</td>\n",
       "    </tr>\n",
       "    <tr>\n",
       "      <th>2</th>\n",
       "      <td>2017-04-01T02:00:00</td>\n",
       "      <td>NaN</td>\n",
       "      <td>NaN</td>\n",
       "      <td>NaN</td>\n",
       "      <td>NaN</td>\n",
       "      <td>NaN</td>\n",
       "      <td>NaN</td>\n",
       "      <td>5</td>\n",
       "      <td>94</td>\n",
       "      <td>101837</td>\n",
       "      <td>...</td>\n",
       "      <td>NaN</td>\n",
       "      <td>NaN</td>\n",
       "      <td>NaN</td>\n",
       "      <td>NaN</td>\n",
       "      <td>NaN</td>\n",
       "      <td>NaN</td>\n",
       "      <td>NaN</td>\n",
       "      <td>NaN</td>\n",
       "      <td>NaN</td>\n",
       "      <td>NaN</td>\n",
       "    </tr>\n",
       "    <tr>\n",
       "      <th>3</th>\n",
       "      <td>2017-04-01T03:00:00</td>\n",
       "      <td>NaN</td>\n",
       "      <td>NaN</td>\n",
       "      <td>NaN</td>\n",
       "      <td>NaN</td>\n",
       "      <td>NaN</td>\n",
       "      <td>NaN</td>\n",
       "      <td>5</td>\n",
       "      <td>92</td>\n",
       "      <td>101834</td>\n",
       "      <td>...</td>\n",
       "      <td>NaN</td>\n",
       "      <td>NaN</td>\n",
       "      <td>NaN</td>\n",
       "      <td>NaN</td>\n",
       "      <td>NaN</td>\n",
       "      <td>NaN</td>\n",
       "      <td>NaN</td>\n",
       "      <td>NaN</td>\n",
       "      <td>NaN</td>\n",
       "      <td>NaN</td>\n",
       "    </tr>\n",
       "    <tr>\n",
       "      <th>4</th>\n",
       "      <td>2017-04-01T04:00:00</td>\n",
       "      <td>NaN</td>\n",
       "      <td>NaN</td>\n",
       "      <td>NaN</td>\n",
       "      <td>NaN</td>\n",
       "      <td>NaN</td>\n",
       "      <td>NaN</td>\n",
       "      <td>4</td>\n",
       "      <td>94</td>\n",
       "      <td>101832</td>\n",
       "      <td>...</td>\n",
       "      <td>NaN</td>\n",
       "      <td>NaN</td>\n",
       "      <td>NaN</td>\n",
       "      <td>NaN</td>\n",
       "      <td>NaN</td>\n",
       "      <td>NaN</td>\n",
       "      <td>NaN</td>\n",
       "      <td>NaN</td>\n",
       "      <td>NaN</td>\n",
       "      <td>NaN</td>\n",
       "    </tr>\n",
       "    <tr>\n",
       "      <th>...</th>\n",
       "      <td>...</td>\n",
       "      <td>...</td>\n",
       "      <td>...</td>\n",
       "      <td>...</td>\n",
       "      <td>...</td>\n",
       "      <td>...</td>\n",
       "      <td>...</td>\n",
       "      <td>...</td>\n",
       "      <td>...</td>\n",
       "      <td>...</td>\n",
       "      <td>...</td>\n",
       "      <td>...</td>\n",
       "      <td>...</td>\n",
       "      <td>...</td>\n",
       "      <td>...</td>\n",
       "      <td>...</td>\n",
       "      <td>...</td>\n",
       "      <td>...</td>\n",
       "      <td>...</td>\n",
       "      <td>...</td>\n",
       "      <td>...</td>\n",
       "    </tr>\n",
       "    <tr>\n",
       "      <th>715</th>\n",
       "      <td>2017-04-30T19:00:00</td>\n",
       "      <td>NaN</td>\n",
       "      <td>NaN</td>\n",
       "      <td>NaN</td>\n",
       "      <td>NaN</td>\n",
       "      <td>NaN</td>\n",
       "      <td>NaN</td>\n",
       "      <td>11</td>\n",
       "      <td>82</td>\n",
       "      <td>102037</td>\n",
       "      <td>...</td>\n",
       "      <td>NaN</td>\n",
       "      <td>NaN</td>\n",
       "      <td>NaN</td>\n",
       "      <td>NaN</td>\n",
       "      <td>11.0</td>\n",
       "      <td>69.0</td>\n",
       "      <td>102118.0</td>\n",
       "      <td>31.0</td>\n",
       "      <td>36.0</td>\n",
       "      <td>56.0</td>\n",
       "    </tr>\n",
       "    <tr>\n",
       "      <th>716</th>\n",
       "      <td>2017-04-30T20:00:00</td>\n",
       "      <td>NaN</td>\n",
       "      <td>NaN</td>\n",
       "      <td>NaN</td>\n",
       "      <td>NaN</td>\n",
       "      <td>NaN</td>\n",
       "      <td>NaN</td>\n",
       "      <td>10</td>\n",
       "      <td>88</td>\n",
       "      <td>102029</td>\n",
       "      <td>...</td>\n",
       "      <td>NaN</td>\n",
       "      <td>NaN</td>\n",
       "      <td>NaN</td>\n",
       "      <td>NaN</td>\n",
       "      <td>11.0</td>\n",
       "      <td>75.0</td>\n",
       "      <td>102113.0</td>\n",
       "      <td>35.0</td>\n",
       "      <td>41.0</td>\n",
       "      <td>65.0</td>\n",
       "    </tr>\n",
       "    <tr>\n",
       "      <th>717</th>\n",
       "      <td>2017-04-30T21:00:00</td>\n",
       "      <td>NaN</td>\n",
       "      <td>NaN</td>\n",
       "      <td>NaN</td>\n",
       "      <td>NaN</td>\n",
       "      <td>NaN</td>\n",
       "      <td>NaN</td>\n",
       "      <td>9</td>\n",
       "      <td>92</td>\n",
       "      <td>102024</td>\n",
       "      <td>...</td>\n",
       "      <td>NaN</td>\n",
       "      <td>NaN</td>\n",
       "      <td>NaN</td>\n",
       "      <td>NaN</td>\n",
       "      <td>10.0</td>\n",
       "      <td>76.0</td>\n",
       "      <td>102118.0</td>\n",
       "      <td>44.0</td>\n",
       "      <td>53.0</td>\n",
       "      <td>83.0</td>\n",
       "    </tr>\n",
       "    <tr>\n",
       "      <th>718</th>\n",
       "      <td>2017-04-30T22:00:00</td>\n",
       "      <td>NaN</td>\n",
       "      <td>NaN</td>\n",
       "      <td>NaN</td>\n",
       "      <td>NaN</td>\n",
       "      <td>NaN</td>\n",
       "      <td>NaN</td>\n",
       "      <td>9</td>\n",
       "      <td>96</td>\n",
       "      <td>102002</td>\n",
       "      <td>...</td>\n",
       "      <td>NaN</td>\n",
       "      <td>NaN</td>\n",
       "      <td>NaN</td>\n",
       "      <td>NaN</td>\n",
       "      <td>10.0</td>\n",
       "      <td>77.0</td>\n",
       "      <td>102094.0</td>\n",
       "      <td>44.0</td>\n",
       "      <td>54.0</td>\n",
       "      <td>84.0</td>\n",
       "    </tr>\n",
       "    <tr>\n",
       "      <th>719</th>\n",
       "      <td>2017-04-30T23:00:00</td>\n",
       "      <td>NaN</td>\n",
       "      <td>NaN</td>\n",
       "      <td>NaN</td>\n",
       "      <td>NaN</td>\n",
       "      <td>NaN</td>\n",
       "      <td>NaN</td>\n",
       "      <td>8</td>\n",
       "      <td>101</td>\n",
       "      <td>101972</td>\n",
       "      <td>...</td>\n",
       "      <td>NaN</td>\n",
       "      <td>NaN</td>\n",
       "      <td>NaN</td>\n",
       "      <td>NaN</td>\n",
       "      <td>9.0</td>\n",
       "      <td>82.0</td>\n",
       "      <td>102070.0</td>\n",
       "      <td>40.0</td>\n",
       "      <td>48.0</td>\n",
       "      <td>79.0</td>\n",
       "    </tr>\n",
       "  </tbody>\n",
       "</table>\n",
       "<p>720 rows × 337 columns</p>\n",
       "</div>"
      ],
      "text/plain": [
       "                UTC time  3_temperature  3_humidity  3_pressure  3_pm1  \\\n",
       "0    2017-04-01T00:00:00            NaN         NaN         NaN    NaN   \n",
       "1    2017-04-01T01:00:00            NaN         NaN         NaN    NaN   \n",
       "2    2017-04-01T02:00:00            NaN         NaN         NaN    NaN   \n",
       "3    2017-04-01T03:00:00            NaN         NaN         NaN    NaN   \n",
       "4    2017-04-01T04:00:00            NaN         NaN         NaN    NaN   \n",
       "..                   ...            ...         ...         ...    ...   \n",
       "715  2017-04-30T19:00:00            NaN         NaN         NaN    NaN   \n",
       "716  2017-04-30T20:00:00            NaN         NaN         NaN    NaN   \n",
       "717  2017-04-30T21:00:00            NaN         NaN         NaN    NaN   \n",
       "718  2017-04-30T22:00:00            NaN         NaN         NaN    NaN   \n",
       "719  2017-04-30T23:00:00            NaN         NaN         NaN    NaN   \n",
       "\n",
       "     3_pm25  3_pm10  140_temperature  140_humidity  140_pressure  ...  \\\n",
       "0       NaN     NaN                6            92        101906  ...   \n",
       "1       NaN     NaN                6            92        101869  ...   \n",
       "2       NaN     NaN                5            94        101837  ...   \n",
       "3       NaN     NaN                5            92        101834  ...   \n",
       "4       NaN     NaN                4            94        101832  ...   \n",
       "..      ...     ...              ...           ...           ...  ...   \n",
       "715     NaN     NaN               11            82        102037  ...   \n",
       "716     NaN     NaN               10            88        102029  ...   \n",
       "717     NaN     NaN                9            92        102024  ...   \n",
       "718     NaN     NaN                9            96        102002  ...   \n",
       "719     NaN     NaN                8           101        101972  ...   \n",
       "\n",
       "     857_pressure  857_pm1  857_pm25  857_pm10  895_temperature  895_humidity  \\\n",
       "0             NaN      NaN       NaN       NaN              NaN           NaN   \n",
       "1             NaN      NaN       NaN       NaN              NaN           NaN   \n",
       "2             NaN      NaN       NaN       NaN              NaN           NaN   \n",
       "3             NaN      NaN       NaN       NaN              NaN           NaN   \n",
       "4             NaN      NaN       NaN       NaN              NaN           NaN   \n",
       "..            ...      ...       ...       ...              ...           ...   \n",
       "715           NaN      NaN       NaN       NaN             11.0          69.0   \n",
       "716           NaN      NaN       NaN       NaN             11.0          75.0   \n",
       "717           NaN      NaN       NaN       NaN             10.0          76.0   \n",
       "718           NaN      NaN       NaN       NaN             10.0          77.0   \n",
       "719           NaN      NaN       NaN       NaN              9.0          82.0   \n",
       "\n",
       "     895_pressure  895_pm1  895_pm25  895_pm10  \n",
       "0             NaN      NaN       NaN       NaN  \n",
       "1             NaN      NaN       NaN       NaN  \n",
       "2             NaN      NaN       NaN       NaN  \n",
       "3             NaN      NaN       NaN       NaN  \n",
       "4             NaN      NaN       NaN       NaN  \n",
       "..            ...      ...       ...       ...  \n",
       "715      102118.0     31.0      36.0      56.0  \n",
       "716      102113.0     35.0      41.0      65.0  \n",
       "717      102118.0     44.0      53.0      83.0  \n",
       "718      102094.0     44.0      54.0      84.0  \n",
       "719      102070.0     40.0      48.0      79.0  \n",
       "\n",
       "[720 rows x 337 columns]"
      ]
     },
     "execution_count": 3,
     "metadata": {},
     "output_type": "execute_result"
    }
   ],
   "source": [
    "data_df = pd.read_csv('./dataset/Krakow-airquality/april-2017.csv')\n",
    "data_df"
   ]
  },
  {
   "cell_type": "markdown",
   "metadata": {
    "pycharm": {
     "name": "#%% md\n"
    }
   },
   "source": [
    "下面是一段比较长的时间序列。"
   ]
  },
  {
   "cell_type": "code",
   "execution_count": 4,
   "metadata": {
    "pycharm": {
     "name": "#%%\n"
    }
   },
   "outputs": [
    {
     "data": {
      "text/html": [
       "<div>\n",
       "<style scoped>\n",
       "    .dataframe tbody tr th:only-of-type {\n",
       "        vertical-align: middle;\n",
       "    }\n",
       "\n",
       "    .dataframe tbody tr th {\n",
       "        vertical-align: top;\n",
       "    }\n",
       "\n",
       "    .dataframe thead th {\n",
       "        text-align: right;\n",
       "    }\n",
       "</style>\n",
       "<table border=\"1\" class=\"dataframe\">\n",
       "  <thead>\n",
       "    <tr style=\"text-align: right;\">\n",
       "      <th></th>\n",
       "      <th>UTC time</th>\n",
       "      <th>140_temperature</th>\n",
       "    </tr>\n",
       "  </thead>\n",
       "  <tbody>\n",
       "    <tr>\n",
       "      <th>0</th>\n",
       "      <td>2017-04-01T00:00:00</td>\n",
       "      <td>6</td>\n",
       "    </tr>\n",
       "    <tr>\n",
       "      <th>1</th>\n",
       "      <td>2017-04-01T01:00:00</td>\n",
       "      <td>6</td>\n",
       "    </tr>\n",
       "    <tr>\n",
       "      <th>2</th>\n",
       "      <td>2017-04-01T02:00:00</td>\n",
       "      <td>5</td>\n",
       "    </tr>\n",
       "    <tr>\n",
       "      <th>3</th>\n",
       "      <td>2017-04-01T03:00:00</td>\n",
       "      <td>5</td>\n",
       "    </tr>\n",
       "    <tr>\n",
       "      <th>4</th>\n",
       "      <td>2017-04-01T04:00:00</td>\n",
       "      <td>4</td>\n",
       "    </tr>\n",
       "    <tr>\n",
       "      <th>...</th>\n",
       "      <td>...</td>\n",
       "      <td>...</td>\n",
       "    </tr>\n",
       "    <tr>\n",
       "      <th>715</th>\n",
       "      <td>2017-04-30T19:00:00</td>\n",
       "      <td>11</td>\n",
       "    </tr>\n",
       "    <tr>\n",
       "      <th>716</th>\n",
       "      <td>2017-04-30T20:00:00</td>\n",
       "      <td>10</td>\n",
       "    </tr>\n",
       "    <tr>\n",
       "      <th>717</th>\n",
       "      <td>2017-04-30T21:00:00</td>\n",
       "      <td>9</td>\n",
       "    </tr>\n",
       "    <tr>\n",
       "      <th>718</th>\n",
       "      <td>2017-04-30T22:00:00</td>\n",
       "      <td>9</td>\n",
       "    </tr>\n",
       "    <tr>\n",
       "      <th>719</th>\n",
       "      <td>2017-04-30T23:00:00</td>\n",
       "      <td>8</td>\n",
       "    </tr>\n",
       "  </tbody>\n",
       "</table>\n",
       "<p>720 rows × 2 columns</p>\n",
       "</div>"
      ],
      "text/plain": [
       "                UTC time  140_temperature\n",
       "0    2017-04-01T00:00:00                6\n",
       "1    2017-04-01T01:00:00                6\n",
       "2    2017-04-01T02:00:00                5\n",
       "3    2017-04-01T03:00:00                5\n",
       "4    2017-04-01T04:00:00                4\n",
       "..                   ...              ...\n",
       "715  2017-04-30T19:00:00               11\n",
       "716  2017-04-30T20:00:00               10\n",
       "717  2017-04-30T21:00:00                9\n",
       "718  2017-04-30T22:00:00                9\n",
       "719  2017-04-30T23:00:00                8\n",
       "\n",
       "[720 rows x 2 columns]"
      ]
     },
     "execution_count": 4,
     "metadata": {},
     "output_type": "execute_result"
    }
   ],
   "source": [
    "long_seq = data_df[['UTC time', '140_temperature']].dropna()\n",
    "long_seq"
   ]
  },
  {
   "cell_type": "markdown",
   "metadata": {
    "pycharm": {
     "name": "#%% md\n"
    }
   },
   "source": [
    "使用固定长度（如12）的滑动窗口，将其处理为几条短序列。"
   ]
  },
  {
   "cell_type": "code",
   "execution_count": 18,
   "metadata": {
    "pycharm": {
     "name": "#%%\n"
    }
   },
   "outputs": [
    {
     "name": "stdout",
     "output_type": "stream",
     "text": [
      "(709, 12)\n"
     ]
    }
   ],
   "source": [
    "long_seq = long_seq['140_temperature']\n",
    "window_size = 12\n",
    "short_seqs = []\n",
    "for i in range(long_seq.shape[0] - window_size + 1):\n",
    "    short_seqs.append(long_seq.iloc[i:i+window_size].values.tolist())\n",
    "short_seqs = np.array(short_seqs)\n",
    "print(short_seqs.shape)"
   ]
  },
  {
   "cell_type": "markdown",
   "metadata": {
    "pycharm": {
     "name": "#%% md\n"
    }
   },
   "source": [
    "如果需要划分训练集/验证集/测试集，请首先对完整、有序的原始长序列按比例划分，再分别进行滑动窗口，而不是首先用滑动窗口生成多条短序列，再划分短序列。"
   ]
  },
  {
   "cell_type": "code",
   "execution_count": 19,
   "metadata": {
    "pycharm": {
     "name": "#%%\n"
    }
   },
   "outputs": [
    {
     "name": "stdout",
     "output_type": "stream",
     "text": [
      "(420, 12)\n"
     ]
    }
   ],
   "source": [
    "train_set_proportion, val_set_proportion = 0.6, 0.2\n",
    "total_len = long_seq.shape[0]\n",
    "train_val_split = int(total_len * train_set_proportion)\n",
    "val_test_split = int(total_len * (train_set_proportion + val_set_proportion))\n",
    "train_seq, val_seq, test_seq = long_seq[:train_val_split],\\\n",
    "                               long_seq[train_val_split:val_test_split],\\\n",
    "                               long_seq[val_test_split:]\n",
    "\n",
    "train_set = []\n",
    "for i in range(train_seq.shape[0] - window_size):\n",
    "    train_set.append(train_seq.iloc[i:i+window_size].tolist())\n",
    "train_set = np.array(train_set)\n",
    "print(train_set.shape)"
   ]
  },
  {
   "cell_type": "markdown",
   "metadata": {
    "pycharm": {
     "name": "#%% md\n"
    }
   },
   "source": [
    "## 二、高级处理\n",
    "\n",
    "- 序列重采样\n",
    "- 固定时间跨度滑窗\n",
    "- 不等长序列填充&打包"
   ]
  },
  {
   "cell_type": "markdown",
   "metadata": {
    "pycharm": {
     "name": "#%% md\n"
    }
   },
   "source": [
    "### 序列重采样\n",
    "\n",
    "另一种方式是将原始长序列中缺失的时间戳补全。使用pandas的函数可以比较轻松实现这一功能。默认情况下，缺失的时间点会被填充nan。"
   ]
  },
  {
   "cell_type": "markdown",
   "metadata": {
    "pycharm": {
     "name": "#%% md\n"
    }
   },
   "source": [
    "下面是一段长序列，然而，其时间轴并不规整，某些点之间空缺了几小时的数据。"
   ]
  },
  {
   "cell_type": "code",
   "execution_count": 8,
   "metadata": {
    "pycharm": {
     "name": "#%%\n"
    }
   },
   "outputs": [
    {
     "data": {
      "text/plain": [
       "UTC time\n",
       "2017-04-01 00:00:00     6\n",
       "2017-04-01 01:00:00     6\n",
       "2017-04-01 02:00:00     5\n",
       "2017-04-01 03:00:00     5\n",
       "2017-04-01 04:00:00     4\n",
       "                       ..\n",
       "2017-04-30 19:00:00    11\n",
       "2017-04-30 20:00:00    10\n",
       "2017-04-30 21:00:00     9\n",
       "2017-04-30 22:00:00     9\n",
       "2017-04-30 23:00:00     8\n",
       "Name: 140_temperature, Length: 720, dtype: int64"
      ]
     },
     "execution_count": 8,
     "metadata": {},
     "output_type": "execute_result"
    }
   ],
   "source": [
    "data_df['UTC time'] = pd.to_datetime(data_df['UTC time'])\n",
    "data_df = data_df.set_index('UTC time').sort_index()\n",
    "long_seq = data_df['140_temperature']\n",
    "long_seq"
   ]
  },
  {
   "cell_type": "markdown",
   "metadata": {
    "pycharm": {
     "name": "#%% md\n"
    }
   },
   "source": [
    "取出索引中时间的最大最小值，并使用pd.date_range()函数定义一段完整的时间索引"
   ]
  },
  {
   "cell_type": "code",
   "execution_count": 9,
   "metadata": {
    "pycharm": {
     "name": "#%%\n"
    }
   },
   "outputs": [],
   "source": [
    "start_time, end_time = long_seq.index.min(), long_seq.index.max()\n",
    "full_index = pd.date_range(start_time, end_time, freq='h')\n",
    "reindex_seq = long_seq.reindex(full_index)"
   ]
  },
  {
   "cell_type": "markdown",
   "metadata": {
    "pycharm": {
     "name": "#%% md\n"
    }
   },
   "source": [
    "可以观察到，定义的完整索引是一个类型为datatime64的索引串"
   ]
  },
  {
   "cell_type": "code",
   "execution_count": 10,
   "metadata": {
    "pycharm": {
     "name": "#%%\n"
    }
   },
   "outputs": [
    {
     "data": {
      "text/plain": [
       "DatetimeIndex(['2017-04-01 00:00:00', '2017-04-01 01:00:00',\n",
       "               '2017-04-01 02:00:00', '2017-04-01 03:00:00',\n",
       "               '2017-04-01 04:00:00', '2017-04-01 05:00:00',\n",
       "               '2017-04-01 06:00:00', '2017-04-01 07:00:00',\n",
       "               '2017-04-01 08:00:00', '2017-04-01 09:00:00',\n",
       "               ...\n",
       "               '2017-04-30 14:00:00', '2017-04-30 15:00:00',\n",
       "               '2017-04-30 16:00:00', '2017-04-30 17:00:00',\n",
       "               '2017-04-30 18:00:00', '2017-04-30 19:00:00',\n",
       "               '2017-04-30 20:00:00', '2017-04-30 21:00:00',\n",
       "               '2017-04-30 22:00:00', '2017-04-30 23:00:00'],\n",
       "              dtype='datetime64[ns]', length=720, freq='H')"
      ]
     },
     "execution_count": 10,
     "metadata": {},
     "output_type": "execute_result"
    }
   ],
   "source": [
    "full_index"
   ]
  },
  {
   "cell_type": "markdown",
   "metadata": {
    "pycharm": {
     "name": "#%% md\n"
    }
   },
   "source": [
    "### 填充与打包\n",
    "\n",
    "我们可以通过使用固定时间跨度的滑动窗口使得生成的序列更合理。一般来说，这需要借助pandas DataFrame带时间戳的index。"
   ]
  },
  {
   "cell_type": "code",
   "execution_count": 6,
   "metadata": {
    "pycharm": {
     "name": "#%%\n"
    }
   },
   "outputs": [],
   "source": [
    "window_size = 12  # (小时)\n",
    "short_seqs = []\n",
    "start_time, end_time = long_seq.index.min(), long_seq.index.max() - pd.Timedelta(window_size, 'h')\n",
    "cur_time = start_time\n",
    "while cur_time < end_time:\n",
    "    short_seqs.append(long_seq.loc[cur_time:cur_time + pd.Timedelta(window_size-1, 'h')].tolist())\n",
    "    cur_time += pd.Timedelta(1, 'h')"
   ]
  },
  {
   "cell_type": "markdown",
   "metadata": {
    "pycharm": {
     "name": "#%% md\n"
    }
   },
   "source": [
    "然而这会导致序列的长度不一致，无法处理为Tensor。"
   ]
  },
  {
   "cell_type": "code",
   "execution_count": 7,
   "metadata": {
    "pycharm": {
     "name": "#%%\n"
    }
   },
   "outputs": [
    {
     "name": "stdout",
     "output_type": "stream",
     "text": [
      "Minimum length: 3\n",
      "Maximum length: 12\n"
     ]
    }
   ],
   "source": [
    "seq_lengths = [len(short_seq) for short_seq in short_seqs]\n",
    "print('Minimum length:', min(seq_lengths))\n",
    "print('Maximum length:', max(seq_lengths))"
   ]
  },
  {
   "cell_type": "markdown",
   "metadata": {
    "pycharm": {
     "name": "#%% md\n"
    }
   },
   "source": [
    "首先使用python自带的itertools中的函数，填充序列，使得所有序列的长度等于最长的序列。"
   ]
  },
  {
   "cell_type": "code",
   "execution_count": 8,
   "metadata": {
    "pycharm": {
     "name": "#%%\n"
    }
   },
   "outputs": [
    {
     "data": {
      "text/plain": [
       "(659, 12)"
      ]
     },
     "execution_count": 8,
     "metadata": {},
     "output_type": "execute_result"
    }
   ],
   "source": [
    "from itertools import zip_longest\n",
    "\n",
    "padded_seqs = np.array(list(zip_longest(*short_seqs, fillvalue=0))).transpose()\n",
    "padded_seqs.shape"
   ]
  },
  {
   "cell_type": "markdown",
   "metadata": {
    "pycharm": {
     "name": "#%% md\n"
    }
   },
   "source": [
    "在pytorch中使用时，可以使用函数将序列打包，使得pytorch能够合理地处理不等长的序列；即，被填充的部分不会实际输入到模型中。当然，这个函数需要手动输入每条序列的长度。"
   ]
  },
  {
   "cell_type": "code",
   "execution_count": 9,
   "metadata": {
    "pycharm": {
     "name": "#%%\n"
    }
   },
   "outputs": [],
   "source": [
    "import torch\n",
    "from torch.nn.utils.rnn import pack_padded_sequence\n",
    "\n",
    "# 此序列可以直接输入torch封装好的RNN、GRU和LSTM。\n",
    "packed_seqs = pack_padded_sequence(torch.tensor(padded_seqs), seq_lengths, \n",
    "                                   batch_first=True, enforce_sorted=False)"
   ]
  },
  {
   "cell_type": "markdown",
   "metadata": {
    "pycharm": {
     "name": "#%% md\n"
    }
   },
   "source": [
    "### 序列重采样\n",
    "\n",
    "另一种方式是将原始长序列中缺失的时间戳补全。使用pandas的函数可以比较轻松实现这一功能。默认情况下，缺失的时间点会被填充nan。"
   ]
  },
  {
   "cell_type": "code",
   "execution_count": 10,
   "metadata": {
    "pycharm": {
     "name": "#%%\n"
    }
   },
   "outputs": [],
   "source": [
    "start_time, end_time = long_seq.index.min(), long_seq.index.max() - pd.Timedelta(window_size, 'h')\n",
    "full_index = pd.date_range(start_time, end_time, freq='h')\n",
    "reindex_seq = long_seq.reindex(full_index)"
   ]
  },
  {
   "cell_type": "markdown",
   "metadata": {
    "pycharm": {
     "name": "#%% md\n"
    }
   },
   "source": [
    "随后我们可以使用插分函数，借助已有的数据，将空缺的数据补全。较常用的插分方法是线性插分。"
   ]
  },
  {
   "cell_type": "code",
   "execution_count": 11,
   "metadata": {
    "pycharm": {
     "name": "#%%\n"
    }
   },
   "outputs": [],
   "source": [
    "inter_seq = reindex_seq.interpolate(method='linear', axis=0, limit=2, limit_direction='both')"
   ]
  },
  {
   "cell_type": "markdown",
   "metadata": {
    "pycharm": {
     "name": "#%% md\n"
    }
   },
   "source": [
    "## 三、面向对象的数据处理"
   ]
  },
  {
   "cell_type": "code",
   "execution_count": 12,
   "metadata": {
    "pycharm": {
     "name": "#%%\n"
    }
   },
   "outputs": [],
   "source": [
    "import warnings\n",
    "warnings.filterwarnings(\"ignore\")"
   ]
  },
  {
   "cell_type": "markdown",
   "metadata": {
    "pycharm": {
     "name": "#%% md\n"
    }
   },
   "source": [
    "实例化一个数据类，并查看其初步预处理的数据"
   ]
  },
  {
   "cell_type": "code",
   "execution_count": 13,
   "metadata": {
    "pycharm": {
     "name": "#%%\n"
    }
   },
   "outputs": [
    {
     "data": {
      "text/plain": [
       "<dataset_example.KrakowDataset at 0x197318f6c70>"
      ]
     },
     "execution_count": 13,
     "metadata": {},
     "output_type": "execute_result"
    }
   ],
   "source": [
    "from dataset_example import *\n",
    "\n",
    "data_obj = KrakowDataset()\n",
    "data_obj"
   ]
  },
  {
   "cell_type": "code",
   "execution_count": 14,
   "metadata": {
    "pycharm": {
     "name": "#%%\n"
    }
   },
   "outputs": [
    {
     "data": {
      "text/html": [
       "<div>\n",
       "<style scoped>\n",
       "    .dataframe tbody tr th:only-of-type {\n",
       "        vertical-align: middle;\n",
       "    }\n",
       "\n",
       "    .dataframe tbody tr th {\n",
       "        vertical-align: top;\n",
       "    }\n",
       "\n",
       "    .dataframe thead th {\n",
       "        text-align: right;\n",
       "    }\n",
       "</style>\n",
       "<table border=\"1\" class=\"dataframe\">\n",
       "  <thead>\n",
       "    <tr style=\"text-align: right;\">\n",
       "      <th></th>\n",
       "      <th>171_temperature</th>\n",
       "      <th>171_humidity</th>\n",
       "      <th>171_pressure</th>\n",
       "      <th>171_pm1</th>\n",
       "      <th>171_pm25</th>\n",
       "      <th>171_pm10</th>\n",
       "    </tr>\n",
       "  </thead>\n",
       "  <tbody>\n",
       "    <tr>\n",
       "      <th>2017-01-01 00:00:00</th>\n",
       "      <td>0.254545</td>\n",
       "      <td>0.082803</td>\n",
       "      <td>0.731568</td>\n",
       "      <td>0.639130</td>\n",
       "      <td>0.592334</td>\n",
       "      <td>0.567627</td>\n",
       "    </tr>\n",
       "    <tr>\n",
       "      <th>2017-01-01 01:00:00</th>\n",
       "      <td>0.236364</td>\n",
       "      <td>0.082803</td>\n",
       "      <td>0.722620</td>\n",
       "      <td>0.560870</td>\n",
       "      <td>0.522648</td>\n",
       "      <td>0.505543</td>\n",
       "    </tr>\n",
       "    <tr>\n",
       "      <th>2017-01-01 02:00:00</th>\n",
       "      <td>0.254545</td>\n",
       "      <td>0.082803</td>\n",
       "      <td>0.708840</td>\n",
       "      <td>0.582609</td>\n",
       "      <td>0.547038</td>\n",
       "      <td>0.532151</td>\n",
       "    </tr>\n",
       "    <tr>\n",
       "      <th>2017-01-01 03:00:00</th>\n",
       "      <td>0.236364</td>\n",
       "      <td>0.082803</td>\n",
       "      <td>0.699893</td>\n",
       "      <td>0.626087</td>\n",
       "      <td>0.595819</td>\n",
       "      <td>0.578714</td>\n",
       "    </tr>\n",
       "    <tr>\n",
       "      <th>2017-01-01 04:00:00</th>\n",
       "      <td>0.236364</td>\n",
       "      <td>0.082803</td>\n",
       "      <td>0.691303</td>\n",
       "      <td>0.595652</td>\n",
       "      <td>0.564460</td>\n",
       "      <td>0.549889</td>\n",
       "    </tr>\n",
       "    <tr>\n",
       "      <th>...</th>\n",
       "      <td>...</td>\n",
       "      <td>...</td>\n",
       "      <td>...</td>\n",
       "      <td>...</td>\n",
       "      <td>...</td>\n",
       "      <td>...</td>\n",
       "    </tr>\n",
       "    <tr>\n",
       "      <th>2017-12-24 20:00:00</th>\n",
       "      <td>0.345455</td>\n",
       "      <td>0.471338</td>\n",
       "      <td>0.598067</td>\n",
       "      <td>0.056522</td>\n",
       "      <td>0.048780</td>\n",
       "      <td>0.053215</td>\n",
       "    </tr>\n",
       "    <tr>\n",
       "      <th>2017-12-24 21:00:00</th>\n",
       "      <td>0.345455</td>\n",
       "      <td>0.471338</td>\n",
       "      <td>0.604331</td>\n",
       "      <td>0.052174</td>\n",
       "      <td>0.045296</td>\n",
       "      <td>0.046563</td>\n",
       "    </tr>\n",
       "    <tr>\n",
       "      <th>2017-12-24 22:00:00</th>\n",
       "      <td>0.327273</td>\n",
       "      <td>0.452229</td>\n",
       "      <td>0.606478</td>\n",
       "      <td>0.043478</td>\n",
       "      <td>0.038328</td>\n",
       "      <td>0.042129</td>\n",
       "    </tr>\n",
       "    <tr>\n",
       "      <th>2017-12-24 23:00:00</th>\n",
       "      <td>0.327273</td>\n",
       "      <td>0.471338</td>\n",
       "      <td>0.607552</td>\n",
       "      <td>0.043478</td>\n",
       "      <td>0.038328</td>\n",
       "      <td>0.042129</td>\n",
       "    </tr>\n",
       "    <tr>\n",
       "      <th>2017-12-25 00:00:00</th>\n",
       "      <td>0.327273</td>\n",
       "      <td>0.471338</td>\n",
       "      <td>0.607910</td>\n",
       "      <td>0.039130</td>\n",
       "      <td>0.034843</td>\n",
       "      <td>0.035477</td>\n",
       "    </tr>\n",
       "  </tbody>\n",
       "</table>\n",
       "<p>8593 rows × 6 columns</p>\n",
       "</div>"
      ],
      "text/plain": [
       "                     171_temperature  171_humidity  171_pressure   171_pm1  \\\n",
       "2017-01-01 00:00:00         0.254545      0.082803      0.731568  0.639130   \n",
       "2017-01-01 01:00:00         0.236364      0.082803      0.722620  0.560870   \n",
       "2017-01-01 02:00:00         0.254545      0.082803      0.708840  0.582609   \n",
       "2017-01-01 03:00:00         0.236364      0.082803      0.699893  0.626087   \n",
       "2017-01-01 04:00:00         0.236364      0.082803      0.691303  0.595652   \n",
       "...                              ...           ...           ...       ...   \n",
       "2017-12-24 20:00:00         0.345455      0.471338      0.598067  0.056522   \n",
       "2017-12-24 21:00:00         0.345455      0.471338      0.604331  0.052174   \n",
       "2017-12-24 22:00:00         0.327273      0.452229      0.606478  0.043478   \n",
       "2017-12-24 23:00:00         0.327273      0.471338      0.607552  0.043478   \n",
       "2017-12-25 00:00:00         0.327273      0.471338      0.607910  0.039130   \n",
       "\n",
       "                     171_pm25  171_pm10  \n",
       "2017-01-01 00:00:00  0.592334  0.567627  \n",
       "2017-01-01 01:00:00  0.522648  0.505543  \n",
       "2017-01-01 02:00:00  0.547038  0.532151  \n",
       "2017-01-01 03:00:00  0.595819  0.578714  \n",
       "2017-01-01 04:00:00  0.564460  0.549889  \n",
       "...                       ...       ...  \n",
       "2017-12-24 20:00:00  0.048780  0.053215  \n",
       "2017-12-24 21:00:00  0.045296  0.046563  \n",
       "2017-12-24 22:00:00  0.038328  0.042129  \n",
       "2017-12-24 23:00:00  0.038328  0.042129  \n",
       "2017-12-25 00:00:00  0.034843  0.035477  \n",
       "\n",
       "[8593 rows x 6 columns]"
      ]
     },
     "execution_count": 14,
     "metadata": {},
     "output_type": "execute_result"
    }
   ],
   "source": [
    "data_obj.data"
   ]
  }
 ],
 "metadata": {
  "kernelspec": {
   "display_name": "Python 3 (ipykernel)",
   "language": "python",
   "name": "python3"
  },
  "language_info": {
   "codemirror_mode": {
    "name": "ipython",
    "version": 3
   },
   "file_extension": ".py",
   "mimetype": "text/x-python",
   "name": "python",
   "nbconvert_exporter": "python",
   "pygments_lexer": "ipython3",
   "version": "3.9.12"
  },
  "toc": {
   "base_numbering": 1,
   "nav_menu": {},
   "number_sections": true,
   "sideBar": true,
   "skip_h1_title": false,
   "title_cell": "Table of Contents",
   "title_sidebar": "Contents",
   "toc_cell": false,
   "toc_position": {
    "height": "calc(100% - 180px)",
    "left": "10px",
    "top": "150px",
    "width": "384px"
   },
   "toc_section_display": true,
   "toc_window_display": true
  },
  "varInspector": {
   "cols": {
    "lenName": 16,
    "lenType": 16,
    "lenVar": 40
   },
   "kernels_config": {
    "python": {
     "delete_cmd_postfix": "",
     "delete_cmd_prefix": "del ",
     "library": "var_list.py",
     "varRefreshCmd": "print(var_dic_list())"
    },
    "r": {
     "delete_cmd_postfix": ") ",
     "delete_cmd_prefix": "rm(",
     "library": "var_list.r",
     "varRefreshCmd": "cat(var_dic_list()) "
    }
   },
   "types_to_exclude": [
    "module",
    "function",
    "builtin_function_or_method",
    "instance",
    "_Feature"
   ],
   "window_display": false
  }
 },
 "nbformat": 4,
 "nbformat_minor": 4
}