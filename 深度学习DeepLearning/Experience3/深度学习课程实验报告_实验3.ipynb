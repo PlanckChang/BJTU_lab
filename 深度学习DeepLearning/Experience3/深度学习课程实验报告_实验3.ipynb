{
 "nbformat": 4,
 "nbformat_minor": 0,
 "metadata": {
  "colab": {
   "provenance": [],
   "collapsed_sections": [],
   "authorship_tag": "ABX9TyMRIvULC8Jo6HHzknvKdgAk"
  },
  "kernelspec": {
   "name": "python3",
   "display_name": "Python 3"
  },
  "language_info": {
   "name": "python"
  },
  "gpuClass": "standard",
  "widgets": {
   "application/vnd.jupyter.widget-state+json": {
    "4c87042fd44543ddbd2d2e3419add0e0": {
     "model_module": "@jupyter-widgets/controls",
     "model_name": "HBoxModel",
     "model_module_version": "1.5.0",
     "state": {
      "_dom_classes": [],
      "_model_module": "@jupyter-widgets/controls",
      "_model_module_version": "1.5.0",
      "_model_name": "HBoxModel",
      "_view_count": null,
      "_view_module": "@jupyter-widgets/controls",
      "_view_module_version": "1.5.0",
      "_view_name": "HBoxView",
      "box_style": "",
      "children": [
       "IPY_MODEL_7136f996a7564553981eeb5d9e9e2e21",
       "IPY_MODEL_37d8334f3aab4609864f5671a9a7fdaa",
       "IPY_MODEL_9181cb9c140946d6b4a3193fc2d3bb06"
      ],
      "layout": "IPY_MODEL_3a364ca54bc046159e6b0a4b8ba203e0"
     }
    },
    "7136f996a7564553981eeb5d9e9e2e21": {
     "model_module": "@jupyter-widgets/controls",
     "model_name": "HTMLModel",
     "model_module_version": "1.5.0",
     "state": {
      "_dom_classes": [],
      "_model_module": "@jupyter-widgets/controls",
      "_model_module_version": "1.5.0",
      "_model_name": "HTMLModel",
      "_view_count": null,
      "_view_module": "@jupyter-widgets/controls",
      "_view_module_version": "1.5.0",
      "_view_name": "HTMLView",
      "description": "",
      "description_tooltip": null,
      "layout": "IPY_MODEL_245cda90ce7a48cd836f8d346213bd50",
      "placeholder": "​",
      "style": "IPY_MODEL_c5becd053a984bfe8d37882e91908ea0",
      "value": "100%"
     }
    },
    "37d8334f3aab4609864f5671a9a7fdaa": {
     "model_module": "@jupyter-widgets/controls",
     "model_name": "FloatProgressModel",
     "model_module_version": "1.5.0",
     "state": {
      "_dom_classes": [],
      "_model_module": "@jupyter-widgets/controls",
      "_model_module_version": "1.5.0",
      "_model_name": "FloatProgressModel",
      "_view_count": null,
      "_view_module": "@jupyter-widgets/controls",
      "_view_module_version": "1.5.0",
      "_view_name": "ProgressView",
      "bar_style": "success",
      "description": "",
      "description_tooltip": null,
      "layout": "IPY_MODEL_0f0b00bc5dc54e6bbba651d3b5ef0ce0",
      "max": 9912422,
      "min": 0,
      "orientation": "horizontal",
      "style": "IPY_MODEL_b051b1074ff049b5a3368262ceb6931c",
      "value": 9912422
     }
    },
    "9181cb9c140946d6b4a3193fc2d3bb06": {
     "model_module": "@jupyter-widgets/controls",
     "model_name": "HTMLModel",
     "model_module_version": "1.5.0",
     "state": {
      "_dom_classes": [],
      "_model_module": "@jupyter-widgets/controls",
      "_model_module_version": "1.5.0",
      "_model_name": "HTMLModel",
      "_view_count": null,
      "_view_module": "@jupyter-widgets/controls",
      "_view_module_version": "1.5.0",
      "_view_name": "HTMLView",
      "description": "",
      "description_tooltip": null,
      "layout": "IPY_MODEL_72a0855f847747928f1d4628d36c5ffa",
      "placeholder": "​",
      "style": "IPY_MODEL_f17983bf167f45179d951af2ffc77b92",
      "value": " 9912422/9912422 [00:00&lt;00:00, 2940772.29it/s]"
     }
    },
    "3a364ca54bc046159e6b0a4b8ba203e0": {
     "model_module": "@jupyter-widgets/base",
     "model_name": "LayoutModel",
     "model_module_version": "1.2.0",
     "state": {
      "_model_module": "@jupyter-widgets/base",
      "_model_module_version": "1.2.0",
      "_model_name": "LayoutModel",
      "_view_count": null,
      "_view_module": "@jupyter-widgets/base",
      "_view_module_version": "1.2.0",
      "_view_name": "LayoutView",
      "align_content": null,
      "align_items": null,
      "align_self": null,
      "border": null,
      "bottom": null,
      "display": null,
      "flex": null,
      "flex_flow": null,
      "grid_area": null,
      "grid_auto_columns": null,
      "grid_auto_flow": null,
      "grid_auto_rows": null,
      "grid_column": null,
      "grid_gap": null,
      "grid_row": null,
      "grid_template_areas": null,
      "grid_template_columns": null,
      "grid_template_rows": null,
      "height": null,
      "justify_content": null,
      "justify_items": null,
      "left": null,
      "margin": null,
      "max_height": null,
      "max_width": null,
      "min_height": null,
      "min_width": null,
      "object_fit": null,
      "object_position": null,
      "order": null,
      "overflow": null,
      "overflow_x": null,
      "overflow_y": null,
      "padding": null,
      "right": null,
      "top": null,
      "visibility": null,
      "width": null
     }
    },
    "245cda90ce7a48cd836f8d346213bd50": {
     "model_module": "@jupyter-widgets/base",
     "model_name": "LayoutModel",
     "model_module_version": "1.2.0",
     "state": {
      "_model_module": "@jupyter-widgets/base",
      "_model_module_version": "1.2.0",
      "_model_name": "LayoutModel",
      "_view_count": null,
      "_view_module": "@jupyter-widgets/base",
      "_view_module_version": "1.2.0",
      "_view_name": "LayoutView",
      "align_content": null,
      "align_items": null,
      "align_self": null,
      "border": null,
      "bottom": null,
      "display": null,
      "flex": null,
      "flex_flow": null,
      "grid_area": null,
      "grid_auto_columns": null,
      "grid_auto_flow": null,
      "grid_auto_rows": null,
      "grid_column": null,
      "grid_gap": null,
      "grid_row": null,
      "grid_template_areas": null,
      "grid_template_columns": null,
      "grid_template_rows": null,
      "height": null,
      "justify_content": null,
      "justify_items": null,
      "left": null,
      "margin": null,
      "max_height": null,
      "max_width": null,
      "min_height": null,
      "min_width": null,
      "object_fit": null,
      "object_position": null,
      "order": null,
      "overflow": null,
      "overflow_x": null,
      "overflow_y": null,
      "padding": null,
      "right": null,
      "top": null,
      "visibility": null,
      "width": null
     }
    },
    "c5becd053a984bfe8d37882e91908ea0": {
     "model_module": "@jupyter-widgets/controls",
     "model_name": "DescriptionStyleModel",
     "model_module_version": "1.5.0",
     "state": {
      "_model_module": "@jupyter-widgets/controls",
      "_model_module_version": "1.5.0",
      "_model_name": "DescriptionStyleModel",
      "_view_count": null,
      "_view_module": "@jupyter-widgets/base",
      "_view_module_version": "1.2.0",
      "_view_name": "StyleView",
      "description_width": ""
     }
    },
    "0f0b00bc5dc54e6bbba651d3b5ef0ce0": {
     "model_module": "@jupyter-widgets/base",
     "model_name": "LayoutModel",
     "model_module_version": "1.2.0",
     "state": {
      "_model_module": "@jupyter-widgets/base",
      "_model_module_version": "1.2.0",
      "_model_name": "LayoutModel",
      "_view_count": null,
      "_view_module": "@jupyter-widgets/base",
      "_view_module_version": "1.2.0",
      "_view_name": "LayoutView",
      "align_content": null,
      "align_items": null,
      "align_self": null,
      "border": null,
      "bottom": null,
      "display": null,
      "flex": null,
      "flex_flow": null,
      "grid_area": null,
      "grid_auto_columns": null,
      "grid_auto_flow": null,
      "grid_auto_rows": null,
      "grid_column": null,
      "grid_gap": null,
      "grid_row": null,
      "grid_template_areas": null,
      "grid_template_columns": null,
      "grid_template_rows": null,
      "height": null,
      "justify_content": null,
      "justify_items": null,
      "left": null,
      "margin": null,
      "max_height": null,
      "max_width": null,
      "min_height": null,
      "min_width": null,
      "object_fit": null,
      "object_position": null,
      "order": null,
      "overflow": null,
      "overflow_x": null,
      "overflow_y": null,
      "padding": null,
      "right": null,
      "top": null,
      "visibility": null,
      "width": null
     }
    },
    "b051b1074ff049b5a3368262ceb6931c": {
     "model_module": "@jupyter-widgets/controls",
     "model_name": "ProgressStyleModel",
     "model_module_version": "1.5.0",
     "state": {
      "_model_module": "@jupyter-widgets/controls",
      "_model_module_version": "1.5.0",
      "_model_name": "ProgressStyleModel",
      "_view_count": null,
      "_view_module": "@jupyter-widgets/base",
      "_view_module_version": "1.2.0",
      "_view_name": "StyleView",
      "bar_color": null,
      "description_width": ""
     }
    },
    "72a0855f847747928f1d4628d36c5ffa": {
     "model_module": "@jupyter-widgets/base",
     "model_name": "LayoutModel",
     "model_module_version": "1.2.0",
     "state": {
      "_model_module": "@jupyter-widgets/base",
      "_model_module_version": "1.2.0",
      "_model_name": "LayoutModel",
      "_view_count": null,
      "_view_module": "@jupyter-widgets/base",
      "_view_module_version": "1.2.0",
      "_view_name": "LayoutView",
      "align_content": null,
      "align_items": null,
      "align_self": null,
      "border": null,
      "bottom": null,
      "display": null,
      "flex": null,
      "flex_flow": null,
      "grid_area": null,
      "grid_auto_columns": null,
      "grid_auto_flow": null,
      "grid_auto_rows": null,
      "grid_column": null,
      "grid_gap": null,
      "grid_row": null,
      "grid_template_areas": null,
      "grid_template_columns": null,
      "grid_template_rows": null,
      "height": null,
      "justify_content": null,
      "justify_items": null,
      "left": null,
      "margin": null,
      "max_height": null,
      "max_width": null,
      "min_height": null,
      "min_width": null,
      "object_fit": null,
      "object_position": null,
      "order": null,
      "overflow": null,
      "overflow_x": null,
      "overflow_y": null,
      "padding": null,
      "right": null,
      "top": null,
      "visibility": null,
      "width": null
     }
    },
    "f17983bf167f45179d951af2ffc77b92": {
     "model_module": "@jupyter-widgets/controls",
     "model_name": "DescriptionStyleModel",
     "model_module_version": "1.5.0",
     "state": {
      "_model_module": "@jupyter-widgets/controls",
      "_model_module_version": "1.5.0",
      "_model_name": "DescriptionStyleModel",
      "_view_count": null,
      "_view_module": "@jupyter-widgets/base",
      "_view_module_version": "1.2.0",
      "_view_name": "StyleView",
      "description_width": ""
     }
    },
    "1759980f1cff451b93d4a7473e38b4ae": {
     "model_module": "@jupyter-widgets/controls",
     "model_name": "HBoxModel",
     "model_module_version": "1.5.0",
     "state": {
      "_dom_classes": [],
      "_model_module": "@jupyter-widgets/controls",
      "_model_module_version": "1.5.0",
      "_model_name": "HBoxModel",
      "_view_count": null,
      "_view_module": "@jupyter-widgets/controls",
      "_view_module_version": "1.5.0",
      "_view_name": "HBoxView",
      "box_style": "",
      "children": [
       "IPY_MODEL_19534041e3ae4715b6b1645837ce49ee",
       "IPY_MODEL_347aa29b8bdd432a8711b9fb591f5d9b",
       "IPY_MODEL_f88d7946f9a44c73886568f336b50bde"
      ],
      "layout": "IPY_MODEL_0f3a5698601f490e882a06bc955532cc"
     }
    },
    "19534041e3ae4715b6b1645837ce49ee": {
     "model_module": "@jupyter-widgets/controls",
     "model_name": "HTMLModel",
     "model_module_version": "1.5.0",
     "state": {
      "_dom_classes": [],
      "_model_module": "@jupyter-widgets/controls",
      "_model_module_version": "1.5.0",
      "_model_name": "HTMLModel",
      "_view_count": null,
      "_view_module": "@jupyter-widgets/controls",
      "_view_module_version": "1.5.0",
      "_view_name": "HTMLView",
      "description": "",
      "description_tooltip": null,
      "layout": "IPY_MODEL_2c641953af3f4cda8e0176ae58d3162b",
      "placeholder": "​",
      "style": "IPY_MODEL_16c0af70477f40b9a4a93a3dc0b42b11",
      "value": "100%"
     }
    },
    "347aa29b8bdd432a8711b9fb591f5d9b": {
     "model_module": "@jupyter-widgets/controls",
     "model_name": "FloatProgressModel",
     "model_module_version": "1.5.0",
     "state": {
      "_dom_classes": [],
      "_model_module": "@jupyter-widgets/controls",
      "_model_module_version": "1.5.0",
      "_model_name": "FloatProgressModel",
      "_view_count": null,
      "_view_module": "@jupyter-widgets/controls",
      "_view_module_version": "1.5.0",
      "_view_name": "ProgressView",
      "bar_style": "success",
      "description": "",
      "description_tooltip": null,
      "layout": "IPY_MODEL_7846b28048e842378527f0bd230f9df6",
      "max": 28881,
      "min": 0,
      "orientation": "horizontal",
      "style": "IPY_MODEL_b945309bcfb547ce8e2cc89a40aa6d66",
      "value": 28881
     }
    },
    "f88d7946f9a44c73886568f336b50bde": {
     "model_module": "@jupyter-widgets/controls",
     "model_name": "HTMLModel",
     "model_module_version": "1.5.0",
     "state": {
      "_dom_classes": [],
      "_model_module": "@jupyter-widgets/controls",
      "_model_module_version": "1.5.0",
      "_model_name": "HTMLModel",
      "_view_count": null,
      "_view_module": "@jupyter-widgets/controls",
      "_view_module_version": "1.5.0",
      "_view_name": "HTMLView",
      "description": "",
      "description_tooltip": null,
      "layout": "IPY_MODEL_119b3f9daf0148438d447d3cb5596136",
      "placeholder": "​",
      "style": "IPY_MODEL_84835dda4f9d4b9ba10e5a5c8266b4e8",
      "value": " 28881/28881 [00:00&lt;00:00, 652277.15it/s]"
     }
    },
    "0f3a5698601f490e882a06bc955532cc": {
     "model_module": "@jupyter-widgets/base",
     "model_name": "LayoutModel",
     "model_module_version": "1.2.0",
     "state": {
      "_model_module": "@jupyter-widgets/base",
      "_model_module_version": "1.2.0",
      "_model_name": "LayoutModel",
      "_view_count": null,
      "_view_module": "@jupyter-widgets/base",
      "_view_module_version": "1.2.0",
      "_view_name": "LayoutView",
      "align_content": null,
      "align_items": null,
      "align_self": null,
      "border": null,
      "bottom": null,
      "display": null,
      "flex": null,
      "flex_flow": null,
      "grid_area": null,
      "grid_auto_columns": null,
      "grid_auto_flow": null,
      "grid_auto_rows": null,
      "grid_column": null,
      "grid_gap": null,
      "grid_row": null,
      "grid_template_areas": null,
      "grid_template_columns": null,
      "grid_template_rows": null,
      "height": null,
      "justify_content": null,
      "justify_items": null,
      "left": null,
      "margin": null,
      "max_height": null,
      "max_width": null,
      "min_height": null,
      "min_width": null,
      "object_fit": null,
      "object_position": null,
      "order": null,
      "overflow": null,
      "overflow_x": null,
      "overflow_y": null,
      "padding": null,
      "right": null,
      "top": null,
      "visibility": null,
      "width": null
     }
    },
    "2c641953af3f4cda8e0176ae58d3162b": {
     "model_module": "@jupyter-widgets/base",
     "model_name": "LayoutModel",
     "model_module_version": "1.2.0",
     "state": {
      "_model_module": "@jupyter-widgets/base",
      "_model_module_version": "1.2.0",
      "_model_name": "LayoutModel",
      "_view_count": null,
      "_view_module": "@jupyter-widgets/base",
      "_view_module_version": "1.2.0",
      "_view_name": "LayoutView",
      "align_content": null,
      "align_items": null,
      "align_self": null,
      "border": null,
      "bottom": null,
      "display": null,
      "flex": null,
      "flex_flow": null,
      "grid_area": null,
      "grid_auto_columns": null,
      "grid_auto_flow": null,
      "grid_auto_rows": null,
      "grid_column": null,
      "grid_gap": null,
      "grid_row": null,
      "grid_template_areas": null,
      "grid_template_columns": null,
      "grid_template_rows": null,
      "height": null,
      "justify_content": null,
      "justify_items": null,
      "left": null,
      "margin": null,
      "max_height": null,
      "max_width": null,
      "min_height": null,
      "min_width": null,
      "object_fit": null,
      "object_position": null,
      "order": null,
      "overflow": null,
      "overflow_x": null,
      "overflow_y": null,
      "padding": null,
      "right": null,
      "top": null,
      "visibility": null,
      "width": null
     }
    },
    "16c0af70477f40b9a4a93a3dc0b42b11": {
     "model_module": "@jupyter-widgets/controls",
     "model_name": "DescriptionStyleModel",
     "model_module_version": "1.5.0",
     "state": {
      "_model_module": "@jupyter-widgets/controls",
      "_model_module_version": "1.5.0",
      "_model_name": "DescriptionStyleModel",
      "_view_count": null,
      "_view_module": "@jupyter-widgets/base",
      "_view_module_version": "1.2.0",
      "_view_name": "StyleView",
      "description_width": ""
     }
    },
    "7846b28048e842378527f0bd230f9df6": {
     "model_module": "@jupyter-widgets/base",
     "model_name": "LayoutModel",
     "model_module_version": "1.2.0",
     "state": {
      "_model_module": "@jupyter-widgets/base",
      "_model_module_version": "1.2.0",
      "_model_name": "LayoutModel",
      "_view_count": null,
      "_view_module": "@jupyter-widgets/base",
      "_view_module_version": "1.2.0",
      "_view_name": "LayoutView",
      "align_content": null,
      "align_items": null,
      "align_self": null,
      "border": null,
      "bottom": null,
      "display": null,
      "flex": null,
      "flex_flow": null,
      "grid_area": null,
      "grid_auto_columns": null,
      "grid_auto_flow": null,
      "grid_auto_rows": null,
      "grid_column": null,
      "grid_gap": null,
      "grid_row": null,
      "grid_template_areas": null,
      "grid_template_columns": null,
      "grid_template_rows": null,
      "height": null,
      "justify_content": null,
      "justify_items": null,
      "left": null,
      "margin": null,
      "max_height": null,
      "max_width": null,
      "min_height": null,
      "min_width": null,
      "object_fit": null,
      "object_position": null,
      "order": null,
      "overflow": null,
      "overflow_x": null,
      "overflow_y": null,
      "padding": null,
      "right": null,
      "top": null,
      "visibility": null,
      "width": null
     }
    },
    "b945309bcfb547ce8e2cc89a40aa6d66": {
     "model_module": "@jupyter-widgets/controls",
     "model_name": "ProgressStyleModel",
     "model_module_version": "1.5.0",
     "state": {
      "_model_module": "@jupyter-widgets/controls",
      "_model_module_version": "1.5.0",
      "_model_name": "ProgressStyleModel",
      "_view_count": null,
      "_view_module": "@jupyter-widgets/base",
      "_view_module_version": "1.2.0",
      "_view_name": "StyleView",
      "bar_color": null,
      "description_width": ""
     }
    },
    "119b3f9daf0148438d447d3cb5596136": {
     "model_module": "@jupyter-widgets/base",
     "model_name": "LayoutModel",
     "model_module_version": "1.2.0",
     "state": {
      "_model_module": "@jupyter-widgets/base",
      "_model_module_version": "1.2.0",
      "_model_name": "LayoutModel",
      "_view_count": null,
      "_view_module": "@jupyter-widgets/base",
      "_view_module_version": "1.2.0",
      "_view_name": "LayoutView",
      "align_content": null,
      "align_items": null,
      "align_self": null,
      "border": null,
      "bottom": null,
      "display": null,
      "flex": null,
      "flex_flow": null,
      "grid_area": null,
      "grid_auto_columns": null,
      "grid_auto_flow": null,
      "grid_auto_rows": null,
      "grid_column": null,
      "grid_gap": null,
      "grid_row": null,
      "grid_template_areas": null,
      "grid_template_columns": null,
      "grid_template_rows": null,
      "height": null,
      "justify_content": null,
      "justify_items": null,
      "left": null,
      "margin": null,
      "max_height": null,
      "max_width": null,
      "min_height": null,
      "min_width": null,
      "object_fit": null,
      "object_position": null,
      "order": null,
      "overflow": null,
      "overflow_x": null,
      "overflow_y": null,
      "padding": null,
      "right": null,
      "top": null,
      "visibility": null,
      "width": null
     }
    },
    "84835dda4f9d4b9ba10e5a5c8266b4e8": {
     "model_module": "@jupyter-widgets/controls",
     "model_name": "DescriptionStyleModel",
     "model_module_version": "1.5.0",
     "state": {
      "_model_module": "@jupyter-widgets/controls",
      "_model_module_version": "1.5.0",
      "_model_name": "DescriptionStyleModel",
      "_view_count": null,
      "_view_module": "@jupyter-widgets/base",
      "_view_module_version": "1.2.0",
      "_view_name": "StyleView",
      "description_width": ""
     }
    },
    "7fe32fb06dcc4a13addaa3346da59079": {
     "model_module": "@jupyter-widgets/controls",
     "model_name": "HBoxModel",
     "model_module_version": "1.5.0",
     "state": {
      "_dom_classes": [],
      "_model_module": "@jupyter-widgets/controls",
      "_model_module_version": "1.5.0",
      "_model_name": "HBoxModel",
      "_view_count": null,
      "_view_module": "@jupyter-widgets/controls",
      "_view_module_version": "1.5.0",
      "_view_name": "HBoxView",
      "box_style": "",
      "children": [
       "IPY_MODEL_c65d6c6cdbec426186d1d004eda75510",
       "IPY_MODEL_e62a2346dbde44e2bc6220503f690789",
       "IPY_MODEL_a3470aa876794bae9ce81a1140cd3329"
      ],
      "layout": "IPY_MODEL_c868aee65090420db5a8a03c8175b111"
     }
    },
    "c65d6c6cdbec426186d1d004eda75510": {
     "model_module": "@jupyter-widgets/controls",
     "model_name": "HTMLModel",
     "model_module_version": "1.5.0",
     "state": {
      "_dom_classes": [],
      "_model_module": "@jupyter-widgets/controls",
      "_model_module_version": "1.5.0",
      "_model_name": "HTMLModel",
      "_view_count": null,
      "_view_module": "@jupyter-widgets/controls",
      "_view_module_version": "1.5.0",
      "_view_name": "HTMLView",
      "description": "",
      "description_tooltip": null,
      "layout": "IPY_MODEL_9eeeb920cf8140c68a3a975abbf84bae",
      "placeholder": "​",
      "style": "IPY_MODEL_c9d00c1b3228424a98ef9999f40c8116",
      "value": "100%"
     }
    },
    "e62a2346dbde44e2bc6220503f690789": {
     "model_module": "@jupyter-widgets/controls",
     "model_name": "FloatProgressModel",
     "model_module_version": "1.5.0",
     "state": {
      "_dom_classes": [],
      "_model_module": "@jupyter-widgets/controls",
      "_model_module_version": "1.5.0",
      "_model_name": "FloatProgressModel",
      "_view_count": null,
      "_view_module": "@jupyter-widgets/controls",
      "_view_module_version": "1.5.0",
      "_view_name": "ProgressView",
      "bar_style": "success",
      "description": "",
      "description_tooltip": null,
      "layout": "IPY_MODEL_5ec8fff8bb8a43619c339e5d7424fb81",
      "max": 1648877,
      "min": 0,
      "orientation": "horizontal",
      "style": "IPY_MODEL_34a3c315abd7427faf43a9674c263113",
      "value": 1648877
     }
    },
    "a3470aa876794bae9ce81a1140cd3329": {
     "model_module": "@jupyter-widgets/controls",
     "model_name": "HTMLModel",
     "model_module_version": "1.5.0",
     "state": {
      "_dom_classes": [],
      "_model_module": "@jupyter-widgets/controls",
      "_model_module_version": "1.5.0",
      "_model_name": "HTMLModel",
      "_view_count": null,
      "_view_module": "@jupyter-widgets/controls",
      "_view_module_version": "1.5.0",
      "_view_name": "HTMLView",
      "description": "",
      "description_tooltip": null,
      "layout": "IPY_MODEL_2319dd1cac224ddba2d79b4e89b8c004",
      "placeholder": "​",
      "style": "IPY_MODEL_26e86bcb78d3405abec1a6dc1ff5ba69",
      "value": " 1648877/1648877 [00:00&lt;00:00, 4237255.07it/s]"
     }
    },
    "c868aee65090420db5a8a03c8175b111": {
     "model_module": "@jupyter-widgets/base",
     "model_name": "LayoutModel",
     "model_module_version": "1.2.0",
     "state": {
      "_model_module": "@jupyter-widgets/base",
      "_model_module_version": "1.2.0",
      "_model_name": "LayoutModel",
      "_view_count": null,
      "_view_module": "@jupyter-widgets/base",
      "_view_module_version": "1.2.0",
      "_view_name": "LayoutView",
      "align_content": null,
      "align_items": null,
      "align_self": null,
      "border": null,
      "bottom": null,
      "display": null,
      "flex": null,
      "flex_flow": null,
      "grid_area": null,
      "grid_auto_columns": null,
      "grid_auto_flow": null,
      "grid_auto_rows": null,
      "grid_column": null,
      "grid_gap": null,
      "grid_row": null,
      "grid_template_areas": null,
      "grid_template_columns": null,
      "grid_template_rows": null,
      "height": null,
      "justify_content": null,
      "justify_items": null,
      "left": null,
      "margin": null,
      "max_height": null,
      "max_width": null,
      "min_height": null,
      "min_width": null,
      "object_fit": null,
      "object_position": null,
      "order": null,
      "overflow": null,
      "overflow_x": null,
      "overflow_y": null,
      "padding": null,
      "right": null,
      "top": null,
      "visibility": null,
      "width": null
     }
    },
    "9eeeb920cf8140c68a3a975abbf84bae": {
     "model_module": "@jupyter-widgets/base",
     "model_name": "LayoutModel",
     "model_module_version": "1.2.0",
     "state": {
      "_model_module": "@jupyter-widgets/base",
      "_model_module_version": "1.2.0",
      "_model_name": "LayoutModel",
      "_view_count": null,
      "_view_module": "@jupyter-widgets/base",
      "_view_module_version": "1.2.0",
      "_view_name": "LayoutView",
      "align_content": null,
      "align_items": null,
      "align_self": null,
      "border": null,
      "bottom": null,
      "display": null,
      "flex": null,
      "flex_flow": null,
      "grid_area": null,
      "grid_auto_columns": null,
      "grid_auto_flow": null,
      "grid_auto_rows": null,
      "grid_column": null,
      "grid_gap": null,
      "grid_row": null,
      "grid_template_areas": null,
      "grid_template_columns": null,
      "grid_template_rows": null,
      "height": null,
      "justify_content": null,
      "justify_items": null,
      "left": null,
      "margin": null,
      "max_height": null,
      "max_width": null,
      "min_height": null,
      "min_width": null,
      "object_fit": null,
      "object_position": null,
      "order": null,
      "overflow": null,
      "overflow_x": null,
      "overflow_y": null,
      "padding": null,
      "right": null,
      "top": null,
      "visibility": null,
      "width": null
     }
    },
    "c9d00c1b3228424a98ef9999f40c8116": {
     "model_module": "@jupyter-widgets/controls",
     "model_name": "DescriptionStyleModel",
     "model_module_version": "1.5.0",
     "state": {
      "_model_module": "@jupyter-widgets/controls",
      "_model_module_version": "1.5.0",
      "_model_name": "DescriptionStyleModel",
      "_view_count": null,
      "_view_module": "@jupyter-widgets/base",
      "_view_module_version": "1.2.0",
      "_view_name": "StyleView",
      "description_width": ""
     }
    },
    "5ec8fff8bb8a43619c339e5d7424fb81": {
     "model_module": "@jupyter-widgets/base",
     "model_name": "LayoutModel",
     "model_module_version": "1.2.0",
     "state": {
      "_model_module": "@jupyter-widgets/base",
      "_model_module_version": "1.2.0",
      "_model_name": "LayoutModel",
      "_view_count": null,
      "_view_module": "@jupyter-widgets/base",
      "_view_module_version": "1.2.0",
      "_view_name": "LayoutView",
      "align_content": null,
      "align_items": null,
      "align_self": null,
      "border": null,
      "bottom": null,
      "display": null,
      "flex": null,
      "flex_flow": null,
      "grid_area": null,
      "grid_auto_columns": null,
      "grid_auto_flow": null,
      "grid_auto_rows": null,
      "grid_column": null,
      "grid_gap": null,
      "grid_row": null,
      "grid_template_areas": null,
      "grid_template_columns": null,
      "grid_template_rows": null,
      "height": null,
      "justify_content": null,
      "justify_items": null,
      "left": null,
      "margin": null,
      "max_height": null,
      "max_width": null,
      "min_height": null,
      "min_width": null,
      "object_fit": null,
      "object_position": null,
      "order": null,
      "overflow": null,
      "overflow_x": null,
      "overflow_y": null,
      "padding": null,
      "right": null,
      "top": null,
      "visibility": null,
      "width": null
     }
    },
    "34a3c315abd7427faf43a9674c263113": {
     "model_module": "@jupyter-widgets/controls",
     "model_name": "ProgressStyleModel",
     "model_module_version": "1.5.0",
     "state": {
      "_model_module": "@jupyter-widgets/controls",
      "_model_module_version": "1.5.0",
      "_model_name": "ProgressStyleModel",
      "_view_count": null,
      "_view_module": "@jupyter-widgets/base",
      "_view_module_version": "1.2.0",
      "_view_name": "StyleView",
      "bar_color": null,
      "description_width": ""
     }
    },
    "2319dd1cac224ddba2d79b4e89b8c004": {
     "model_module": "@jupyter-widgets/base",
     "model_name": "LayoutModel",
     "model_module_version": "1.2.0",
     "state": {
      "_model_module": "@jupyter-widgets/base",
      "_model_module_version": "1.2.0",
      "_model_name": "LayoutModel",
      "_view_count": null,
      "_view_module": "@jupyter-widgets/base",
      "_view_module_version": "1.2.0",
      "_view_name": "LayoutView",
      "align_content": null,
      "align_items": null,
      "align_self": null,
      "border": null,
      "bottom": null,
      "display": null,
      "flex": null,
      "flex_flow": null,
      "grid_area": null,
      "grid_auto_columns": null,
      "grid_auto_flow": null,
      "grid_auto_rows": null,
      "grid_column": null,
      "grid_gap": null,
      "grid_row": null,
      "grid_template_areas": null,
      "grid_template_columns": null,
      "grid_template_rows": null,
      "height": null,
      "justify_content": null,
      "justify_items": null,
      "left": null,
      "margin": null,
      "max_height": null,
      "max_width": null,
      "min_height": null,
      "min_width": null,
      "object_fit": null,
      "object_position": null,
      "order": null,
      "overflow": null,
      "overflow_x": null,
      "overflow_y": null,
      "padding": null,
      "right": null,
      "top": null,
      "visibility": null,
      "width": null
     }
    },
    "26e86bcb78d3405abec1a6dc1ff5ba69": {
     "model_module": "@jupyter-widgets/controls",
     "model_name": "DescriptionStyleModel",
     "model_module_version": "1.5.0",
     "state": {
      "_model_module": "@jupyter-widgets/controls",
      "_model_module_version": "1.5.0",
      "_model_name": "DescriptionStyleModel",
      "_view_count": null,
      "_view_module": "@jupyter-widgets/base",
      "_view_module_version": "1.2.0",
      "_view_name": "StyleView",
      "description_width": ""
     }
    },
    "ea406228dd9941ab93567c0913b0d2f2": {
     "model_module": "@jupyter-widgets/controls",
     "model_name": "HBoxModel",
     "model_module_version": "1.5.0",
     "state": {
      "_dom_classes": [],
      "_model_module": "@jupyter-widgets/controls",
      "_model_module_version": "1.5.0",
      "_model_name": "HBoxModel",
      "_view_count": null,
      "_view_module": "@jupyter-widgets/controls",
      "_view_module_version": "1.5.0",
      "_view_name": "HBoxView",
      "box_style": "",
      "children": [
       "IPY_MODEL_08aa577b8029479faeeddab06cef42db",
       "IPY_MODEL_0f72c95ef94e41afbe74d5991bc3844d",
       "IPY_MODEL_b538dd4d56684ee19ccaa6a199e55dc1"
      ],
      "layout": "IPY_MODEL_fd3d0324362c4c2cbfae36e510fb1685"
     }
    },
    "08aa577b8029479faeeddab06cef42db": {
     "model_module": "@jupyter-widgets/controls",
     "model_name": "HTMLModel",
     "model_module_version": "1.5.0",
     "state": {
      "_dom_classes": [],
      "_model_module": "@jupyter-widgets/controls",
      "_model_module_version": "1.5.0",
      "_model_name": "HTMLModel",
      "_view_count": null,
      "_view_module": "@jupyter-widgets/controls",
      "_view_module_version": "1.5.0",
      "_view_name": "HTMLView",
      "description": "",
      "description_tooltip": null,
      "layout": "IPY_MODEL_bb3721bc8c2a4e03937a04991fb4814c",
      "placeholder": "​",
      "style": "IPY_MODEL_8c0e254a51904743b05e2c409dfa5aeb",
      "value": "100%"
     }
    },
    "0f72c95ef94e41afbe74d5991bc3844d": {
     "model_module": "@jupyter-widgets/controls",
     "model_name": "FloatProgressModel",
     "model_module_version": "1.5.0",
     "state": {
      "_dom_classes": [],
      "_model_module": "@jupyter-widgets/controls",
      "_model_module_version": "1.5.0",
      "_model_name": "FloatProgressModel",
      "_view_count": null,
      "_view_module": "@jupyter-widgets/controls",
      "_view_module_version": "1.5.0",
      "_view_name": "ProgressView",
      "bar_style": "success",
      "description": "",
      "description_tooltip": null,
      "layout": "IPY_MODEL_ad483a1f51784190b65b1bfc52054c0d",
      "max": 4542,
      "min": 0,
      "orientation": "horizontal",
      "style": "IPY_MODEL_6cd81d329e9145e8866f6a7035f89f11",
      "value": 4542
     }
    },
    "b538dd4d56684ee19ccaa6a199e55dc1": {
     "model_module": "@jupyter-widgets/controls",
     "model_name": "HTMLModel",
     "model_module_version": "1.5.0",
     "state": {
      "_dom_classes": [],
      "_model_module": "@jupyter-widgets/controls",
      "_model_module_version": "1.5.0",
      "_model_name": "HTMLModel",
      "_view_count": null,
      "_view_module": "@jupyter-widgets/controls",
      "_view_module_version": "1.5.0",
      "_view_name": "HTMLView",
      "description": "",
      "description_tooltip": null,
      "layout": "IPY_MODEL_ecf66b897add4c9485690384bce28642",
      "placeholder": "​",
      "style": "IPY_MODEL_f41e79206fed43dda69f09eaa9b288c7",
      "value": " 4542/4542 [00:00&lt;00:00, 49420.02it/s]"
     }
    },
    "fd3d0324362c4c2cbfae36e510fb1685": {
     "model_module": "@jupyter-widgets/base",
     "model_name": "LayoutModel",
     "model_module_version": "1.2.0",
     "state": {
      "_model_module": "@jupyter-widgets/base",
      "_model_module_version": "1.2.0",
      "_model_name": "LayoutModel",
      "_view_count": null,
      "_view_module": "@jupyter-widgets/base",
      "_view_module_version": "1.2.0",
      "_view_name": "LayoutView",
      "align_content": null,
      "align_items": null,
      "align_self": null,
      "border": null,
      "bottom": null,
      "display": null,
      "flex": null,
      "flex_flow": null,
      "grid_area": null,
      "grid_auto_columns": null,
      "grid_auto_flow": null,
      "grid_auto_rows": null,
      "grid_column": null,
      "grid_gap": null,
      "grid_row": null,
      "grid_template_areas": null,
      "grid_template_columns": null,
      "grid_template_rows": null,
      "height": null,
      "justify_content": null,
      "justify_items": null,
      "left": null,
      "margin": null,
      "max_height": null,
      "max_width": null,
      "min_height": null,
      "min_width": null,
      "object_fit": null,
      "object_position": null,
      "order": null,
      "overflow": null,
      "overflow_x": null,
      "overflow_y": null,
      "padding": null,
      "right": null,
      "top": null,
      "visibility": null,
      "width": null
     }
    },
    "bb3721bc8c2a4e03937a04991fb4814c": {
     "model_module": "@jupyter-widgets/base",
     "model_name": "LayoutModel",
     "model_module_version": "1.2.0",
     "state": {
      "_model_module": "@jupyter-widgets/base",
      "_model_module_version": "1.2.0",
      "_model_name": "LayoutModel",
      "_view_count": null,
      "_view_module": "@jupyter-widgets/base",
      "_view_module_version": "1.2.0",
      "_view_name": "LayoutView",
      "align_content": null,
      "align_items": null,
      "align_self": null,
      "border": null,
      "bottom": null,
      "display": null,
      "flex": null,
      "flex_flow": null,
      "grid_area": null,
      "grid_auto_columns": null,
      "grid_auto_flow": null,
      "grid_auto_rows": null,
      "grid_column": null,
      "grid_gap": null,
      "grid_row": null,
      "grid_template_areas": null,
      "grid_template_columns": null,
      "grid_template_rows": null,
      "height": null,
      "justify_content": null,
      "justify_items": null,
      "left": null,
      "margin": null,
      "max_height": null,
      "max_width": null,
      "min_height": null,
      "min_width": null,
      "object_fit": null,
      "object_position": null,
      "order": null,
      "overflow": null,
      "overflow_x": null,
      "overflow_y": null,
      "padding": null,
      "right": null,
      "top": null,
      "visibility": null,
      "width": null
     }
    },
    "8c0e254a51904743b05e2c409dfa5aeb": {
     "model_module": "@jupyter-widgets/controls",
     "model_name": "DescriptionStyleModel",
     "model_module_version": "1.5.0",
     "state": {
      "_model_module": "@jupyter-widgets/controls",
      "_model_module_version": "1.5.0",
      "_model_name": "DescriptionStyleModel",
      "_view_count": null,
      "_view_module": "@jupyter-widgets/base",
      "_view_module_version": "1.2.0",
      "_view_name": "StyleView",
      "description_width": ""
     }
    },
    "ad483a1f51784190b65b1bfc52054c0d": {
     "model_module": "@jupyter-widgets/base",
     "model_name": "LayoutModel",
     "model_module_version": "1.2.0",
     "state": {
      "_model_module": "@jupyter-widgets/base",
      "_model_module_version": "1.2.0",
      "_model_name": "LayoutModel",
      "_view_count": null,
      "_view_module": "@jupyter-widgets/base",
      "_view_module_version": "1.2.0",
      "_view_name": "LayoutView",
      "align_content": null,
      "align_items": null,
      "align_self": null,
      "border": null,
      "bottom": null,
      "display": null,
      "flex": null,
      "flex_flow": null,
      "grid_area": null,
      "grid_auto_columns": null,
      "grid_auto_flow": null,
      "grid_auto_rows": null,
      "grid_column": null,
      "grid_gap": null,
      "grid_row": null,
      "grid_template_areas": null,
      "grid_template_columns": null,
      "grid_template_rows": null,
      "height": null,
      "justify_content": null,
      "justify_items": null,
      "left": null,
      "margin": null,
      "max_height": null,
      "max_width": null,
      "min_height": null,
      "min_width": null,
      "object_fit": null,
      "object_position": null,
      "order": null,
      "overflow": null,
      "overflow_x": null,
      "overflow_y": null,
      "padding": null,
      "right": null,
      "top": null,
      "visibility": null,
      "width": null
     }
    },
    "6cd81d329e9145e8866f6a7035f89f11": {
     "model_module": "@jupyter-widgets/controls",
     "model_name": "ProgressStyleModel",
     "model_module_version": "1.5.0",
     "state": {
      "_model_module": "@jupyter-widgets/controls",
      "_model_module_version": "1.5.0",
      "_model_name": "ProgressStyleModel",
      "_view_count": null,
      "_view_module": "@jupyter-widgets/base",
      "_view_module_version": "1.2.0",
      "_view_name": "StyleView",
      "bar_color": null,
      "description_width": ""
     }
    },
    "ecf66b897add4c9485690384bce28642": {
     "model_module": "@jupyter-widgets/base",
     "model_name": "LayoutModel",
     "model_module_version": "1.2.0",
     "state": {
      "_model_module": "@jupyter-widgets/base",
      "_model_module_version": "1.2.0",
      "_model_name": "LayoutModel",
      "_view_count": null,
      "_view_module": "@jupyter-widgets/base",
      "_view_module_version": "1.2.0",
      "_view_name": "LayoutView",
      "align_content": null,
      "align_items": null,
      "align_self": null,
      "border": null,
      "bottom": null,
      "display": null,
      "flex": null,
      "flex_flow": null,
      "grid_area": null,
      "grid_auto_columns": null,
      "grid_auto_flow": null,
      "grid_auto_rows": null,
      "grid_column": null,
      "grid_gap": null,
      "grid_row": null,
      "grid_template_areas": null,
      "grid_template_columns": null,
      "grid_template_rows": null,
      "height": null,
      "justify_content": null,
      "justify_items": null,
      "left": null,
      "margin": null,
      "max_height": null,
      "max_width": null,
      "min_height": null,
      "min_width": null,
      "object_fit": null,
      "object_position": null,
      "order": null,
      "overflow": null,
      "overflow_x": null,
      "overflow_y": null,
      "padding": null,
      "right": null,
      "top": null,
      "visibility": null,
      "width": null
     }
    },
    "f41e79206fed43dda69f09eaa9b288c7": {
     "model_module": "@jupyter-widgets/controls",
     "model_name": "DescriptionStyleModel",
     "model_module_version": "1.5.0",
     "state": {
      "_model_module": "@jupyter-widgets/controls",
      "_model_module_version": "1.5.0",
      "_model_name": "DescriptionStyleModel",
      "_view_count": null,
      "_view_module": "@jupyter-widgets/base",
      "_view_module_version": "1.2.0",
      "_view_name": "StyleView",
      "description_width": ""
     }
    }
   }
  }
 },
 "cells": [
  {
   "cell_type": "markdown",
   "source": [
    "# 基本信息\n",
    "1. 实验名称：实验3 网络优化实验\n",
    "2. 姓名：\n",
    "3. 学号：\n",
    "4. 日期：2022年11月11日"
   ],
   "metadata": {
    "collapsed": false,
    "pycharm": {
     "name": "#%% md\n"
    }
   }
  },
  {
   "cell_type": "markdown",
   "source": [
    "> 本次实验数据集使用的是Minst"
   ],
   "metadata": {
    "collapsed": false,
    "pycharm": {
     "name": "#%% md\n"
    }
   }
  },
  {
   "cell_type": "markdown",
   "source": [
    "# 手动实现dropout\n"
   ],
   "metadata": {
    "id": "-qb5Z_wXALc0",
    "pycharm": {
     "name": "#%% md\n"
    }
   }
  },
  {
   "cell_type": "code",
   "source": [
    "import torch\n",
    "import torch.nn as nn\n",
    "import torchvision\n",
    "import torchvision.transforms as transforms\n",
    "import matplotlib.pyplot as plt\n",
    "import time\n",
    "import numpy as np"
   ],
   "metadata": {
    "id": "dJeKmGKFAc3y",
    "executionInfo": {
     "status": "ok",
     "timestamp": 1668233304056,
     "user_tz": -480,
     "elapsed": 4404,
     "user": {
      "displayName": "Planck Chang",
      "userId": "07038384177652850514"
     }
    },
    "pycharm": {
     "name": "#%%\n"
    }
   },
   "execution_count": 1,
   "outputs": []
  },
  {
   "cell_type": "code",
   "source": [
    "train_datasets = torchvision.datasets.MNIST(root=f\"../Datasets/MNIST/\", train=True, transform= transforms.ToTensor(), download=True)\n",
    "test_datasets = torchvision.datasets.MNIST(root=f\"../Datasets/MNIST\", train=False, transform= transforms.ToTensor(), download=True)\n",
    "train_loader = torch.utils.data.DataLoader(train_datasets, batch_size=256, shuffle=True)\n",
    "test_loader = torch.utils.data.DataLoader(test_datasets, batch_size=256, shuffle=False)"
   ],
   "metadata": {
    "id": "xF818WP-AfJ9",
    "executionInfo": {
     "status": "ok",
     "timestamp": 1668233317741,
     "user_tz": -480,
     "elapsed": 1769,
     "user": {
      "displayName": "Planck Chang",
      "userId": "07038384177652850514"
     }
    },
    "colab": {
     "base_uri": "https://localhost:8080/",
     "height": 453,
     "referenced_widgets": [
      "4c87042fd44543ddbd2d2e3419add0e0",
      "7136f996a7564553981eeb5d9e9e2e21",
      "37d8334f3aab4609864f5671a9a7fdaa",
      "9181cb9c140946d6b4a3193fc2d3bb06",
      "3a364ca54bc046159e6b0a4b8ba203e0",
      "245cda90ce7a48cd836f8d346213bd50",
      "c5becd053a984bfe8d37882e91908ea0",
      "0f0b00bc5dc54e6bbba651d3b5ef0ce0",
      "b051b1074ff049b5a3368262ceb6931c",
      "72a0855f847747928f1d4628d36c5ffa",
      "f17983bf167f45179d951af2ffc77b92",
      "1759980f1cff451b93d4a7473e38b4ae",
      "19534041e3ae4715b6b1645837ce49ee",
      "347aa29b8bdd432a8711b9fb591f5d9b",
      "f88d7946f9a44c73886568f336b50bde",
      "0f3a5698601f490e882a06bc955532cc",
      "2c641953af3f4cda8e0176ae58d3162b",
      "16c0af70477f40b9a4a93a3dc0b42b11",
      "7846b28048e842378527f0bd230f9df6",
      "b945309bcfb547ce8e2cc89a40aa6d66",
      "119b3f9daf0148438d447d3cb5596136",
      "84835dda4f9d4b9ba10e5a5c8266b4e8",
      "7fe32fb06dcc4a13addaa3346da59079",
      "c65d6c6cdbec426186d1d004eda75510",
      "e62a2346dbde44e2bc6220503f690789",
      "a3470aa876794bae9ce81a1140cd3329",
      "c868aee65090420db5a8a03c8175b111",
      "9eeeb920cf8140c68a3a975abbf84bae",
      "c9d00c1b3228424a98ef9999f40c8116",
      "5ec8fff8bb8a43619c339e5d7424fb81",
      "34a3c315abd7427faf43a9674c263113",
      "2319dd1cac224ddba2d79b4e89b8c004",
      "26e86bcb78d3405abec1a6dc1ff5ba69",
      "ea406228dd9941ab93567c0913b0d2f2",
      "08aa577b8029479faeeddab06cef42db",
      "0f72c95ef94e41afbe74d5991bc3844d",
      "b538dd4d56684ee19ccaa6a199e55dc1",
      "fd3d0324362c4c2cbfae36e510fb1685",
      "bb3721bc8c2a4e03937a04991fb4814c",
      "8c0e254a51904743b05e2c409dfa5aeb",
      "ad483a1f51784190b65b1bfc52054c0d",
      "6cd81d329e9145e8866f6a7035f89f11",
      "ecf66b897add4c9485690384bce28642",
      "f41e79206fed43dda69f09eaa9b288c7"
     ]
    },
    "outputId": "4dcc05a1-7788-4671-c40d-f84bf42c5102",
    "pycharm": {
     "name": "#%%\n"
    }
   },
   "execution_count": 2,
   "outputs": []
  },
  {
   "cell_type": "code",
   "source": [
    "class net_manual_dropout:\n",
    "    def __init__(self):\n",
    "        input = 784\n",
    "        output = 10\n",
    "\n",
    "        self.hidden1 = 512\n",
    "        self.hidden2 = 256\n",
    "\n",
    "        self.net1 = nn.Sequential(\n",
    "            nn.Flatten(),\n",
    "            nn.Linear(input, self.hidden1),\n",
    "            nn.ReLU()\n",
    "        )\n",
    "    #     considering func dropout has not extended class nn.Module, so set three sub-net\n",
    "        self.net2 = nn.Sequential(\n",
    "            nn.Linear(self.hidden1, self.hidden2),\n",
    "            nn.ReLU()\n",
    "        )\n",
    "        self.net3 = nn.Sequential(\n",
    "            nn.Linear(self.hidden2, output)\n",
    "        )\n",
    "\n",
    "        for i in [self.net1, self.net2, self.net3]:\n",
    "            i.apply(self.init_weights)\n",
    "\n",
    "        self.params = [\n",
    "            {'params': self.net1.parameters()},\n",
    "            {'params': self.net2.parameters()},\n",
    "            {'params': self.net3.parameters()}\n",
    "        ]\n",
    "\n",
    "    def init_weights(self, m):\n",
    "        if type(m) == nn.Linear:\n",
    "            nn.init.normal_(m.weight, std=0.01)\n",
    "\n",
    "    def dropout(self, X, drop_prob):\n",
    "        X = X.float()\n",
    "        assert 0<= drop_prob <= 1\n",
    "        keep_prob = 1-drop_prob\n",
    "        if keep_prob == 0:\n",
    "            return torch.zeros_like(X)\n",
    "        mask = (torch.rand(X.shape) < keep_prob).float()\n",
    "        return mask * X / keep_prob\n",
    "\n",
    "\n",
    "    def forward(self, X, drop1=0.0, drop2=0.0):\n",
    "        result1 = self.net1(X)\n",
    "        result2 = self.dropout(result1, drop1)\n",
    "        result3 = self.net2(result2)\n",
    "        result4 = self.dropout(result3, drop2)\n",
    "        result5 = self.net3(result4)\n",
    "        return result5\n",
    "    def predict(self, X):\n",
    "        result = self.forward(X, 0, 0)\n",
    "        return torch.nn.Softmax(dim=1)(result)"
   ],
   "metadata": {
    "id": "nj7RTTJX5l8K",
    "pycharm": {
     "name": "#%%\n"
    }
   },
   "execution_count": null,
   "outputs": []
  },
  {
   "cell_type": "code",
   "source": [
    "def evaluate_accuracy(data_iter, net):\n",
    "    acc_sum, n = 0.0, 0\n",
    "    for X, y in data_iter:\n",
    "        acc_sum = (net.predict(X).argmax(dim=1) == y).float().sum().item()\n",
    "        n += y.shape[0]\n",
    "    return acc_sum / n"
   ],
   "metadata": {
    "id": "N81lq1Fo5ocK",
    "pycharm": {
     "name": "#%%\n"
    }
   },
   "execution_count": null,
   "outputs": []
  },
  {
   "cell_type": "code",
   "source": [
    "def accuracy(y_hat, y):\n",
    "    if len(y_hat.shape) > 1 and y_hat.shape[1] > 1:\n",
    "        y_hat = y_hat.argmax(axis=1)\n",
    "    result = y_hat.type(y.dtype) == y\n",
    "    # op== is very sensitive with data type, so call tensor.type() to stay the same with y\n",
    "    return float(result.type(y.dtype).sum())/len(y)\n",
    "\n",
    "def eval_acc(net, data_iter):\n",
    "    result = []\n",
    "    with torch.no_grad():\n",
    "        for X, y in data_iter:\n",
    "            result.append(accuracy(net.forward(X), y))\n",
    "    return np.array(result).mean()"
   ],
   "metadata": {
    "id": "rSGyAVES_mdl",
    "executionInfo": {
     "status": "ok",
     "timestamp": 1668233331022,
     "user_tz": -480,
     "elapsed": 2,
     "user": {
      "displayName": "Planck Chang",
      "userId": "07038384177652850514"
     }
    },
    "pycharm": {
     "name": "#%%\n"
    }
   },
   "execution_count": 12,
   "outputs": []
  },
  {
   "cell_type": "code",
   "source": [
    "def train_manual_dropout(net, loss, train_loader, test_loader, epochs, batch_size, optimizer,name_net, dropout=[0.0,0.0]):\n",
    "    train_loss_ls = []\n",
    "    # test_loss_ls = []\n",
    "    acc_test_ls = []\n",
    "    acc_train_ls = []\n",
    "    for epoch in range(epochs):\n",
    "      l_sum = 0.0\n",
    "      num = 0\n",
    "      acc =0.0\n",
    "      for X, y in train_loader:\n",
    "        y_hat = net.forward(X, dropout[0], dropout[1])\n",
    "        l = loss(y_hat, y)\n",
    "        \n",
    "        acc += accuracy(y_hat, y)\n",
    "       \n",
    "        # if type(optimizer) == torch.optim.Optimizer:\n",
    "        optimizer.zero_grad()\n",
    "        l.mean().backward()   \n",
    "        optimizer.step()\n",
    "        # else:\n",
    "        #   l.sum().backward()\n",
    "        #   optimizer([W, b], lr, batch_size)\n",
    "        l_sum += l.sum()/ y.shape[0]\n",
    "        num+=1\n",
    "        \n",
    "        # need to be summed\n",
    "    \n",
    "      with torch.no_grad():\n",
    "        train_loss = l_sum/num\n",
    "        test_acc = eval_acc(net, test_loader)\n",
    "        train_loss_ls.append(train_loss)\n",
    "        acc_train_ls.append(acc/num) \n",
    "        acc_test_ls.append(test_acc) # have gain mean\n",
    "        print('epochs', \"%d\" % (epoch + 1), \"train_loss\", \"%.4f\" %(l_sum/ num), \"train_acc\",\"%.4f\"%(acc/num), \"test_acc\", \"%.4f\"%test_acc)\n",
    "\n",
    "    plt.title(name_net)\n",
    "    plt.plot(train_loss_ls, label='train_loss')\n",
    "    # plt.plot(test_loss_ls, label='test_loss')\n",
    "    plt.plot(acc_train_ls, label='acc_train')\n",
    "    plt.plot(acc_test_ls, label='acc_test')\n",
    "    plt.xlabel('epoch')\n",
    "    plt.ylabel('loss')\n",
    "    plt.legend()\n",
    "    plt.show()"
   ],
   "metadata": {
    "id": "TK7ivdzT_vVA",
    "pycharm": {
     "name": "#%%\n"
    }
   },
   "execution_count": null,
   "outputs": []
  },
  {
   "cell_type": "code",
   "source": [
    "epochs = 20\n",
    "lr = 0.1\n",
    "batch_size = 1024\n",
    "loss = nn.CrossEntropyLoss(reduction=\"none\")\n",
    "dropout = [0.2, 0.5]\n",
    "net = net_manual_dropout()\n",
    "\n",
    "optimizer = torch.optim.SGD(net.params, lr)\n",
    "train_manual_dropout(net, loss, train_loader, test_loader, epochs, 256, optimizer, \"manual dropout\", dropout)"
   ],
   "metadata": {
    "colab": {
     "base_uri": "https://localhost:8080/",
     "height": 655
    },
    "id": "eXQMM1BYD2mS",
    "executionInfo": {
     "status": "ok",
     "timestamp": 1668176038267,
     "user_tz": -480,
     "elapsed": 163238,
     "user": {
      "displayName": "Planck Chang",
      "userId": "07038384177652850514"
     }
    },
    "outputId": "d2b1b98b-cec1-4328-a124-55f5979e7e1c",
    "pycharm": {
     "name": "#%%\n"
    }
   },
   "execution_count": null,
   "outputs": [
    {
     "output_type": "stream",
     "name": "stdout",
     "text": [
      "epochs 1 train_loss 2.0578 train_acc 0.2717 test_acc 0.7123\n",
      "epochs 2 train_loss 0.7316 train_acc 0.7689 test_acc 0.8710\n",
      "epochs 3 train_loss 0.4633 train_acc 0.8660 test_acc 0.8951\n",
      "epochs 4 train_loss 0.3688 train_acc 0.8930 test_acc 0.9219\n",
      "epochs 5 train_loss 0.3086 train_acc 0.9119 test_acc 0.9292\n",
      "epochs 6 train_loss 0.2617 train_acc 0.9247 test_acc 0.9438\n",
      "epochs 7 train_loss 0.2253 train_acc 0.9360 test_acc 0.9498\n",
      "epochs 8 train_loss 0.1963 train_acc 0.9438 test_acc 0.9553\n",
      "epochs 9 train_loss 0.1775 train_acc 0.9493 test_acc 0.9575\n",
      "epochs 10 train_loss 0.1595 train_acc 0.9536 test_acc 0.9624\n",
      "epochs 11 train_loss 0.1452 train_acc 0.9590 test_acc 0.9658\n",
      "epochs 12 train_loss 0.1352 train_acc 0.9612 test_acc 0.9655\n",
      "epochs 13 train_loss 0.1273 train_acc 0.9629 test_acc 0.9681\n",
      "epochs 14 train_loss 0.1168 train_acc 0.9663 test_acc 0.9701\n",
      "epochs 15 train_loss 0.1101 train_acc 0.9685 test_acc 0.9728\n",
      "epochs 16 train_loss 0.1034 train_acc 0.9700 test_acc 0.9717\n",
      "epochs 17 train_loss 0.0981 train_acc 0.9722 test_acc 0.9734\n",
      "epochs 18 train_loss 0.0920 train_acc 0.9736 test_acc 0.9742\n",
      "epochs 19 train_loss 0.0875 train_acc 0.9745 test_acc 0.9753\n",
      "epochs 20 train_loss 0.0839 train_acc 0.9754 test_acc 0.9769\n"
     ]
    },
    {
     "output_type": "display_data",
     "data": {
      "text/plain": [
       "<Figure size 432x288 with 1 Axes>"
      ],
      "image/png": "[encoded data removed]"
     },
     "metadata": {
      "needs_background": "light"
     }
    }
   ]
  },
  {
   "cell_type": "markdown",
   "source": [
    "不进行dropout"
   ],
   "metadata": {
    "id": "HQCNdWvqDAbq",
    "pycharm": {
     "name": "#%% md\n"
    }
   }
  },
  {
   "cell_type": "code",
   "source": [
    "epochs = 20\n",
    "lr = 0.1\n",
    "batch_size = 1024\n",
    "loss = nn.CrossEntropyLoss(reduction=\"none\")\n",
    "# dropout = [0.2, 0.5]\n",
    "net1 = net_manual_dropout()\n",
    "\n",
    "optimizer = torch.optim.SGD(net.params, lr)\n",
    "train_manual_dropout(net, loss, train_loader, test_loader, epochs, 256, optimizer, \"manual dropout\", dropout)"
   ],
   "metadata": {
    "colab": {
     "base_uri": "https://localhost:8080/",
     "height": 655
    },
    "id": "-gMs9fbTC7Kh",
    "executionInfo": {
     "status": "ok",
     "timestamp": 1668176310239,
     "user_tz": -480,
     "elapsed": 162650,
     "user": {
      "displayName": "Planck Chang",
      "userId": "07038384177652850514"
     }
    },
    "outputId": "34b74098-2399-498f-8356-afc251699332",
    "pycharm": {
     "name": "#%%\n"
    }
   },
   "execution_count": null,
   "outputs": [
    {
     "output_type": "stream",
     "name": "stdout",
     "text": [
      "epochs 1 train_loss 0.0780 train_acc 0.9771 test_acc 0.9764\n",
      "epochs 2 train_loss 0.0744 train_acc 0.9783 test_acc 0.9771\n",
      "epochs 3 train_loss 0.0719 train_acc 0.9790 test_acc 0.9797\n",
      "epochs 4 train_loss 0.0689 train_acc 0.9801 test_acc 0.9775\n",
      "epochs 5 train_loss 0.0664 train_acc 0.9812 test_acc 0.9779\n",
      "epochs 6 train_loss 0.0641 train_acc 0.9816 test_acc 0.9787\n",
      "epochs 7 train_loss 0.0599 train_acc 0.9826 test_acc 0.9805\n",
      "epochs 8 train_loss 0.0586 train_acc 0.9831 test_acc 0.9776\n",
      "epochs 9 train_loss 0.0556 train_acc 0.9839 test_acc 0.9793\n",
      "epochs 10 train_loss 0.0533 train_acc 0.9850 test_acc 0.9796\n",
      "epochs 11 train_loss 0.0510 train_acc 0.9852 test_acc 0.9805\n",
      "epochs 12 train_loss 0.0498 train_acc 0.9851 test_acc 0.9806\n",
      "epochs 13 train_loss 0.0476 train_acc 0.9861 test_acc 0.9809\n",
      "epochs 14 train_loss 0.0464 train_acc 0.9864 test_acc 0.9800\n",
      "epochs 15 train_loss 0.0435 train_acc 0.9873 test_acc 0.9820\n",
      "epochs 16 train_loss 0.0421 train_acc 0.9880 test_acc 0.9814\n",
      "epochs 17 train_loss 0.0412 train_acc 0.9877 test_acc 0.9809\n",
      "epochs 18 train_loss 0.0392 train_acc 0.9887 test_acc 0.9802\n",
      "epochs 19 train_loss 0.0370 train_acc 0.9889 test_acc 0.9808\n",
      "epochs 20 train_loss 0.0364 train_acc 0.9895 test_acc 0.9812\n"
     ]
    },
    {
     "output_type": "display_data",
     "data": {
      "text/plain": [
       "<Figure size 432x288 with 1 Axes>"
      ],
      "image/png": "[encoded data removed]"
     },
     "metadata": {
      "needs_background": "light"
     }
    }
   ]
  },
  {
   "cell_type": "markdown",
   "source": [
    "# torch.nn 实现dropout"
   ],
   "metadata": {
    "id": "Z0xMfLKTDpwR",
    "pycharm": {
     "name": "#%% md\n"
    }
   }
  },
  {
   "cell_type": "code",
   "source": [
    "class net_dropout_nn:\n",
    "  def __init__(self, prob1, prob2):\n",
    "    self.net = nn.Sequential(\n",
    "        nn.Flatten(),\n",
    "        nn.Linear(784, 512),\n",
    "        nn.ReLU(),\n",
    "        nn.Dropout(prob1),\n",
    "        nn.Linear(512, 256),\n",
    "        nn.ReLU(),\n",
    "        nn.Dropout(prob2),\n",
    "        nn.Linear(256, 10)\n",
    "    )\n",
    "    for param in self.net.parameters():\n",
    "        nn.init.normal_(param, std=0.01)\n",
    "    self.params = self.net.parameters()\n",
    "  def forward(self, X):\n",
    "    return self.net(X)"
   ],
   "metadata": {
    "id": "-XGowLcQDudG",
    "pycharm": {
     "name": "#%%\n"
    }
   },
   "execution_count": null,
   "outputs": []
  },
  {
   "cell_type": "code",
   "source": [
    "def train_nn_dropout(net, loss, train_loader, test_loader, epochs, batch_size, optimizer,name_net, dropout=[0.0,0.0]):\n",
    "    train_loss_ls = []\n",
    "    # test_loss_ls = []\n",
    "    acc_test_ls = []\n",
    "    acc_train_ls = []\n",
    "    for epoch in range(epochs):\n",
    "      l_sum = 0.0\n",
    "      num = 0\n",
    "      acc =0.0\n",
    "      for X, y in train_loader:\n",
    "        y_hat = net.forward(X)\n",
    "        l = loss(y_hat, y)\n",
    "        \n",
    "        acc += accuracy(y_hat, y)\n",
    "       \n",
    "        # if type(optimizer) == torch.optim.Optimizer:\n",
    "        optimizer.zero_grad()\n",
    "        l.mean().backward()   \n",
    "        optimizer.step()\n",
    "        # else:\n",
    "        #   l.sum().backward()\n",
    "        #   optimizer([W, b], lr, batch_size)\n",
    "        l_sum += l.sum()/ y.shape[0]\n",
    "        num+=1\n",
    "        \n",
    "        # need to be summed\n",
    "    \n",
    "      with torch.no_grad():\n",
    "        train_loss = l_sum/num\n",
    "        test_acc = eval_acc(net, test_loader)\n",
    "        train_loss_ls.append(train_loss)\n",
    "        acc_train_ls.append(acc/num) \n",
    "        acc_test_ls.append(test_acc) # have gain mean\n",
    "        print('epochs', \"%d\" % (epoch + 1), \"train_loss\", \"%.4f\" %(l_sum/ num), \"train_acc\",\"%.4f\"%(acc/num), \"test_acc\", \"%.4f\"%test_acc)\n",
    "\n",
    "    plt.title(name_net)\n",
    "    plt.plot(train_loss_ls, label='train_loss')\n",
    "    # plt.plot(test_loss_ls, label='test_loss')\n",
    "    plt.plot(acc_train_ls, label='acc_train')\n",
    "    plt.plot(acc_test_ls, label='acc_test')\n",
    "    plt.xlabel('epoch')\n",
    "    plt.ylabel('loss')\n",
    "    plt.legend()\n",
    "    plt.show()"
   ],
   "metadata": {
    "id": "4vEniiZIFCnt",
    "pycharm": {
     "name": "#%%\n"
    }
   },
   "execution_count": null,
   "outputs": []
  },
  {
   "cell_type": "code",
   "source": [
    "epochs = 20\n",
    "lr = 0.1\n",
    "batch_size = 1024\n",
    "loss = nn.CrossEntropyLoss(reduction=\"none\")\n",
    "dropout = [0.2, 0.5]\n",
    "net = net_dropout_nn(0.2, 0.5)\n",
    "\n",
    "optimizer = torch.optim.SGD(net.params, lr)\n",
    "train_nn_dropout(net, loss, train_loader, test_loader, epochs, 256, optimizer, \"nn dropout\", dropout)"
   ],
   "metadata": {
    "colab": {
     "base_uri": "https://localhost:8080/",
     "height": 655
    },
    "id": "nfO4wqKmFmcy",
    "executionInfo": {
     "status": "ok",
     "timestamp": 1668177128868,
     "user_tz": -480,
     "elapsed": 14012,
     "user": {
      "displayName": "Planck Chang",
      "userId": "07038384177652850514"
     }
    },
    "outputId": "9c420e00-0063-4352-864e-eb7a95261ac3",
    "pycharm": {
     "name": "#%%\n"
    }
   },
   "execution_count": null,
   "outputs": [
    {
     "output_type": "stream",
     "name": "stdout",
     "text": [
      "epochs 1 train_loss 1.9995 train_acc 0.3607 test_acc 0.6672\n",
      "epochs 2 train_loss 0.6886 train_acc 0.7855 test_acc 0.8491\n",
      "epochs 3 train_loss 0.4424 train_acc 0.8722 test_acc 0.8890\n",
      "epochs 4 train_loss 0.3573 train_acc 0.8973 test_acc 0.9052\n",
      "epochs 5 train_loss 0.3000 train_acc 0.9141 test_acc 0.9255\n",
      "epochs 6 train_loss 0.2559 train_acc 0.9270 test_acc 0.9321\n",
      "epochs 7 train_loss 0.2238 train_acc 0.9363 test_acc 0.9389\n",
      "epochs 8 train_loss 0.1978 train_acc 0.9425 test_acc 0.9470\n",
      "epochs 9 train_loss 0.1749 train_acc 0.9499 test_acc 0.9501\n",
      "epochs 10 train_loss 0.1604 train_acc 0.9539 test_acc 0.9550\n",
      "epochs 11 train_loss 0.1471 train_acc 0.9576 test_acc 0.9558\n",
      "epochs 12 train_loss 0.1364 train_acc 0.9610 test_acc 0.9576\n",
      "epochs 13 train_loss 0.1254 train_acc 0.9643 test_acc 0.9590\n",
      "epochs 14 train_loss 0.1160 train_acc 0.9664 test_acc 0.9604\n",
      "epochs 15 train_loss 0.1081 train_acc 0.9694 test_acc 0.9667\n",
      "epochs 16 train_loss 0.1027 train_acc 0.9700 test_acc 0.9687\n",
      "epochs 17 train_loss 0.0976 train_acc 0.9713 test_acc 0.9668\n",
      "epochs 18 train_loss 0.0922 train_acc 0.9736 test_acc 0.9672\n",
      "epochs 19 train_loss 0.0870 train_acc 0.9750 test_acc 0.9680\n",
      "epochs 20 train_loss 0.0821 train_acc 0.9767 test_acc 0.9699\n"
     ]
    },
    {
     "output_type": "display_data",
     "data": {
      "text/plain": [
       "<Figure size 432x288 with 1 Axes>"
      ],
      "image/png": "[encoded data removed]"
     },
     "metadata": {
      "needs_background": "light"
     }
    }
   ]
  },
  {
   "cell_type": "markdown",
   "source": [
    "# 手动实现 L2 正则化"
   ],
   "metadata": {
    "id": "_yMgztKjGxoJ",
    "pycharm": {
     "name": "#%% md\n"
    }
   }
  },
  {
   "cell_type": "code",
   "source": [
    "class net_manual_L2:\n",
    "    def __init__(self):\n",
    "        input = 784\n",
    "        output = 10\n",
    "\n",
    "        self.hidden1 = 512\n",
    "        self.hidden2 = 256\n",
    "\n",
    "        self.net = nn.Sequential(\n",
    "            nn.Flatten(),\n",
    "            nn.Linear(input, self.hidden1),\n",
    "            nn.ReLU(),\n",
    "            nn.Linear(self.hidden1, self.hidden2),\n",
    "            nn.ReLU(),\n",
    "            nn.Linear(self.hidden2, output)\n",
    "        )\n",
    "        self.net.apply(self.init_weights)\n",
    "        self.params = self.net.parameters()\n",
    "\n",
    "    def init_weights(self, m):\n",
    "        if type(m) == nn.Linear:\n",
    "            nn.init.normal_(m.weight, std=0.01)\n",
    "\n",
    "    def forward(self, X):\n",
    "        return self.net(X)"
   ],
   "metadata": {
    "id": "AWLsD8mKG8WN",
    "executionInfo": {
     "status": "ok",
     "timestamp": 1668219726925,
     "user_tz": -480,
     "elapsed": 2,
     "user": {
      "displayName": "Planck Chang",
      "userId": "07038384177652850514"
     }
    },
    "pycharm": {
     "name": "#%%\n"
    }
   },
   "execution_count": 21,
   "outputs": []
  },
  {
   "cell_type": "code",
   "source": [
    "def l2_pennalty(net):\n",
    "    pennalty = torch.zeros(1)\n",
    "    for i in net.net:\n",
    "        if type(i) == nn.Linear:\n",
    "          pennalty += (i.weight ** 2).mean() / 2 \n",
    "    return pennalty"
   ],
   "metadata": {
    "id": "V7f0ptPHjmkO",
    "executionInfo": {
     "status": "ok",
     "timestamp": 1668220236967,
     "user_tz": -480,
     "elapsed": 2,
     "user": {
      "displayName": "Planck Chang",
      "userId": "07038384177652850514"
     }
    },
    "pycharm": {
     "name": "#%%\n"
    }
   },
   "execution_count": 26,
   "outputs": []
  },
  {
   "cell_type": "code",
   "source": [
    "def accuracy(y_hat, y):\n",
    "    if len(y_hat.shape) > 1 and y_hat.shape[1] > 1:\n",
    "        y_hat = y_hat.argmax(axis=1)\n",
    "    result = y_hat.type(y.dtype) == y\n",
    "    # op== is very sensitive with data type, so call tensor.type() to stay the same with y\n",
    "    return float(result.type(y.dtype).sum())/len(y)\n",
    "\n",
    "def eval_acc(net, data_iter):\n",
    "    result = []\n",
    "    with torch.no_grad():\n",
    "        for X, y in data_iter:\n",
    "            result.append(accuracy(net.forward(X), y))\n",
    "    return np.array(result).mean()"
   ],
   "metadata": {
    "id": "dwaRKZ_Jmruv",
    "executionInfo": {
     "status": "ok",
     "timestamp": 1668219062511,
     "user_tz": -480,
     "elapsed": 2,
     "user": {
      "displayName": "Planck Chang",
      "userId": "07038384177652850514"
     }
    },
    "pycharm": {
     "name": "#%%\n"
    }
   },
   "execution_count": 14,
   "outputs": []
  },
  {
   "cell_type": "code",
   "source": [
    "def train_manual_L2(net, loss, train_loader, test_loader, epochs, batch_size, optimizer,name_net, lambd):\n",
    "    train_loss_ls = []\n",
    "    # test_loss_ls = []\n",
    "    acc_test_ls = []\n",
    "    acc_train_ls = []\n",
    "    for epoch in range(epochs):\n",
    "      l_sum = 0.0\n",
    "      num = 0\n",
    "      acc =0.0\n",
    "      for X, y in train_loader:\n",
    "        y_hat = net.forward(X)\n",
    "        l = loss(y_hat, y) + lambd *l2_pennalty(net)\n",
    "        \n",
    "        acc += accuracy(y_hat, y)\n",
    "       \n",
    "        # if type(optimizer) == torch.optim.Optimizer:\n",
    "        optimizer.zero_grad()\n",
    "        l.backward()   \n",
    "        optimizer.step()\n",
    "        # else:\n",
    "        #   l.sum().backward()\n",
    "        #   optimizer([W, b], lr, batch_size)\n",
    "        l_sum += l/ y.shape[0]\n",
    "        num+=1\n",
    "        \n",
    "        # need to be summed\n",
    "    \n",
    "      with torch.no_grad():\n",
    "        train_loss = l_sum/num\n",
    "        test_acc = eval_acc(net, test_loader)\n",
    "        train_loss_ls.append(train_loss)\n",
    "        acc_train_ls.append(acc/num) \n",
    "        acc_test_ls.append(test_acc) # have gain mean\n",
    "        print('epochs', \"%d\" % (epoch + 1), \"train_loss\", \"%.4f\" %(l_sum/ num), \"train_acc\",\"%.4f\"%(acc/num), \"test_acc\", \"%.4f\"%test_acc)\n",
    "\n",
    "    plt.title(name_net)\n",
    "    plt.plot(train_loss_ls, label='train_loss')\n",
    "    # plt.plot(test_loss_ls, label='test_loss')\n",
    "    plt.plot(acc_train_ls, label='acc_train')\n",
    "    plt.plot(acc_test_ls, label='acc_test')\n",
    "    plt.xlabel('epoch')\n",
    "    plt.ylabel('loss')\n",
    "    plt.legend()\n",
    "    plt.show()"
   ],
   "metadata": {
    "id": "azFoiV_QkvQY",
    "executionInfo": {
     "status": "ok",
     "timestamp": 1668219518184,
     "user_tz": -480,
     "elapsed": 528,
     "user": {
      "displayName": "Planck Chang",
      "userId": "07038384177652850514"
     }
    },
    "pycharm": {
     "name": "#%%\n"
    }
   },
   "execution_count": 18,
   "outputs": []
  },
  {
   "cell_type": "code",
   "source": [
    "epochs = 5\n",
    "lr = 0.1\n",
    "batch_size = 1024\n",
    "loss = nn.CrossEntropyLoss()\n",
    "dropout = [0.2, 0.5]\n",
    "net = net_manual_L2()\n",
    "\n",
    "optimizer = torch.optim.SGD(net.params, lr)\n",
    "\n",
    "train_manual_L2(net, loss, train_loader, test_loader, epochs, 256, optimizer, \"manual pennalty\", 0.1)"
   ],
   "metadata": {
    "colab": {
     "base_uri": "https://localhost:8080/",
     "height": 477
    },
    "id": "l9pgz4mClvgy",
    "executionInfo": {
     "status": "ok",
     "timestamp": 1668220305316,
     "user_tz": -480,
     "elapsed": 62196,
     "user": {
      "displayName": "Planck Chang",
      "userId": "07038384177652850514"
     }
    },
    "outputId": "88b895af-447b-4b06-b996-d809cab0d075",
    "pycharm": {
     "name": "#%%\n"
    }
   },
   "execution_count": 27,
   "outputs": [
    {
     "output_type": "stream",
     "name": "stdout",
     "text": [
      "epochs 1 train_loss 0.0078 train_acc 0.2962 test_acc 0.6517\n",
      "epochs 2 train_loss 0.0024 train_acc 0.8076 test_acc 0.8708\n",
      "epochs 3 train_loss 0.0015 train_acc 0.8892 test_acc 0.8987\n",
      "epochs 4 train_loss 0.0013 train_acc 0.9088 test_acc 0.9175\n",
      "epochs 5 train_loss 0.0011 train_acc 0.9213 test_acc 0.9283\n"
     ]
    },
    {
     "output_type": "stream",
     "name": "stderr",
     "text": [
      "/usr/local/lib/python3.7/dist-packages/numpy/core/shape_base.py:65: FutureWarning: The input object of type 'Tensor' is an array-like implementing one of the corresponding protocols (`__array__`, `__array_interface__` or `__array_struct__`); but not a sequence (or 0-D). In the future, this object will be coerced as if it was first converted using `np.array(obj)`. To retain the old behaviour, you have to either modify the type 'Tensor', or assign to an empty array created with `np.empty(correct_shape, dtype=object)`.\n",
      "  ary = asanyarray(ary)\n",
      "/usr/local/lib/python3.7/dist-packages/numpy/core/shape_base.py:65: VisibleDeprecationWarning: Creating an ndarray from ragged nested sequences (which is a list-or-tuple of lists-or-tuples-or ndarrays with different lengths or shapes) is deprecated. If you meant to do this, you must specify 'dtype=object' when creating the ndarray.\n",
      "  ary = asanyarray(ary)\n"
     ]
    },
    {
     "output_type": "display_data",
     "data": {
      "text/plain": [
       "<Figure size 432x288 with 1 Axes>"
      ],
      "image/png": "[encoded data removed]"
     },
     "metadata": {
      "needs_background": "light"
     }
    }
   ]
  },
  {
   "cell_type": "markdown",
   "source": [
    "发现一开始crossentroyloss 用了不求和的版本，这样把每个权重都加上了惩罚，且lambda和实验指导中一样取了3，,这样模型根本不能拟合，即惩罚力度过大。同时，通过自行实验和网络博客查看，发现惩罚取平均而不是简单加和，效果更好。\n"
   ],
   "metadata": {
    "id": "fW_hLatwoflv",
    "pycharm": {
     "name": "#%% md\n"
    }
   }
  },
  {
   "cell_type": "code",
   "source": [
    "epochs = 5\n",
    "lr = 0.1\n",
    "batch_size = 1024\n",
    "loss = nn.CrossEntropyLoss()\n",
    "\n",
    "net = net_manual_L2()\n",
    "\n",
    "optimizer = torch.optim.SGD(net.params, lr)\n",
    "\n",
    "train_manual_L2(net, loss, train_loader, test_loader, epochs, 256, optimizer, \"manual pennalty\", 0)"
   ],
   "metadata": {
    "colab": {
     "base_uri": "https://localhost:8080/",
     "height": 385
    },
    "id": "87URmhsOpyVb",
    "executionInfo": {
     "status": "ok",
     "timestamp": 1668220374096,
     "user_tz": -480,
     "elapsed": 52657,
     "user": {
      "displayName": "Planck Chang",
      "userId": "07038384177652850514"
     }
    },
    "outputId": "f3f0b8fc-c64f-4112-e4a3-5125d865baa5",
    "pycharm": {
     "name": "#%%\n"
    }
   },
   "execution_count": 28,
   "outputs": [
    {
     "output_type": "stream",
     "name": "stdout",
     "text": [
      "epochs 1 train_loss 0.0079 train_acc 0.3087 test_acc 0.7011\n",
      "epochs 2 train_loss 0.0024 train_acc 0.8122 test_acc 0.8581\n",
      "epochs 3 train_loss 0.0015 train_acc 0.8877 test_acc 0.8994\n",
      "epochs 4 train_loss 0.0013 train_acc 0.9085 test_acc 0.9175\n",
      "epochs 5 train_loss 0.0011 train_acc 0.9226 test_acc 0.9257\n"
     ]
    },
    {
     "output_type": "display_data",
     "data": {
      "text/plain": [
       "<Figure size 432x288 with 1 Axes>"
      ],
      "image/png": "[encoded data removed]"
     },
     "metadata": {
      "needs_background": "light"
     }
    }
   ]
  },
  {
   "cell_type": "markdown",
   "source": [
    "通过对比发现，加入L2正则化的效果会在千分位上有所改善（似乎没什么大用处，但是轮数更多的实验跑不动了，哭泣）"
   ],
   "metadata": {
    "id": "DG7aAA1qrvW7",
    "pycharm": {
     "name": "#%% md\n"
    }
   }
  },
  {
   "cell_type": "markdown",
   "source": [
    "# torch.nn实现L2正则化"
   ],
   "metadata": {
    "id": "NS_UevCwriaD",
    "pycharm": {
     "name": "#%% md\n"
    }
   }
  },
  {
   "cell_type": "code",
   "source": [
    "class net_nn_L2:\n",
    "    def __init__(self):\n",
    "        input = 784\n",
    "        output = 10\n",
    "\n",
    "        self.hidden1 = 512\n",
    "        self.hidden2 = 256\n",
    "\n",
    "        self.net = nn.Sequential(\n",
    "            nn.Flatten(),\n",
    "            nn.Linear(input, self.hidden1),\n",
    "            nn.ReLU(),\n",
    "            nn.Linear(self.hidden1, self.hidden2),\n",
    "            nn.ReLU(),\n",
    "            nn.Linear(self.hidden2, output)\n",
    "        )\n",
    "        self.net.apply(self.init_weights)\n",
    "        self.params = self.net.parameters()\n",
    "\n",
    "    def init_weights(self, m):\n",
    "        if type(m) == nn.Linear:\n",
    "            nn.init.normal_(m.weight, std=0.01)\n",
    "\n",
    "    def forward(self, X):\n",
    "        return self.net(X)"
   ],
   "metadata": {
    "id": "SzFgZzPwtWFN",
    "executionInfo": {
     "status": "ok",
     "timestamp": 1668221292300,
     "user_tz": -480,
     "elapsed": 2,
     "user": {
      "displayName": "Planck Chang",
      "userId": "07038384177652850514"
     }
    },
    "pycharm": {
     "name": "#%%\n"
    }
   },
   "execution_count": 39,
   "outputs": []
  },
  {
   "cell_type": "code",
   "source": [
    "def train_nn_L2(net, loss, train_loader, test_loader, epochs, batch_size, optimizer,name_net, lambd):\n",
    "    train_loss_ls = []\n",
    "    acc_test_ls = []\n",
    "    acc_train_ls = []\n",
    "    for epoch in range(epochs):\n",
    "      l_sum = 0.0\n",
    "      num = 0\n",
    "      acc =0.0\n",
    "      for X, y in train_loader:\n",
    "        y_hat = net.forward(X)\n",
    "        # l = loss(y_hat, y) + lambd *l2_pennalty(net)\n",
    "        l = loss(y_hat, y)\n",
    "        acc += accuracy(y_hat, y)\n",
    "        optimizer.zero_grad()\n",
    "        l.backward()   \n",
    "        optimizer.step()\n",
    "        l_sum += l/ y.shape[0]\n",
    "        num+=1    \n",
    "      with torch.no_grad():\n",
    "        train_loss = l_sum/num\n",
    "        test_acc = eval_acc(net, test_loader)\n",
    "        train_loss_ls.append(train_loss)\n",
    "        acc_train_ls.append(acc/num) \n",
    "        acc_test_ls.append(test_acc) \n",
    "        print('epochs', \"%d\" % (epoch + 1), \"train_loss\", \"%.4f\" %(l_sum/ num), \"train_acc\",\"%.4f\"%(acc/num), \"test_acc\", \"%.4f\"%test_acc)\n",
    "\n",
    "    plt.title(name_net)\n",
    "    plt.plot(train_loss_ls, label='train_loss')\n",
    "    plt.plot(acc_train_ls, label='acc_train')\n",
    "    plt.plot(acc_test_ls, label='acc_test')\n",
    "    plt.xlabel('epoch')\n",
    "    plt.ylabel('loss')\n",
    "    plt.legend()\n",
    "    plt.show()"
   ],
   "metadata": {
    "id": "riwjBltHrngi",
    "executionInfo": {
     "status": "ok",
     "timestamp": 1668220673094,
     "user_tz": -480,
     "elapsed": 2,
     "user": {
      "displayName": "Planck Chang",
      "userId": "07038384177652850514"
     }
    },
    "pycharm": {
     "name": "#%%\n"
    }
   },
   "execution_count": 33,
   "outputs": []
  },
  {
   "cell_type": "code",
   "source": [
    "epochs = 5\n",
    "lr = 0.1\n",
    "loss = nn.CrossEntropyLoss()\n",
    "net = net_nn_L2()\n",
    "\n",
    "optimizer = torch.optim.SGD(net.params, lr, weight_decay=0.01)\n",
    "train_nn_L2(net, loss, train_loader, test_loader, epochs, 256, optimizer, \"nn pennalty\", 0)"
   ],
   "metadata": {
    "colab": {
     "base_uri": "https://localhost:8080/",
     "height": 385
    },
    "id": "j6S8sN1jsalT",
    "executionInfo": {
     "status": "ok",
     "timestamp": 1668221414125,
     "user_tz": -480,
     "elapsed": 42863,
     "user": {
      "displayName": "Planck Chang",
      "userId": "07038384177652850514"
     }
    },
    "outputId": "06a864e9-63da-44e1-8cf1-9165fdfb2202",
    "pycharm": {
     "name": "#%%\n"
    }
   },
   "execution_count": 42,
   "outputs": [
    {
     "output_type": "stream",
     "name": "stdout",
     "text": [
      "epochs 1 train_loss 0.0082 train_acc 0.2668 test_acc 0.6906\n",
      "epochs 2 train_loss 0.0028 train_acc 0.7835 test_acc 0.8373\n",
      "epochs 3 train_loss 0.0018 train_acc 0.8688 test_acc 0.8785\n",
      "epochs 4 train_loss 0.0015 train_acc 0.8913 test_acc 0.8886\n",
      "epochs 5 train_loss 0.0014 train_acc 0.9025 test_acc 0.9093\n"
     ]
    },
    {
     "output_type": "display_data",
     "data": {
      "text/plain": [
       "<Figure size 432x288 with 1 Axes>"
      ],
      "image/png": "[encoded data removed]"
     },
     "metadata": {
      "needs_background": "light"
     }
    }
   ]
  },
  {
   "cell_type": "markdown",
   "source": [
    "实验指导书中，将weight和bias分开两个优化器的做法太过高级，在自定义网络下，没想到简单的处理方法，这里直接简单处理了。"
   ],
   "metadata": {
    "id": "4B8dsghqwdMP",
    "pycharm": {
     "name": "#%% md\n"
    }
   }
  },
  {
   "cell_type": "code",
   "execution_count": null,
   "outputs": [],
   "source": [
    "epochs = 30\n",
    "lr = 0.1\n",
    "loss = nn.CrossEntropyLoss()\n",
    "net = net_nn_L2()\n",
    "\n",
    "optimizer = torch.optim.SGD(net.params, lr, weight_decay=0.0)\n",
    "train_nn_L2(net, loss, train_loader, test_loader, epochs, 256, optimizer, \"nn pennalty\", 0)"
   ],
   "metadata": {
    "collapsed": false,
    "pycharm": {
     "name": "#%%\n"
    }
   }
  },
  {
   "cell_type": "code",
   "execution_count": null,
   "outputs": [],
   "source": [
    "epochs = 30\n",
    "lr = 0.1\n",
    "loss = nn.CrossEntropyLoss()\n",
    "net = net_nn_L2()\n",
    "\n",
    "optimizer = torch.optim.SGD(net.params, lr, weight_decay=0.01)\n",
    "train_nn_L2(net, loss, train_loader, test_loader, epochs, 256, optimizer, \"nn pennalty\", 0)"
   ],
   "metadata": {
    "collapsed": false,
    "pycharm": {
     "name": "#%%\n"
    }
   }
  },
  {
   "cell_type": "markdown",
   "source": [
    "L2正则化的效果还是有的，不过在这个网络上过拟合现象不是很严重，效果不是很大"
   ],
   "metadata": {
    "collapsed": false,
    "pycharm": {
     "name": "#%% md\n"
    }
   }
  },
  {
   "cell_type": "markdown",
   "source": [
    "# 手动实现momentum、rmsprop、adam"
   ],
   "metadata": {
    "collapsed": false,
    "pycharm": {
     "name": "#%% md\n"
    }
   }
  },
  {
   "cell_type": "markdown",
   "source": [
    "## 手动momentum"
   ],
   "metadata": {
    "collapsed": false,
    "pycharm": {
     "name": "#%% md\n"
    }
   }
  },
  {
   "cell_type": "code",
   "execution_count": null,
   "outputs": [],
   "source": [
    "def accuracy(y_hat, y):\n",
    "    if len(y_hat.shape) > 1 and y_hat.shape[1] > 1:\n",
    "        y_hat = y_hat.argmax(axis=1)\n",
    "    result = y_hat.type(y.dtype) == y\n",
    "    # op== is very sensitive with data type, so call tensor.type() to stay the same with y\n",
    "    return float(result.type(y.dtype).sum())/len(y)\n",
    "\n",
    "\n",
    "def eval_acc(net, data_iter):\n",
    "    result = []\n",
    "    with torch.no_grad():\n",
    "        for X, y in data_iter:\n",
    "            result.append(accuracy(net.forward(X), y))\n",
    "    return np.array(result).mean()"
   ],
   "metadata": {
    "collapsed": false,
    "pycharm": {
     "name": "#%%\n"
    }
   }
  },
  {
   "cell_type": "code",
   "execution_count": null,
   "outputs": [],
   "source": [
    "class net_manual_momentum:\n",
    "    def __init__(self):\n",
    "        input = 784\n",
    "        output = 10\n",
    "\n",
    "        self.hidden1 = 512\n",
    "        self.hidden2 = 256\n",
    "\n",
    "        self.net = nn.Sequential(\n",
    "            nn.Flatten(),\n",
    "            nn.Linear(input, self.hidden1),\n",
    "            nn.ReLU(),\n",
    "            nn.Linear(self.hidden1, self.hidden2),\n",
    "            nn.ReLU(),\n",
    "            nn.Linear(self.hidden2, output)\n",
    "        )\n",
    "        self.net.apply(self.init_weights)\n",
    "        self.params = self.net.parameters()\n",
    "\n",
    "    def init_weights(self, m):\n",
    "        if type(m) == nn.Linear:\n",
    "            nn.init.normal_(m.weight, std=0.01)\n",
    "\n",
    "    def forward(self, X):\n",
    "        return self.net(X)"
   ],
   "metadata": {
    "collapsed": false,
    "pycharm": {
     "name": "#%%\n"
    }
   }
  },
  {
   "cell_type": "code",
   "execution_count": null,
   "outputs": [],
   "source": [
    "net = net_manual_momentum()"
   ],
   "metadata": {
    "collapsed": false,
    "pycharm": {
     "name": "#%%\n"
    }
   }
  },
  {
   "cell_type": "code",
   "execution_count": null,
   "outputs": [],
   "source": [
    "for i in net.net.parameters():\n",
    "  print(i.shape)"
   ],
   "metadata": {
    "collapsed": false,
    "pycharm": {
     "name": "#%%\n"
    }
   }
  },
  {
   "cell_type": "code",
   "execution_count": null,
   "outputs": [],
   "source": [
    "for i in net.net.parameters():\n",
    "  print(type(i))"
   ],
   "metadata": {
    "collapsed": false,
    "pycharm": {
     "name": "#%%\n"
    }
   }
  },
  {
   "cell_type": "code",
   "execution_count": null,
   "outputs": [],
   "source": [
    "def accuracy(y_hat, y):\n",
    "    if len(y_hat.shape) > 1 and y_hat.shape[1] > 1:\n",
    "        y_hat = y_hat.argmax(axis=1)\n",
    "    result = y_hat.type(y.dtype) == y\n",
    "    # op== is very sensitive with data type, so call tensor.type() to stay the same with y\n",
    "    return float(result.type(y.dtype).sum())/len(y)\n",
    "\n",
    "\n",
    "def eval_acc(net, data_iter):\n",
    "    result = []\n",
    "    with torch.no_grad():\n",
    "        for X, y in data_iter:\n",
    "            result.append(accuracy(net.forward(X), y))\n",
    "    return np.array(result).mean()\n",
    "\n",
    "def init_momentum_states(net):\n",
    "    state = []\n",
    "    for i in net.net.parameters():\n",
    "      state.append(torch.zeros_like(i))\n",
    "    return state\n",
    "\n",
    "def sgd_momentum(params, states:list, lr, momentum):\n",
    "    for p, v in zip(params, states):\n",
    "        with torch.no_grad():\n",
    "            v *= momentum\n",
    "            v += lr * p.grad.data\n",
    "            p.data -= v\n",
    "        p.grad.data.zero_()"
   ],
   "metadata": {
    "collapsed": false,
    "pycharm": {
     "name": "#%%\n"
    }
   }
  },
  {
   "cell_type": "code",
   "execution_count": null,
   "outputs": [],
   "source": [
    "def train_momentum(net, loss, lr, momentum, train_loader, test_loader, epochs, optimizer:sgd_momentum,name_net):\n",
    "    states = []\n",
    "    for i in net.params:\n",
    "        states.append(torch.zeros_like(i.data))\n",
    "\n",
    "    train_loss_ls = []\n",
    "    acc_test_ls = []\n",
    "    acc_train_ls = []\n",
    "    for epoch in range(epochs):\n",
    "      l_sum = 0.0\n",
    "      num = 0\n",
    "      acc =0.0\n",
    "      for X, y in train_loader:\n",
    "        y_hat = net.forward(X)\n",
    "        l = loss(y_hat, y)\n",
    "        acc += accuracy(y_hat, y)\n",
    "        # optimizer.zero_grad()\n",
    "        l.backward()\n",
    "        # optimizer.step()\n",
    "\n",
    "        optimizer(net.net.parameters(), states, lr, momentum)\n",
    "        l_sum += l/ y.shape[0]\n",
    "        num+=1\n",
    "      with torch.no_grad():\n",
    "        train_loss = l_sum/num\n",
    "        test_acc = eval_acc(net, test_loader)\n",
    "        train_loss_ls.append(train_loss)\n",
    "        acc_train_ls.append(acc/num)\n",
    "        acc_test_ls.append(test_acc)\n",
    "        for i in net.params:\n",
    "          i.grad.data.zero_()\n",
    "        print('epochs', \"%d\" % (epoch + 1), \"train_loss\", \"%.4f\" %(l_sum/ num), \"train_acc\",\"%.4f\"%(acc/num), \"test_acc\", \"%.4f\"%test_acc)\n",
    "\n",
    "    plt.title(name_net)\n",
    "    plt.plot(train_loss_ls, label='train_loss')\n",
    "    plt.plot(acc_train_ls, label='acc_train')\n",
    "    plt.plot(acc_test_ls, label='acc_test')\n",
    "    plt.xlabel('epoch')\n",
    "    plt.ylabel('loss')\n",
    "    plt.legend()\n",
    "    plt.show()"
   ],
   "metadata": {
    "collapsed": false,
    "pycharm": {
     "name": "#%%\n"
    }
   }
  },
  {
   "cell_type": "code",
   "execution_count": null,
   "outputs": [],
   "source": [
    "epochs = 5\n",
    "loss = nn.CrossEntropyLoss()\n",
    "net = net_manual_momentum()\n",
    "optimizer = sgd_momentum\n",
    "momentum = 0.9\n",
    "lr = 0.1\n",
    "train_momentum(net, loss, lr, momentum, train_loader, test_loader, epochs, optimizer, \"manual momentum\")"
   ],
   "metadata": {
    "collapsed": false,
    "pycharm": {
     "name": "#%%\n"
    }
   }
  },
  {
   "cell_type": "markdown",
   "source": [
    "## torch.nn 实现momentum"
   ],
   "metadata": {
    "collapsed": false,
    "pycharm": {
     "name": "#%% md\n"
    }
   }
  },
  {
   "cell_type": "code",
   "execution_count": null,
   "outputs": [],
   "source": [
    "def train_nn_momentum(net, loss,train_loader, test_loader, epochs, optimizer,name_net):\n",
    "    train_loss_ls = []\n",
    "    acc_test_ls = []\n",
    "    acc_train_ls = []\n",
    "    for epoch in range(epochs):\n",
    "      l_sum = 0.0\n",
    "      num = 0\n",
    "      acc =0.0\n",
    "      for X, y in train_loader:\n",
    "        optimizer.zero_grad()\n",
    "        y_hat = net.forward(X)\n",
    "        l = loss(y_hat, y)\n",
    "        acc += accuracy(y_hat, y)\n",
    "        # optimizer.zero_grad()\n",
    "        l.backward()\n",
    "        # optimizer.step()\n",
    "\n",
    "        # optimizer(net.params, states, lr, momentum)\n",
    "        optimizer.step()\n",
    "        l_sum += l/ y.shape[0]\n",
    "\n",
    "        num+=1\n",
    "      with torch.no_grad():\n",
    "        train_loss = l_sum/num\n",
    "        test_acc = eval_acc(net, test_loader)\n",
    "        train_loss_ls.append(train_loss)\n",
    "        acc_train_ls.append(acc/num)\n",
    "        acc_test_ls.append(test_acc)\n",
    "        for i in net.params:\n",
    "          i.grad.data.zero_()\n",
    "        print('epochs', \"%d\" % (epoch + 1), \"train_loss\", \"%.4f\" %(l_sum/ num), \"train_acc\",\"%.4f\"%(acc/num), \"test_acc\", \"%.4f\"%test_acc)\n",
    "\n",
    "    plt.title(name_net)\n",
    "    plt.plot(train_loss_ls, label='train_loss')\n",
    "    plt.plot(acc_train_ls, label='acc_train')\n",
    "    plt.plot(acc_test_ls, label='acc_test')\n",
    "    plt.xlabel('epoch')\n",
    "    plt.ylabel('loss')\n",
    "    plt.legend()\n",
    "    plt.show()"
   ],
   "metadata": {
    "collapsed": false,
    "pycharm": {
     "name": "#%%\n"
    }
   }
  },
  {
   "cell_type": "code",
   "execution_count": null,
   "outputs": [],
   "source": [
    "def accuracy(y_hat, y):\n",
    "    if len(y_hat.shape) > 1 and y_hat.shape[1] > 1:\n",
    "        y_hat = y_hat.argmax(axis=1)\n",
    "    result = y_hat.type(y.dtype) == y\n",
    "    # op== is very sensitive with data type, so call tensor.type() to stay the same with y\n",
    "    return float(result.type(y.dtype).sum())/len(y)\n",
    "\n",
    "\n",
    "def eval_acc(net, data_iter):\n",
    "    result = []\n",
    "    with torch.no_grad():\n",
    "        for X, y in data_iter:\n",
    "            result.append(accuracy(net.forward(X), y))\n",
    "    return np.array(result).mean()"
   ],
   "metadata": {
    "collapsed": false,
    "pycharm": {
     "name": "#%%\n"
    }
   }
  },
  {
   "cell_type": "code",
   "execution_count": null,
   "outputs": [],
   "source": [
    "epochs = 5\n",
    "loss = nn.CrossEntropyLoss()\n",
    "net = net_manual_momentum()\n",
    "lr = 0.1\n",
    "momentum = 0.1\n",
    "optimizer = torch.optim.SGD(net.params, lr, momentum=momentum)\n",
    "\n",
    "train_nn_momentum(net, loss, train_loader, test_loader, epochs, optimizer, \"nn momentum\")"
   ],
   "metadata": {
    "collapsed": false,
    "pycharm": {
     "name": "#%%\n"
    }
   }
  },
  {
   "cell_type": "markdown",
   "source": [
    "## 手动rmsprop"
   ],
   "metadata": {
    "collapsed": false,
    "pycharm": {
     "name": "#%% md\n"
    }
   }
  },
  {
   "cell_type": "code",
   "execution_count": null,
   "outputs": [],
   "source": [
    "import torch\n",
    "import torch.nn as nn\n",
    "import torchvision\n",
    "import torchvision.transforms as transforms\n",
    "import matplotlib.pyplot as plt\n",
    "import time\n",
    "import numpy as np"
   ],
   "metadata": {
    "collapsed": false,
    "pycharm": {
     "name": "#%%\n"
    }
   }
  },
  {
   "cell_type": "code",
   "execution_count": null,
   "outputs": [],
   "source": [
    "train_datasets = torchvision.datasets.MNIST(root=f\"../Datasets/MNIST/\", train=True, transform= transforms.ToTensor(), download=True)\n",
    "test_datasets = torchvision.datasets.MNIST(root=f\"../Datasets/MNIST\", train=False, transform= transforms.ToTensor(), download=True)\n",
    "train_loader = torch.utils.data.DataLoader(train_datasets, batch_size=256, shuffle=True)\n",
    "test_loader = torch.utils.data.DataLoader(test_datasets, batch_size=256, shuffle=False)"
   ],
   "metadata": {
    "collapsed": false,
    "pycharm": {
     "name": "#%%\n"
    }
   }
  },
  {
   "cell_type": "code",
   "execution_count": null,
   "outputs": [],
   "source": [
    "def init_rmsprop_states(net):\n",
    "    states = []\n",
    "    if isinstance(net, nn.Linear):\n",
    "        for i in net.parameters():\n",
    "            print(i.shape)\n",
    "            states.append(torch.zeros(i.shape))\n",
    "    else:\n",
    "        for i in net.net.parameters():\n",
    "            states.append(torch.zeros(i.shape))\n",
    "    return states"
   ],
   "metadata": {
    "collapsed": false,
    "pycharm": {
     "name": "#%%\n"
    }
   }
  },
  {
   "cell_type": "code",
   "execution_count": null,
   "outputs": [],
   "source": [
    "def rmsprop(params, states, lr, gamma):\n",
    "    gamma, eps = gamma, 1e-6\n",
    "    for p, s in zip(params, states):\n",
    "        with torch.no_grad():\n",
    "            # s[:] = gamma * s + (1-gamma) * torch.square(p.grad)\n",
    "            s *= gamma\n",
    "            s += (1-gamma) * torch.square(p.grad)\n",
    "            p -= lr* p.grad / torch.sqrt(s+eps)\n",
    "\n",
    "        p.grad.data.zero_()"
   ],
   "metadata": {
    "collapsed": false,
    "pycharm": {
     "name": "#%%\n"
    }
   }
  },
  {
   "cell_type": "code",
   "execution_count": null,
   "outputs": [],
   "source": [
    "def train_rmsprop(net, loss, lr, gamma, train_loader, test_loader, epochs, optimizer,name_net):\n",
    "    states = init_rmsprop_states(net)\n",
    "    train_loss_ls = []\n",
    "    acc_test_ls = []\n",
    "    acc_train_ls = []\n",
    "    for epoch in range(epochs):\n",
    "      l_sum = 0.0\n",
    "      num = 0\n",
    "      acc =0.0\n",
    "      for X, y in train_loader:\n",
    "        y_hat = net.forward(X)\n",
    "        l = loss(y_hat, y)\n",
    "        acc += accuracy(y_hat, y)\n",
    "        l.backward()\n",
    "        optimizer(net.net.parameters(), states, lr, gamma)\n",
    "        # print(states[0][0][23])\n",
    "        l_sum += l/ y.shape[0]\n",
    "        num+=1\n",
    "      with torch.no_grad():\n",
    "        train_loss = l_sum/num\n",
    "        test_acc = eval_acc(net, test_loader)\n",
    "        train_loss_ls.append(train_loss)\n",
    "        acc_train_ls.append(acc/num)\n",
    "        acc_test_ls.append(test_acc)\n",
    "        for i in net.params:\n",
    "          i.grad.data.zero_()\n",
    "        print('epochs', \"%d\" % (epoch + 1), \"train_loss\", \"%.4f\" %(l_sum/ num), \"train_acc\",\"%.4f\"%(acc/num), \"test_acc\", \"%.4f\"%test_acc)\n",
    "\n",
    "    plt.title(name_net)\n",
    "    plt.plot(train_loss_ls, label='train_loss')\n",
    "    plt.plot(acc_train_ls, label='acc_train')\n",
    "    plt.plot(acc_test_ls, label='acc_test')\n",
    "    plt.xlabel('epoch')\n",
    "    plt.ylabel('loss')\n",
    "    plt.legend()\n",
    "    plt.show()\n"
   ],
   "metadata": {
    "collapsed": false,
    "pycharm": {
     "name": "#%%\n"
    }
   }
  },
  {
   "cell_type": "code",
   "execution_count": null,
   "outputs": [],
   "source": [
    "epochs = 5\n",
    "loss = nn.CrossEntropyLoss()\n",
    "net = net_manual_momentum()\n",
    "lr = 0.01\n",
    "\n",
    "optimizer = rmsprop\n",
    "gamma = 0.9\n",
    "train_rmsprop(net, loss, lr, gamma, train_loader, test_loader, epochs, optimizer, \"manual RMSprop\")"
   ],
   "metadata": {
    "collapsed": false,
    "pycharm": {
     "name": "#%%\n"
    }
   }
  },
  {
   "cell_type": "markdown",
   "source": [
    "## torch.nn 实现rmsprop"
   ],
   "metadata": {
    "collapsed": false,
    "pycharm": {
     "name": "#%% md\n"
    }
   }
  },
  {
   "cell_type": "code",
   "execution_count": null,
   "outputs": [],
   "source": [
    "epochs = 5\n",
    "loss = nn.CrossEntropyLoss()\n",
    "net = net_manual_momentum()\n",
    "lr = 0.01\n",
    "gamma = 0.9\n",
    "optimizer = torch.optim.RMSprop(net.params, lr=lr, alpha=gamma)\n",
    "\n",
    "train_nn_momentum(net, loss, train_loader, test_loader, epochs, optimizer, \"nn RMSprop\")"
   ],
   "metadata": {
    "collapsed": false,
    "pycharm": {
     "name": "#%%\n"
    }
   }
  },
  {
   "cell_type": "markdown",
   "source": [
    "## 手动Adam"
   ],
   "metadata": {
    "collapsed": false,
    "pycharm": {
     "name": "#%% md\n"
    }
   }
  },
  {
   "cell_type": "code",
   "execution_count": null,
   "outputs": [],
   "source": [
    "def init_adagrad_states(net):\n",
    "    states1 = []\n",
    "    states2 = []\n",
    "    if isinstance(net, nn.Linear):\n",
    "        for i in net.parameters():\n",
    "            states1.append(torch.zeros_like(i))\n",
    "            states2.append(torch.zeros_like(i))\n",
    "    else:\n",
    "        for i in net.net.parameters():\n",
    "            states1.append(torch.zeros_like(i))\n",
    "            states2.append(torch.zeros_like(i))\n",
    "        return zip(states1, states2)\n",
    "        # return states1\n",
    "\n",
    "def adagrad(params, state1, state2, lr, t):\n",
    "    eps = 1e-6\n",
    "    beta1, beta2 = 0.9, 0.999\n",
    "    for p, v, s in zip(params, state1, state2):\n",
    "        with torch.no_grad():\n",
    "\n",
    "            # v[:] = momentum * v + p.grad\n",
    "            v *= beta1\n",
    "            v += (1-beta1) * p.grad\n",
    "\n",
    "            s *= beta2\n",
    "            s += (1-beta2) * torch.square(p.grad)\n",
    "            v_hat = v / (1-beta1 ** t)\n",
    "            s_hat = s / (1-beta2 ** t)\n",
    "\n",
    "            p -= lr* v_hat / torch.sqrt(s_hat + eps)\n",
    "        p.grad.data.zero_()"
   ],
   "metadata": {
    "collapsed": false,
    "pycharm": {
     "name": "#%%\n"
    }
   }
  },
  {
   "cell_type": "code",
   "execution_count": null,
   "outputs": [],
   "source": [
    "def train_adam(net:net_manual_momentum, loss, lr, train_loader, test_loader, epochs, optimizer,name_net):\n",
    "    state1 = [torch.zeros_like(i) for i in net.net.parameters()]\n",
    "    state2 = [torch.zeros_like(i) for i in net.net.parameters()]\n",
    "    train_loss_ls = []\n",
    "    acc_test_ls = []\n",
    "    acc_train_ls = []\n",
    "    for epoch in range(epochs):\n",
    "      l_sum = 0.0\n",
    "      num = 0\n",
    "      acc =0.0\n",
    "      for X, y in train_loader:\n",
    "        num+=1\n",
    "        y_hat = net.forward(X)\n",
    "        l = loss(y_hat, y)\n",
    "        acc += accuracy(y_hat, y)\n",
    "        l.backward()\n",
    "        optimizer(net.net.parameters(), state1, state2, lr, num)\n",
    "        # print(states[0][0][23])\n",
    "        l_sum += l/ y.shape[0]\n",
    "\n",
    "      with torch.no_grad():\n",
    "        train_loss = l_sum/num\n",
    "        test_acc = eval_acc(net, test_loader)\n",
    "        train_loss_ls.append(train_loss)\n",
    "        acc_train_ls.append(acc/num)\n",
    "        acc_test_ls.append(test_acc)\n",
    "        for i in net.params:\n",
    "          i.grad.data.zero_()\n",
    "        print('epochs', \"%d\" % (epoch + 1), \"train_loss\", \"%.4f\" %(l_sum/ num), \"train_acc\",\"%.4f\"%(acc/num), \"test_acc\", \"%.4f\"%test_acc)\n",
    "\n",
    "    plt.title(name_net)\n",
    "    plt.plot(train_loss_ls, label='train_loss')\n",
    "    plt.plot(acc_train_ls, label='acc_train')\n",
    "    plt.plot(acc_test_ls, label='acc_test')\n",
    "    plt.xlabel('epoch')\n",
    "    plt.ylabel('loss')\n",
    "    plt.legend()\n",
    "    plt.show()"
   ],
   "metadata": {
    "collapsed": false,
    "pycharm": {
     "name": "#%%\n"
    }
   }
  },
  {
   "cell_type": "code",
   "execution_count": null,
   "outputs": [],
   "source": [
    "epochs = 5\n",
    "loss = nn.CrossEntropyLoss()\n",
    "net = net_manual_momentum()\n",
    "lr = 0.01\n",
    "\n",
    "optimizer = adagrad\n",
    "train_adam(net, loss, lr, train_loader, test_loader, epochs, optimizer, \"manual Adam\")"
   ],
   "metadata": {
    "collapsed": false,
    "pycharm": {
     "name": "#%%\n"
    }
   }
  },
  {
   "cell_type": "markdown",
   "source": [
    "## torch.nn 实现Adam\n"
   ],
   "metadata": {
    "collapsed": false,
    "pycharm": {
     "name": "#%% md\n"
    }
   }
  },
  {
   "cell_type": "code",
   "execution_count": null,
   "outputs": [],
   "source": [
    "epochs = 5\n",
    "loss = nn.CrossEntropyLoss()\n",
    "net = net_manual_momentum()\n",
    "lr = 0.01\n",
    "\n",
    "optimizer = torch.optim.Adam(net.params, lr = lr)\n",
    "\n",
    "train_nn_momentum(net, loss, train_loader, test_loader, epochs, optimizer, \"nn Adam\")"
   ],
   "metadata": {
    "collapsed": false,
    "pycharm": {
     "name": "#%%\n"
    }
   }
  },
  {
   "cell_type": "markdown",
   "source": [
    "# 实现早停机制"
   ],
   "metadata": {
    "collapsed": false,
    "pycharm": {
     "name": "#%% md\n"
    }
   }
  },
  {
   "cell_type": "markdown",
   "source": [
    "这里选择Adam和L2正则化进行早停实验"
   ],
   "metadata": {
    "collapsed": false,
    "pycharm": {
     "name": "#%% md\n"
    }
   }
  },
  {
   "cell_type": "code",
   "execution_count": null,
   "outputs": [],
   "source": [
    "import random\n",
    "from torch import nn\n",
    "import torch\n",
    "import torch.nn as nn\n",
    "import torchvision\n",
    "import torchvision.transforms as transforms\n",
    "import matplotlib.pyplot as plt\n",
    "import time\n",
    "import numpy as np"
   ],
   "metadata": {
    "collapsed": false,
    "pycharm": {
     "name": "#%%\n"
    }
   }
  },
  {
   "cell_type": "code",
   "execution_count": null,
   "outputs": [],
   "source": [
    "train_datasets = torchvision.datasets.MNIST(root=f\"../Datasets/MNIST/\", train=True, transform= transforms.ToTensor(), download=True)\n",
    "test_datasets = torchvision.datasets.MNIST(root=f\"../Datasets/MNIST\", train=False, transform= transforms.ToTensor(), download=True)\n",
    "train_loader = torch.utils.data.DataLoader(train_datasets, batch_size=256, shuffle=True)\n",
    "test_loader = torch.utils.data.DataLoader(test_datasets, batch_size=256, shuffle=False)"
   ],
   "metadata": {
    "collapsed": false,
    "pycharm": {
     "name": "#%%\n"
    }
   }
  },
  {
   "cell_type": "code",
   "execution_count": null,
   "outputs": [],
   "source": [
    "# split data set\n",
    "\n",
    "def train_split(iter, train_size):\n",
    "    num_example = len(iter)\n",
    "    indices = list(range(num_example))\n",
    "    random.shuffle(indices)\n",
    "    return iter[indices[0:int(num_example*train_size)]], iter[indices[int(num_example*(train_size)):]],"
   ],
   "metadata": {
    "collapsed": false,
    "pycharm": {
     "name": "#%%\n"
    }
   }
  },
  {
   "cell_type": "code",
   "execution_count": null,
   "outputs": [],
   "source": [
    "train_data, val_data = torch.utils.data.random_split(train_datasets, [48000, 12000])"
   ],
   "metadata": {
    "collapsed": false,
    "pycharm": {
     "name": "#%%\n"
    }
   }
  },
  {
   "cell_type": "code",
   "execution_count": null,
   "outputs": [],
   "source": [
    "train_loader = torch.utils.data.DataLoader(train_data, shuffle=True, batch_size=256)\n",
    "val_loader = torch.utils.data.DataLoader(val_data, shuffle=True, batch_size=256)"
   ],
   "metadata": {
    "collapsed": false,
    "pycharm": {
     "name": "#%%\n"
    }
   }
  },
  {
   "cell_type": "code",
   "execution_count": null,
   "outputs": [],
   "source": [
    "def train_early_stop(net, loss,train_loader, test_loader, epochs, optimizer,name_net):\n",
    "    train_loss_ls = []\n",
    "    acc_test_ls = []\n",
    "    acc_train_ls = []\n",
    "    early_stop = 0\n",
    "    for epoch in range(epochs):\n",
    "      l_sum = 0.0\n",
    "      num = 0\n",
    "      acc =0.0\n",
    "      for X, y in train_loader:\n",
    "\n",
    "        X.cuda()\n",
    "        y.cuda()\n",
    "        optimizer.zero_grad()\n",
    "        y_hat = net.forward(X)\n",
    "        l = loss(y_hat, y)\n",
    "        acc += accuracy(y_hat, y)\n",
    "        # optimizer.zero_grad()\n",
    "        l.backward()\n",
    "        # optimizer.step()\n",
    "\n",
    "        # optimizer(net.params, states, lr, momentum)\n",
    "        optimizer.step()\n",
    "        l_sum += l/ y.shape[0]\n",
    "\n",
    "        num+=1\n",
    "      with torch.no_grad():\n",
    "        train_loss = l_sum/num\n",
    "        test_acc = eval_acc(net, test_loader)\n",
    "        train_loss_ls.append(train_loss)\n",
    "        acc_train_ls.append(acc/num)\n",
    "        acc_test_ls.append(test_acc)\n",
    "        if acc/num > test_acc >= 0.95:\n",
    "            early_stop +=1\n",
    "        else:\n",
    "            early_stop = 0\n",
    "\n",
    "\n",
    "        for i in net.params:\n",
    "          i.grad.data.zero_()\n",
    "        print('epochs', \"%d\" % (epoch + 1), \"train_loss\", \"%.4f\" %(l_sum/ num), \"train_acc\",\"%.4f\"%(acc/num), \"test_acc\", \"%.4f\"%test_acc)\n",
    "        if early_stop>=5:\n",
    "            print(\"early stop\")\n",
    "            break\n",
    "    plt.title(name_net)\n",
    "    plt.plot(train_loss_ls, label='train_loss')\n",
    "    plt.plot(acc_train_ls, label='acc_train')\n",
    "    plt.plot(acc_test_ls, label='acc_test')\n",
    "    plt.xlabel('epoch')\n",
    "    plt.ylabel('loss')\n",
    "    plt.legend()\n",
    "    plt.show()"
   ],
   "metadata": {
    "collapsed": false,
    "pycharm": {
     "name": "#%%\n"
    }
   }
  },
  {
   "cell_type": "code",
   "execution_count": null,
   "outputs": [],
   "source": [
    "epochs = 50\n",
    "loss = nn.CrossEntropyLoss()\n",
    "net = net_manual_momentum()\n",
    "lr = 0.01\n",
    "\n",
    "optimizer = torch.optim.Adam(net.params, lr = lr, weight_decay=0.001)\n",
    "\n",
    "train_early_stop(net, loss, train_loader, val_loader, epochs, optimizer, \"early stop\")"
   ],
   "metadata": {
    "collapsed": false,
    "pycharm": {
     "name": "#%%\n"
    }
   }
  },
  {
   "cell_type": "markdown",
   "source": [
    "在train_early_stop中实现早停机制，当发现连续5个epoch，验证集的acc低于训练集的acc，停止训练。同时为了防止训练早期不稳定的问题，加上acc需要大于0.95才开始判定过拟合问题的条件。\n",
    "我们设置使用adam和l2正则化一起训练。从实验结果看来，比较好的实现了早停的机制。"
   ],
   "metadata": {
    "collapsed": false,
    "pycharm": {
     "name": "#%% md\n"
    }
   }
  },
  {
   "cell_type": "code",
   "execution_count": null,
   "outputs": [],
   "source": [
    "print(eval_acc(net, test_loader))"
   ],
   "metadata": {
    "collapsed": false,
    "pycharm": {
     "name": "#%%\n"
    }
   }
  },
  {
   "cell_type": "markdown",
   "source": [
    "最后将早停的模型在测试集上进行acc计算。可以看出，我们的模型效果，泛化性能比较好，测试集上的acc还比验证集的搞1个百分点。"
   ],
   "metadata": {
    "collapsed": false,
    "pycharm": {
     "name": "#%% md\n"
    }
   }
  },
  {
   "cell_type": "code",
   "execution_count": 7,
   "outputs": [
    {
     "name": "stdout",
     "output_type": "stream",
     "text": [
      "epochs 1 train_loss 0.0027 train_acc 0.7633 test_acc 0.9501\n",
      "epochs 2 train_loss 0.0005 train_acc 0.9575 test_acc 0.9661\n",
      "epochs 3 train_loss 0.0003 train_acc 0.9745 test_acc 0.9752\n",
      "epochs 4 train_loss 0.0002 train_acc 0.9815 test_acc 0.9783\n",
      "epochs 5 train_loss 0.0002 train_acc 0.9858 test_acc 0.9769\n"
     ]
    },
    {
     "data": {
      "text/plain": "<Figure size 432x288 with 1 Axes>",
      "image/png": "[encoded data removed]"
     },
     "metadata": {
      "needs_background": "light"
     },
     "output_type": "display_data"
    }
   ],
   "source": [
    "epochs = 5\n",
    "loss = nn.CrossEntropyLoss()\n",
    "net = net_manual_momentum()\n",
    "optimizer = sgd_momentum\n",
    "momentum = 0.9\n",
    "lr = 0.1\n",
    "train_momentum(net, loss, lr, momentum, train_loader, test_loader, epochs, optimizer, \"manual momentum\")"
   ],
   "metadata": {
    "collapsed": false,
    "pycharm": {
     "name": "#%%\n"
    }
   }
  },
  {
   "cell_type": "markdown",
   "source": [
    "## torch.nn 实现momentum"
   ],
   "metadata": {
    "collapsed": false,
    "pycharm": {
     "name": "#%% md\n"
    }
   }
  },
  {
   "cell_type": "code",
   "execution_count": 13,
   "outputs": [],
   "source": [
    "def train_nn_momentum(net, loss,train_loader, test_loader, epochs, optimizer,name_net):\n",
    "    train_loss_ls = []\n",
    "    acc_test_ls = []\n",
    "    acc_train_ls = []\n",
    "    for epoch in range(epochs):\n",
    "      l_sum = 0.0\n",
    "      num = 0\n",
    "      acc =0.0\n",
    "      for X, y in train_loader:\n",
    "        optimizer.zero_grad()\n",
    "        y_hat = net.forward(X)\n",
    "        l = loss(y_hat, y)\n",
    "        acc += accuracy(y_hat, y)\n",
    "        # optimizer.zero_grad()\n",
    "        l.backward()\n",
    "        # optimizer.step()\n",
    "\n",
    "        # optimizer(net.params, states, lr, momentum)\n",
    "        optimizer.step()\n",
    "        l_sum += l/ y.shape[0]\n",
    "\n",
    "        num+=1\n",
    "      with torch.no_grad():\n",
    "        train_loss = l_sum/num\n",
    "        test_acc = eval_acc(net, test_loader)\n",
    "        train_loss_ls.append(train_loss)\n",
    "        acc_train_ls.append(acc/num)\n",
    "        acc_test_ls.append(test_acc)\n",
    "        for i in net.params:\n",
    "          i.grad.data.zero_()\n",
    "        print('epochs', \"%d\" % (epoch + 1), \"train_loss\", \"%.4f\" %(l_sum/ num), \"train_acc\",\"%.4f\"%(acc/num), \"test_acc\", \"%.4f\"%test_acc)\n",
    "\n",
    "    plt.title(name_net)\n",
    "    plt.plot(train_loss_ls, label='train_loss')\n",
    "    plt.plot(acc_train_ls, label='acc_train')\n",
    "    plt.plot(acc_test_ls, label='acc_test')\n",
    "    plt.xlabel('epoch')\n",
    "    plt.ylabel('loss')\n",
    "    plt.legend()\n",
    "    plt.show()"
   ],
   "metadata": {
    "collapsed": false,
    "pycharm": {
     "name": "#%%\n"
    }
   }
  },
  {
   "cell_type": "code",
   "execution_count": 11,
   "outputs": [],
   "source": [
    "def accuracy(y_hat, y):\n",
    "    if len(y_hat.shape) > 1 and y_hat.shape[1] > 1:\n",
    "        y_hat = y_hat.argmax(axis=1)\n",
    "    result = y_hat.type(y.dtype) == y\n",
    "    # op== is very sensitive with data type, so call tensor.type() to stay the same with y\n",
    "    return float(result.type(y.dtype).sum())/len(y)\n",
    "\n",
    "\n",
    "def eval_acc(net, data_iter):\n",
    "    result = []\n",
    "    with torch.no_grad():\n",
    "        for X, y in data_iter:\n",
    "            result.append(accuracy(net.forward(X), y))\n",
    "    return np.array(result).mean()"
   ],
   "metadata": {
    "collapsed": false,
    "pycharm": {
     "name": "#%%\n"
    }
   }
  },
  {
   "cell_type": "code",
   "execution_count": 13,
   "outputs": [
    {
     "name": "stdout",
     "output_type": "stream",
     "text": [
      "epochs 1 train_loss 0.0076 train_acc 0.3335 test_acc 0.7576\n",
      "epochs 2 train_loss 0.0021 train_acc 0.8439 test_acc 0.8841\n",
      "epochs 3 train_loss 0.0014 train_acc 0.8945 test_acc 0.8937\n",
      "epochs 4 train_loss 0.0012 train_acc 0.9133 test_acc 0.9184\n",
      "epochs 5 train_loss 0.0010 train_acc 0.9272 test_acc 0.9338\n"
     ]
    },
    {
     "data": {
      "text/plain": "<Figure size 432x288 with 1 Axes>",
      "image/png": "[encoded data removed]"
     },
     "metadata": {
      "needs_background": "light"
     },
     "output_type": "display_data"
    }
   ],
   "source": [
    "epochs = 5\n",
    "loss = nn.CrossEntropyLoss()\n",
    "net = net_manual_momentum()\n",
    "lr = 0.1\n",
    "momentum = 0.1\n",
    "optimizer = torch.optim.SGD(net.params, lr, momentum=momentum)\n",
    "\n",
    "train_nn_momentum(net, loss, train_loader, test_loader, epochs, optimizer, \"nn momentum\")"
   ],
   "metadata": {
    "collapsed": false,
    "pycharm": {
     "name": "#%%\n"
    }
   }
  },
  {
   "cell_type": "markdown",
   "source": [
    "## 手动rmsprop"
   ],
   "metadata": {
    "collapsed": false,
    "pycharm": {
     "name": "#%% md\n"
    }
   }
  },
  {
   "cell_type": "code",
   "execution_count": 16,
   "outputs": [],
   "source": [
    "import torch\n",
    "import torch.nn as nn\n",
    "import torchvision\n",
    "import torchvision.transforms as transforms\n",
    "import matplotlib.pyplot as plt\n",
    "import time\n",
    "import numpy as np"
   ],
   "metadata": {
    "collapsed": false,
    "pycharm": {
     "name": "#%%\n"
    }
   }
  },
  {
   "cell_type": "code",
   "execution_count": 17,
   "outputs": [],
   "source": [
    "train_datasets = torchvision.datasets.MNIST(root=f\"../Datasets/MNIST/\", train=True, transform= transforms.ToTensor(), download=True)\n",
    "test_datasets = torchvision.datasets.MNIST(root=f\"../Datasets/MNIST\", train=False, transform= transforms.ToTensor(), download=True)\n",
    "train_loader = torch.utils.data.DataLoader(train_datasets, batch_size=256, shuffle=True)\n",
    "test_loader = torch.utils.data.DataLoader(test_datasets, batch_size=256, shuffle=False)"
   ],
   "metadata": {
    "collapsed": false,
    "pycharm": {
     "name": "#%%\n"
    }
   }
  },
  {
   "cell_type": "code",
   "execution_count": 8,
   "outputs": [],
   "source": [
    "def init_rmsprop_states(net):\n",
    "    states = []\n",
    "    if isinstance(net, nn.Linear):\n",
    "        for i in net.parameters():\n",
    "            print(i.shape)\n",
    "            states.append(torch.zeros(i.shape))\n",
    "    else:\n",
    "        for i in net.net.parameters():\n",
    "            states.append(torch.zeros(i.shape))\n",
    "    return states"
   ],
   "metadata": {
    "collapsed": false,
    "pycharm": {
     "name": "#%%\n"
    }
   }
  },
  {
   "cell_type": "code",
   "execution_count": 9,
   "outputs": [],
   "source": [
    "def rmsprop(params, states, lr, gamma):\n",
    "    gamma, eps = gamma, 1e-6\n",
    "    for p, s in zip(params, states):\n",
    "        with torch.no_grad():\n",
    "            # s[:] = gamma * s + (1-gamma) * torch.square(p.grad)\n",
    "            s *= gamma\n",
    "            s += (1-gamma) * torch.square(p.grad)\n",
    "            p -= lr* p.grad / torch.sqrt(s+eps)\n",
    "\n",
    "        p.grad.data.zero_()"
   ],
   "metadata": {
    "collapsed": false,
    "pycharm": {
     "name": "#%%\n"
    }
   }
  },
  {
   "cell_type": "code",
   "execution_count": 10,
   "outputs": [],
   "source": [
    "def train_rmsprop(net, loss, lr, gamma, train_loader, test_loader, epochs, optimizer,name_net):\n",
    "    states = init_rmsprop_states(net)\n",
    "    train_loss_ls = []\n",
    "    acc_test_ls = []\n",
    "    acc_train_ls = []\n",
    "    for epoch in range(epochs):\n",
    "      l_sum = 0.0\n",
    "      num = 0\n",
    "      acc =0.0\n",
    "      for X, y in train_loader:\n",
    "        y_hat = net.forward(X)\n",
    "        l = loss(y_hat, y)\n",
    "        acc += accuracy(y_hat, y)\n",
    "        l.backward()\n",
    "        optimizer(net.net.parameters(), states, lr, gamma)\n",
    "        # print(states[0][0][23])\n",
    "        l_sum += l/ y.shape[0]\n",
    "        num+=1\n",
    "      with torch.no_grad():\n",
    "        train_loss = l_sum/num\n",
    "        test_acc = eval_acc(net, test_loader)\n",
    "        train_loss_ls.append(train_loss)\n",
    "        acc_train_ls.append(acc/num)\n",
    "        acc_test_ls.append(test_acc)\n",
    "        for i in net.params:\n",
    "          i.grad.data.zero_()\n",
    "        print('epochs', \"%d\" % (epoch + 1), \"train_loss\", \"%.4f\" %(l_sum/ num), \"train_acc\",\"%.4f\"%(acc/num), \"test_acc\", \"%.4f\"%test_acc)\n",
    "\n",
    "    plt.title(name_net)\n",
    "    plt.plot(train_loss_ls, label='train_loss')\n",
    "    plt.plot(acc_train_ls, label='acc_train')\n",
    "    plt.plot(acc_test_ls, label='acc_test')\n",
    "    plt.xlabel('epoch')\n",
    "    plt.ylabel('loss')\n",
    "    plt.legend()\n",
    "    plt.show()\n"
   ],
   "metadata": {
    "collapsed": false,
    "pycharm": {
     "name": "#%%\n"
    }
   }
  },
  {
   "cell_type": "code",
   "execution_count": 11,
   "outputs": [
    {
     "name": "stdout",
     "output_type": "stream",
     "text": [
      "epochs 1 train_loss 0.0021 train_acc 0.8200 test_acc 0.9383\n",
      "epochs 2 train_loss 0.0006 train_acc 0.9554 test_acc 0.9594\n",
      "epochs 3 train_loss 0.0004 train_acc 0.9671 test_acc 0.9578\n",
      "epochs 4 train_loss 0.0004 train_acc 0.9726 test_acc 0.9666\n",
      "epochs 5 train_loss 0.0003 train_acc 0.9758 test_acc 0.9604\n"
     ]
    },
    {
     "data": {
      "text/plain": "<Figure size 432x288 with 1 Axes>",
      "image/png": "[encoded data removed]"
     },
     "metadata": {
      "needs_background": "light"
     },
     "output_type": "display_data"
    }
   ],
   "source": [
    "epochs = 5\n",
    "loss = nn.CrossEntropyLoss()\n",
    "net = net_manual_momentum()\n",
    "lr = 0.01\n",
    "\n",
    "optimizer = rmsprop\n",
    "gamma = 0.9\n",
    "train_rmsprop(net, loss, lr, gamma, train_loader, test_loader, epochs, optimizer, \"manual RMSprop\")"
   ],
   "metadata": {
    "collapsed": false,
    "pycharm": {
     "name": "#%%\n"
    }
   }
  },
  {
   "cell_type": "markdown",
   "source": [
    "## torch.nn 实现rmsprop"
   ],
   "metadata": {
    "collapsed": false,
    "pycharm": {
     "name": "#%% md\n"
    }
   }
  },
  {
   "cell_type": "code",
   "execution_count": 199,
   "outputs": [
    {
     "name": "stdout",
     "output_type": "stream",
     "text": [
      "epochs 1 train_loss 0.0020 train_acc 0.8721 test_acc 0.9493\n",
      "epochs 2 train_loss 0.0006 train_acc 0.9583 test_acc 0.9479\n",
      "epochs 3 train_loss 0.0005 train_acc 0.9677 test_acc 0.9505\n",
      "epochs 4 train_loss 0.0004 train_acc 0.9731 test_acc 0.9614\n",
      "epochs 5 train_loss 0.0004 train_acc 0.9750 test_acc 0.9599\n"
     ]
    },
    {
     "data": {
      "text/plain": "<Figure size 432x288 with 1 Axes>",
      "image/png": "[encoded data removed]"
     },
     "metadata": {
      "needs_background": "light"
     },
     "output_type": "display_data"
    }
   ],
   "source": [
    "epochs = 5\n",
    "loss = nn.CrossEntropyLoss()\n",
    "net = net_manual_momentum()\n",
    "lr = 0.01\n",
    "gamma = 0.9\n",
    "optimizer = torch.optim.RMSprop(net.params, lr=lr, alpha=gamma)\n",
    "\n",
    "train_nn_momentum(net, loss, train_loader, test_loader, epochs, optimizer, \"nn RMSprop\")"
   ],
   "metadata": {
    "collapsed": false,
    "pycharm": {
     "name": "#%%\n"
    }
   }
  },
  {
   "cell_type": "markdown",
   "source": [
    "## 手动Adam"
   ],
   "metadata": {
    "collapsed": false,
    "pycharm": {
     "name": "#%% md\n"
    }
   }
  },
  {
   "cell_type": "code",
   "execution_count": 22,
   "outputs": [],
   "source": [
    "def init_adagrad_states(net):\n",
    "    states1 = []\n",
    "    states2 = []\n",
    "    if isinstance(net, nn.Linear):\n",
    "        for i in net.parameters():\n",
    "            states1.append(torch.zeros_like(i))\n",
    "            states2.append(torch.zeros_like(i))\n",
    "    else:\n",
    "        for i in net.net.parameters():\n",
    "            states1.append(torch.zeros_like(i))\n",
    "            states2.append(torch.zeros_like(i))\n",
    "        return zip(states1, states2)\n",
    "        # return states1\n",
    "\n",
    "def adagrad(params, state1, state2, lr, t):\n",
    "    eps = 1e-6\n",
    "    beta1, beta2 = 0.9, 0.999\n",
    "    for p, v, s in zip(params, state1, state2):\n",
    "        with torch.no_grad():\n",
    "\n",
    "            # v[:] = momentum * v + p.grad\n",
    "            v *= beta1\n",
    "            v += (1-beta1) * p.grad\n",
    "\n",
    "            s *= beta2\n",
    "            s += (1-beta2) * torch.square(p.grad)\n",
    "            v_hat = v / (1-beta1 ** t)\n",
    "            s_hat = s / (1-beta2 ** t)\n",
    "\n",
    "            p -= lr* v_hat / torch.sqrt(s_hat + eps)\n",
    "        p.grad.data.zero_()"
   ],
   "metadata": {
    "collapsed": false,
    "pycharm": {
     "name": "#%%\n"
    }
   }
  },
  {
   "cell_type": "code",
   "execution_count": 21,
   "outputs": [],
   "source": [
    "def train_adam(net:net_manual_momentum, loss, lr, train_loader, test_loader, epochs, optimizer,name_net):\n",
    "    state1 = [torch.zeros_like(i) for i in net.net.parameters()]\n",
    "    state2 = [torch.zeros_like(i) for i in net.net.parameters()]\n",
    "    train_loss_ls = []\n",
    "    acc_test_ls = []\n",
    "    acc_train_ls = []\n",
    "    for epoch in range(epochs):\n",
    "      l_sum = 0.0\n",
    "      num = 0\n",
    "      acc =0.0\n",
    "      for X, y in train_loader:\n",
    "        num+=1\n",
    "        y_hat = net.forward(X)\n",
    "        l = loss(y_hat, y)\n",
    "        acc += accuracy(y_hat, y)\n",
    "        l.backward()\n",
    "        optimizer(net.net.parameters(), state1, state2, lr, num)\n",
    "        # print(states[0][0][23])\n",
    "        l_sum += l/ y.shape[0]\n",
    "\n",
    "      with torch.no_grad():\n",
    "        train_loss = l_sum/num\n",
    "        test_acc = eval_acc(net, test_loader)\n",
    "        train_loss_ls.append(train_loss)\n",
    "        acc_train_ls.append(acc/num)\n",
    "        acc_test_ls.append(test_acc)\n",
    "        for i in net.params:\n",
    "          i.grad.data.zero_()\n",
    "        print('epochs', \"%d\" % (epoch + 1), \"train_loss\", \"%.4f\" %(l_sum/ num), \"train_acc\",\"%.4f\"%(acc/num), \"test_acc\", \"%.4f\"%test_acc)\n",
    "\n",
    "    plt.title(name_net)\n",
    "    plt.plot(train_loss_ls, label='train_loss')\n",
    "    plt.plot(acc_train_ls, label='acc_train')\n",
    "    plt.plot(acc_test_ls, label='acc_test')\n",
    "    plt.xlabel('epoch')\n",
    "    plt.ylabel('loss')\n",
    "    plt.legend()\n",
    "    plt.show()"
   ],
   "metadata": {
    "collapsed": false,
    "pycharm": {
     "name": "#%%\n"
    }
   }
  },
  {
   "cell_type": "code",
   "execution_count": 23,
   "outputs": [
    {
     "name": "stdout",
     "output_type": "stream",
     "text": [
      "epochs 1 train_loss 0.0012 train_acc 0.9022 test_acc 0.9658\n",
      "epochs 2 train_loss 0.0003 train_acc 0.9730 test_acc 0.9669\n",
      "epochs 3 train_loss 0.0002 train_acc 0.9821 test_acc 0.9739\n",
      "epochs 4 train_loss 0.0002 train_acc 0.9868 test_acc 0.9811\n",
      "epochs 5 train_loss 0.0001 train_acc 0.9897 test_acc 0.9801\n"
     ]
    },
    {
     "data": {
      "text/plain": "<Figure size 432x288 with 1 Axes>",
      "image/png": "[encoded data removed]"
     },
     "metadata": {
      "needs_background": "light"
     },
     "output_type": "display_data"
    }
   ],
   "source": [
    "epochs = 5\n",
    "loss = nn.CrossEntropyLoss()\n",
    "net = net_manual_momentum()\n",
    "lr = 0.01\n",
    "\n",
    "optimizer = adagrad\n",
    "train_adam(net, loss, lr, train_loader, test_loader, epochs, optimizer, \"manual Adam\")"
   ],
   "metadata": {
    "collapsed": false,
    "pycharm": {
     "name": "#%%\n"
    }
   }
  },
  {
   "cell_type": "markdown",
   "source": [
    "## torch.nn 实现Adam\n"
   ],
   "metadata": {
    "collapsed": false,
    "pycharm": {
     "name": "#%% md\n"
    }
   }
  },
  {
   "cell_type": "code",
   "execution_count": 286,
   "outputs": [
    {
     "name": "stdout",
     "output_type": "stream",
     "text": [
      "epochs 1 train_loss 0.0010 train_acc 0.9198 test_acc 0.9617\n",
      "epochs 2 train_loss 0.0004 train_acc 0.9664 test_acc 0.9721\n",
      "epochs 3 train_loss 0.0003 train_acc 0.9750 test_acc 0.9738\n",
      "epochs 4 train_loss 0.0003 train_acc 0.9781 test_acc 0.9597\n",
      "epochs 5 train_loss 0.0003 train_acc 0.9806 test_acc 0.9758\n"
     ]
    },
    {
     "data": {
      "text/plain": "<Figure size 432x288 with 1 Axes>",
      "image/png": "[encoded data removed]"
     },
     "metadata": {
      "needs_background": "light"
     },
     "output_type": "display_data"
    }
   ],
   "source": [
    "epochs = 5\n",
    "loss = nn.CrossEntropyLoss()\n",
    "net = net_manual_momentum()\n",
    "lr = 0.01\n",
    "\n",
    "optimizer = torch.optim.Adam(net.params, lr = lr)\n",
    "\n",
    "train_nn_momentum(net, loss, train_loader, test_loader, epochs, optimizer, \"nn Adam\")"
   ],
   "metadata": {
    "collapsed": false,
    "pycharm": {
     "name": "#%%\n"
    }
   }
  },
  {
   "cell_type": "markdown",
   "source": [
    "# 实现早停机制"
   ],
   "metadata": {
    "collapsed": false,
    "pycharm": {
     "name": "#%% md\n"
    }
   }
  },
  {
   "cell_type": "markdown",
   "source": [
    "这里选择Adam和L2正则化进行早停实验"
   ],
   "metadata": {
    "collapsed": false,
    "pycharm": {
     "name": "#%% md\n"
    }
   }
  },
  {
   "cell_type": "code",
   "execution_count": 5,
   "outputs": [],
   "source": [
    "import random\n",
    "from torch import nn\n",
    "import torch\n",
    "import torch.nn as nn\n",
    "import torchvision\n",
    "import torchvision.transforms as transforms\n",
    "import matplotlib.pyplot as plt\n",
    "import time\n",
    "import numpy as np"
   ],
   "metadata": {
    "collapsed": false,
    "pycharm": {
     "name": "#%%\n"
    }
   }
  },
  {
   "cell_type": "code",
   "execution_count": 19,
   "outputs": [],
   "source": [
    "train_datasets = torchvision.datasets.MNIST(root=f\"../Datasets/MNIST/\", train=True, transform= transforms.ToTensor(), download=True)\n",
    "test_datasets = torchvision.datasets.MNIST(root=f\"../Datasets/MNIST\", train=False, transform= transforms.ToTensor(), download=True)\n",
    "train_loader = torch.utils.data.DataLoader(train_datasets, batch_size=256, shuffle=True)\n",
    "test_loader = torch.utils.data.DataLoader(test_datasets, batch_size=256, shuffle=False)"
   ],
   "metadata": {
    "collapsed": false,
    "pycharm": {
     "name": "#%%\n"
    }
   }
  },
  {
   "cell_type": "code",
   "execution_count": 7,
   "outputs": [],
   "source": [
    "# split data set\n",
    "\n",
    "def train_split(iter, train_size):\n",
    "    num_example = len(iter)\n",
    "    indices = list(range(num_example))\n",
    "    random.shuffle(indices)\n",
    "    return iter[indices[0:int(num_example*train_size)]], iter[indices[int(num_example*(train_size)):]],"
   ],
   "metadata": {
    "collapsed": false,
    "pycharm": {
     "name": "#%%\n"
    }
   }
  },
  {
   "cell_type": "code",
   "execution_count": 20,
   "outputs": [],
   "source": [
    "train_data, val_data = torch.utils.data.random_split(train_datasets, [48000, 12000])"
   ],
   "metadata": {
    "collapsed": false,
    "pycharm": {
     "name": "#%%\n"
    }
   }
  },
  {
   "cell_type": "code",
   "execution_count": 21,
   "outputs": [],
   "source": [
    "train_loader = torch.utils.data.DataLoader(train_data, shuffle=True, batch_size=256)\n",
    "val_loader = torch.utils.data.DataLoader(val_data, shuffle=True, batch_size=256)"
   ],
   "metadata": {
    "collapsed": false,
    "pycharm": {
     "name": "#%%\n"
    }
   }
  },
  {
   "cell_type": "code",
   "execution_count": 46,
   "outputs": [],
   "source": [
    "def train_early_stop(net, loss,train_loader, test_loader, epochs, optimizer,name_net):\n",
    "    train_loss_ls = []\n",
    "    acc_test_ls = []\n",
    "    acc_train_ls = []\n",
    "    early_stop = 0\n",
    "    for epoch in range(epochs):\n",
    "      l_sum = 0.0\n",
    "      num = 0\n",
    "      acc =0.0\n",
    "      for X, y in train_loader:\n",
    "\n",
    "        X.cuda()\n",
    "        y.cuda()\n",
    "        optimizer.zero_grad()\n",
    "        y_hat = net.forward(X)\n",
    "        l = loss(y_hat, y)\n",
    "        acc += accuracy(y_hat, y)\n",
    "        # optimizer.zero_grad()\n",
    "        l.backward()\n",
    "        # optimizer.step()\n",
    "\n",
    "        # optimizer(net.params, states, lr, momentum)\n",
    "        optimizer.step()\n",
    "        l_sum += l/ y.shape[0]\n",
    "\n",
    "        num+=1\n",
    "      with torch.no_grad():\n",
    "        train_loss = l_sum/num\n",
    "        test_acc = eval_acc(net, test_loader)\n",
    "        train_loss_ls.append(train_loss)\n",
    "        acc_train_ls.append(acc/num)\n",
    "        acc_test_ls.append(test_acc)\n",
    "        if acc/num > test_acc >= 0.95:\n",
    "            early_stop +=1\n",
    "        else:\n",
    "            early_stop = 0\n",
    "\n",
    "\n",
    "        for i in net.params:\n",
    "          i.grad.data.zero_()\n",
    "        print('epochs', \"%d\" % (epoch + 1), \"train_loss\", \"%.4f\" %(l_sum/ num), \"train_acc\",\"%.4f\"%(acc/num), \"test_acc\", \"%.4f\"%test_acc)\n",
    "        if early_stop>=5:\n",
    "            print(\"early stop\")\n",
    "            break\n",
    "    plt.title(name_net)\n",
    "    plt.plot(train_loss_ls, label='train_loss')\n",
    "    plt.plot(acc_train_ls, label='acc_train')\n",
    "    plt.plot(acc_test_ls, label='acc_test')\n",
    "    plt.xlabel('epoch')\n",
    "    plt.ylabel('loss')\n",
    "    plt.legend()\n",
    "    plt.show()"
   ],
   "metadata": {
    "collapsed": false,
    "pycharm": {
     "name": "#%%\n"
    }
   }
  },
  {
   "cell_type": "code",
   "execution_count": 48,
   "outputs": [
    {
     "name": "stdout",
     "output_type": "stream",
     "text": [
      "epochs 1 train_loss 0.0012 train_acc 0.9005 test_acc 0.9440\n",
      "epochs 2 train_loss 0.0007 train_acc 0.9485 test_acc 0.9466\n",
      "epochs 3 train_loss 0.0006 train_acc 0.9561 test_acc 0.9532\n",
      "epochs 4 train_loss 0.0006 train_acc 0.9555 test_acc 0.9597\n",
      "epochs 5 train_loss 0.0005 train_acc 0.9607 test_acc 0.9557\n",
      "epochs 6 train_loss 0.0005 train_acc 0.9602 test_acc 0.9515\n",
      "epochs 7 train_loss 0.0005 train_acc 0.9619 test_acc 0.9551\n",
      "epochs 8 train_loss 0.0005 train_acc 0.9624 test_acc 0.9521\n",
      "epochs 9 train_loss 0.0005 train_acc 0.9627 test_acc 0.9564\n",
      "early stop\n"
     ]
    },
    {
     "data": {
      "text/plain": "<Figure size 432x288 with 1 Axes>",
      "image/png": "[encoded data removed]"
     },
     "metadata": {
      "needs_background": "light"
     },
     "output_type": "display_data"
    }
   ],
   "source": [
    "epochs = 50\n",
    "loss = nn.CrossEntropyLoss()\n",
    "net = net_manual_momentum()\n",
    "lr = 0.01\n",
    "\n",
    "optimizer = torch.optim.Adam(net.params, lr = lr, weight_decay=0.001)\n",
    "\n",
    "train_early_stop(net, loss, train_loader, val_loader, epochs, optimizer, \"early stop\")"
   ],
   "metadata": {
    "collapsed": false,
    "pycharm": {
     "name": "#%%\n"
    }
   }
  },
  {
   "cell_type": "markdown",
   "source": [
    "在train_early_stop中实现早停机制，当发现连续5个epoch，验证集的acc低于训练集的acc，停止训练。同时为了防止训练早期不稳定的问题，加上acc需要大于0.95才开始判定过拟合问题的条件。\n",
    "我们设置使用adam和l2正则化一起训练。从实验结果看来，比较好的实现了早停的机制。"
   ],
   "metadata": {
    "collapsed": false,
    "pycharm": {
     "name": "#%% md\n"
    }
   }
  },
  {
   "cell_type": "code",
   "execution_count": 50,
   "outputs": [
    {
     "name": "stdout",
     "output_type": "stream",
     "text": [
      "0.9619140625\n"
     ]
    }
   ],
   "source": [
    "print(eval_acc(net, test_loader))"
   ],
   "metadata": {
    "collapsed": false,
    "pycharm": {
     "name": "#%%\n"
    }
   }
  },
  {
   "cell_type": "markdown",
   "source": [
    "最后将早停的模型在测试集上进行acc计算。可以看出，我们的模型效果，泛化性能比较好，测试集上的acc还比验证集的搞1个百分点。"
   ],
   "metadata": {
    "collapsed": false,
    "pycharm": {
     "name": "#%% md\n"
    }
   }
  },
  {
   "cell_type": "markdown",
   "source": [
    "# 实验心得\n",
    "1. 这次实验，主要是各个网络优化方法的对比。就实验目的而言，其实目的是达到了的，本人通过自己编写各个优化方法，一次次的调参，切实感受到了不同的方法配合不同的超参数，有不一样的效果。只是最后感觉碍于gpu资源的限制，选择了Minst数据集的缘故——也可能是本人baseline选择的是三层的感知机，本身效果就很好，体现不出调参的效果——调参的效果不是很显著，甚至，最后用上了adam和l2正则化但是acc还达不到使用之前使用SGD的99%。\n",
    "2. adam手动实现发现loss是nan，判断为除以了0，后来发现是参数t第一个值为零，遂修改。\n",
    "3. 最开始在net中定义了一个param参数为网络中的子网络的parameters()的引用，这样在没有继承nn.module时可以少一层调用。最后发现参数只会在第一个batch size进行更新，后边都不会再更新了。最后发现，原来net.parameters()返回的是一个generator类型的一次性迭代器。只能被迭代一次，用一次少一次，所以参数只会更新一次。无独有偶，在手动实现adam中，init_states函数中也是返回了一个zip类型的states，这样也是只能迭代一次。"
   ],
   "metadata": {
    "collapsed": false,
    "pycharm": {
     "name": "#%% md\n"
    }
   }
  }
 ]
}