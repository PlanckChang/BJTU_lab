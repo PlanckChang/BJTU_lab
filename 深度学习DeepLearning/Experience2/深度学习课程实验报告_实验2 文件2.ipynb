{
 "nbformat": 4,
 "nbformat_minor": 0,
 "metadata": {
  "colab": {
   "provenance": []
  },
  "kernelspec": {
   "name": "python3",
   "display_name": "Python 3"
  },
  "language_info": {
   "name": "python"
  },
  "accelerator": "GPU"
 },
 "cells": [
  {
   "cell_type": "markdown",
   "source": [
    "# 基本信息\n",
    "1. 实验名称：实验2 前馈神经网络实验\n",
    "2. 姓名：\n",
    "3. 学号：\n",
    "4. 日期：2022年10月14日"
   ],
   "metadata": {
    "collapsed": false,
    "pycharm": {
     "name": "#%% md\n"
    }
   }
  },
  {
   "cell_type": "markdown",
   "source": [
    "> 因为本地GPU资源问题，转而在Colab上完成实验。"
   ],
   "metadata": {
    "collapsed": false,
    "pycharm": {
     "name": "#%% md\n"
    }
   }
  },
  {
   "cell_type": "markdown",
   "source": [
    "# 5.手动实现多分类\n",
    "## 5.1 基本函数编写"
   ],
   "metadata": {
    "id": "7NZ6rmtKpcpv",
    "pycharm": {
     "name": "#%% md\n"
    }
   }
  },
  {
   "cell_type": "code",
   "execution_count": 1,
   "metadata": {
    "colab": {
     "base_uri": "https://localhost:8080/"
    },
    "id": "BIwiIwpqpOdG",
    "outputId": "292a85a8-9956-46df-ff76-319a17b7b41f",
    "pycharm": {
     "name": "#%%\n"
    }
   },
   "outputs": [
    {
     "output_type": "stream",
     "name": "stdout",
     "text": [
      "Tue Oct 25 00:40:14 2022       \n",
      "+-----------------------------------------------------------------------------+\n",
      "| NVIDIA-SMI 460.32.03    Driver Version: 460.32.03    CUDA Version: 11.2     |\n",
      "|-------------------------------+----------------------+----------------------+\n",
      "| GPU  Name        Persistence-M| Bus-Id        Disp.A | Volatile Uncorr. ECC |\n",
      "| Fan  Temp  Perf  Pwr:Usage/Cap|         Memory-Usage | GPU-Util  Compute M. |\n",
      "|                               |                      |               MIG M. |\n",
      "|===============================+======================+======================|\n",
      "|   0  Tesla T4            Off  | 00000000:00:04.0 Off |                    0 |\n",
      "| N/A   54C    P8    10W /  70W |      0MiB / 15109MiB |      0%      Default |\n",
      "|                               |                      |                  N/A |\n",
      "+-------------------------------+----------------------+----------------------+\n",
      "                                                                               \n",
      "+-----------------------------------------------------------------------------+\n",
      "| Processes:                                                                  |\n",
      "|  GPU   GI   CI        PID   Type   Process name                  GPU Memory |\n",
      "|        ID   ID                                                   Usage      |\n",
      "|=============================================================================|\n",
      "|  No running processes found                                                 |\n",
      "+-----------------------------------------------------------------------------+\n"
     ]
    }
   ],
   "source": [
    "!nvidia-smi"
   ]
  },
  {
   "cell_type": "code",
   "source": [
    "import torch\n",
    "import torch.nn as nn\n",
    "import torchvision\n",
    "import torchvision.transforms as transforms"
   ],
   "metadata": {
    "id": "20lPcjYzpn-u",
    "pycharm": {
     "name": "#%%\n"
    }
   },
   "execution_count": 3,
   "outputs": []
  },
  {
   "cell_type": "code",
   "source": [
    "train_datasets = torchvision.datasets.MNIST(root=f\"../Datasets/MNIST/\", train=True, transform= transforms.ToTensor(), download=True)\n",
    "test_datasets = torchvision.datasets.MNIST(root=f\"../Datasets/MNIST\", train=False, transform= transforms.ToTensor(), download=True)"
   ],
   "metadata": {
    "id": "TXRNPPAxpqda",
    "pycharm": {
     "name": "#%%\n"
    }
   },
   "execution_count": 5,
   "outputs": []
  },
  {
   "cell_type": "code",
   "source": [
    "train_loader = torch.utils.data.DataLoader(train_datasets, batch_size=32, shuffle=True)\n",
    "test_loader = torch.utils.data.DataLoader(test_datasets, batch_size=32, shuffle=False)"
   ],
   "metadata": {
    "id": "RRXrHRQZpt3j",
    "pycharm": {
     "name": "#%%\n"
    }
   },
   "execution_count": 6,
   "outputs": []
  },
  {
   "cell_type": "code",
   "source": [
    "num_inputs = 784 #image of fashion minst is 28*28\n",
    "num_outputs = 10 # and the num of class is 10\n",
    "\n",
    "W = torch.normal(0, 0.01, size=(num_inputs, num_outputs), requires_grad=True)\n",
    "b = torch.zeros(num_outputs, requires_grad=True)"
   ],
   "metadata": {
    "id": "GzSP_4LHp10E",
    "pycharm": {
     "name": "#%%\n"
    }
   },
   "execution_count": 7,
   "outputs": []
  },
  {
   "cell_type": "code",
   "source": [
    "def softmax(X):\n",
    "    X_exp = torch.exp(X)\n",
    "    return X_exp / X_exp.sum(1, keepdim=True)"
   ],
   "metadata": {
    "id": "A_lRPHdsqSAK",
    "pycharm": {
     "name": "#%%\n"
    }
   },
   "execution_count": 8,
   "outputs": []
  },
  {
   "cell_type": "code",
   "source": [
    "def net(X):\n",
    "    return softmax(torch.matmul(X.reshape((-1, W.shape[0])), W) + b)"
   ],
   "metadata": {
    "id": "bESxuL-aqUfb",
    "pycharm": {
     "name": "#%%\n"
    }
   },
   "execution_count": 9,
   "outputs": []
  },
  {
   "cell_type": "code",
   "source": [
    "def cross_entropy(y_hat, y):\n",
    "    return (- torch.log(y_hat[range(len(y_hat)), y]))\n",
    "# to gain a scalar\n",
    "# for-loop is slow. we use a slice of y_hat to gain the all right class' prob, then log them."
   ],
   "metadata": {
    "id": "bz_Mp2n3qYhh",
    "pycharm": {
     "name": "#%%\n"
    }
   },
   "execution_count": 10,
   "outputs": []
  },
  {
   "cell_type": "code",
   "source": [
    "def accuracy(y_hat, y):\n",
    "    if len(y_hat.shape) > 1 and y_hat.shape[1] > 1:\n",
    "        y_hat = y_hat.argmax(axis=1)\n",
    "    result = y_hat.type(y.dtype) == y\n",
    "    # op== is very sensitive with data type, so call tensor.type() to stay the same with y\n",
    "    return float(result.type(y.dtype).sum())/len(y)"
   ],
   "metadata": {
    "id": "JcDQXF37qbG6",
    "pycharm": {
     "name": "#%%\n"
    }
   },
   "execution_count": 11,
   "outputs": []
  },
  {
   "cell_type": "code",
   "source": [
    "def mysgd(params, lr, batch_size):\n",
    "    with torch.no_grad():\n",
    "        for param in params:\n",
    "            param -= lr * param.grad / batch_size\n",
    "            param.grad.zero_()"
   ],
   "metadata": {
    "id": "-P1jQcL8qe5N",
    "pycharm": {
     "name": "#%%\n"
    }
   },
   "execution_count": 12,
   "outputs": []
  },
  {
   "cell_type": "code",
   "source": [
    "def eval_acc(net, data_iter):\n",
    "    result = []\n",
    "    with torch.no_grad():\n",
    "        for X, y in data_iter:\n",
    "            result.append(accuracy(net(X), y))\n",
    "    return np.array(result).mean()"
   ],
   "metadata": {
    "id": "DUuPIZvoqgGo",
    "pycharm": {
     "name": "#%%\n"
    }
   },
   "execution_count": 13,
   "outputs": []
  },
  {
   "cell_type": "code",
   "source": [
    "import numpy as np"
   ],
   "metadata": {
    "id": "QaD0_LA-rW0L",
    "pycharm": {
     "name": "#%%\n"
    }
   },
   "execution_count": 14,
   "outputs": []
  },
  {
   "cell_type": "code",
   "source": [
    "import matplotlib.pyplot as plt\n",
    "import time"
   ],
   "metadata": {
    "id": "CIgAC0ATtddg",
    "pycharm": {
     "name": "#%%\n"
    }
   },
   "execution_count": 15,
   "outputs": []
  },
  {
   "cell_type": "code",
   "source": [
    "def train_muticlassifier(net, loss, train_loader, test_loader, epochs, batch_size, optimizer,name_net):\n",
    "    train_loss_ls = []\n",
    "    # test_loss_ls = []\n",
    "    acc_test_ls = []\n",
    "    acc_train_ls = []\n",
    "    for epoch in range(epochs):\n",
    "      l_sum = 0.0\n",
    "      num = 0\n",
    "      acc =0.0\n",
    "      for X, y in train_loader:\n",
    "        y_hat = net(X)\n",
    "        l = loss(y_hat, y)\n",
    "        \n",
    "        acc += accuracy(y_hat, y)\n",
    "       \n",
    "        if type(optimizer) == torch.optim.Optimizer:\n",
    "          optimizer.zero_grad()\n",
    "          l.mean().backward()   \n",
    "          optimizer.step()\n",
    "        else:\n",
    "          l.sum().backward()\n",
    "          optimizer([W, b], lr, batch_size)\n",
    "        l_sum += l.sum()/ y.shape[0]\n",
    "        num+=1\n",
    "        \n",
    "        # need to be summed\n",
    "    \n",
    "      with torch.no_grad():\n",
    "        train_loss = l_sum/num\n",
    "        test_acc = eval_acc(net, test_loader)\n",
    "        train_loss_ls.append(train_loss)\n",
    "        acc_train_ls.append(acc/num) \n",
    "        acc_test_ls.append(test_acc) # have gain mean\n",
    "        print('epochs', \"%d\" % (epoch + 1), \"train_loss\", \"%.4f\" %(l_sum/ num), \"train_acc\",\"%.4f\"%(acc/num), \"test_acc\", \"%.4f\"%test_acc)\n",
    "\n",
    "    plt.title(name_net)\n",
    "    plt.plot(train_loss_ls, label='train_loss')\n",
    "    # plt.plot(test_loss_ls, label='test_loss')\n",
    "    plt.plot(acc_train_ls, label='acc_train')\n",
    "    plt.plot(acc_test_ls, label='acc_test')\n",
    "    plt.xlabel('epoch')\n",
    "    plt.ylabel('loss')\n",
    "    plt.legend()\n",
    "    plt.show()"
   ],
   "metadata": {
    "id": "bPMHVmAAtCdy",
    "pycharm": {
     "name": "#%%\n"
    }
   },
   "execution_count": 16,
   "outputs": []
  },
  {
   "cell_type": "markdown",
   "source": [
    "## 5.2 函数调用"
   ],
   "metadata": {
    "id": "kDbLGyyA2PWg",
    "pycharm": {
     "name": "#%% md\n"
    }
   }
  },
  {
   "cell_type": "code",
   "source": [
    "start = time.time()\n",
    "\n",
    "lr = 1\n",
    "epochs = 20\n",
    "\n",
    "loss = cross_entropy\n",
    "\n",
    "batch_size = 1024\n",
    "\n",
    "train_muticlassifier(net, loss, train_loader, test_loader, epochs, batch_size, mysgd, \"manually multi-classifier\")\n",
    "\n",
    "end = time.time()\n",
    "print(\"running time\", (end- start))"
   ],
   "metadata": {
    "colab": {
     "base_uri": "https://localhost:8080/",
     "height": 673
    },
    "id": "eyRQc-7axTtb",
    "outputId": "5d531e3e-7fbd-4e88-f05c-5bd8b747c43a",
    "pycharm": {
     "name": "#%%\n"
    }
   },
   "execution_count": 17,
   "outputs": [
    {
     "output_type": "stream",
     "name": "stdout",
     "text": [
      "epochs 1 train_loss 0.5377 train_acc 0.8684 test_acc 0.9037\n",
      "epochs 2 train_loss 0.3604 train_acc 0.9011 test_acc 0.9104\n",
      "epochs 3 train_loss 0.3320 train_acc 0.9076 test_acc 0.9142\n",
      "epochs 4 train_loss 0.3172 train_acc 0.9114 test_acc 0.9155\n",
      "epochs 5 train_loss 0.3077 train_acc 0.9137 test_acc 0.9178\n",
      "epochs 6 train_loss 0.3009 train_acc 0.9165 test_acc 0.9189\n",
      "epochs 7 train_loss 0.2955 train_acc 0.9171 test_acc 0.9207\n",
      "epochs 8 train_loss 0.2914 train_acc 0.9192 test_acc 0.9214\n",
      "epochs 9 train_loss 0.2877 train_acc 0.9199 test_acc 0.9218\n",
      "epochs 10 train_loss 0.2848 train_acc 0.9207 test_acc 0.9218\n",
      "epochs 11 train_loss 0.2822 train_acc 0.9214 test_acc 0.9225\n",
      "epochs 12 train_loss 0.2803 train_acc 0.9219 test_acc 0.9229\n",
      "epochs 13 train_loss 0.2780 train_acc 0.9224 test_acc 0.9222\n",
      "epochs 14 train_loss 0.2764 train_acc 0.9234 test_acc 0.9223\n",
      "epochs 15 train_loss 0.2748 train_acc 0.9234 test_acc 0.9226\n",
      "epochs 16 train_loss 0.2732 train_acc 0.9244 test_acc 0.9241\n",
      "epochs 17 train_loss 0.2720 train_acc 0.9247 test_acc 0.9231\n",
      "epochs 18 train_loss 0.2709 train_acc 0.9248 test_acc 0.9234\n",
      "epochs 19 train_loss 0.2697 train_acc 0.9250 test_acc 0.9247\n",
      "epochs 20 train_loss 0.2685 train_acc 0.9259 test_acc 0.9229\n"
     ]
    },
    {
     "output_type": "display_data",
     "data": {
      "text/plain": [
       "<Figure size 432x288 with 1 Axes>"
      ],
      "image/png": "[encoded data removed]"
     },
     "metadata": {
      "needs_background": "light"
     }
    },
    {
     "output_type": "stream",
     "name": "stdout",
     "text": [
      "running time 139.71011066436768\n"
     ]
    }
   ]
  },
  {
   "cell_type": "markdown",
   "source": [
    "# 6. torch.nn 实现多分类\n",
    "## 6.1 基本函数编写"
   ],
   "metadata": {
    "id": "lqbOMU9Y2Ltz",
    "pycharm": {
     "name": "#%% md\n"
    }
   }
  },
  {
   "cell_type": "code",
   "source": [
    "import torch \n",
    "import torch.nn as nn\n",
    "import torchvision\n",
    "import matplotlib.pylab as plt\n",
    "import torchvision.transforms as transforms\n",
    "import time\n",
    "\n",
    "\n",
    "train_datasets = torchvision.datasets.MNIST(root=f\"../Datasets/MNIST/\", train=True, transform= transforms.ToTensor(), download=True)\n",
    "test_datasets = torchvision.datasets.MNIST(root=f\"../Datasets/MNIST\", train=False, transform= transforms.ToTensor(), download=True)\n",
    "\n",
    "train_loader = torch.utils.data.DataLoader(train_datasets, batch_size=32, shuffle=True)\n",
    "test_loader = torch.utils.data.DataLoader(test_datasets, batch_size=32, shuffle=False)\n",
    "\n",
    "\n"
   ],
   "metadata": {
    "id": "_M6cqvXN2lJ9",
    "pycharm": {
     "name": "#%%\n"
    }
   },
   "execution_count": 18,
   "outputs": []
  },
  {
   "cell_type": "code",
   "source": [
    "def train_muticlassifier(net, loss, train_loader, test_loader, epochs, batch_size, optimizer,name_net):\n",
    "    train_loss_ls = []\n",
    "    # test_loss_ls = []\n",
    "    acc_test_ls = []\n",
    "    acc_train_ls = []\n",
    "    for epoch in range(epochs):\n",
    "      l_sum = 0.0\n",
    "      num = 0\n",
    "      acc =0.0\n",
    "      for X, y in train_loader:\n",
    "        y_hat = net(X)\n",
    "        l = loss(y_hat, y)\n",
    "        \n",
    "        acc += accuracy(y_hat, y)\n",
    "       \n",
    "        if isinstance(optimizer, torch.optim.Optimizer):\n",
    "          optimizer.zero_grad()\n",
    "          l.mean().backward()   \n",
    "          optimizer.step()\n",
    "        else:\n",
    "          l.sum().backward()\n",
    "          optimizer([W, b], lr, batch_size)\n",
    "        l_sum += l.sum()/ y.shape[0]\n",
    "        num+=1\n",
    "        \n",
    "        # need to be summed\n",
    "    \n",
    "      with torch.no_grad():\n",
    "        train_loss = l_sum/num\n",
    "        test_acc = eval_acc(net, test_loader)\n",
    "        train_loss_ls.append(train_loss)\n",
    "        acc_train_ls.append(acc/num) \n",
    "        acc_test_ls.append(test_acc) # have gain mean\n",
    "        print('epochs', \"%d\" % (epoch + 1), \"train_loss\", \"%.4f\" %(l_sum/ num), \"train_acc\",\"%.4f\"%(acc/num), \"test_acc\", \"%.4f\"%test_acc)\n",
    "\n",
    "    plt.title(name_net)\n",
    "    plt.plot(train_loss_ls, label='train_loss')\n",
    "    # plt.plot(test_loss_ls, label='test_loss')\n",
    "    plt.plot(acc_train_ls, label='acc_train')\n",
    "    plt.plot(acc_test_ls, label='acc_test')\n",
    "    plt.xlabel('epoch')\n",
    "    plt.ylabel('loss')\n",
    "    plt.legend()\n",
    "    plt.show()"
   ],
   "metadata": {
    "id": "2FzhcpDLnp0A",
    "pycharm": {
     "name": "#%%\n"
    }
   },
   "execution_count": 25,
   "outputs": []
  },
  {
   "cell_type": "markdown",
   "source": [
    "## 6.2 函数调用及网络比较"
   ],
   "metadata": {
    "collapsed": false,
    "pycharm": {
     "name": "#%% md\n"
    }
   }
  },
  {
   "cell_type": "markdown",
   "source": [
    "### 没有隐藏层"
   ],
   "metadata": {
    "id": "B18UmgZpqFvL",
    "pycharm": {
     "name": "#%% md\n"
    }
   }
  },
  {
   "cell_type": "code",
   "source": [
    "\n",
    "net2 = nn.Sequential(\n",
    "    nn.Flatten(),\n",
    "    nn.Linear(784, 10)\n",
    ")\n",
    "\n",
    "def init_weights(m):\n",
    "  if type(m) == nn.Linear:\n",
    "    nn.init.normal_(m.weight, std=0.01)\n",
    "\n",
    "net2.apply(init_weights)\n",
    "\n",
    "loss = nn.CrossEntropyLoss(reduction=\"none\")\n",
    "\n",
    "optimizer2 = torch.optim.SGD(net2.parameters(), lr=0.1)\n",
    "\n",
    "\n"
   ],
   "metadata": {
    "id": "N9jP7Sbq4kUw",
    "pycharm": {
     "name": "#%%\n"
    }
   },
   "execution_count": 26,
   "outputs": []
  },
  {
   "cell_type": "code",
   "source": [
    "epochs = 20\n",
    "batch_size = 256\n",
    "\n",
    "start = time.time()\n",
    "\n",
    "\n",
    "train_muticlassifier(net2, loss, train_loader, test_loader, epochs, batch_size, optimizer2, \"torch.nn MultiClassifier\")\n",
    "end = time.time()\n",
    "print(\"running time\", (end-start))"
   ],
   "metadata": {
    "colab": {
     "base_uri": "https://localhost:8080/",
     "height": 673
    },
    "id": "Sv8KMuGVnXY9",
    "outputId": "2ed6a370-0799-4c24-f0bf-dfb9bf0cf83e",
    "pycharm": {
     "name": "#%%\n"
    }
   },
   "execution_count": 28,
   "outputs": [
    {
     "output_type": "stream",
     "name": "stdout",
     "text": [
      "epochs 1 train_loss 0.2966 train_acc 0.9170 test_acc 0.9187\n",
      "epochs 2 train_loss 0.2876 train_acc 0.9193 test_acc 0.9224\n",
      "epochs 3 train_loss 0.2821 train_acc 0.9218 test_acc 0.9205\n",
      "epochs 4 train_loss 0.2773 train_acc 0.9224 test_acc 0.9209\n",
      "epochs 5 train_loss 0.2739 train_acc 0.9235 test_acc 0.9234\n",
      "epochs 6 train_loss 0.2706 train_acc 0.9244 test_acc 0.9233\n",
      "epochs 7 train_loss 0.2687 train_acc 0.9255 test_acc 0.9234\n",
      "epochs 8 train_loss 0.2675 train_acc 0.9259 test_acc 0.9224\n",
      "epochs 9 train_loss 0.2651 train_acc 0.9257 test_acc 0.9210\n",
      "epochs 10 train_loss 0.2637 train_acc 0.9265 test_acc 0.9231\n",
      "epochs 11 train_loss 0.2621 train_acc 0.9266 test_acc 0.9231\n",
      "epochs 12 train_loss 0.2611 train_acc 0.9278 test_acc 0.9234\n",
      "epochs 13 train_loss 0.2600 train_acc 0.9275 test_acc 0.9230\n",
      "epochs 14 train_loss 0.2588 train_acc 0.9284 test_acc 0.9246\n",
      "epochs 15 train_loss 0.2578 train_acc 0.9287 test_acc 0.9233\n",
      "epochs 16 train_loss 0.2570 train_acc 0.9296 test_acc 0.9243\n",
      "epochs 17 train_loss 0.2560 train_acc 0.9286 test_acc 0.9198\n",
      "epochs 18 train_loss 0.2558 train_acc 0.9295 test_acc 0.9262\n",
      "epochs 19 train_loss 0.2551 train_acc 0.9292 test_acc 0.9270\n",
      "epochs 20 train_loss 0.2542 train_acc 0.9302 test_acc 0.9245\n"
     ]
    },
    {
     "output_type": "display_data",
     "data": {
      "text/plain": [
       "<Figure size 432x288 with 1 Axes>"
      ],
      "image/png": "[encoded data removed]"
     },
     "metadata": {
      "needs_background": "light"
     }
    },
    {
     "output_type": "stream",
     "name": "stdout",
     "text": [
      "running time 135.89680194854736\n"
     ]
    }
   ]
  },
  {
   "cell_type": "markdown",
   "source": [
    "### 一个隐藏层"
   ],
   "metadata": {
    "id": "IPMQTmMOqMvW",
    "pycharm": {
     "name": "#%% md\n"
    }
   }
  },
  {
   "cell_type": "code",
   "source": [
    "net3 = nn.Sequential(\n",
    "  nn.Flatten(),\n",
    "  nn.Linear(784, 256),\n",
    "  nn.ReLU(),\n",
    "  nn.Linear(256, 10),\n",
    ")\n",
    "\n",
    "def init_weights(m):\n",
    "  if type(m) == nn.Linear:\n",
    "    nn.init.normal_(m.weight, std=0.01)\n",
    "\n",
    "net3.apply(init_weights)\n",
    "\n",
    "loss = nn.CrossEntropyLoss(reduction=\"none\")\n",
    "\n",
    "optimizer3 = torch.optim.SGD(net3.parameters(), lr=0.1)\n",
    "\n",
    "\n",
    "epochs = 20\n",
    "batch_size = 256\n",
    "\n",
    "start = time.time()\n",
    "\n",
    "\n",
    "train_muticlassifier(net3, loss, train_loader, test_loader, epochs, batch_size, optimizer3, \"torch.nn MultiClassifier\")\n",
    "end = time.time()\n",
    "print(\"running time\", (end-start))"
   ],
   "metadata": {
    "colab": {
     "base_uri": "https://localhost:8080/",
     "height": 673
    },
    "id": "WU1s0838q8Cc",
    "outputId": "83bee225-effb-41bc-8e36-4e62c871efa7",
    "pycharm": {
     "name": "#%%\n"
    }
   },
   "execution_count": 34,
   "outputs": [
    {
     "output_type": "stream",
     "name": "stdout",
     "text": [
      "epochs 1 train_loss 0.3893 train_acc 0.8887 test_acc 0.9374\n",
      "epochs 2 train_loss 0.1640 train_acc 0.9526 test_acc 0.9605\n",
      "epochs 3 train_loss 0.1123 train_acc 0.9676 test_acc 0.9691\n",
      "epochs 4 train_loss 0.0864 train_acc 0.9752 test_acc 0.9712\n",
      "epochs 5 train_loss 0.0694 train_acc 0.9797 test_acc 0.9774\n",
      "epochs 6 train_loss 0.0571 train_acc 0.9837 test_acc 0.9774\n",
      "epochs 7 train_loss 0.0478 train_acc 0.9864 test_acc 0.9788\n",
      "epochs 8 train_loss 0.0406 train_acc 0.9884 test_acc 0.9778\n",
      "epochs 9 train_loss 0.0351 train_acc 0.9903 test_acc 0.9803\n",
      "epochs 10 train_loss 0.0296 train_acc 0.9920 test_acc 0.9789\n",
      "epochs 11 train_loss 0.0258 train_acc 0.9934 test_acc 0.9798\n",
      "epochs 12 train_loss 0.0221 train_acc 0.9950 test_acc 0.9794\n",
      "epochs 13 train_loss 0.0189 train_acc 0.9960 test_acc 0.9811\n",
      "epochs 14 train_loss 0.0163 train_acc 0.9969 test_acc 0.9807\n",
      "epochs 15 train_loss 0.0143 train_acc 0.9972 test_acc 0.9803\n",
      "epochs 16 train_loss 0.0124 train_acc 0.9978 test_acc 0.9812\n",
      "epochs 17 train_loss 0.0108 train_acc 0.9983 test_acc 0.9812\n",
      "epochs 18 train_loss 0.0093 train_acc 0.9988 test_acc 0.9807\n",
      "epochs 19 train_loss 0.0083 train_acc 0.9990 test_acc 0.9809\n",
      "epochs 20 train_loss 0.0073 train_acc 0.9994 test_acc 0.9809\n"
     ]
    },
    {
     "output_type": "display_data",
     "data": {
      "text/plain": [
       "<Figure size 432x288 with 1 Axes>"
      ],
      "image/png": "[encoded data removed]"
     },
     "metadata": {
      "needs_background": "light"
     }
    },
    {
     "output_type": "stream",
     "name": "stdout",
     "text": [
      "running time 183.42246270179749\n"
     ]
    }
   ]
  },
  {
   "cell_type": "markdown",
   "source": [
    "> net3 结果分析\n",
    "  第10个eopch有轻微过拟合现象，但是加了一个隐藏层后，相比没有隐藏层，loss更低，acc更高，时间多了近1/2.\n"
   ],
   "metadata": {
    "id": "uVdDVa7ssbWF",
    "pycharm": {
     "name": "#%% md\n"
    }
   }
  },
  {
   "cell_type": "markdown",
   "source": [
    "### net4 两个隐藏层"
   ],
   "metadata": {
    "id": "Emza5s6vsuaB",
    "pycharm": {
     "name": "#%% md\n"
    }
   }
  },
  {
   "cell_type": "code",
   "source": [
    "net4 = nn.Sequential(\n",
    "  nn.Flatten(),\n",
    "  nn.Linear(784, 392),\n",
    "  nn.ReLU(),\n",
    "  nn.Linear(392, 196),\n",
    "  nn.ReLU(),\n",
    "  nn.Linear(196, 10)\n",
    "\n",
    ")\n",
    "\n",
    "def init_weights(m):\n",
    "  if type(m) == nn.Linear:\n",
    "    nn.init.normal_(m.weight, std=0.01)\n",
    "\n",
    "net4.apply(init_weights)\n",
    "\n",
    "loss = nn.CrossEntropyLoss(reduction=\"none\")\n",
    "\n",
    "optimizer4 = torch.optim.SGD(net4.parameters(), lr=0.1)\n",
    "\n",
    "\n",
    "epochs = 20\n",
    "batch_size = 256\n",
    "\n",
    "start = time.time()\n",
    "\n",
    "\n",
    "train_muticlassifier(net4, loss, train_loader, test_loader, epochs, batch_size, optimizer4, \"torch.nn MultiClassifier\")\n",
    "end = time.time()\n",
    "print(\"running time\", (end-start))"
   ],
   "metadata": {
    "colab": {
     "base_uri": "https://localhost:8080/",
     "height": 673
    },
    "id": "ZCdqAmLJstwi",
    "outputId": "aa703e26-7ff6-44d8-b75a-9ac4633b64e2",
    "pycharm": {
     "name": "#%%\n"
    }
   },
   "execution_count": 37,
   "outputs": [
    {
     "output_type": "stream",
     "name": "stdout",
     "text": [
      "epochs 1 train_loss 0.6128 train_acc 0.7952 test_acc 0.9434\n",
      "epochs 2 train_loss 0.1448 train_acc 0.9569 test_acc 0.9658\n",
      "epochs 3 train_loss 0.0918 train_acc 0.9722 test_acc 0.9713\n",
      "epochs 4 train_loss 0.0675 train_acc 0.9797 test_acc 0.9742\n",
      "epochs 5 train_loss 0.0505 train_acc 0.9846 test_acc 0.9782\n",
      "epochs 6 train_loss 0.0396 train_acc 0.9882 test_acc 0.9786\n",
      "epochs 7 train_loss 0.0308 train_acc 0.9907 test_acc 0.9804\n",
      "epochs 8 train_loss 0.0234 train_acc 0.9929 test_acc 0.9807\n",
      "epochs 9 train_loss 0.0181 train_acc 0.9947 test_acc 0.9800\n",
      "epochs 10 train_loss 0.0141 train_acc 0.9959 test_acc 0.9799\n",
      "epochs 11 train_loss 0.0099 train_acc 0.9976 test_acc 0.9800\n",
      "epochs 12 train_loss 0.0068 train_acc 0.9986 test_acc 0.9833\n",
      "epochs 13 train_loss 0.0050 train_acc 0.9990 test_acc 0.9838\n",
      "epochs 14 train_loss 0.0041 train_acc 0.9993 test_acc 0.9827\n",
      "epochs 15 train_loss 0.0023 train_acc 0.9997 test_acc 0.9834\n",
      "epochs 16 train_loss 0.0014 train_acc 0.9999 test_acc 0.9832\n",
      "epochs 17 train_loss 0.0010 train_acc 1.0000 test_acc 0.9833\n",
      "epochs 18 train_loss 0.0008 train_acc 1.0000 test_acc 0.9835\n",
      "epochs 19 train_loss 0.0007 train_acc 1.0000 test_acc 0.9835\n",
      "epochs 20 train_loss 0.0006 train_acc 1.0000 test_acc 0.9837\n"
     ]
    },
    {
     "output_type": "display_data",
     "data": {
      "text/plain": [
       "<Figure size 432x288 with 1 Axes>"
      ],
      "image/png": "[encoded data removed]"
     },
     "metadata": {
      "needs_background": "light"
     }
    },
    {
     "output_type": "stream",
     "name": "stdout",
     "text": [
      "running time 226.2888867855072\n"
     ]
    }
   ]
  },
  {
   "cell_type": "markdown",
   "source": [
    "> net4 结果分析\n",
    "  在第三轮结束，loss已经为降到1%以下，收敛速度相比net3速度更快，train acc可以达到100%，说明模型已经可以完全拟合这个数据集。同样是20个epoch，时间上比net3只增加了5秒。"
   ],
   "metadata": {
    "id": "PMjgyecctlpZ",
    "pycharm": {
     "name": "#%% md\n"
    }
   }
  },
  {
   "cell_type": "markdown",
   "source": [
    "### Sigmoid激活层 对比net3"
   ],
   "metadata": {
    "id": "TxyafqYzuUzA",
    "pycharm": {
     "name": "#%% md\n"
    }
   }
  },
  {
   "cell_type": "code",
   "source": [
    "net5 = nn.Sequential(\n",
    "  nn.Flatten(),\n",
    "  nn.Linear(784, 256),\n",
    "  nn.Sigmoid(),\n",
    "  nn.Linear(256, 10),\n",
    ")\n",
    "\n",
    "def init_weights(m):\n",
    "  if type(m) == nn.Linear:\n",
    "    nn.init.normal_(m.weight, std=0.01)\n",
    "\n",
    "net5.apply(init_weights)\n",
    "\n",
    "loss = nn.CrossEntropyLoss(reduction=\"none\")\n",
    "\n",
    "optimizer5 = torch.optim.SGD(net5.parameters(), lr=0.1)\n",
    "\n",
    "\n",
    "epochs = 20\n",
    "batch_size = 256\n",
    "\n",
    "start = time.time()\n",
    "\n",
    "\n",
    "train_muticlassifier(net5, loss, train_loader, test_loader, epochs, batch_size, optimizer5, \"torch.nn MultiClassifier\")\n",
    "end = time.time()\n",
    "print(\"running time\", (end-start))"
   ],
   "metadata": {
    "colab": {
     "base_uri": "https://localhost:8080/",
     "height": 673
    },
    "id": "eT2gPfPLudYR",
    "outputId": "6fdf3172-f2ad-428b-f4ce-1d75153c638a",
    "pycharm": {
     "name": "#%%\n"
    }
   },
   "execution_count": 38,
   "outputs": [
    {
     "output_type": "stream",
     "name": "stdout",
     "text": [
      "epochs 1 train_loss 0.7653 train_acc 0.7628 test_acc 0.8976\n",
      "epochs 2 train_loss 0.3265 train_acc 0.9060 test_acc 0.9147\n",
      "epochs 3 train_loss 0.2847 train_acc 0.9168 test_acc 0.9217\n",
      "epochs 4 train_loss 0.2545 train_acc 0.9262 test_acc 0.9280\n",
      "epochs 5 train_loss 0.2287 train_acc 0.9341 test_acc 0.9365\n",
      "epochs 6 train_loss 0.2062 train_acc 0.9406 test_acc 0.9442\n",
      "epochs 7 train_loss 0.1868 train_acc 0.9462 test_acc 0.9477\n",
      "epochs 8 train_loss 0.1705 train_acc 0.9510 test_acc 0.9524\n",
      "epochs 9 train_loss 0.1563 train_acc 0.9551 test_acc 0.9552\n",
      "epochs 10 train_loss 0.1441 train_acc 0.9579 test_acc 0.9577\n",
      "epochs 11 train_loss 0.1337 train_acc 0.9615 test_acc 0.9587\n",
      "epochs 12 train_loss 0.1242 train_acc 0.9641 test_acc 0.9613\n",
      "epochs 13 train_loss 0.1163 train_acc 0.9668 test_acc 0.9629\n",
      "epochs 14 train_loss 0.1091 train_acc 0.9689 test_acc 0.9660\n",
      "epochs 15 train_loss 0.1027 train_acc 0.9707 test_acc 0.9673\n",
      "epochs 16 train_loss 0.0972 train_acc 0.9722 test_acc 0.9681\n",
      "epochs 17 train_loss 0.0917 train_acc 0.9740 test_acc 0.9685\n",
      "epochs 18 train_loss 0.0870 train_acc 0.9756 test_acc 0.9697\n",
      "epochs 19 train_loss 0.0825 train_acc 0.9767 test_acc 0.9711\n",
      "epochs 20 train_loss 0.0786 train_acc 0.9780 test_acc 0.9714\n"
     ]
    },
    {
     "output_type": "display_data",
     "data": {
      "text/plain": [
       "<Figure size 432x288 with 1 Axes>"
      ],
      "image/png": "[encoded data removed]"
     },
     "metadata": {
      "needs_background": "light"
     }
    },
    {
     "output_type": "stream",
     "name": "stdout",
     "text": [
      "running time 186.14296102523804\n"
     ]
    }
   ]
  },
  {
   "cell_type": "markdown",
   "source": [
    "### net6 tanh激活函数 对比net3"
   ],
   "metadata": {
    "id": "P47v91yGwIBF",
    "pycharm": {
     "name": "#%% md\n"
    }
   }
  },
  {
   "cell_type": "code",
   "source": [
    "net6 = nn.Sequential(\n",
    "  nn.Flatten(),\n",
    "  nn.Linear(784, 256),\n",
    "  nn.Tanh(),\n",
    "  nn.Linear(256, 10),\n",
    ")\n",
    "\n",
    "def init_weights(m):\n",
    "  if type(m) == nn.Linear:\n",
    "    nn.init.normal_(m.weight, std=0.01)\n",
    "\n",
    "net6.apply(init_weights)\n",
    "\n",
    "loss = nn.CrossEntropyLoss(reduction=\"none\")\n",
    "\n",
    "optimizer6 = torch.optim.SGD(net6.parameters(), lr=0.1)\n",
    "\n",
    "\n",
    "epochs = 20\n",
    "batch_size = 256\n",
    "\n",
    "start = time.time()\n",
    "\n",
    "\n",
    "train_muticlassifier(net6, loss, train_loader, test_loader, epochs, batch_size, optimizer6, \"torch.nn MultiClassifier\")\n",
    "end = time.time()\n",
    "print(\"running time\", (end-start))"
   ],
   "metadata": {
    "colab": {
     "base_uri": "https://localhost:8080/",
     "height": 673
    },
    "id": "8IyJlRYPwFv5",
    "outputId": "fc9e4bd9-1093-49d0-bfae-42cb78fc850a",
    "pycharm": {
     "name": "#%%\n"
    }
   },
   "execution_count": 39,
   "outputs": [
    {
     "output_type": "stream",
     "name": "stdout",
     "text": [
      "epochs 1 train_loss 0.4044 train_acc 0.8867 test_acc 0.9255\n",
      "epochs 2 train_loss 0.2251 train_acc 0.9343 test_acc 0.9482\n",
      "epochs 3 train_loss 0.1627 train_acc 0.9526 test_acc 0.9544\n",
      "epochs 4 train_loss 0.1257 train_acc 0.9631 test_acc 0.9648\n",
      "epochs 5 train_loss 0.1020 train_acc 0.9700 test_acc 0.9701\n",
      "epochs 6 train_loss 0.0850 train_acc 0.9751 test_acc 0.9708\n",
      "epochs 7 train_loss 0.0723 train_acc 0.9789 test_acc 0.9725\n",
      "epochs 8 train_loss 0.0624 train_acc 0.9815 test_acc 0.9743\n",
      "epochs 9 train_loss 0.0539 train_acc 0.9845 test_acc 0.9758\n",
      "epochs 10 train_loss 0.0473 train_acc 0.9864 test_acc 0.9770\n",
      "epochs 11 train_loss 0.0416 train_acc 0.9884 test_acc 0.9784\n",
      "epochs 12 train_loss 0.0366 train_acc 0.9898 test_acc 0.9778\n",
      "epochs 13 train_loss 0.0321 train_acc 0.9915 test_acc 0.9799\n",
      "epochs 14 train_loss 0.0286 train_acc 0.9930 test_acc 0.9790\n",
      "epochs 15 train_loss 0.0256 train_acc 0.9939 test_acc 0.9802\n",
      "epochs 16 train_loss 0.0224 train_acc 0.9951 test_acc 0.9786\n",
      "epochs 17 train_loss 0.0201 train_acc 0.9958 test_acc 0.9799\n",
      "epochs 18 train_loss 0.0179 train_acc 0.9966 test_acc 0.9798\n",
      "epochs 19 train_loss 0.0159 train_acc 0.9973 test_acc 0.9798\n",
      "epochs 20 train_loss 0.0144 train_acc 0.9977 test_acc 0.9802\n"
     ]
    },
    {
     "output_type": "display_data",
     "data": {
      "text/plain": [
       "<Figure size 432x288 with 1 Axes>"
      ],
      "image/png": "[encoded data removed]"
     },
     "metadata": {
      "needs_background": "light"
     }
    },
    {
     "output_type": "stream",
     "name": "stdout",
     "text": [
      "running time 190.70445561408997\n"
     ]
    }
   ]
  },
  {
   "cell_type": "markdown",
   "source": [
    "### net7 隐藏层修改为128 对比net3"
   ],
   "metadata": {
    "id": "FM3SgtRVxaz6",
    "pycharm": {
     "name": "#%% md\n"
    }
   }
  },
  {
   "cell_type": "code",
   "source": [
    "net7 = nn.Sequential(\n",
    "  nn.Flatten(),\n",
    "  nn.Linear(784, 128),\n",
    "  nn.ReLU(),\n",
    "  nn.Linear(128, 10),\n",
    ")\n",
    "\n",
    "def init_weights(m):\n",
    "  if type(m) == nn.Linear:\n",
    "    nn.init.normal_(m.weight, std=0.01)\n",
    "\n",
    "net7.apply(init_weights)\n",
    "\n",
    "loss = nn.CrossEntropyLoss(reduction=\"none\")\n",
    "\n",
    "optimizer7 = torch.optim.SGD(net7.parameters(), lr=0.1)\n",
    "\n",
    "\n",
    "epochs = 20\n",
    "batch_size = 256\n",
    "\n",
    "start = time.time()\n",
    "\n",
    "\n",
    "train_muticlassifier(net7, loss, train_loader, test_loader, epochs, batch_size, optimizer7, \"torch.nn MultiClassifier\")\n",
    "end = time.time()\n",
    "print(\"running time\", (end-start))"
   ],
   "metadata": {
    "colab": {
     "base_uri": "https://localhost:8080/",
     "height": 673
    },
    "id": "eEjRKNKRxkpp",
    "outputId": "d867dba0-6498-441f-919f-dbe56b5bc250",
    "pycharm": {
     "name": "#%%\n"
    }
   },
   "execution_count": 40,
   "outputs": [
    {
     "output_type": "stream",
     "name": "stdout",
     "text": [
      "epochs 1 train_loss 0.4095 train_acc 0.8813 test_acc 0.9344\n",
      "epochs 2 train_loss 0.1692 train_acc 0.9507 test_acc 0.9576\n",
      "epochs 3 train_loss 0.1178 train_acc 0.9663 test_acc 0.9636\n",
      "epochs 4 train_loss 0.0927 train_acc 0.9726 test_acc 0.9716\n",
      "epochs 5 train_loss 0.0762 train_acc 0.9779 test_acc 0.9726\n",
      "epochs 6 train_loss 0.0637 train_acc 0.9812 test_acc 0.9738\n",
      "epochs 7 train_loss 0.0557 train_acc 0.9834 test_acc 0.9760\n",
      "epochs 8 train_loss 0.0482 train_acc 0.9858 test_acc 0.9749\n",
      "epochs 9 train_loss 0.0418 train_acc 0.9882 test_acc 0.9777\n",
      "epochs 10 train_loss 0.0369 train_acc 0.9894 test_acc 0.9775\n",
      "epochs 11 train_loss 0.0319 train_acc 0.9913 test_acc 0.9758\n",
      "epochs 12 train_loss 0.0284 train_acc 0.9925 test_acc 0.9774\n",
      "epochs 13 train_loss 0.0249 train_acc 0.9935 test_acc 0.9782\n",
      "epochs 14 train_loss 0.0219 train_acc 0.9946 test_acc 0.9771\n",
      "epochs 15 train_loss 0.0191 train_acc 0.9956 test_acc 0.9758\n",
      "epochs 16 train_loss 0.0169 train_acc 0.9964 test_acc 0.9782\n",
      "epochs 17 train_loss 0.0149 train_acc 0.9971 test_acc 0.9795\n",
      "epochs 18 train_loss 0.0134 train_acc 0.9974 test_acc 0.9787\n",
      "epochs 19 train_loss 0.0116 train_acc 0.9982 test_acc 0.9784\n",
      "epochs 20 train_loss 0.0104 train_acc 0.9985 test_acc 0.9784\n"
     ]
    },
    {
     "output_type": "display_data",
     "data": {
      "text/plain": [
       "<Figure size 432x288 with 1 Axes>"
      ],
      "image/png": "[encoded data removed]"
     },
     "metadata": {
      "needs_background": "light"
     }
    },
    {
     "output_type": "stream",
     "name": "stdout",
     "text": [
      "running time 167.7554521560669\n"
     ]
    }
   ]
  },
  {
   "cell_type": "markdown",
   "source": [
    "### net8 隐藏层神经元个数修改为512 对比net3"
   ],
   "metadata": {
    "id": "zhONrUDnx5c1",
    "pycharm": {
     "name": "#%% md\n"
    }
   }
  },
  {
   "cell_type": "code",
   "source": [
    "net8 = nn.Sequential(\n",
    "  nn.Flatten(),\n",
    "  nn.Linear(784, 512),\n",
    "  nn.ReLU(),\n",
    "  nn.Linear(512, 10),\n",
    ")\n",
    "\n",
    "def init_weights(m):\n",
    "  if type(m) == nn.Linear:\n",
    "    nn.init.normal_(m.weight, std=0.01)\n",
    "\n",
    "net8.apply(init_weights)\n",
    "\n",
    "loss = nn.CrossEntropyLoss(reduction=\"none\")\n",
    "\n",
    "optimizer8 = torch.optim.SGD(net8.parameters(), lr=0.1)\n",
    "\n",
    "\n",
    "epochs = 20\n",
    "batch_size = 256\n",
    "\n",
    "start = time.time()\n",
    "\n",
    "\n",
    "train_muticlassifier(net8, loss, train_loader, test_loader, epochs, batch_size, optimizer8, \"torch.nn MultiClassifier\")\n",
    "end = time.time()\n",
    "print(\"running time\", (end-start))"
   ],
   "metadata": {
    "colab": {
     "base_uri": "https://localhost:8080/",
     "height": 673
    },
    "id": "Lfm90LCux_oF",
    "outputId": "a2717eaa-f796-4b2d-defc-972f03ef04aa",
    "pycharm": {
     "name": "#%%\n"
    }
   },
   "execution_count": 41,
   "outputs": [
    {
     "output_type": "stream",
     "name": "stdout",
     "text": [
      "epochs 1 train_loss 0.3721 train_acc 0.8948 test_acc 0.9462\n",
      "epochs 2 train_loss 0.1585 train_acc 0.9544 test_acc 0.9632\n",
      "epochs 3 train_loss 0.1098 train_acc 0.9687 test_acc 0.9720\n",
      "epochs 4 train_loss 0.0834 train_acc 0.9757 test_acc 0.9720\n",
      "epochs 5 train_loss 0.0665 train_acc 0.9804 test_acc 0.9739\n",
      "epochs 6 train_loss 0.0547 train_acc 0.9845 test_acc 0.9772\n",
      "epochs 7 train_loss 0.0457 train_acc 0.9870 test_acc 0.9796\n",
      "epochs 8 train_loss 0.0384 train_acc 0.9898 test_acc 0.9795\n",
      "epochs 9 train_loss 0.0324 train_acc 0.9913 test_acc 0.9802\n",
      "epochs 10 train_loss 0.0275 train_acc 0.9930 test_acc 0.9808\n",
      "epochs 11 train_loss 0.0231 train_acc 0.9949 test_acc 0.9806\n",
      "epochs 12 train_loss 0.0198 train_acc 0.9957 test_acc 0.9814\n",
      "epochs 13 train_loss 0.0171 train_acc 0.9967 test_acc 0.9819\n",
      "epochs 14 train_loss 0.0145 train_acc 0.9977 test_acc 0.9816\n",
      "epochs 15 train_loss 0.0122 train_acc 0.9984 test_acc 0.9828\n",
      "epochs 16 train_loss 0.0109 train_acc 0.9987 test_acc 0.9823\n",
      "epochs 17 train_loss 0.0094 train_acc 0.9988 test_acc 0.9824\n",
      "epochs 18 train_loss 0.0083 train_acc 0.9992 test_acc 0.9816\n",
      "epochs 19 train_loss 0.0073 train_acc 0.9992 test_acc 0.9823\n",
      "epochs 20 train_loss 0.0064 train_acc 0.9995 test_acc 0.9823\n"
     ]
    },
    {
     "output_type": "display_data",
     "data": {
      "text/plain": [
       "<Figure size 432x288 with 1 Axes>"
      ],
      "image/png": "[encoded data removed]"
     },
     "metadata": {
      "needs_background": "light"
     }
    },
    {
     "output_type": "stream",
     "name": "stdout",
     "text": [
      "running time 204.5472650527954\n"
     ]
    }
   ]
  },
  {
   "cell_type": "markdown",
   "source": [
    "## 实验结果对比分析"
   ],
   "metadata": {
    "collapsed": false,
    "pycharm": {
     "name": "#%% md\n"
    }
   }
  },
  {
   "cell_type": "markdown",
   "source": [
    "> 更改隐藏层和激活函数的对比\n",
    "> ![](./图片1.png \"更改隐藏层和激活函数的对比\")\n",
    "\n"
   ],
   "metadata": {
    "collapsed": false,
    "pycharm": {
     "name": "#%% md\n"
    }
   }
  },
  {
   "cell_type": "markdown",
   "source": [
    "> 可以很明显的看出，随着隐藏层的增加，train loss 在下降，acc、计算时间上升。"
   ],
   "metadata": {
    "collapsed": false,
    "pycharm": {
     "name": "#%% md\n"
    }
   }
  },
  {
   "cell_type": "markdown",
   "source": [
    "> 更改隐藏层个数的对比\n",
    "> ![图片alt](./图片2.png \"图片title\")"
   ],
   "metadata": {
    "collapsed": false,
    "pycharm": {
     "name": "#%% md\n"
    }
   }
  },
  {
   "cell_type": "markdown",
   "source": [
    "> 随着神经元数的增多，train loss下降，acc、计算时间上升。"
   ],
   "metadata": {
    "collapsed": false,
    "pycharm": {
     "name": "#%% md\n"
    }
   }
  }
 ]
}